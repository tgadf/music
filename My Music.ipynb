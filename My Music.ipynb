{
 "cells": [
  {
   "cell_type": "markdown",
   "metadata": {},
   "source": [
    "# My Music "
   ]
  },
  {
   "cell_type": "code",
   "execution_count": 1,
   "metadata": {},
   "outputs": [
    {
     "data": {
      "text/html": [
       "<style>.container { width:100% !important; }</style>"
      ],
      "text/plain": [
       "<IPython.core.display.HTML object>"
      ]
     },
     "metadata": {},
     "output_type": "display_data"
    },
    {
     "data": {
      "text/html": [
       "<style>div.output_area{max-height:10000px;overflow:scroll;}</style>"
      ],
      "text/plain": [
       "<IPython.core.display.HTML object>"
      ]
     },
     "metadata": {},
     "output_type": "display_data"
    },
    {
     "name": "stdout",
     "output_type": "stream",
     "text": [
      "Python: 3.7.3 (default, Mar 27 2019, 16:54:48) \n",
      "[Clang 4.0.1 (tags/RELEASE_401/final)]\n",
      "Notebook Last Run Initiated: 2019-09-28 18:59:42.829838\n"
     ]
    }
   ],
   "source": [
    "## Basic stuff\n",
    "%load_ext autoreload\n",
    "%autoreload\n",
    "from IPython.core.display import display, HTML\n",
    "display(HTML(\"<style>.container { width:100% !important; }</style>\"))\n",
    "display(HTML(\"\"\"<style>div.output_area{max-height:10000px;overflow:scroll;}</style>\"\"\"))\n",
    "\n",
    "from mp3id import mp3ID\n",
    "from musicBase import musicBase\n",
    "from musicFinder import musicFinder\n",
    "from musicPath import pathBasics\n",
    "from timeUtils import clock, elapsed\n",
    "from discogsBase import discogs\n",
    "from multiArtist import multiArtist\n",
    "from time import sleep\n",
    "#from discogs import discogs\n",
    "\n",
    "## Python Version\n",
    "import sys\n",
    "print(\"Python: {0}\".format(sys.version))\n",
    "\n",
    "import datetime as dt\n",
    "start = dt.datetime.now()\n",
    "print(\"Notebook Last Run Initiated: \"+str(start))"
   ]
  },
  {
   "cell_type": "markdown",
   "metadata": {},
   "source": [
    "# Music Analyzer (My Music)"
   ]
  },
  {
   "cell_type": "code",
   "execution_count": 2,
   "metadata": {},
   "outputs": [
    {
     "name": "stdout",
     "output_type": "stream",
     "text": [
      "The autoreload extension is already loaded. To reload it, use:\n",
      "  %reload_ext autoreload\n"
     ]
    }
   ],
   "source": [
    "%load_ext autoreload\n",
    "%autoreload\n",
    "\n",
    "from searchUtils import findDirsPattern, findWalkExt\n",
    "from fileUtils import getBaseFilename, getFileBasics\n",
    "from fsUtils import setFile\n",
    "from ioUtils import saveFile, getFile\n",
    "from timeUtils import clock, elapsed\n",
    "from musicPath import pathBasics\n",
    "\n",
    "\n",
    "##############################################################################################################################\n",
    "# My Music\n",
    "##############################################################################################################################\n",
    "class musicAnalyzer(musicBase):\n",
    "    def __init__(self, debug=False):\n",
    "        self.name = \"myanalyzer\"\n",
    "        musicBase.__init__(self, debug=debug)\n",
    "        \n",
    "        self.pb      = pathBasics()\n",
    "        self.flists  = self.getMusicListFiles()\n",
    "        self.tagDBs  = self.getMusicTagDBs()\n",
    "        self.pathDBs = self.getMusicPathDBs()"
   ]
  },
  {
   "cell_type": "code",
   "execution_count": 3,
   "metadata": {},
   "outputs": [
    {
     "name": "stdout",
     "output_type": "stream",
     "text": [
      "The autoreload extension is already loaded. To reload it, use:\n",
      "  %reload_ext autoreload\n",
      "Saved Discog Directory /Volumes/Music/Discog is Available\n",
      "Local Discog Directory /Users/tgadfort/Music/Discog is Available\n",
      "/Volumes/Music/Discog/base exists\n",
      "/Volumes/Music/Discog/collections exists\n",
      "/Volumes/Music/Discog/artists exists\n",
      "/Volumes/Music/Discog/albums exists\n",
      "/Volumes/Music/Discog/base-db exists\n",
      "/Volumes/Music/Discog/collections-db exists\n",
      "/Volumes/Music/Discog/artists-db exists\n",
      "/Volumes/Music/Discog/albums-db exists\n",
      "/Volumes/Music/Discog/artists-extra exists\n",
      "/Volumes/Music/Discog/search exists\n",
      "/Volumes/Music/Discog/search-artists exists\n",
      "/Volumes/Music/Discog/special exists\n",
      "/Volumes/Music/Discog/artist-special exists\n",
      "/Volumes/Music/Discog/db exists\n",
      "Found 100 artist DB files and that is equal to the max mod value\n",
      "Loading data from /Volumes/Music/Discog/db/MasterDB.p\n",
      "  --> This file is 57.6MB.\n",
      "Loading /Volumes/Music/Discog/db/MasterDB.p\n",
      "(480573, 8)\n",
      "(480526, 8)\n"
     ]
    }
   ],
   "source": [
    "%load_ext autoreload\n",
    "%autoreload\n",
    "from albums import albums\n",
    "disc = discogs()\n",
    "discdf = disc.getMasterDiscogsDB()\n",
    "print(discdf.shape)\n",
    "discdf = discdf[~discdf['Name'].isna()]\n",
    "print(discdf.shape)\n",
    "\n",
    "artists = list(discdf[\"Artist\"])"
   ]
  },
  {
   "cell_type": "code",
   "execution_count": 91,
   "metadata": {},
   "outputs": [
    {
     "name": "stdout",
     "output_type": "stream",
     "text": [
      "The autoreload extension is already loaded. To reload it, use:\n",
      "  %reload_ext autoreload\n",
      "Checking /Volumes/Music/iTunes Classical...   \tFound 3414 files.\n",
      "Processed 3414 paths.\n",
      "Saving data to /Volumes/Music/MusicDB/Music-iTunes Classical.p\n",
      "  --> This file is 154.6kB.\n",
      "Saved data to /Volumes/Music/MusicDB/Music-iTunes Classical.p\n",
      "  --> This file is 154.6kB.\n",
      "Checking /Volumes/Music/iTunes Compilation...   \tFound 28335 files.\n",
      "Processed 28335 paths.\n",
      "Saving data to /Volumes/Music/MusicDB/Music-iTunes Compilation.p\n",
      "  --> This file is 1.5MB.\n",
      "Saved data to /Volumes/Music/MusicDB/Music-iTunes Compilation.p\n",
      "  --> This file is 1.5MB.\n",
      "Checking /Volumes/Music/iTunes Consolidate...   \tFound 61459 files.\n",
      "Processed 61459 paths.\n",
      "Saving data to /Volumes/Music/MusicDB/Music-iTunes Consolidate.p\n",
      "  --> This file is 2.9MB.\n",
      "Saved data to /Volumes/Music/MusicDB/Music-iTunes Consolidate.p\n",
      "  --> This file is 2.9MB.\n",
      "Checking /Volumes/Music/iTunes Jazz...   \tFound 3747 files.\n",
      "Processed 3747 paths.\n",
      "Saving data to /Volumes/Music/MusicDB/Music-iTunes Jazz.p\n",
      "  --> This file is 168.5kB.\n",
      "Saved data to /Volumes/Music/MusicDB/Music-iTunes Jazz.p\n",
      "  --> This file is 168.5kB.\n",
      "Checking /Volumes/Music/iTunes Live...   \tFound 122571 files.\n",
      "Processed 122571 paths.\n",
      "Saving data to /Volumes/Music/MusicDB/Music-iTunes Live.p\n",
      "  --> This file is 4.7MB.\n",
      "Saved data to /Volumes/Music/MusicDB/Music-iTunes Live.p\n",
      "  --> This file is 4.7MB.\n",
      "Checking /Volumes/Music/iTunes Matched...   \tFound 131675 files.\n",
      "Processed 131675 paths.\n",
      "Saving data to /Volumes/Music/MusicDB/Music-iTunes Matched.p\n",
      "  --> This file is 6.0MB.\n",
      "Saved data to /Volumes/Music/MusicDB/Music-iTunes Matched.p\n",
      "  --> This file is 6.0MB.\n",
      "Checking /Volumes/Music/iTunes MixTape...   \tFound 7752 files.\n",
      "Processed 7752 paths.\n",
      "Saving data to /Volumes/Music/MusicDB/Music-iTunes MixTape.p\n",
      "  --> This file is 419.0kB.\n",
      "Saved data to /Volumes/Music/MusicDB/Music-iTunes MixTape.p\n",
      "  --> This file is 419.0kB.\n",
      "Checking /Volumes/Music/iTunes Moves...   \tFound 4325 files.\n",
      "Processed 4325 paths.\n",
      "Saving data to /Volumes/Music/MusicDB/Music-iTunes Moves.p\n",
      "  --> This file is 182.6kB.\n",
      "Saved data to /Volumes/Music/MusicDB/Music-iTunes Moves.p\n",
      "  --> This file is 182.6kB.\n",
      "Checking /Volumes/Music/iTunes NoMatch...   \tFound 0 files.\n",
      "Processed 0 paths.\n",
      "Saving data to /Volumes/Music/MusicDB/Music-iTunes NoMatch.p\n",
      "  --> This file is 14B.\n",
      "Saved data to /Volumes/Music/MusicDB/Music-iTunes NoMatch.p\n",
      "  --> This file is 14B.\n",
      "Checking /Volumes/Music/iTunes Non Fiction...   \tFound 417 files.\n",
      "Processed 417 paths.\n",
      "Saving data to /Volumes/Music/MusicDB/Music-iTunes Non Fiction.p\n",
      "  --> This file is 15.2kB.\n",
      "Saved data to /Volumes/Music/MusicDB/Music-iTunes Non Fiction.p\n",
      "  --> This file is 15.2kB.\n",
      "Checking /Volumes/Music/iTunes Not In Discogs...   \tFound 243 files.\n",
      "Processed 243 paths.\n",
      "Saving data to /Volumes/Music/MusicDB/Music-iTunes Not In Discogs.p\n",
      "  --> This file is 12.2kB.\n",
      "Saved data to /Volumes/Music/MusicDB/Music-iTunes Not In Discogs.p\n",
      "  --> This file is 12.2kB.\n",
      "Checking /Volumes/Music/iTunes Singles...   \tFound 31 files.\n",
      "Processed 31 paths.\n",
      "Saving data to /Volumes/Music/MusicDB/Music-iTunes Singles.p\n",
      "  --> This file is 1.3kB.\n",
      "Saved data to /Volumes/Music/MusicDB/Music-iTunes Singles.p\n",
      "  --> This file is 1.3kB.\n",
      "SKIPPING SOUNDTRACKS!!!\n",
      "Checking /Volumes/Music/iTunes Test...   \tFound 0 files.\n",
      "Processed 0 paths.\n",
      "Saving data to /Volumes/Music/MusicDB/Music-iTunes Test.p\n",
      "  --> This file is 14B.\n",
      "Saved data to /Volumes/Music/MusicDB/Music-iTunes Test.p\n",
      "  --> This file is 14B.\n",
      "Checking /Volumes/Music/iTunes Todo...   \tFound 3201 files.\n",
      "Processed 3201 paths.\n",
      "Saving data to /Volumes/Music/MusicDB/Music-iTunes Todo.p\n",
      "  --> This file is 128.7kB.\n",
      "Saved data to /Volumes/Music/MusicDB/Music-iTunes Todo.p\n",
      "  --> This file is 128.7kB.\n",
      "Found 18 List Files\n",
      "Found 0 DB Files\n",
      "Found 16 DB Files\n"
     ]
    }
   ],
   "source": [
    "%load_ext autoreload\n",
    "%autoreload\n",
    "mf = musicFinder(debug=False)\n",
    "## Run This To Find Music Paths\n",
    "mf.findMusic()\n",
    "ma = musicAnalyzer(debug=False)"
   ]
  },
  {
   "cell_type": "code",
   "execution_count": 92,
   "metadata": {},
   "outputs": [
    {
     "name": "stdout",
     "output_type": "stream",
     "text": [
      "Current Time is Mon Sep 30, 2019 18:12:59 for Getting My Artists/Albums\n",
      "Found 2488 artists and 5896 albums\n",
      "  --> This file is 1.4MB.\n",
      "  --> This file is 1.4MB.\n",
      "Current Time is Mon Sep 30, 2019 18:13:09 for Done with Getting My Artists/Albums\n",
      "Process [{0}] took 9 seconds.\n"
     ]
    }
   ],
   "source": [
    "start, cmt = clock(\"Getting My Artists/Albums\")\n",
    "\n",
    "artistData = {}\n",
    "albumData = {}\n",
    "for pathfile in ma.pathDBs:\n",
    "    if sum([x in pathfile for x in [\"Soundtrack\", \"MixTape\", \"Compilation\", \"Non Fiction\", \"Todo\", \"Moves\", \"Not In Discogs\"]]) > 0:\n",
    "        continue\n",
    "    if sum([x in pathfile for x in [\"Consolidate\"]]) == 0:\n",
    "        continue\n",
    "    pathdata = getFile(pathfile)\n",
    "    for mp3,mp3data in pathdata.items():\n",
    "        if artistData.get(mp3data['pbArtist']) is None:\n",
    "            artistData[mp3data[\"pbArtist\"]] = {}\n",
    "        if artistData[mp3data[\"pbArtist\"]].get(mp3data[\"pbAlbum\"]) is None:\n",
    "            artistData[mp3data[\"pbArtist\"]][mp3data[\"pbAlbum\"]] = []\n",
    "        artistData[mp3data[\"pbArtist\"]][mp3data[\"pbAlbum\"]].append(mp3)\n",
    "\n",
    "        if albumData.get(mp3data[\"pbAlbum\"]) is None:\n",
    "            albumData[mp3data[\"pbAlbum\"]] = {}\n",
    "        if albumData[mp3data[\"pbAlbum\"]].get(mp3data[\"pbArtist\"]) is None:\n",
    "            albumData[mp3data[\"pbAlbum\"]][mp3data[\"pbArtist\"]] = []\n",
    "        albumData[mp3data[\"pbAlbum\"]][mp3data[\"pbArtist\"]].append(mp3)\n",
    "        \n",
    "    print(\"Found {0} artists and {1} albums\".format(len(artistData), len(albumData)))\n",
    "    \n",
    "    \n",
    "saveFile(idata=artistData, ifile=\"/Volumes/Music/MusicDB/artistData.p\")\n",
    "saveFile(idata=albumData, ifile=\"/Volumes/Music/MusicDB/albumData.p\")\n",
    "\n",
    "elapsed(start, cmt)"
   ]
  },
  {
   "cell_type": "code",
   "execution_count": 6,
   "metadata": {},
   "outputs": [],
   "source": [
    "if False:\n",
    "    for albumID,albumVals in albumData.items():\n",
    "        if len(albumVals) > 1:\n",
    "            print(albumID,'\\t',end=\"\\t\")\n",
    "            print({k: len(v) for k,v in albumVals.items()})\n",
    "            print(\"\")"
   ]
  },
  {
   "cell_type": "markdown",
   "metadata": {},
   "source": [
    "# Find Artists"
   ]
  },
  {
   "cell_type": "code",
   "execution_count": 7,
   "metadata": {},
   "outputs": [],
   "source": [
    "#discdf[discdf['Artist'].str.contains(\"Adel\")]"
   ]
  },
  {
   "cell_type": "code",
   "execution_count": null,
   "metadata": {},
   "outputs": [
    {
     "name": "stdout",
     "output_type": "stream",
     "text": [
      "\t \t \t  ...And Oceans\n",
      "\t \t \t 2Pac & Outlawz\n",
      "\t \t \t 3rd House\n",
      "\t \t \t Aaron Neville & Celine Dion\n",
      "Near \t (1, 8) \t ACDC \t\t====> Discog Match = ACxDC\n",
      "\t \t \t Ali Vegas & L-Gee\n",
      "\t \t \t Andreas Ammer & FM Einheit & Ulrike Haage\n",
      "Odd\t (1, 8) \t Avenger (6)\n",
      "\t \t \t B.B. King & Eric Clapton\n",
      "\t \t \t B.B. King & Mary Travers\n",
      "\t \t \t B.K.S..S\n",
      "\t \t \t Bad Seeds & Zakary Thaks\n",
      "\t \t \t Barry White & Love Unlimited\n",
      "\t \t \t Benny Andersen & Poul Dissing\n",
      "\t \t \t Billy Joel & Richard Joo\n",
      "\t \t \t Birdman & Rick Ross\n",
      "\t \t \t Black Bill Gates & DJ Spinz\n",
      "\t \t \t Bluegrass 2001\n",
      "\t \t \t Blues Brothers\n",
      "\t \t \t Blumchen\n",
      "\t \t \t Bob Dylan & Johnny Cash\n",
      "\t \t \t Bob Kogut & Dana Kogut\n",
      "\t \t \t Bobby Osborne & Jesse McReynolds\n",
      "\t \t \t Bobby Pickett + Crypt Kickers\n",
      "\t \t \t Brooklyn Heights\n",
      "\t \t \t Buddy Guy & Jonny Lang\n",
      "\t \t \t Busta Rhymes & Reek Da Villain & J Doe\n",
      "\t \t \t Butch Baldassari & John Carlini\n",
      "\t \t \t Cam'ron & Juelz Santana\n",
      "\t \t \t Cam'ron & Mike Prat\n",
      "\t \t \t Cam'ron & Vado\n",
      "\t \t \t Camron Silver\n",
      "\t \t \t Capital 2\n",
      "\t \t \t Charlie Haden & Hank Jones\n",
      "\t \t \t Charlie Waller And The Country Gentlemen\n",
      "\t \t \t Chip tha Ripper\n",
      "\t \t \t Chris Con Carne\n",
      "\t \t \t Clean Bandit & Jess Glynne\n",
      "\t \t \t Coldplay & Jay-Z\n",
      "\t \t \t Cosmos & Daft Punk\n",
      "\t \t \t Cyber-Tec\n",
      "\t \t \t D.O.N.S..S\n",
      "\t \t \t Da Mob & Jocelyn Brown\n",
      "\t \t \t Dame Grease & DJ Delz\n",
      "\t \t \t Dan Hicks And The Hot Licks\n",
      "\t \t \t Dance Brothers\n",
      "\t \t \t David Archuleta & David Cook\n",
      "\t \t \t Daz Dillinger & DJ Nik Bean\n"
     ]
    }
   ],
   "source": [
    "from searchUtils import findNearest\n",
    "from unicodedata import normalize\n",
    "from pandas import DataFrame\n",
    "\n",
    "def getMusicData(key, artist):\n",
    "    retval = discdf[discdf[key] == artist]\n",
    "    if retval.shape[0] > 0:\n",
    "        return retval\n",
    "    else:\n",
    "        return None\n",
    "\n",
    "\n",
    "saveArtistData = {\"Odd\": {}, \"Match\": {}, \"Near\": {}, \"None\": {}}\n",
    "\n",
    "for artistName,artistAlbums in artistData.items():\n",
    "    \n",
    "    rename = None\n",
    "    if False:\n",
    "        rename = None\n",
    "        if renameReplacements.get(artistName) is not None:\n",
    "            artistName = renameReplacements[artistName]\n",
    "            rename = True\n",
    "        \n",
    "    \n",
    "    artistName = normalize('NFC', artistName)\n",
    "\n",
    "    \n",
    "    keys = [\"Artist\", \"Name\"]\n",
    "    done = False\n",
    "    for key in keys:\n",
    "        mdata = getMusicData(key, artistName)\n",
    "        if isinstance(mdata, DataFrame):\n",
    "            if key == \"Artist\":\n",
    "                #print('Match\\t',mdata.shape,'\\t',artistName)\n",
    "                saveArtistData[\"Match\"][artistName] = {\"Match\": artistName, \"Rename\": rename, \"Discog\": mdata, \"Albums\": artistAlbums}\n",
    "            else:\n",
    "                print('Odd\\t',mdata.shape,'\\t',artistName)\n",
    "                saveArtistData[\"Odd\"][artistName] = {\"Match\": artistName, \"Rename\": rename, \"Discog\": mdata, \"Albums\": artistAlbums}\n",
    "            done = True\n",
    "            break\n",
    "    if done:\n",
    "        continue\n",
    "\n",
    "    cutoff=0.9\n",
    "    if len(artistName) <= 6:\n",
    "        cutoff = 0.8\n",
    "    cutoffArtists = findNearest(item=artistName, ilist=artists, num=1, cutoff=cutoff)\n",
    "    if len(cutoffArtists) > 0:\n",
    "        for artist in cutoffArtists:\n",
    "            mdata = getMusicData(\"Artist\", artist)\n",
    "            saveArtistData[\"Near\"][artistName] = {\"Match\": artist, \"Rename\": rename, \"Discog\": mdata, \"Albums\": artistAlbums}\n",
    "            print('Near','\\t',mdata.shape,'\\t',artistName,'\\t\\t====> Discog Match =',artist)\n",
    "            done = True\n",
    "    else:\n",
    "        if False:\n",
    "            cutoffArtists = findNearest(item=artistName, ilist=artists, num=1, cutoff=cutoff - 0.15)\n",
    "            if len(cutoffArtists) > 0:\n",
    "                for artist in cutoffArtists:\n",
    "                    mdata = getMusicData(\"Artist\", artist)\n",
    "                    saveArtistData[\"Near\"][artistName] = {\"Match\": artist, \"Rename\": rename, \"Discog\": mdata, \"Albums\": artistAlbums}\n",
    "                    print('Near','\\t',mdata.shape,'\\t',artistName,'\\t\\t====> Discog Match =',artist)\n",
    "                    done = True\n",
    "\n",
    "        \n",
    "    if done:\n",
    "        continue\n",
    "        \n",
    "    print('\\t','\\t','\\t',artistName)\n",
    "    saveArtistData[\"None\"][artistName] = {\"Match\": None, \"Rename\": rename, \"Discog\": None, \"Albums\": artistAlbums}\n",
    "    continue\n",
    "    \n",
    "    \n",
    "    if artistName == \"Anorexia Nervosa (2)\":\n",
    "        print(artistAlbums)\n",
    "        1/0\n",
    "    continue\n",
    "    for albumName,albumVals in artistAlbums.items():\n",
    "        print(\"\\t\",albumName,len(albumVals))    \n",
    "    break\n",
    "#albumData = {}"
   ]
  },
  {
   "cell_type": "code",
   "execution_count": null,
   "metadata": {},
   "outputs": [],
   "source": []
  },
  {
   "cell_type": "markdown",
   "metadata": {},
   "source": [
    "# Known Discog Renames"
   ]
  },
  {
   "cell_type": "code",
   "execution_count": null,
   "metadata": {},
   "outputs": [],
   "source": [
    "from pandas import read_excel\n",
    "renames = read_excel('/Volumes/Music/Discog/db/DiscogRenames.xlsx')[[\"Unnamed: 1\", \"Unnamed: 2\"]][1:]\n",
    "renames.columns = [\"My Name\", \"Discog Name\"]\n",
    "renames"
   ]
  },
  {
   "cell_type": "code",
   "execution_count": null,
   "metadata": {},
   "outputs": [],
   "source": [
    "cutoff=0.8\n",
    "for discogName in renames[\"Discog Name\"].values:\n",
    "    cutoffArtists = findNearest(item=discogName, ilist=artists, num=1, cutoff=cutoff)\n",
    "    print(discogName,'\\t',cutoffArtists)"
   ]
  },
  {
   "cell_type": "code",
   "execution_count": null,
   "metadata": {},
   "outputs": [],
   "source": [
    "renames[\"Discog Name\"].values"
   ]
  },
  {
   "cell_type": "code",
   "execution_count": null,
   "metadata": {},
   "outputs": [],
   "source": []
  },
  {
   "cell_type": "code",
   "execution_count": null,
   "metadata": {},
   "outputs": [],
   "source": []
  },
  {
   "cell_type": "markdown",
   "metadata": {},
   "source": [
    "# Mark Soundtracks"
   ]
  },
  {
   "cell_type": "code",
   "execution_count": null,
   "metadata": {},
   "outputs": [],
   "source": [
    "from searchUtils import findDirsPattern, findAll\n",
    "from fsUtils import moveDir\n",
    "from fileUtils import getDirBasics\n",
    "for dirval in findDirsPattern('/Volumes/Music/iTunes Compilation/iTunes Media/Music', pattern=\"OST\"):\n",
    "    if dirval.endswith(\"OST\"):\n",
    "        dst = \" \".join([dirval[:-3].strip(), \"Soundtrack\"])\n",
    "        albumName = \" \".join([getDirBasics(dirval)[-1][:-3].strip(), \"Soundtrack\"])\n",
    "        for val in findAll(dirval):\n",
    "            for albumFile in findAll(val):\n",
    "                m = mp3ID(albumFile)\n",
    "                m.setAlbum(albumName)\n",
    "                \n",
    "        moveDir(dirval, dst)"
   ]
  },
  {
   "cell_type": "markdown",
   "metadata": {},
   "source": [
    "# Near Matches"
   ]
  },
  {
   "cell_type": "code",
   "execution_count": null,
   "metadata": {},
   "outputs": [],
   "source": [
    "toExcel = []\n",
    "for i,(artistName,aData) in enumerate(saveArtistData[\"Near\"].items()):\n",
    "    print(\"{0: <3}/{1: <3}\".format(i,len(saveArtistData[\"Near\"])), end=\" \\t\")\n",
    "    rename = aData[\"Rename\"]\n",
    "    discog = aData[\"Discog\"]\n",
    "    albums = aData[\"Albums\"]\n",
    "    if discog is not None:\n",
    "        matches = discog[\"Name\"].values\n",
    "        print('{0: <50}'.format(artistName),matches)\n",
    "    else:\n",
    "        print('{0: <50}{1: <8}{2}'.format(artistName,'x',len(albums)))"
   ]
  },
  {
   "cell_type": "markdown",
   "metadata": {},
   "source": [
    "# Odd Names"
   ]
  },
  {
   "cell_type": "code",
   "execution_count": 83,
   "metadata": {},
   "outputs": [
    {
     "name": "stdout",
     "output_type": "stream",
     "text": [
      "Avenger (6)                                        ['Avenger (6)']\n",
      "Brand X (3)                                        ['Brand X (3)']\n",
      "Chris Lee (28)                                     ['Chris Lee (28)']\n",
      "D.O.A. (2)                                         ['D.O.A. (2)']\n",
      "Daddy Longlegs (6)                                 ['Daddy Longlegs (6)']\n",
      "De Profundis (5)                                   ['De Profundis (5)']\n",
      "Despair (3)                                        ['Despair (3)']\n",
      "Diamond Head (2)                                   ['Diamond Head (2)']\n",
      "Eightball (3)                                      ['Eightball (3)']\n",
      "Endless Struggle (2)                               ['Endless Struggle (2)']\n",
      "Eyeball (4)                                        ['Eyeball (4)']\n",
      "Fancie (2)                                         ['Fancie (2)']\n",
      "Forgotten (3)                                      ['Forgotten (3)']\n",
      "Glimmer (2)                                        ['Glimmer (2)']\n",
      "Homeless (5)                                       ['Homeless (5)']\n",
      "Jill Olson (3)                                     ['Jill Olson (3)']\n",
      "Kansas (2)                                         ['Kansas (2)']\n",
      "Krakatoa (3)                                       ['Krakatoa (3)']\n",
      "Larry Williams (3)                                 ['Larry Williams (3)']\n",
      "Log (7)                                            ['Log (7)']\n",
      "Lonestar (3)                                       ['Lonestar (3)']\n",
      "Lunaris (2)                                        ['Lunaris (2)']\n",
      "Macha (3)                                          ['Macha (3)']\n",
      "Marcus (58)                                        ['Marcus (58)']\n",
      "Martin Lawrence (2)                                ['Martin Lawrence (2)']\n",
      "Out Of Order (12)                                  ['Out Of Order (12)']\n",
      "Praying Mantis (3)                                 ['Praying Mantis (3)']\n",
      "Raven (6)                                          ['Raven (6)']\n",
      "Rizzo (9)                                          ['Rizzo (9)']\n",
      "Roy Rogers (3)                                     ['Roy Rogers (3)']\n",
      "Seka (9)                                           ['Seka (9)']\n",
      "Slaughterhouse (7)                                 ['Slaughterhouse (7)']\n",
      "The Game (2)                                       ['The Game (2)']\n",
      "The Godz (2)                                       ['The Godz (2)']\n",
      "The Marquees (7)                                   ['The Marquees (7)']\n",
      "The Masters (2)                                    ['The Masters (2)']\n",
      "The Nomads (2)                                     ['The Nomads (2)']\n",
      "The Outcasts (4)                                   ['The Outcasts (4)']\n",
      "The Pits (2)                                       ['The Pits (2)']\n",
      "The Product (6)                                    ['The Product (6)']\n",
      "The Reno Brothers (2)                              ['The Reno Brothers (2)']\n",
      "The Shams (2)                                      ['The Shams (2)']\n",
      "The Snowmen (2)                                    ['The Snowmen (2)']\n",
      "The Sonics (4)                                     ['The Sonics (4)']\n",
      "The Wallflowers (2)                                ['The Wallflowers (2)']\n",
      "The Want (2)                                       ['The Want (2)']\n",
      "Transcend (4)                                      ['Transcend (4)']\n"
     ]
    }
   ],
   "source": [
    "for artistName,aData in saveArtistData[\"Odd\"].items():\n",
    "    rename = aData[\"Rename\"]\n",
    "    discog = aData[\"Discog\"]\n",
    "    albums = aData[\"Albums\"]\n",
    "    if discog is not None:\n",
    "        matches = discog[\"Name\"].values\n",
    "        \n",
    "        print('{0: <50}'.format(artistName),matches)\n",
    "    else:\n",
    "        print('{0: <50}{1: <8}{2}'.format(artistName,'x',len(albums)))\n",
    "        "
   ]
  },
  {
   "cell_type": "markdown",
   "metadata": {},
   "source": [
    "# None Match"
   ]
  },
  {
   "cell_type": "code",
   "execution_count": 10,
   "metadata": {},
   "outputs": [],
   "source": [
    "## Abwaerts = Abwärts\n",
    "## Move all ' vs ' into MixTape\n",
    "\n",
    "## Known\n",
    "#Beatsnblends\n",
    "#Dr. Tom Butt"
   ]
  },
  {
   "cell_type": "code",
   "execution_count": 13,
   "metadata": {},
   "outputs": [
    {
     "data": {
      "text/plain": [
       "{'The Biggest Thing Since Colossus': ['/Volumes/Music/iTunes Matched/iTunes Media/Music/Otis Spann & FM/The Biggest Thing Since Colossus/01 My Love Depends On You.mp3',\n",
       "  \"/Volumes/Music/iTunes Matched/iTunes Media/Music/Otis Spann & FM/The Biggest Thing Since Colossus/02 Walkin'.mp3\",\n",
       "  '/Volumes/Music/iTunes Matched/iTunes Media/Music/Otis Spann & FM/The Biggest Thing Since Colossus/03 It Was A Big Thing.mp3',\n",
       "  '/Volumes/Music/iTunes Matched/iTunes Media/Music/Otis Spann & FM/The Biggest Thing Since Colossus/04 Temperature Is Rising (100.2 dF).mp3',\n",
       "  '/Volumes/Music/iTunes Matched/iTunes Media/Music/Otis Spann & FM/The Biggest Thing Since Colossus/05 Dig You.mp3',\n",
       "  \"/Volumes/Music/iTunes Matched/iTunes Media/Music/Otis Spann & FM/The Biggest Thing Since Colossus/06 No More Doggin'.mp3\",\n",
       "  \"/Volumes/Music/iTunes Matched/iTunes Media/Music/Otis Spann & FM/The Biggest Thing Since Colossus/07 Ain't Nobody's Business.mp3\",\n",
       "  '/Volumes/Music/iTunes Matched/iTunes Media/Music/Otis Spann & FM/The Biggest Thing Since Colossus/08 She Needs Some Loving.mp3',\n",
       "  '/Volumes/Music/iTunes Matched/iTunes Media/Music/Otis Spann & FM/The Biggest Thing Since Colossus/09 I Need Some Air.mp3',\n",
       "  '/Volumes/Music/iTunes Matched/iTunes Media/Music/Otis Spann & FM/The Biggest Thing Since Colossus/10 Someday Baby.mp3']}"
      ]
     },
     "execution_count": 13,
     "metadata": {},
     "output_type": "execute_result"
    }
   ],
   "source": [
    "artistData['Otis Spann & FM']"
   ]
  },
  {
   "cell_type": "code",
   "execution_count": 84,
   "metadata": {},
   "outputs": [],
   "source": [
    "from searchUtils import findNearest\n",
    "\n",
    "class multiArtist:\n",
    "    def __init__(self, cutoff=0.9, discdata=None, exact=False):\n",
    "        self.cutoff   = cutoff    \n",
    "        self.discdata = discdata\n",
    "        self.exact    = exact\n",
    "        \n",
    "        self.basicdelims = [\"Duet With\", \"Presents\", \"Featuring\"]\n",
    "        self.delims = [\",\", \"&\", \" And \", \"+\", \"/\", \"With The\", \" with \", \" With \", \" y \", \" Y \", \" feat.\",  \" ft.\", \" Feat. \", \" x \", \" X \"]\n",
    "        self.discArtists = []\n",
    "        if self.discdata is not None:\n",
    "            self.discArtists = [x for x in discdata.keys() if x is not None]\n",
    "        self.knownDelimArtists = {artist: True for artist in self.discArtists if self.nDelims(artist) > 0}\n",
    "\n",
    "    \n",
    "    def getDiscArtists(self):\n",
    "        return self.discArtists\n",
    "    \n",
    "    def getKnownDelimArtists(self):\n",
    "        return self.knownDelimArtists  \n",
    "    \n",
    "    def isKnownArtist(self, artist):\n",
    "        if isinstance(self.discdata, dict):\n",
    "            return self.discdata.get(artist) != None\n",
    "        return False\n",
    "    \n",
    "    def nDelims(self, artist):\n",
    "        return sum([x in artist for x in self.delims])\n",
    "    \n",
    "    \n",
    "    def joinNames(self, delim, names):\n",
    "        joinVal = delim\n",
    "        if delim.startswith(\" \") is False:\n",
    "            joinVal = \" {0}\".format(joinVal)\n",
    "        if delim.endswith(\" \") is False:\n",
    "            joinVal = \"{0} \".format(joinVal)\n",
    "        \n",
    "        return joinVal.join(names)\n",
    "    \n",
    "    \n",
    "    def getDelimData(self, val, debug=False):\n",
    "        valdata = {d: [x.strip() for x in val.split(d)] for d in self.delims if d in val}\n",
    "        if debug:\n",
    "            print(\"\\tDelimParsing ==> {0}\".format(valdata))\n",
    "        for k,v in valdata.items():\n",
    "            if len(v) == 3:\n",
    "                v.append(self.joinNames(delim=k, names=v[:2]))\n",
    "                v.append(self.joinNames(delim=k, names=v[1:-1]))\n",
    "        if debug:\n",
    "            print(\"\\tDelimParsing ==> {0}\".format(valdata))\n",
    "\n",
    "        return valdata\n",
    "    \n",
    "    \n",
    "    def getBasicDelimData(self, val):\n",
    "        valdata = {d: [x.strip() for x in val.split(d)] for d in self.basicdelims if d in val}\n",
    "        return valdata\n",
    "\n",
    "    def getNdelims(self, val):\n",
    "        return len(val)\n",
    "\n",
    "    def addArtist(self, allArtists, val, debug=False):\n",
    "        #print(\"L={0}\".format(len(allArtists)))\n",
    "        if allArtists.get(val) is None:\n",
    "            if debug:\n",
    "                print(\"Adding {0}. Sum is {1}\".format(val, len(allArtists)))\n",
    "            allArtists[val] = True\n",
    "    \n",
    "    \n",
    "    def cleanArtist(self, artist):\n",
    "        artist = artist.replace(\"(\", \"\")\n",
    "        artist = artist.replace(\")\", \"\")\n",
    "        return artist\n",
    "\n",
    "\n",
    "    def newMethod(self, artist, debug=False):\n",
    "        if debug is True:\n",
    "            print(\"Parsing [{0}]\".format(artist))\n",
    "        artist = self.cleanArtist(artist)\n",
    "        allArtists = {}\n",
    "        d1delims = self.getBasicDelimData(artist)\n",
    "        if len(d1delims) == 0:\n",
    "            d1delims = self.getDelimData(artist)\n",
    "        if debug:\n",
    "            print('1','\\t',artist,'===>',d1delims)\n",
    "\n",
    "        knownArtists = set()\n",
    "        if len(d1delims) == 0:\n",
    "            self.addArtist(allArtists, artist, debug)\n",
    "            knownArtists = set(allArtists.keys())\n",
    "        elif self.isKnownArtist(artist):\n",
    "            self.addArtist(allArtists, artist, debug)\n",
    "            knownArtists = set(allArtists.keys())\n",
    "            d1delims = {}\n",
    "\n",
    "\n",
    "        ##############################################################################\n",
    "        ## 1st Delimiter Split\n",
    "        ##############################################################################\n",
    "        for delim1, delimdata1 in d1delims.items():\n",
    "            delimdata1 = list(set(delimdata1).difference(knownArtists))\n",
    "            for artist1 in delimdata1:\n",
    "                d2delims = self.getDelimData(artist1)\n",
    "                if debug:\n",
    "                    print('2','\\t',artist1,'===>',d2delims)\n",
    "                if self.getNdelims(d2delims) == 0:\n",
    "                    self.addArtist(allArtists, artist1, debug)\n",
    "                    knownArtists = set(allArtists.keys())\n",
    "                    continue\n",
    "                elif self.isKnownArtist(artist1):\n",
    "                    self.addArtist(allArtists, artist1, debug)\n",
    "                    knownArtists = set(allArtists.keys())\n",
    "                    d2delims = {}\n",
    "\n",
    "                    \n",
    "                ##############################################################################\n",
    "                ## 2nd Delimiter Split\n",
    "                ##############################################################################\n",
    "                for delim2, delimdata2 in d2delims.items():\n",
    "                    delimdata2 = list(set(delimdata2).difference(knownArtists))\n",
    "                    for artist2 in delimdata2:\n",
    "                        d3delims = self.getDelimData(artist2)\n",
    "                        if debug:\n",
    "                            print('3','\\t',artist2,'===>',d3delims)\n",
    "                        if self.getNdelims(d3delims) == 0:\n",
    "                            self.addArtist(allArtists, artist2)\n",
    "                            knownArtists = set(allArtists.keys())\n",
    "                            continue\n",
    "                        elif self.isKnownArtist(artist2):\n",
    "                            self.addArtist(allArtists, artist2)\n",
    "                            knownArtists = set(allArtists.keys())\n",
    "                            d3delims = {}\n",
    "\n",
    "                            \n",
    "                        ##############################################################################\n",
    "                        ## 3rd Delimiter Split\n",
    "                        ##############################################################################\n",
    "                        for delim3, delimdata3 in d3delims.items():\n",
    "                            delimdata3 = list(set(delimdata3).difference(knownArtists))\n",
    "                            for artist3 in delimdata3:\n",
    "                                d4delims = self.getDelimData(artist3)\n",
    "                                if self.getNdelims(d4delims) == 0:\n",
    "                                    self.addArtist(allArtists, artist3)\n",
    "                                    knownArtists = set(allArtists.keys())\n",
    "                                    continue\n",
    "                                elif self.isKnownArtist(artist3):\n",
    "                                    self.addArtist(allArtists, artist3)\n",
    "                                    knownArtists = set(allArtists.keys())\n",
    "                                    d4delims = {}\n",
    "                                    \n",
    "\n",
    "                                ##############################################################################\n",
    "                                ## 4th Delimiter Split\n",
    "                                ##############################################################################\n",
    "                                for delim4, delimdata4 in d4delims.items():\n",
    "                                    delimdata4 = list(set(delimdata4).difference(knownArtists))\n",
    "                                    for artist4 in delimdata4:\n",
    "                                        d5delims = self.getDelimData(artist4)\n",
    "                                        if self.getNdelims(d5delims) == 0:\n",
    "                                            self.addArtist(allArtists, artist4)\n",
    "                                            knownArtists = set(allArtists.keys())\n",
    "                                            continue\n",
    "                                        elif self.isKnownArtist(artist4):\n",
    "                                            self.addArtist(allArtists, artist4)\n",
    "                                            knownArtists = set(allArtists.keys())\n",
    "                                            d5delims = {}\n",
    "\n",
    "\n",
    "                                        ##############################################################################\n",
    "                                        ## 5th Delimiter Split\n",
    "                                        ##############################################################################\n",
    "                                        for delim5, delimdata5 in d5delims.items():\n",
    "                                            delimdata5 = list(set(delimdata5).difference(knownArtists))\n",
    "                                            for artist5 in delimdata5:\n",
    "                                                d6delims = self.getDelimData(artist5)\n",
    "                                                if self.getNdelims(d6delims) == 0:\n",
    "                                                    self.addArtist(allArtists, artist5)\n",
    "                                                    knownArtists = set(allArtists.keys())\n",
    "                                                    continue\n",
    "                                                elif self.isKnownArtist(artist5):\n",
    "                                                    self.addArtist(allArtists, artist5)\n",
    "                                                    knownArtists = set(allArtists.keys())\n",
    "                                                    d6delims = {}\n",
    "\n",
    "                                                    \n",
    "\n",
    "        ##############################################################################\n",
    "        ## Combine Results\n",
    "        ##############################################################################                                                    \n",
    "        results = {}\n",
    "        if self.discdata is not None and len(self.discArtists) > 0:\n",
    "            for name in knownArtists:\n",
    "                retval = self.discdata.get(name)\n",
    "                if self.exact is False:\n",
    "                    if retval is None:\n",
    "                        retval = findNearest(name, self.discArtists, 1, self.cutoff)\n",
    "                        if len(retval) == 1:\n",
    "                            retval = self.discdata.get(retval[0])\n",
    "                        else:\n",
    "                            retval = None\n",
    "                        \n",
    "                results[name] = retval\n",
    "        else:\n",
    "            results = {k: ['?'] for k,v in allArtists.items()}\n",
    "                \n",
    "        return results\n",
    "\n",
    "    def getArtistNames(self, artist, debug=False):        \n",
    "        return self.newMethod(artist, debug)\n",
    "    \n",
    "    \n",
    "    \n",
    "        if self.nDelims(artist) == 0:\n",
    "            names = {artist: []}\n",
    "            return names\n",
    "        \n",
    "        if self.discdata is not None and len(self.discArtists) > 0:\n",
    "            retval = self.discdata.get(artist)\n",
    "            if retval is not None:\n",
    "                return {artist: retval}\n",
    "            else:\n",
    "                retval = findNearest(artist, self.discArtists, 1, self.cutoff)\n",
    "                if len(retval) == 1:\n",
    "                    return {artist: self.discdata.get(retval[0])}        \n",
    "        \n",
    "        names = {artist: None}\n",
    "        names = self.splitArtist(names)\n",
    "        names = self.unravelDict(names)\n",
    "        names = self.unravelDict(names)\n",
    "        return names\n",
    "\n",
    "\n",
    "    def unravelDict(self, dvals):\n",
    "        fvals = {}\n",
    "        for k,v in dvals.items():\n",
    "            if isinstance(v, dict):\n",
    "                for k2,v2 in v.items():\n",
    "                    if isinstance(v2, dict):\n",
    "                        for k3,v3 in v.items():\n",
    "                            if isinstance(v3, dict):\n",
    "                                for k4,v4 in v.items():\n",
    "                                    fvals[k4] = v4\n",
    "                            else:\n",
    "                                fvals[k3] = v3\n",
    "                    else:\n",
    "                        fvals[k2] = v2\n",
    "            else:\n",
    "                fvals[k] = v\n",
    "\n",
    "        return fvals\n",
    "\n",
    "\n",
    "    def splitArtistDelim(self, artist, delval):\n",
    "        names = {}    \n",
    "        if delval not in artist:\n",
    "            return None\n",
    "\n",
    "        for val in artist.split(delval):\n",
    "            val = val.strip()\n",
    "            \n",
    "            if self.discdata is not None and len(self.discArtists) > 0:\n",
    "                retval = self.discdata.get(val)\n",
    "                if retval is not None:\n",
    "                    names[val] = retval\n",
    "                else:\n",
    "                    retval = findNearest(val, self.discArtists, 1, self.cutoff)\n",
    "                    if len(retval) == 0:\n",
    "                        names[val] = None\n",
    "                    else:\n",
    "                        names[val] = retval\n",
    "            else:\n",
    "                names[val] = [-1]\n",
    "\n",
    "        if len(names) == 0:\n",
    "            return None\n",
    "\n",
    "        if any(names.values()) is False:\n",
    "            return None\n",
    "\n",
    "        return names\n",
    "\n",
    "\n",
    "    def splitArtist(self, result):\n",
    "        delims = self.delims\n",
    "            \n",
    "        #print(\"Input: {0}\".format(result))\n",
    "        for name in result.keys():\n",
    "            #print(\"  Name -->\",name,\"\\tCurrent Value -->\",result[name])\n",
    "            if result[name] is None:\n",
    "                for delim in delims:\n",
    "                    #print(\"\\tDelim: {0}  for {1}\".format(delim, name))\n",
    "                    result2 = self.splitArtistDelim(name,delval=delim)\n",
    "                    #print(\"\\tDelim Result: {0}\".format(result2))\n",
    "\n",
    "\n",
    "                    if result2 is not None:\n",
    "                        result[name] = result2\n",
    "                        #print(\"\\tName:\",name,'\\tResult:',result2)\n",
    "                        for name2 in result2.keys():\n",
    "                            if result2[name2] is None:\n",
    "                                for delim2 in delims:\n",
    "                                    #print(\"\\t\\tDelim2: {0}  for {1}\".format(delim2, name2))\n",
    "                                    result3 = self.splitArtistDelim(name2,delval=delim2)\n",
    "                                    #print(\"\\t\\tDelim Result: {0}\".format(result3))\n",
    "\n",
    "\n",
    "                                    if result3 is not None:\n",
    "                                        #print(\"\\t\\tName:\",name2,'\\tResult:',result3)\n",
    "                                        result2[name2] = result3\n",
    "\n",
    "                                        ## Breaking from delim2 \n",
    "                                        break\n",
    "\n",
    "                        ## Breaking from delim\n",
    "                        break\n",
    "\n",
    "        return result"
   ]
  },
  {
   "cell_type": "code",
   "execution_count": 11,
   "metadata": {},
   "outputs": [],
   "source": [
    "#artistDB = disc.getArtistNameToIDData()\n",
    "artistNameToID = {}\n",
    "for artistID, artistName in discdf[\"Artist\"].to_dict().items():\n",
    "    if artistNameToID.get(artistName) is None:\n",
    "        artistNameToID[artistName] = []\n",
    "    artistNameToID[artistName].append(artistID)"
   ]
  },
  {
   "cell_type": "code",
   "execution_count": 85,
   "metadata": {},
   "outputs": [],
   "source": [
    "mulArts  = multiArtist(cutoff=1.0, discdata=artistNameToID, exact=False)\n",
    "\n",
    "# "
   ]
  },
  {
   "cell_type": "code",
   "execution_count": 24,
   "metadata": {},
   "outputs": [],
   "source": [
    "v = ['Belle', 'Sebastian', 'Norah Jones']"
   ]
  },
  {
   "cell_type": "code",
   "execution_count": 89,
   "metadata": {},
   "outputs": [
    {
     "data": {
      "text/plain": [
       "{'Brian Setzer': ['/Volumes/Music/iTunes Consolidate/iTunes Media/Music/Brian Setzer/live and rare/06 Guiter Hero.mp3',\n",
       "  '/Volumes/Music/iTunes Consolidate/iTunes Media/Music/Brian Setzer/live and rare/08 Everybody Wants To Be A Cat.mp3'],\n",
       " 'Brian Setzer & Brian Wilson': ['/Volumes/Music/iTunes Consolidate/iTunes Media/Music/Brian Setzer & Brian Wilson/live and rare/10 Little Deuce Coupe.mp3'],\n",
       " 'Brian Setzer Orchestra': ['/Volumes/Music/iTunes Consolidate/iTunes Media/Music/Brian Setzer Orchestra/live and rare/01 Dragnet Theme (Live).mp3',\n",
       "  \"/Volumes/Music/iTunes Consolidate/iTunes Media/Music/Brian Setzer Orchestra/live and rare/02 Rock This Town (Woodstock '99).mp3\",\n",
       "  '/Volumes/Music/iTunes Consolidate/iTunes Media/Music/Brian Setzer Orchestra/live and rare/03 Malaguena & Brand New Cadillac (Live).mp3',\n",
       "  '/Volumes/Music/iTunes Consolidate/iTunes Media/Music/Brian Setzer Orchestra/live and rare/04 Stray Cat Strut (Live).mp3',\n",
       "  '/Volumes/Music/iTunes Consolidate/iTunes Media/Music/Brian Setzer Orchestra/live and rare/05 Hawaii Five O Theme (Live).mp3',\n",
       "  '/Volumes/Music/iTunes Consolidate/iTunes Media/Music/Brian Setzer Orchestra/live and rare/07 James Bond, Mission Impossible, Peter Gun.mp3',\n",
       "  '/Volumes/Music/iTunes Consolidate/iTunes Media/Music/Brian Setzer Orchestra/live and rare/09 Crazy Little Thing Called Love.mp3',\n",
       "  '/Volumes/Music/iTunes Consolidate/iTunes Media/Music/Brian Setzer Orchestra/live and rare/11 Fly Juice.mp3',\n",
       "  '/Volumes/Music/iTunes Consolidate/iTunes Media/Music/Brian Setzer Orchestra/live and rare/12 Bodhisaattva.mp3',\n",
       "  '/Volumes/Music/iTunes Consolidate/iTunes Media/Music/Brian Setzer Orchestra/live and rare/13 Jingle Bells.mp3',\n",
       "  '/Volumes/Music/iTunes Consolidate/iTunes Media/Music/Brian Setzer Orchestra/live and rare/15 Jingle Bells (Inst).mp3'],\n",
       " 'Darlene Love & The Brian Setzer Orchestra': ['/Volumes/Music/iTunes Consolidate/iTunes Media/Music/Darlene Love & The Brian Setzer Orchestra/live and rare/14 Sleigh Ride.mp3']}"
      ]
     },
     "execution_count": 89,
     "metadata": {},
     "output_type": "execute_result"
    }
   ],
   "source": [
    "albumData[\"live and rare\"]"
   ]
  },
  {
   "cell_type": "code",
   "execution_count": 60,
   "metadata": {},
   "outputs": [
    {
     "data": {
      "text/plain": [
       "{'Judy And The Loadies': ['276320'],\n",
       " 'Judy': ['3359551', '1845777', '579281'],\n",
       " \"The Ne'er Do Wells\": ['818820'],\n",
       " 'The Loadies': None}"
      ]
     },
     "execution_count": 60,
     "metadata": {},
     "output_type": "execute_result"
    }
   ],
   "source": [
    "artistName = 'Belle & Sebastian & Norah Jones'\n",
    "artistName = \"The Ne'er Do Wells & Judy And The Loadies\"\n",
    "matches = mulArts.getArtistNames(artistName, debug=False)\n",
    "matches"
   ]
  },
  {
   "cell_type": "code",
   "execution_count": 86,
   "metadata": {},
   "outputs": [
    {
     "name": "stdout",
     "output_type": "stream",
     "text": [
      "Ariana Grande & The Weeknd                         {'The Weeknd': ['2171152'], 'Ariana Grande': ['3310737']}\n",
      "\t1\tMy Everything (Target Exclusive Edition)\n",
      "\n",
      "B.B. King & Mary Travers                           {'B.B. King': ['37729'], 'Mary Travers': ['498742']}\n",
      "\t1\tPP M& (Lifelines)\n",
      "\n",
      "Barry White & Love Unlimited                       {'Barry White': ['1426501', '18978'], 'Love Unlimited': ['164269']}\n",
      "\t1\tRandom\n",
      "\n",
      "Billy Ray Cyrus & Miley Cyrus                      {'Miley Cyrus': ['676432'], 'Billy Ray Cyrus': ['300597']}\n",
      "\t1\tRandom\n",
      "\n",
      "Brian Setzer & Brian Wilson                        {'Brian Setzer': ['269949'], 'Brian Wilson': ['189718']}\n",
      "\t1\tlive and rare\n",
      "\n",
      "Buddy Guy & Jonny Lang                             {'Buddy Guy': ['259799'], 'Jonny Lang': ['343201']}\n",
      "\t1\tRandom\n",
      "\n",
      "Céline Dion & Aaron Neville                        {'Aaron Neville': ['15261'], 'Céline Dion': ['19298']}\n",
      "\t1\tRandom\n",
      "\n",
      "Chris Brown & Hurricane Chris & Bow Wow            {'Chris Brown': ['4026500', '3578012', '5369712', '5017915', '738320', '3145021', '2154028', '1824203', '1836830', '3521032', '1762436', '5253937', '53538', '688738', '4631139', '1137941', '2263745', '2609805', '3577750', '357753', '3613054', '5399855', '408056', '1896206', '827561', '140370', '2880774', '1007976', '1683579', '1840289', '2762589'], 'Hurricane Chris': ['1057798'], 'Bow Wow': ['1862235', '130964']}\n",
      "\t1\tExclusive Cd3\n",
      "\n",
      "Chris Brown & Keri Hilson                          {'Chris Brown': ['4026500', '3578012', '5369712', '5017915', '738320', '3145021', '2154028', '1824203', '1836830', '3521032', '1762436', '5253937', '53538', '688738', '4631139', '1137941', '2263745', '2609805', '3577750', '357753', '3613054', '5399855', '408056', '1896206', '827561', '140370', '2880774', '1007976', '1683579', '1840289', '2762589'], 'Keri Hilson': ['241531']}\n",
      "\t1\tExclusive CD3\n",
      "\n",
      "Ciara & Ludacris                                   {'Ciara': ['1866217', '866640', '232451', '2913958', '3459881', '74383', '5887987'], 'Ludacris': ['36100']}\n",
      "\t1\tBLaZn Sykwitit Vol 27\n",
      "\n",
      "Clean Bandit & Jess Glynne                         {'Clean Bandit': ['2792442'], 'Jess Glynne': ['3557130']}\n",
      "\t1\tRather Be (Ft. Jess Glynne)\n",
      "\n",
      "Cosmos & Daft Punk                                 {'Cosmos': ['4167710', '3582050', '14168', '3538483'], 'Daft Punk': ['1289']}\n",
      "\t1\tRandom\n",
      "\n",
      "Da Mob & Jocelyn Brown                             {'Da Mob': ['65906'], 'Jocelyn Brown': ['2264']}\n",
      "\t1\tRandom\n",
      "\n",
      "David Archuleta & David Cook                       {'David Cook': ['4695701', '4411112', '1782817', '2131530', '1283139', '1924688', '393192'], 'David Archuleta': ['1425103']}\n",
      "\t1\tRandom\n",
      "\n",
      "David Bowie & Queen                                {'David Bowie': ['10263'], 'Queen': ['81013']}\n",
      "\t1\tGrosse Point Blank SDTK\n",
      "\n",
      "Dolla & T-Pain & Akon                              {'Dolla': ['904628', '3436604', '1990851', '1539607', '4375786'], 'Akon': ['229665'], 'T-Pain': ['382934', '5554472']}\n",
      "\t1\tRandom\n",
      "\n",
      "Don Henley & Patty Smith                           {'Don Henley': ['249597'], 'Patty Smith': ['669897']}\n",
      "\t1\tRandom\n",
      "\n",
      "Donell Jones & Left Eye                            {'Left Eye': ['276264'], 'Donell Jones': ['38855']}\n",
      "\t1\tRandom\n",
      "\n",
      "Draco Rosa feat. Ricky Martin                      {'Ricky Martin': ['56978'], 'Draco Rosa': ['3798498']}\n",
      "\t1\tMás y más (feat. Ricky Martin) - Single\n",
      "\n",
      "Drake Feat. Kanye West, Lil Wayne & Eminem         {'Lil Wayne': ['1065010'], 'Eminem': ['38661'], 'Kanye West': ['137880'], 'Drake': ['151199']}\n",
      "\t1\tRandom\n",
      "\n",
      "Drew Seeley Feat. Belinda                          {'Drew Seeley': ['2608380'], 'Belinda': ['4159312', '5568912', '962216', '1061928', '4713933', '1228139', '504804', '5084642', '585453', '213854', '4862365', '3433266', '1275390']}\n",
      "\t1\tRandom\n",
      "\n",
      "Driver & Face                                      {'Face': ['1503612', '210419', '239436', '22654', '114880', '113893'], 'Driver': ['374900', '2076917', '2754631', '94534', '3225078', '246996']}\n",
      "\t1\tRandom\n",
      "\n",
      "Enrique Iglesias & Pitbull                         {'Pitbull': ['232956'], 'Enrique Iglesias': ['87582']}\n",
      "\t1\tWorld Wide Urban Music\n",
      "\n",
      "Fatboy Slim & Armand Van Helden                    {'Fatboy Slim': ['3101'], 'Armand Van Helden': ['3352']}\n",
      "\t1\tLiVE! 99\n",
      "\n",
      "George Michael & Mary J. Blige                     {'George Michael': ['32990'], 'Mary J. Blige': ['4778']}\n",
      "\t1\tAs Single Cd\n",
      "\n",
      "Gillian Welch & Alison Krauss                      {'Alison Krauss': ['333360'], 'Gillian Welch': ['255403']}\n",
      "\t1\tO Brother Where Art Thou?\n",
      "\n",
      "Hitch Hiker & Dumont                               {'Hitch Hiker': ['20807'], 'Dumont': ['327973']}\n",
      "\t1\t2nd dimension\n",
      "\n",
      "Jack Johnson & Matt Costa                          {'Matt Costa': ['448797'], 'Jack Johnson': ['167366']}\n",
      "\t1\t2005-08-24 - KBCO Studio C\n",
      "\n",
      "James Zabiela & Sasha                              {'Sasha': ['207901', '297645', '164150', '357660', '3365', '5485674', '114109', '78290'], 'James Zabiela': ['35106']}\n",
      "\t1\tDJ Mag - Shelborne, Miami 3-21-2012\n",
      "\n",
      "Jessie J, Ariana Grande & Nicki Minaj              {'Jessie J': ['2126398'], 'Ariana Grande': ['3310737'], 'Nicki Minaj': ['1615988']}\n",
      "\t1\tBang Bang - Single\n",
      "\n",
      "Jessie J, Ariana Grande & Nicki Minaj              {'Jessie J': ['2126398'], 'Ariana Grande': ['3310737'], 'Nicki Minaj': ['1615988']}\n",
      "\t1\tMy Everything (Target Exclusive Edition)\n",
      "\n",
      "Jestofunk & Cinda                                  {'Cinda': ['131678'], 'Jestofunk': ['7640']}\n",
      "\t1\tRandom\n",
      "\n",
      "Juvenile & DMX & Jay-Z & Ja Rule                   {'Jay-Z': ['21742', '190684', '4750885'], 'Ja Rule': ['51369'], 'DMX': ['59769'], 'Juvenile': ['137603', '117579']}\n",
      "\t1\tSingle\n",
      "\n",
      "Kaj & Andrea                                       {'Kaj': ['1869424', '4425124', '11553', '3529057', '652766'], 'Andrea': ['2270111', '2727125', '2237429', '3284003', '249442', '264151', '1257152', '38282', '3075397']}\n",
      "\t1\tKaj & Andrea\n",
      "\n",
      "Kenny G & Michael Bolton & Sade                    {'Kenny G': ['96114', '37734', '2607704', '1541475'], 'Sade': ['19731'], 'Michael Bolton': ['274209']}\n",
      "\t1\tRandom\n",
      "\n",
      "Linda Ronstadt & James Ingram                      {'Linda Ronstadt': ['262943'], 'James Ingram': ['4800']}\n",
      "\t1\tAmerican Tail SDTK\n",
      "\n",
      "Lloyd & Lil Wayne                                  {'Lil Wayne': ['1065010'], 'Lloyd': ['186264']}\n",
      "\t1\tRandom\n",
      "\n",
      "MFSB & The Three Degrees                           {'MFSB': ['3452'], 'The Three Degrees': ['36807']}\n",
      "\t1\tSuper Disco Hits\n",
      "\n",
      "Michael Hutchence & Bono                           {'Bono': ['39677'], 'Michael Hutchence': ['192303']}\n",
      "\t1\tÂ79M¶ëªL³UÌ>õÿDÿÿú~ëvÙukY}úi\n",
      "\n",
      "More & More & More                                 {'More': ['471029', '414451', '13456', '95684']}\n",
      "\t1\tRandom\n",
      "\n",
      "Nicky Romero & Calvin Harris                       {'Nicky Romero': ['1229555'], 'Calvin Harris': ['1114466', '3516469', '431673', '222578']}\n",
      "\t1\tIron (Single)\n",
      "\n",
      "Pitbull & Ne-Yo & Afrojack & Nayer                 {'Pitbull': ['232956'], 'Ne-Yo': ['359939'], 'Afrojack': ['727590'], 'Nayer': ['1702929', '136742']}\n",
      "\t1\tWWW.iM1MUSIC.NET\n",
      "\n",
      "Pronto & Kalmani                                   {'Pronto': ['1259128', '3519131', '5933832', '4080075', '1491976'], 'Kalmani': ['213424']}\n",
      "\t1\tHis Favourite Tracks Part 2\n",
      "\n",
      "Rick Springfield & Randy Crawford                  {'Rick Springfield': ['156120'], 'Randy Crawford': ['56799']}\n",
      "\t1\tThe Best Of\n",
      "\n",
      "Ricky Martin & Christina Aguilera                  {'Ricky Martin': ['56978'], 'Christina Aguilera': ['77855']}\n",
      "\t1\tNobody Wants to Be Lonely (With Christina Aguilera) - Single\n",
      "\n",
      "Rocko & Future & Rick Ross                         {'Rocko': ['5736210', '6396210', '5880815', '1141819', '1551602', '5696923', '6911424', '2168832', '2123034', '5262736', '749540', '1773847', '544061', '1000162', '2669807', '304473', '129878', '6292709', '1823692', '2146196', '4571896', '3872898'], 'Future': ['3196218', '40522', '363426', '503128', '1880733', '1008048', '2787649', '256658', '1366367', '3197867', '1785172', '221673', '1307085', '885393', '2834696', '302898'], 'Rick Ross': ['181022']}\n",
      "\t1\tU.O.E.N.O. (Feat Future & Rick Ross) - Single\n",
      "\n",
      "Shania Twain & Elton John                          {'Shania Twain': ['130060'], 'Elton John': ['57103']}\n",
      "\t1\tThe Speacials: Winter Break\n",
      "\n",
      "Shania Twain & Willie Nelson                       {'Shania Twain': ['130060'], 'Willie Nelson': ['249449']}\n",
      "\t1\tWillie Nelson and Friends: Live and Kickin' \n",
      "\n",
      "Signum & Scott Mac                                 {'Scott Mac': ['38222'], 'Signum': ['4629']}\n",
      "\t1\tGeneration Trance 2000\n",
      "\n"
     ]
    },
    {
     "name": "stdout",
     "output_type": "stream",
     "text": [
      "Steve Wariner & Nitty Gritty Dirt Band             {'Steve Wariner': ['692580'], 'Nitty Gritty Dirt Band': ['178818']}\n",
      "\t1\tMiscellaneous Live Recordings\n",
      "\n",
      "The Cardigans & Tom Jones                          {'Tom Jones': ['2269038', '51039', '782651', '1795093'], 'The Cardigans': ['39900', '1114834']}\n",
      "\t1\thttp:--questers.musicpage.com\n",
      "\n",
      "The KLF & Tammy Wynette                            {'Tammy Wynette': ['16406'], 'The KLF': ['2666675', '3178']}\n",
      "\t1\tRandom\n",
      "\n",
      "The Saturdays & Flo Rida                           {'Flo Rida': ['885103'], 'The Saturdays': ['1232437', '5761270']}\n",
      "\t1\tFlo.Rida-Only.One.Flo.Pt.1-(Retail)-2010-NoFS)\n",
      "\n",
      "Timbaland & Nelly Furtado & Justin Timberlake      {'Nelly Furtado': ['21731'], 'Timbaland': ['35125'], 'Justin Timberlake': ['66824']}\n",
      "\t1\tJams\n",
      "\n",
      "Twin & Johan S                                     {'Twin': ['585300', '52205'], 'Johan S': ['2117222', '625153', '3003371']}\n",
      "\t1\tDJ008® CD 92\n",
      "\n",
      "Twista & DJ Victoriouz                             {'DJ Victoriouz': ['2809825'], 'Twista': ['2025601', '133869', '1955083']}\n",
      "\t1\tBack To The Basics EP\n",
      "\n",
      "Twista & Dra Day                                   {'Dra Day': ['3970810'], 'Twista': ['2025601', '133869', '1955083']}\n",
      "\t1\tBack To The Basics EP\n",
      "\n",
      "UK & Whitelabel                                    {'Whitelabel': ['4440510', '1269104', '4606498'], 'UK': ['69352', '414471']}\n",
      "\t1\tSilencio - Vinyl\n",
      "\n",
      "Wu-Tang Clan & System Of A Down                    {'Wu-Tang Clan': ['11213'], 'System Of A Down': ['85889']}\n",
      "\t1\tLoud Rocks\n",
      "\n"
     ]
    }
   ],
   "source": [
    "for i,(artistName,aData) in enumerate(saveArtistData[\"None\"].items()):\n",
    "    rename = aData[\"Rename\"]\n",
    "    discog = aData[\"Discog\"]\n",
    "    albums = aData[\"Albums\"]\n",
    "\n",
    "    matches = mulArts.getArtistNames(artistName)\n",
    "    if all(matches.values()):\n",
    "        for albumName,albumValueData in albums.items():\n",
    "            if len(albumValueData) == 1:\n",
    "                print('{0: <50}'.format(artistName),matches)\n",
    "                print(\"\\t{0}\\t{1}\\n\".format(len(albumValueData), albumName))"
   ]
  },
  {
   "cell_type": "code",
   "execution_count": 15,
   "metadata": {},
   "outputs": [
    {
     "data": {
      "text/html": [
       "<div>\n",
       "<style scoped>\n",
       "    .dataframe tbody tr th:only-of-type {\n",
       "        vertical-align: middle;\n",
       "    }\n",
       "\n",
       "    .dataframe tbody tr th {\n",
       "        vertical-align: top;\n",
       "    }\n",
       "\n",
       "    .dataframe thead th {\n",
       "        text-align: right;\n",
       "    }\n",
       "</style>\n",
       "<table border=\"1\" class=\"dataframe\">\n",
       "  <thead>\n",
       "    <tr style=\"text-align: right;\">\n",
       "      <th></th>\n",
       "      <th>Ref</th>\n",
       "      <th>Name</th>\n",
       "      <th>Known</th>\n",
       "      <th>Artists</th>\n",
       "      <th>Genre</th>\n",
       "      <th>Style</th>\n",
       "      <th>Artist</th>\n",
       "      <th>Artist Num</th>\n",
       "    </tr>\n",
       "  </thead>\n",
       "  <tbody>\n",
       "    <tr>\n",
       "      <th>135946</th>\n",
       "      <td>/artist/135946-Johnny-Cash</td>\n",
       "      <td>Johnny Cash</td>\n",
       "      <td>True</td>\n",
       "      <td>[Johnny Cash, Jerry Lee Lewis, Willie Nelson]</td>\n",
       "      <td>[Folk, World, &amp; Country, Rock, Blues]</td>\n",
       "      <td>[Country, , Country Rock]</td>\n",
       "      <td>Johnny Cash</td>\n",
       "      <td>NaN</td>\n",
       "    </tr>\n",
       "  </tbody>\n",
       "</table>\n",
       "</div>"
      ],
      "text/plain": [
       "                               Ref         Name  Known  \\\n",
       "135946  /artist/135946-Johnny-Cash  Johnny Cash   True   \n",
       "\n",
       "                                              Artists  \\\n",
       "135946  [Johnny Cash, Jerry Lee Lewis, Willie Nelson]   \n",
       "\n",
       "                                        Genre                      Style  \\\n",
       "135946  [Folk, World, & Country, Rock, Blues]  [Country, , Country Rock]   \n",
       "\n",
       "             Artist  Artist Num  \n",
       "135946  Johnny Cash         NaN  "
      ]
     },
     "execution_count": 15,
     "metadata": {},
     "output_type": "execute_result"
    }
   ],
   "source": [
    "#discdf[discdf.index == '730612']\n",
    "discdf[discdf.index == '135946']"
   ]
  },
  {
   "cell_type": "code",
   "execution_count": 74,
   "metadata": {},
   "outputs": [
    {
     "name": "stdout",
     "output_type": "stream",
     "text": [
      "Duke Ellington with the Ron Collier Orchestra      {'Duke Ellington': ['145257'], 'the Ron Collier Orchestra': None}\n"
     ]
    }
   ],
   "source": [
    "for artistName,aData in saveArtistData[\"None\"].items():\n",
    "    rename = aData[\"Rename\"]\n",
    "    discog = aData[\"Discog\"]\n",
    "    albums = aData[\"Albums\"]\n",
    "\n",
    "    matches = mulArts.getArtistNames(artistName)\n",
    "    if not all(matches.values()):\n",
    "        print('{0: <50}'.format(artistName),matches)"
   ]
  },
  {
   "cell_type": "code",
   "execution_count": null,
   "metadata": {},
   "outputs": [],
   "source": [
    "x = artistNames[4]\n",
    "items = artistNames\n",
    "my_str_as_bytes = str.encode(x, 'utf-8')\n",
    "print(my_str_as_bytes,type(my_str_as_bytes)) # ensure it is byte representation\n",
    "\n",
    "\n",
    "from unicodedata import normalize\n",
    "keys = ['NFC', 'NFKC', 'NFD', 'NFKD']\n",
    "for key in keys:\n",
    "    print(x,'<---',key)    \n",
    "    print(findNearest(item=x, ilist=items, num=1, cutoff=1.0))\n",
    "    my_str = normalize(key, x)\n",
    "    print(findNearest(item=my_str, ilist=items, num=1, cutoff=1.0))\n",
    "    print(my_str,type(my_str))\n",
    "    my_str_as_bytes = str.encode(my_str, 'utf-8')\n",
    "    print(my_str_as_bytes,type(my_str_as_bytes)) # ensure it is byte representation\n",
    "    my_decoded_str = my_str_as_bytes.decode()\n",
    "    print(my_decoded_str,type(my_decoded_str)) # ensure it is string representation\n",
    "    print(findNearest(item=my_decoded_str, ilist=items, num=1, cutoff=1.0))\n",
    "    print(\"\")\n",
    "    "
   ]
  },
  {
   "cell_type": "markdown",
   "metadata": {},
   "source": [
    "# Test"
   ]
  },
  {
   "cell_type": "code",
   "execution_count": null,
   "metadata": {},
   "outputs": [],
   "source": [
    "ifile = \"/Volumes/Music/iTunes MixTape/iTunes Media/Music/24 Shots/01 Intro (Power Of The Dollar).mp3\"\n",
    "isFile(ifile)"
   ]
  },
  {
   "cell_type": "code",
   "execution_count": null,
   "metadata": {},
   "outputs": [],
   "source": [
    "x = artistNames[4]\n",
    "x = 'Henryk Górecki'\n",
    "\n",
    "\n",
    "items = artistNames\n",
    "\n",
    "from unicodedata import normalize\n",
    "keys = ['NFC', 'NFKC', 'NFD', 'NFKD']\n",
    "for key in keys:\n",
    "    print(x,'<---',key)    \n",
    "    print(findNearest(item=x, ilist=items, num=1, cutoff=1.0))\n",
    "    my_str = normalize(key, x)\n",
    "    print(findNearest(item=my_str, ilist=items, num=1, cutoff=1.0))\n",
    "    print(my_str,type(my_str))\n",
    "    my_str_as_bytes = str.encode(my_str, 'utf-8')\n",
    "    print(my_str_as_bytes,type(my_str_as_bytes)) # ensure it is byte representation\n",
    "    my_decoded_str = my_str_as_bytes.decode()\n",
    "    print(my_decoded_str,type(my_decoded_str)) # ensure it is string representation\n",
    "    print(findNearest(item=my_decoded_str, ilist=items, num=1, cutoff=1.0))\n",
    "    print(\"\")\n",
    "    "
   ]
  },
  {
   "cell_type": "code",
   "execution_count": null,
   "metadata": {},
   "outputs": [],
   "source": [
    "m = mp3ID(ifile)\n",
    "m.getInfo()"
   ]
  },
  {
   "cell_type": "code",
   "execution_count": null,
   "metadata": {},
   "outputs": [],
   "source": [
    "pb  = pathBasics(debug=False)\n",
    "pbc = pb.getPaths(ifile)\n",
    "pbc.getDict()"
   ]
  },
  {
   "cell_type": "code",
   "execution_count": null,
   "metadata": {},
   "outputs": [],
   "source": [
    "from mp3id import mp3ID\n",
    "mp3Vals = {}\n",
    "for artistName,aData in saveArtistData['Odd'].items():\n",
    "    print(artistName)\n",
    "    discog = aData['Discog']\n",
    "    artist = None\n",
    "    if isinstance(discog, DataFrame):\n",
    "        if discog.shape[0] == 1:\n",
    "            artist = discog['Artist'][0] #.values\n",
    "            \n",
    "    if artist is None:\n",
    "        continue\n",
    "        \n",
    "    for album,albumFiles in aData['Albums'].items():\n",
    "        print('  ',album)\n",
    "        for albumFile in albumFiles:\n",
    "            print('\\t',albumFile)\n",
    "            m = mp3ID(albumFile)\n",
    "            mArtist = m.getArtist()[0]\n",
    "            if mArtist == artistName:\n",
    "                print(\"\\t\\tArtist: {0} <--> {1}\".format(mArtist,artist))\n",
    "                m.setArtist(artist)\n",
    "\n",
    "            mAlbumArtist = m.getAlbumArtist()[0]\n",
    "            if mAlbumArtist == artistName:\n",
    "                print(\"\\t\\tAlbumArtist: {0} <--> {1}\".format(mAlbumArtist,artist))\n",
    "                m.setAlbumArtist(artist)\n",
    "            #mp3Vals[albumFile] = mid.getInfo()\n",
    "            \n",
    "        \n",
    "\n"
   ]
  },
  {
   "cell_type": "code",
   "execution_count": null,
   "metadata": {},
   "outputs": [],
   "source": [
    "mp3Vals"
   ]
  },
  {
   "cell_type": "markdown",
   "metadata": {},
   "source": [
    "# Multi Artists"
   ]
  },
  {
   "cell_type": "code",
   "execution_count": null,
   "metadata": {},
   "outputs": [],
   "source": [
    "artistDB = disc.getArtistNameToIDData()\n",
    "mulArts  = multiArtist(cutoff=0.9, discdata=artistDB, exact=False)"
   ]
  },
  {
   "cell_type": "code",
   "execution_count": null,
   "metadata": {},
   "outputs": [],
   "source": [
    "from pandas import read_excel"
   ]
  },
  {
   "cell_type": "code",
   "execution_count": null,
   "metadata": {},
   "outputs": [],
   "source": []
  },
  {
   "cell_type": "code",
   "execution_count": null,
   "metadata": {},
   "outputs": [],
   "source": [
    "renameReplacements"
   ]
  },
  {
   "cell_type": "code",
   "execution_count": null,
   "metadata": {},
   "outputs": [],
   "source": []
  },
  {
   "cell_type": "code",
   "execution_count": null,
   "metadata": {},
   "outputs": [],
   "source": []
  },
  {
   "cell_type": "code",
   "execution_count": null,
   "metadata": {},
   "outputs": [],
   "source": [
    "findNearest(item=\"Andre Previn\", ilist=artistDB.keys(), num=10, cutoff=0.7)"
   ]
  },
  {
   "cell_type": "code",
   "execution_count": null,
   "metadata": {},
   "outputs": [],
   "source": [
    "x = \"Céline Dion\"\n",
    "\n",
    "from unicodedata import normalize\n",
    "keys = ['NFC', 'NFKC', 'NFD', 'NFKD']\n",
    "for key in keys:\n",
    "    continue\n",
    "    print(x,'<---',key)    \n",
    "    print(findNearest(item=x, ilist=items, num=1, cutoff=1.0))\n",
    "    my_str = normalize(key, x)\n",
    "    print(findNearest(item=my_str, ilist=items, num=1, cutoff=1.0))\n",
    "    print(my_str,type(my_str))\n",
    "    my_str_as_bytes = str.encode(my_str, 'utf-8')\n",
    "    print(my_str_as_bytes,type(my_str_as_bytes)) # ensure it is byte representation\n",
    "    my_decoded_str = my_str_as_bytes.decode()\n",
    "    print(my_decoded_str,type(my_decoded_str)) # ensure it is string representation\n",
    "    print(findNearest(item=my_decoded_str, ilist=items, num=1, cutoff=1.0))\n",
    "    print(\"\")\n",
    "    "
   ]
  },
  {
   "cell_type": "code",
   "execution_count": null,
   "metadata": {
    "scrolled": true
   },
   "outputs": [],
   "source": [
    "for artistName,artistData in saveArtistData.items():\n",
    "    found = artistData[0]\n",
    "    if found is False:\n",
    "        retval = ma.getArtistNames(artistName)\n",
    "        if len(retval) > 1:\n",
    "            artistNames = [k for k,v in retval.items() if v is not None]\n",
    "            print(\"{0: <50}{1}\".format(artistName,artistNames))\n",
    "        else:\n",
    "            print(\"{0: <50}{1}\".format(artistName,artistData[0]))"
   ]
  },
  {
   "cell_type": "code",
   "execution_count": null,
   "metadata": {},
   "outputs": [],
   "source": [
    "lvals = list(discdf[\"Artist\"])\n",
    "test  = \"*NSYNC\"\n",
    "from searchUtils import findNearest\n",
    "findNearest(item=test, ilist=lvals, num=1, cutoff=0.9)"
   ]
  },
  {
   "cell_type": "code",
   "execution_count": null,
   "metadata": {},
   "outputs": [],
   "source": [
    "def getMusicData(artist):\n",
    "    retval = musicdf[musicdf[\"Artist\"] == artist]\n",
    "    if retval.shape[0] > 0:\n",
    "        return retval\n",
    "    else:\n",
    "        return None"
   ]
  },
  {
   "cell_type": "code",
   "execution_count": null,
   "metadata": {},
   "outputs": [],
   "source": []
  },
  {
   "cell_type": "code",
   "execution_count": null,
   "metadata": {},
   "outputs": [],
   "source": [
    "artistIDtoName = disc.getArtistIDToNameData()\n",
    "artistIDtoRefs  = disc.getArtistIDToRefData()\n",
    "albumIDtoName = disc.getAlbumIDToNameData()\n",
    "albumIDtoRef   = disc.getAlbumIDToRefData()\n",
    "\n",
    "artistIDtoAlbumNames = disc.getArtistIDAlbumNames()\n",
    "artistIDtoAlbumIDs = disc.getArtistIDAlbumIDs()\n",
    "\n",
    "artistMetaData = disc.getAlbumArtistMetaData()"
   ]
  },
  {
   "cell_type": "code",
   "execution_count": null,
   "metadata": {},
   "outputs": [],
   "source": [
    "colArtistIDtoName = disc.getCollectionIDToNameData()\n",
    "colArtistIDtoRefs = disc.getCollectionIDToRefData()\n",
    "colArtistReftoCnts = disc.getCollectionRefCountsData()\n",
    "\n",
    "artistIDtoName = disc.getArtistIDToNameData()\n",
    "artistIDtoRefs  = disc.getArtistIDToRefData()\n",
    "albumIDtoName = disc.getAlbumIDToNameData()\n",
    "albumIDtoRef   = disc.getAlbumIDToRefData()\n",
    "\n",
    "artistIDtoAlbumNames = disc.getArtistIDAlbumNames()\n",
    "artistIDtoAlbumIDs = disc.getArtistIDAlbumIDs()\n",
    "\n",
    "artistMetaData = disc.getAlbumArtistMetaData()\n",
    "\n",
    "\n",
    "\n",
    "def splitMetaData(x):\n",
    "    retval = {}\n",
    "    if isinstance(x, dict):\n",
    "        for k,v in x.items():\n",
    "            retval[k] = [z[0] for z in v.most_common(3)]\n",
    "    else:\n",
    "        retval = None\n",
    "    return retval\n",
    "\n",
    "from pandas import Series, DataFrame\n",
    "sArtistToRef  = Series(artistIDtoRefs)\n",
    "sArtistToName = Series(artistIDtoName)\n",
    "sAlbumToRef   = Series(albumIDtoRef)\n",
    "sAlbumToName  = Series(albumIDtoName)\n",
    "\n",
    "sArtistToAlbums = Series(artistIDtoAlbumIDs)\n",
    "sArtistToAlbumNames = Series(artistIDtoAlbumNames)\n",
    "sArtistAlbums = Series([dict(zip(x, y)) for x,y in list(zip(sArtistToAlbums.values, sArtistToAlbumNames))], index=sArtistToAlbums.index)\n",
    "\n",
    "sArtistMetaData = Series(artistMetaData)\n",
    "sArtistMetaData = sArtistMetaData.apply(splitMetaData)\n",
    "\n",
    "\n",
    "cols = [\"Ref\"]\n",
    "discdf = DataFrame(sArtistToRef)\n",
    "discdf.columns = cols\n",
    "discdf = discdf.join(DataFrame(sArtistToName))\n",
    "cols += [\"Name\"]\n",
    "discdf.columns = cols\n",
    "tmp = DataFrame(DataFrame(sArtistMetaData)[0].tolist())\n",
    "tmp.index = sArtistMetaData.index\n",
    "discdf = discdf.join(tmp)\n",
    "cols += [\"Extra Artists\", \"Genres\", \"Styles\"]\n",
    "discdf.columns = cols\n",
    "discdf = discdf.join(DataFrame(sArtistAlbums))\n",
    "cols += [\"Albums\"]\n",
    "discdf.columns = cols\n",
    "\n",
    "\n",
    "\n",
    "\n",
    "sColArtistToRef  = Series(colArtistIDtoRefs)\n",
    "sColArtistToName = Series(colArtistIDtoName)\n",
    "sColArtistRefToCnts = Series(colArtistReftoCnts)\n",
    "\n",
    "cols = [\"Ref\"]\n",
    "coldiscdf = DataFrame(sColArtistToRef)\n",
    "coldiscdf.columns = cols\n",
    "coldiscdf = coldiscdf.join(DataFrame(sColArtistToName))\n",
    "cols += [\"Name\"]\n",
    "coldiscdf.columns = cols\n",
    "\n",
    "colrefdf = DataFrame(sColArtistRefToCnts)\n",
    "colrefdf.columns = [\"Counts\"]\n",
    "colrefdf.reset_index(inplace=True)\n",
    "colrefdf.columns = [\"Ref\", \"Counts\"]\n",
    "coldiscdf = coldiscdf.merge(colrefdf, on=\"Ref\")\n",
    "coldiscdf.index = DataFrame(sColArtistToRef).index\n",
    "\n",
    "coldiscdf = coldiscdf.merge(discdf, on=[\"Ref\", \"Name\"], how='left')\n",
    "coldiscdf.index = DataFrame(sColArtistToRef).index"
   ]
  },
  {
   "cell_type": "code",
   "execution_count": null,
   "metadata": {},
   "outputs": [],
   "source": []
  },
  {
   "cell_type": "code",
   "execution_count": null,
   "metadata": {},
   "outputs": [],
   "source": [
    "sColArtistToRef  = Series(colArtistIDtoRefs)\n",
    "sColArtistToName = Series(colArtistIDtoName)\n",
    "sColArtistRefToCnts = Series(colArtistReftoCnts)\n",
    "\n",
    "cols = [\"Ref\"]\n",
    "coldiscdf = DataFrame(sColArtistToRef)\n",
    "coldiscdf.columns = cols\n",
    "coldiscdf = coldiscdf.join(DataFrame(sColArtistToName))\n",
    "cols += [\"Name\"]\n",
    "coldiscdf.columns = cols\n",
    "\n",
    "colrefdf = DataFrame(sColArtistRefToCnts)\n",
    "colrefdf.columns = [\"Counts\"]\n",
    "colrefdf.reset_index(inplace=True)\n",
    "colrefdf.columns = [\"Ref\", \"Counts\"]\n",
    "coldiscdf = coldiscdf.merge(colrefdf, on=\"Ref\")\n",
    "coldiscdf.index = DataFrame(sColArtistToRef).index\n",
    "\n",
    "coldiscdf = coldiscdf.merge(discdf, on=[\"Ref\", \"Name\"], how='left')\n",
    "coldiscdf.index = DataFrame(sColArtistToRef).index"
   ]
  },
  {
   "cell_type": "code",
   "execution_count": null,
   "metadata": {},
   "outputs": [],
   "source": [
    "coldiscdf.to_pickle(\"ArtistDiscog.p\")"
   ]
  },
  {
   "cell_type": "code",
   "execution_count": null,
   "metadata": {},
   "outputs": [],
   "source": [
    "coldiscdf[coldiscdf[\"Name\"] == \"Dave Matthews\"]"
   ]
  },
  {
   "cell_type": "code",
   "execution_count": null,
   "metadata": {},
   "outputs": [],
   "source": []
  },
  {
   "cell_type": "code",
   "execution_count": null,
   "metadata": {},
   "outputs": [],
   "source": []
  },
  {
   "cell_type": "code",
   "execution_count": null,
   "metadata": {},
   "outputs": [],
   "source": [
    "colrefdf"
   ]
  },
  {
   "cell_type": "code",
   "execution_count": null,
   "metadata": {},
   "outputs": [],
   "source": [
    "coldiscdf.shape"
   ]
  },
  {
   "cell_type": "code",
   "execution_count": null,
   "metadata": {},
   "outputs": [],
   "source": [
    "coldiscdf.merge(colrefdf, on=\"Ref\", how=\"left\")"
   ]
  },
  {
   "cell_type": "code",
   "execution_count": null,
   "metadata": {},
   "outputs": [],
   "source": [
    "\n",
    "coldiscdf.merge(sColArtistRefToCnts, on=\"\")"
   ]
  },
  {
   "cell_type": "code",
   "execution_count": null,
   "metadata": {},
   "outputs": [],
   "source": [
    "discdf.shape"
   ]
  },
  {
   "cell_type": "code",
   "execution_count": null,
   "metadata": {},
   "outputs": [],
   "source": [
    "sArtistToAlbums     = Series(artistIDtoAlbumIDs)\n",
    "sArtistToAlbumNames = Series(artistIDtoAlbumNames)"
   ]
  },
  {
   "cell_type": "code",
   "execution_count": null,
   "metadata": {},
   "outputs": [],
   "source": [
    "s = Series([dict(zip(x, y)) for x,y in list(zip(sArtistToAlbums.values, sArtistToAlbumNames))], index=sArtistToAlbums.index)"
   ]
  },
  {
   "cell_type": "code",
   "execution_count": null,
   "metadata": {},
   "outputs": [],
   "source": [
    "s"
   ]
  },
  {
   "cell_type": "code",
   "execution_count": null,
   "metadata": {},
   "outputs": [],
   "source": [
    "fixes = {}\n",
    "iDir  = None\n",
    "debug = False\n",
    "for ifile,iPathData in jzpathdata.items():\n",
    "    iTagData = jztagdata[ifile]\n",
    "    \n",
    "    pathArtist = iPathData['pbArtist']\n",
    "    \n",
    "    maPathArtists     = ma.getArtistNames(pathArtist)\n",
    "    maTagArtists      = ma.getArtistNames(iTagData['Artist'])\n",
    "    maTagAlbumArtists = ma.getArtistNames(iTagData['AlbumArtist'])\n",
    "\n",
    "    if maTagArtists == maTagAlbumArtists:\n",
    "        if maTagAlbumArtists == maPathArtists:\n",
    "            continue\n",
    "            print(\"Looks good\")\n",
    "        else:\n",
    "            if debug:\n",
    "                print(\"\\nDifferent Artists:\")\n",
    "                print(\"\\tPath:  {0}\".format(maPathArtists.keys()))\n",
    "                print(\"\\tTag:   {0}\".format(maTagArtists.keys()))\n",
    "                print(\"\\tTagAA: {0}\".format(maTagAlbumArtists.keys()))\n",
    "            if iDir is None:\n",
    "                iDir = ifile.split(pathArtist)[0]                \n",
    "                fixes[iDir] = {}\n",
    "                print(\"  Adding {0}\".format(iDir))\n",
    "            if fixes[iDir].get(pathArtist) is None:\n",
    "                fixes[iDir][pathArtist] = {}\n",
    "                print(\"\\tAdding {0}\".format(pathArtist))\n",
    "            iData = ifile.split(pathArtist)[1][1:]\n",
    "            fixes[iDir][pathArtist][iData] = {\"Error\": \"Path\", \"Path\": maPathArtists, \"Artist\": maTagArtists, \"AlbumArtist\": maTagAlbumArtists}\n",
    "            print(\"\\t  Adding {0}\".format(iData))\n",
    "    else:\n",
    "        if debug:\n",
    "            print(\"\\nUnknown Artist to Discogs:\")\n",
    "            print(\"\\tPath:  {0}\".format(maPathArtists))\n",
    "            print(\"\\tTag:   {0}\".format(maTagArtists))\n",
    "            print(\"\\tTagAA: {0}\".format(maTagAlbumArtists))\n",
    "\n",
    "\n",
    "        if iDir is None:\n",
    "            iDir = ifile.split(pathArtist)[0]                \n",
    "            fixes[iDir] = {}\n",
    "            print(\"  Adding {0}\".format(iDir))\n",
    "        if fixes[iDir].get(pathArtist) is None:\n",
    "            fixes[iDir][pathArtist] = {}\n",
    "            print(\"\\tAdding {0}\".format(pathArtist))\n",
    "        iData = ifile.split(pathArtist)[1][1:]\n",
    "        fixes[iDir][pathArtist][iData] = {\"Error\": \"Tag\", \"Path\": maPathArtists, \"Artist\": maTagArtists, \"AlbumArtist\": maTagAlbumArtists}\n",
    "        print(\"\\t  Adding {0}\".format(iData))\n"
   ]
  },
  {
   "cell_type": "code",
   "execution_count": null,
   "metadata": {},
   "outputs": [],
   "source": [
    "saveFile(idata=fixes, ifile=\"fixes.yaml\")"
   ]
  },
  {
   "cell_type": "code",
   "execution_count": null,
   "metadata": {},
   "outputs": [],
   "source": []
  },
  {
   "cell_type": "code",
   "execution_count": null,
   "metadata": {},
   "outputs": [],
   "source": [
    "disc = discogs()\n",
    "bsdata = searchDiscogs(\"Duke Ellington with the Ron Collier Orchestra Collages\", requireUS=True, release=True)"
   ]
  },
  {
   "cell_type": "code",
   "execution_count": null,
   "metadata": {},
   "outputs": [],
   "source": [
    "from webUtils import getHTML\n",
    "from artist import artist\n",
    "#bsdata = getHTML(bsdata)"
   ]
  },
  {
   "cell_type": "code",
   "execution_count": null,
   "metadata": {},
   "outputs": [],
   "source": [
    "\n",
    "h4s = bsdata.findAll(\"h4\")\n",
    "h5s = bsdata.findAll(\"h5\")\n",
    "\n",
    "\n",
    "\n",
    "for ih4,h4 in enumerate(h4s):\n",
    "    print(h4)\n",
    "    spans = h4.findAll(\"span\")\n",
    "    ref   = None\n",
    "    if len(spans) == 0:\n",
    "        ref = h4.find(\"a\")\n",
    "    else:\n",
    "        ref = spans[0].find(\"a\")\n",
    "\n",
    "    if ref is None:\n",
    "        continue\n",
    "\n",
    "    try:\n",
    "        href   = ref.attrs.get('href')\n",
    "        name   = ref.text.strip()\n",
    "    except:\n",
    "        print(\"Could not get name/href from {0}\".format(ref))\n",
    "        continue\n"
   ]
  },
  {
   "cell_type": "code",
   "execution_count": null,
   "metadata": {},
   "outputs": [],
   "source": [
    "\n",
    "ah5s"
   ]
  },
  {
   "cell_type": "code",
   "execution_count": null,
   "metadata": {},
   "outputs": [],
   "source": [
    "artistData"
   ]
  },
  {
   "cell_type": "code",
   "execution_count": null,
   "metadata": {},
   "outputs": [],
   "source": [
    "albumData  = [x for x in h4s if len(x.findAll('a')) > 0]\n",
    "albumData  = [x.findAll('a') for x in albumData if not x.find('a').attrs['href'].startswith(\"/sell/\")]\n",
    "\n",
    "artistData = [x.findAll(\"a\") for x in h5s if len(x.findAll('span')) > 0]\n",
    "#artistData = [x.findAll(\"a\") for x in artistData]"
   ]
  },
  {
   "cell_type": "code",
   "execution_count": null,
   "metadata": {},
   "outputs": [],
   "source": [
    "                    baseURL = disc.discogURL\n",
    "                    url = urllib.parse.urljoin(baseURL, href)\n",
    "                    self.downloadAlbumURL(url, savename)\n",
    "                "
   ]
  },
  {
   "cell_type": "code",
   "execution_count": null,
   "metadata": {},
   "outputs": [],
   "source": [
    "def getRefName(ref):\n",
    "    try:\n",
    "        href   = ref.attrs.get('href')\n",
    "        name   = ref.text.strip()\n",
    "    except:\n",
    "        href   = None\n",
    "        name   = None\n",
    "        \n",
    "    return href,name"
   ]
  },
  {
   "cell_type": "code",
   "execution_count": null,
   "metadata": {},
   "outputs": [],
   "source": [
    "artistData"
   ]
  },
  {
   "cell_type": "code",
   "execution_count": null,
   "metadata": {},
   "outputs": [],
   "source": [
    "alb = album()"
   ]
  },
  {
   "cell_type": "code",
   "execution_count": null,
   "metadata": {},
   "outputs": [],
   "source": [
    "baseURL = disc.discogURL\n",
    "\n",
    "for (albums,artists) in zip(albumData,artistData):\n",
    "    for album in albums:\n",
    "        albumRef,albumName = getRefName(album)\n",
    "        print(albumRef,'\\t',albumName)\n",
    "        try:\n",
    "            albumID  = str(int(albumRef.split(\"/\")[-1]))\n",
    "        except:\n",
    "            print(\"Could not get album ID from {0}\".format(albumRef))\n",
    "            albumID  = None\n",
    "            \n",
    "        print(albumID)\n",
    "        url = urllib.parse.urljoin(baseURL, albumRef)\n",
    "                \n",
    "                \n",
    "    for artist in artists:\n",
    "        artistRef,artistName = getRefName(artist)        \n",
    "        print(artistRef,'\\t',artistName)\n",
    "        \n",
    "    "
   ]
  },
  {
   "cell_type": "code",
   "execution_count": null,
   "metadata": {},
   "outputs": [],
   "source": [
    "album"
   ]
  },
  {
   "cell_type": "code",
   "execution_count": null,
   "metadata": {},
   "outputs": [],
   "source": []
  },
  {
   "cell_type": "code",
   "execution_count": null,
   "metadata": {},
   "outputs": [],
   "source": [
    "from searchUtils import findDirsPattern, findWalkExt\n",
    "from fileUtils import getBaseFilename, getFileBasics\n",
    "from ioUtils import saveFile, getFile\n",
    "from timeUtils import clock, elapsed\n",
    "from musicPath import pathBasics\n",
    "\n",
    "\n",
    "##############################################################################################################################\n",
    "# My Music\n",
    "##############################################################################################################################\n",
    "class musicFileAnalyzer(musicBase):\n",
    "    def __init__(self, debug=False):\n",
    "        self.name = \"myfileanalyzer\"\n",
    "        musicBase.__init__(self, debug=debug)\n",
    "        \n",
    "        self.pb      = pathBasics()\n",
    "        self.pathDBs = self.getMusicPathDBs()\n",
    "        self.tagDBs  = self.getMusicTagDBs()"
   ]
  },
  {
   "cell_type": "code",
   "execution_count": null,
   "metadata": {},
   "outputs": [],
   "source": [
    "mfa = musicFileAnalyzer()"
   ]
  },
  {
   "cell_type": "code",
   "execution_count": null,
   "metadata": {},
   "outputs": [],
   "source": [
    "from fileUtils import getDirname\n",
    "from collections import Counter\n",
    "\n",
    "artistPathData = {}\n",
    "albumPathData  = {}\n",
    "\n",
    "for cls in ma.getMusicClasses():\n",
    "    pathData = ma.getMusicPathDB(cls)\n",
    "    tagData  = ma.getMusicTagDB(cls)\n",
    "    \n",
    "    start, cmt = clock(\"  Checking {0} mp3s\".format(len(pathData)))\n",
    "    for mp3,pb in pathData.items():\n",
    "        \n",
    "        artist = pb[\"pbArtist\"]\n",
    "        if artist is not None:\n",
    "            if artistPathData.get(artist) is None:\n",
    "                artistPathData[artist] = {}\n",
    "        else:\n",
    "            if artistPathData.get(artist) is None:\n",
    "                artistPathData[artist] = {}\n",
    "\n",
    "            \n",
    "        album = pb[\"pbAlbum\"]\n",
    "        if album is not None:\n",
    "            if artistPathData[artist].get(album) is None:\n",
    "                artistPathData[artist][album] = {}\n",
    "        else:\n",
    "            if artistPathData[artist].get(album) is None:\n",
    "                artistPathData[artist][album] = {}\n",
    "\n",
    "            \n",
    "        cls = pb[\"pbClass\"]\n",
    "        if album is not None:\n",
    "            if artistPathData[artist][album].get(cls) is None:\n",
    "                artistPathData[artist][album][cls] = {}\n",
    "        else:\n",
    "            if artistPathData[artist][album].get(cls) is None:\n",
    "                artistPathData[artist][album][cls] = {}\n",
    "\n",
    "                \n",
    "        dirval = getDirname(mp3)\n",
    "        \n",
    "        if artistPathData[artist][album][cls].get(dirval) is None:\n",
    "            artistPathData[artist][album][cls][dirval] = []\n",
    "        artistPathData[artist][album][cls][dirval].append([pb, tagData[mp3]])\n",
    "    elapsed(start, cmt)\n",
    "    print(\"\")\n",
    "    \n",
    "    \n",
    "savename = setFile(ma.getDBDir(), \"ArtistAlbumTagData.p\")\n",
    "saveFile(ifile=savename, idata=artistPathData, debug=True)\n"
   ]
  },
  {
   "cell_type": "code",
   "execution_count": null,
   "metadata": {},
   "outputs": [],
   "source": [
    "savename = setFile(ma.getDBDir(), \"ArtistAlbumTagData.p\")\n",
    "artistPathData = getFile(savename)"
   ]
  },
  {
   "cell_type": "code",
   "execution_count": null,
   "metadata": {},
   "outputs": [],
   "source": [
    "nArt = 0\n",
    "for artist,artistData in artistPathData.items():\n",
    "    nArt += 1\n",
    "    if nArt == 10:\n",
    "        break\n",
    "    for album,albumData in artistData.items():\n",
    "        for cls,clsData in albumData.items():\n",
    "            for dirval,dirvalData in clsData.items():\n",
    "                \n",
    "                dval = dirval.replace(ma.getMusicDir(), \"\")\n",
    "                \n",
    "                nFiles = len(dirvalData)\n",
    "                partist = artist\n",
    "                if len(artist) >= 40:\n",
    "                    partist = \"{0}...\".format(artist[:36])\n",
    "                palbum = album\n",
    "                if len(album) >= 40:\n",
    "                    palbum = \"{0}...\".format(album[:36])\n",
    "\n",
    "                print(\"{0: <40}{1: <40}{2: <20}{3: <5}{4}\".format(partist,palbum,cls,nFiles,dirval))"
   ]
  },
  {
   "cell_type": "code",
   "execution_count": null,
   "metadata": {},
   "outputs": [],
   "source": [
    "artistPathData"
   ]
  },
  {
   "cell_type": "code",
   "execution_count": null,
   "metadata": {},
   "outputs": [],
   "source": [
    "for ifile in ma.flists:\n",
    "    tagfile  = ifile.replace(\".p\", \"-Tags.p\")\n",
    "    pathfile = ifile.replace(\".p\", \"-Paths.p\")\n",
    "\n",
    "    fileData = getFile(ifile)\n",
    "    tagData  = getFile(tagfile)\n",
    "    pathData = getFile(pathfile)"
   ]
  },
  {
   "cell_type": "code",
   "execution_count": null,
   "metadata": {},
   "outputs": [],
   "source": [
    "from searchUtils import findExt\n",
    "files = findExt(basedir=ma.getDBDir(), ext=\"*.p\")\n",
    "files = [x for x in files if sum([y in x for y in [\"Tags.p\", \"Paths.p\"]]) == 0]\n",
    "files"
   ]
  },
  {
   "cell_type": "code",
   "execution_count": null,
   "metadata": {},
   "outputs": [],
   "source": []
  },
  {
   "cell_type": "code",
   "execution_count": null,
   "metadata": {},
   "outputs": [],
   "source": [
    "import os, sys\n",
    "def splitall(path):\n",
    "    allparts = []\n",
    "    while 1:\n",
    "        parts = os.path.split(path)\n",
    "        if parts[0] == path:  # sentinel for absolute paths\n",
    "            allparts.insert(0, parts[0])\n",
    "            break\n",
    "        elif parts[1] == path: # sentinel for relative paths\n",
    "            allparts.insert(0, parts[1])\n",
    "            break\n",
    "        else:\n",
    "            path = parts[0]\n",
    "            allparts.insert(0, parts[1])\n",
    "    return allparts"
   ]
  },
  {
   "cell_type": "code",
   "execution_count": null,
   "metadata": {},
   "outputs": [],
   "source": [
    "os.path.split(\"24 Shots/01 Intro (Power Of The Dollar)/dfd\")"
   ]
  },
  {
   "cell_type": "code",
   "execution_count": null,
   "metadata": {},
   "outputs": [],
   "source": [
    "idir"
   ]
  },
  {
   "cell_type": "code",
   "execution_count": null,
   "metadata": {},
   "outputs": [],
   "source": [
    "files[-2]"
   ]
  },
  {
   "cell_type": "code",
   "execution_count": null,
   "metadata": {},
   "outputs": [],
   "source": []
  },
  {
   "cell_type": "code",
   "execution_count": null,
   "metadata": {},
   "outputs": [],
   "source": [
    "ifile"
   ]
  },
  {
   "cell_type": "code",
   "execution_count": null,
   "metadata": {},
   "outputs": [],
   "source": []
  },
  {
   "cell_type": "code",
   "execution_count": null,
   "metadata": {},
   "outputs": [],
   "source": [
    "filename"
   ]
  },
  {
   "cell_type": "code",
   "execution_count": null,
   "metadata": {},
   "outputs": [],
   "source": [
    "dirval"
   ]
  },
  {
   "cell_type": "code",
   "execution_count": null,
   "metadata": {},
   "outputs": [],
   "source": []
  },
  {
   "cell_type": "code",
   "execution_count": null,
   "metadata": {},
   "outputs": [],
   "source": [
    "artist"
   ]
  },
  {
   "cell_type": "code",
   "execution_count": null,
   "metadata": {},
   "outputs": [],
   "source": []
  },
  {
   "cell_type": "code",
   "execution_count": null,
   "metadata": {},
   "outputs": [],
   "source": []
  },
  {
   "cell_type": "code",
   "execution_count": null,
   "metadata": {},
   "outputs": [],
   "source": []
  },
  {
   "cell_type": "code",
   "execution_count": null,
   "metadata": {},
   "outputs": [],
   "source": []
  },
  {
   "cell_type": "code",
   "execution_count": null,
   "metadata": {},
   "outputs": [],
   "source": [
    "%load_ext autoreload\n",
    "%autoreload\n",
    "disc = discogs()"
   ]
  },
  {
   "cell_type": "code",
   "execution_count": null,
   "metadata": {},
   "outputs": [],
   "source": [
    "import argparse as ap\n",
    "from os import getcwd\n",
    "from mp3id import mp3ID\n",
    "mid = mp3ID(ifile)\n",
    "minfo = mid.getInfo()\n",
    "from glob import glob\n",
    "from fsUtils import isFile\n",
    "from fileUtils import getExt\n",
    "from searchUtils import findWalkExt, findWalkPattern\n",
    "from os import listdir, walk\n",
    "\n",
    "class mp3Tagger:\n",
    "    def __init__(self, disc=None):\n",
    "        self.name = \"mp3tagger\"\n",
    "        self.cwd  = getcwd()\n",
    "        \n",
    "        self.infos = {}\n",
    "        self.ma       = multiArtist(cutoff=0.9, discdata=None, exact=False)\n",
    "\n",
    "        \n",
    "        if disc is not None:\n",
    "            self.setDiscogs(disc)\n",
    "        \n",
    "        self.exts = mp3ID().mp3exts\n",
    "        \n",
    "\n",
    "    def setDiscogs(self, disc):\n",
    "        artistDB = disc.getArtistVariationNameToIDsData()\n",
    "        self.setArtistsDB(artistDB=artistDB)\n",
    "        \n",
    "    def setArtistsDB(self, artistDB, cutoff=0.9):\n",
    "        self.ma       = multiArtist(cutoff=0.9, discdata=artistDB, exact=False)\n",
    "        \n",
    "        \n",
    "    def getFiles(self, dirval):\n",
    "        self.infos = {}\n",
    "        files = findWalkPattern(basedir=dirval, pattern=\".\")\n",
    "        files = [x for x in files if getExt(x) in self.exts]\n",
    "        for i,ifile in enumerate(files):\n",
    "            if self.infos.get(ifile) is None:\n",
    "                mid = mp3ID(ifile)\n",
    "                minfo = mid.getInfo()\n",
    "                self.infos[ifile] = minfo\n",
    "                \n",
    "        \n",
    "    def get(self):\n",
    "        return self.infos\n",
    "        \n",
    "    def getInfo(self, dirval=None):\n",
    "        if dirval is not None:\n",
    "            self.getFiles(dirval)\n",
    "            \n",
    "        print(\"{0: <3}{1: <4}{2: <4}{3: <50}{4: <50}{5: <40}{6: <40}\".format(\"#\", \"Trk\", \"Dsc\", \"Title\", \"Album\", \"Artist\", \"Album Artist\"))\n",
    "\n",
    "        i = 0\n",
    "        for ifile,minfo in self.infos.items():\n",
    "            print(\"{0: <3}\".format(i+1), end=\"\")\n",
    "\n",
    "            trkno = minfo.get('TrackNo')\n",
    "            if trkno is None:\n",
    "                trkno = -1\n",
    "            elif isinstance(trkno, list):\n",
    "                if len(trkno) == 1:\n",
    "                    trkno = trkno[0]\n",
    "                else:\n",
    "                    trkno = str(trkno)\n",
    "            print(\"{0: <4}\".format(trkno), end=\"\")\n",
    "\n",
    "            discno = minfo.get('DiscNo')\n",
    "            if discno is None:\n",
    "                discno = -1\n",
    "            elif isinstance(discno, list):\n",
    "                if len(discno) == 1:\n",
    "                    discno = discno[0]\n",
    "                else:\n",
    "                    discno = str(discno)                \n",
    "            print(\"{0: <4}\".format(discno), end=\"\")\n",
    "\n",
    "            title = minfo.get('Title')\n",
    "            if title is None:\n",
    "                title = \"?\"\n",
    "            elif isinstance(title, list):\n",
    "                if len(title) == 1:\n",
    "                    title = title[0]\n",
    "                else:\n",
    "                    title = str(title)\n",
    "            print(\"{0: <50}\".format(title), end=\"\")\n",
    "\n",
    "            album = minfo.get('Album')\n",
    "            if album is None:\n",
    "                album = \"?\"\n",
    "            elif isinstance(album, list):\n",
    "                if len(album) == 1:\n",
    "                    album = album[0]\n",
    "                else:\n",
    "                    album = str(album)\n",
    "            print(\"{0: <50}\".format(album), end=\"\")\n",
    "\n",
    "            artist = minfo.get('Artist')\n",
    "            if artist is None:\n",
    "                artist = \"?\"\n",
    "            elif isinstance(artist, list):\n",
    "                if len(artist) == 1:\n",
    "                    artist = artist[0]\n",
    "                else:\n",
    "                    artist = str(artist)\n",
    "            print(\"{0: <40}\".format(artist), end=\"\")\n",
    "\n",
    "            albartist = minfo.get('AlbumArtist')\n",
    "            if albartist is None:\n",
    "                albartist = \"?\"\n",
    "            elif isinstance(albartist, list):\n",
    "                if len(albartist) == 1:\n",
    "                    albartist = albartist[0]\n",
    "                else:\n",
    "                    albartist = str(albartist)\n",
    "            print(\"{0: <40}\".format(albartist), end=\"\")\n",
    "            print(\"\")\n",
    "            \n",
    "            i += 1\n",
    "            \n",
    "    \n",
    "\n",
    "    def getAlbumArtists(self):\n",
    "        return [x.get(\"AlbumArtist\") for ifile,x in self.infos.items()]"
   ]
  },
  {
   "cell_type": "code",
   "execution_count": null,
   "metadata": {},
   "outputs": [],
   "source": [
    "mt = mp3Tagger(disc=disc)"
   ]
  },
  {
   "cell_type": "code",
   "execution_count": null,
   "metadata": {},
   "outputs": [],
   "source": [
    "mt.getInfo(dirval=\"/Volumes/Music/iTunes Jazz/iTunes Media/Music/Miles Davis & Quincy Jones\")"
   ]
  },
  {
   "cell_type": "code",
   "execution_count": null,
   "metadata": {},
   "outputs": [],
   "source": [
    "from ioUtils import saveFile\n",
    "retvals = {}\n",
    "for ifile,minfo in mt.get().items():\n",
    "    retvals[ifile] = {}\n",
    "\n",
    "    for key in [\"Artist\", \"AlbumArtist\"]:\n",
    "        val = minfo.get(key)\n",
    "        if isinstance(val, list):\n",
    "            if len(val) == 1:\n",
    "                retval = mt.ma.getArtistNames(val[0])\n",
    "                if len(retval) > 1:\n",
    "                    artistNames = [k for k,v in retval.items() if v is not None]\n",
    "                    retvals[ifile][key] = artistNames\n",
    "                    \n",
    "saveFile(idata=retvals, ifile=\"tmp.yaml\")"
   ]
  },
  {
   "cell_type": "code",
   "execution_count": null,
   "metadata": {},
   "outputs": [],
   "source": [
    "retvals"
   ]
  },
  {
   "cell_type": "code",
   "execution_count": null,
   "metadata": {},
   "outputs": [],
   "source": [
    "tmp=[['Miles Davis & Quincy Jones'],\n",
    " ['Miles Davis & Quincy Jones'],\n",
    " ['Miles Davis & Quincy Jones'],\n",
    " ['Miles Davis & Quincy Jones'],\n",
    " ['Miles Davis & Quincy Jones'],\n",
    " ['Miles Davis & Quincy Jones'],\n",
    " ['Miles Davis & Quincy Jones'],\n",
    " ['Miles Davis & Quincy Jones'],\n",
    " ['Miles Davis & Quincy Jones'],\n",
    " ['Miles Davis & Quincy Jones'],\n",
    " ['Miles Davis & Quincy Jones'],\n",
    " ['Miles Davis & Quincy Jones'],\n",
    " ['Miles Davis & Quincy Jones'],\n",
    " ['Miles Davis & Quincy Jones'],\n",
    " ['Miles Davis & Quincy Jones'],\n",
    " ['Miles Davis & Quincy Jones']]"
   ]
  },
  {
   "cell_type": "code",
   "execution_count": null,
   "metadata": {},
   "outputs": [],
   "source": []
  },
  {
   "cell_type": "code",
   "execution_count": null,
   "metadata": {},
   "outputs": [],
   "source": [
    "m.getDBDir"
   ]
  },
  {
   "cell_type": "code",
   "execution_count": null,
   "metadata": {},
   "outputs": [],
   "source": []
  },
  {
   "cell_type": "code",
   "execution_count": null,
   "metadata": {},
   "outputs": [],
   "source": [
    "idir=\"/Volumes/Music/iTunes Jazz/iTunes Media/Music/Miles Davis & Quincy Jones\n",
    "\n",
    "\n",
    "from random import shuffle\n",
    "print(\"There are {0} chart artists\".format(len(chartArtists)))\n",
    "shuffle(chartArtists)\n",
    "for i,artist in enumerate(chartArtists):\n",
    "    if prevs.get(artist) is not None:\n",
    "        continue\n",
    "    retval = ma.getArtistNames(artist)"
   ]
  }
 ],
 "metadata": {
  "kernelspec": {
   "display_name": "Python 3",
   "language": "python",
   "name": "python3"
  },
  "language_info": {
   "codemirror_mode": {
    "name": "ipython",
    "version": 3
   },
   "file_extension": ".py",
   "mimetype": "text/x-python",
   "name": "python",
   "nbconvert_exporter": "python",
   "pygments_lexer": "ipython3",
   "version": "3.7.3"
  }
 },
 "nbformat": 4,
 "nbformat_minor": 2
}
