{
 "cells": [
  {
   "cell_type": "code",
   "execution_count": 1,
   "metadata": {},
   "outputs": [
    {
     "data": {
      "text/html": [
       "<style>.container { width:100% !important; }</style>"
      ],
      "text/plain": [
       "<IPython.core.display.HTML object>"
      ]
     },
     "metadata": {},
     "output_type": "display_data"
    },
    {
     "data": {
      "text/html": [
       "<style>div.output_area{max-height:10000px;overflow:scroll;}</style>"
      ],
      "text/plain": [
       "<IPython.core.display.HTML object>"
      ]
     },
     "metadata": {},
     "output_type": "display_data"
    },
    {
     "name": "stdout",
     "output_type": "stream",
     "text": [
      "Python: 3.7.3 (default, Mar 27 2019, 16:54:48) \n",
      "[Clang 4.0.1 (tags/RELEASE_401/final)]\n",
      "Notebook Last Run Initiated: 2020-01-02 11:58:13.901765\n"
     ]
    }
   ],
   "source": [
    "## Basic stuff\n",
    "%load_ext autoreload\n",
    "%autoreload\n",
    "from IPython.core.display import display, HTML\n",
    "display(HTML(\"<style>.container { width:100% !important; }</style>\"))\n",
    "display(HTML(\"\"\"<style>div.output_area{max-height:10000px;overflow:scroll;}</style>\"\"\"))\n",
    "\n",
    "from mp3id import mp3ID\n",
    "from musicBase import musicBase\n",
    "from musicFinder import musicFinder\n",
    "from musicPath import pathBasics\n",
    "from timeUtils import clock, elapsed\n",
    "from discogsBase import discogs\n",
    "from multiArtist import multiArtist\n",
    "from time import sleep\n",
    "from pandas import DataFrame, Series\n",
    "from discogsBase import discogs\n",
    "from ioUtils import getFile\n",
    "from searchUtils import findDirs\n",
    "from fileUtils import getDirBasics\n",
    "from unicodedata import normalize\n",
    "from fsUtils import moveDir, setDir\n",
    "from masterdb import getArtistAlbumsDB, discConv\n",
    "## Python Version\n",
    "import sys\n",
    "print(\"Python: {0}\".format(sys.version))\n",
    "\n",
    "import datetime as dt\n",
    "start = dt.datetime.now()\n",
    "print(\"Notebook Last Run Initiated: \"+str(start))"
   ]
  },
  {
   "cell_type": "code",
   "execution_count": 2,
   "metadata": {},
   "outputs": [
    {
     "name": "stdout",
     "output_type": "stream",
     "text": [
      "Saved Discog Directory /Volumes/Music/Discog is Available\n",
      "Local Discog Directory /Users/tgadfort/Music/Discog is Available\n",
      "/Volumes/Music/Discog/collections exists\n",
      "/Volumes/Music/Discog/artists exists\n",
      "/Volumes/Music/Discog/albums exists\n",
      "/Volumes/Music/Discog/collections-db exists\n",
      "/Volumes/Music/Discog/artists-db exists\n",
      "/Volumes/Music/Discog/albums-db exists\n",
      "/Volumes/Music/Discog/artists-db/metadata exists\n",
      "/Volumes/Music/Discog/albums-db/metadata exists\n",
      "/Volumes/Music/Discog/diagnostic exists\n",
      "/Volumes/Music/Discog/db exists\n"
     ]
    }
   ],
   "source": [
    "disc = discogs()"
   ]
  },
  {
   "cell_type": "code",
   "execution_count": 19,
   "metadata": {},
   "outputs": [
    {
     "name": "stdout",
     "output_type": "stream",
     "text": [
      "Getting Master Artist DB File\n",
      "/Volumes/Music/Discog/db/MasterSlimArtistDB.p\n",
      "636524\n"
     ]
    },
    {
     "data": {
      "text/html": [
       "<div>\n",
       "<style scoped>\n",
       "    .dataframe tbody tr th:only-of-type {\n",
       "        vertical-align: middle;\n",
       "    }\n",
       "\n",
       "    .dataframe tbody tr th {\n",
       "        vertical-align: top;\n",
       "    }\n",
       "\n",
       "    .dataframe thead th {\n",
       "        text-align: right;\n",
       "    }\n",
       "</style>\n",
       "<table border=\"1\" class=\"dataframe\">\n",
       "  <thead>\n",
       "    <tr style=\"text-align: right;\">\n",
       "      <th></th>\n",
       "      <th>Name</th>\n",
       "      <th>Artist</th>\n",
       "      <th>Num</th>\n",
       "      <th>DiscArtist</th>\n",
       "    </tr>\n",
       "  </thead>\n",
       "  <tbody>\n",
       "    <tr>\n",
       "      <th>1000</th>\n",
       "      <td>Dave Clarke</td>\n",
       "      <td>Dave Clarke</td>\n",
       "      <td>NaN</td>\n",
       "      <td>Dave Clarke</td>\n",
       "    </tr>\n",
       "    <tr>\n",
       "      <th>1000500</th>\n",
       "      <td>Club Pulse</td>\n",
       "      <td>Club Pulse</td>\n",
       "      <td>NaN</td>\n",
       "      <td>Club Pulse</td>\n",
       "    </tr>\n",
       "    <tr>\n",
       "      <th>100200</th>\n",
       "      <td>Dike</td>\n",
       "      <td>Dike</td>\n",
       "      <td>NaN</td>\n",
       "      <td>Dike</td>\n",
       "    </tr>\n",
       "    <tr>\n",
       "      <th>1002000</th>\n",
       "      <td>Larry Stokes</td>\n",
       "      <td>Larry Stokes</td>\n",
       "      <td>NaN</td>\n",
       "      <td>Larry Stokes</td>\n",
       "    </tr>\n",
       "    <tr>\n",
       "      <th>1002600</th>\n",
       "      <td>Gidd Sanchez</td>\n",
       "      <td>Gidd Sanchez</td>\n",
       "      <td>NaN</td>\n",
       "      <td>Gidd Sanchez</td>\n",
       "    </tr>\n",
       "  </tbody>\n",
       "</table>\n",
       "</div>"
      ],
      "text/plain": [
       "                 Name        Artist  Num    DiscArtist\n",
       "1000      Dave Clarke   Dave Clarke  NaN   Dave Clarke\n",
       "1000500    Club Pulse    Club Pulse  NaN    Club Pulse\n",
       "100200           Dike          Dike  NaN          Dike\n",
       "1002000  Larry Stokes  Larry Stokes  NaN  Larry Stokes\n",
       "1002600  Gidd Sanchez  Gidd Sanchez  NaN  Gidd Sanchez"
      ]
     },
     "execution_count": 19,
     "metadata": {},
     "output_type": "execute_result"
    }
   ],
   "source": [
    "print(\"Getting Master Artist DB File\")\n",
    "saveFilename = disc.getMasterSlimArtistDiscogsDBFilename()\n",
    "print(saveFilename)\n",
    "discdf = getFile(ifile=saveFilename, debug=False)\n",
    "artists = list(discdf[\"Artist\"])\n",
    "print(len(artists))\n",
    "discdf.head()\n",
    "# 589630\n",
    "# 610522\n",
    "# 636524"
   ]
  },
  {
   "cell_type": "code",
   "execution_count": 4,
   "metadata": {},
   "outputs": [
    {
     "name": "stdout",
     "output_type": "stream",
     "text": [
      "Current Time is Thu Jan 02, 2020 11:58:17 for \n",
      "=================================== Creating Artist Albums DB ===================================\n",
      "Loading ArtistID Data\n",
      "Loading data from /Volumes/Music/Discog/db/ArtistIDToAlbumNames.p\n",
      "  --> This file is 174.0MB.\n",
      "Loading /Volumes/Music/Discog/db/ArtistIDToAlbumNames.p\n",
      "Creating Pandas DataFrame for 636524 Artists\n",
      "\tShape --> (636524, 1)\n",
      "DataFrame Shape is (636524, 1)\n",
      "Current Time is Thu Jan 02, 2020 12:00:24 for Done with \n",
      "=================================== Creating Artist Albums DB ===================================\n",
      "Process [{0}] took 2.1 minutes.\n"
     ]
    }
   ],
   "source": [
    "artistAlbumsDB = getArtistAlbumsDB(disc)"
   ]
  },
  {
   "cell_type": "code",
   "execution_count": 13,
   "metadata": {},
   "outputs": [],
   "source": [
    "def getMusicData(key, artist):\n",
    "    retval = discdf[discdf[key] == artist]\n",
    "    if retval.shape[0] > 0:\n",
    "        return retval\n",
    "    else:\n",
    "        return None\n",
    "    \n",
    "from difflib import SequenceMatcher\n",
    "\n",
    "def getRowByIndex(pdf, idx):\n",
    "    return pdf.loc[idx]"
   ]
  },
  {
   "cell_type": "code",
   "execution_count": 6,
   "metadata": {},
   "outputs": [
    {
     "name": "stdout",
     "output_type": "stream",
     "text": [
      "Found 610522 ID -> Name entries\n",
      "Found 565225 Name -> ID entries\n"
     ]
    }
   ],
   "source": [
    "artistIDToName = discdf[\"DiscArtist\"].to_dict()\n",
    "artistNameToID = {}\n",
    "print(\"Found {0} ID -> Name entries\".format(len(artistIDToName)))\n",
    "for artistID,artistName in artistIDToName.items():\n",
    "    if artistNameToID.get(artistName) is None:\n",
    "        artistNameToID[artistName] = []\n",
    "    artistNameToID[artistName].append(artistID)\n",
    "print(\"Found {0} Name -> ID entries\".format(len(artistNameToID)))"
   ]
  },
  {
   "cell_type": "code",
   "execution_count": 7,
   "metadata": {},
   "outputs": [],
   "source": [
    "#artistDB = disc.getArtistIDToNameData()\n",
    "#artistNameToID = {v: k for k,v in artistDB.items()}\n",
    "mulArts  = multiArtist(cutoff=0.9, discdata=artistNameToID, exact=False)"
   ]
  },
  {
   "cell_type": "code",
   "execution_count": 8,
   "metadata": {},
   "outputs": [
    {
     "name": "stdout",
     "output_type": "stream",
     "text": [
      "Found 4613 music <-> discogs maps\n"
     ]
    }
   ],
   "source": [
    "try:\n",
    "    myMusicNameIDMap = getFile(\"musicDiscogsMap.p\")\n",
    "    print(\"Found {0} music <-> discogs maps\".format(len(myMusicNameIDMap)))\n",
    "except:\n",
    "    myMusicNameIDMap = {}\n",
    "    print(\"Could not load music <-> discogs map\")"
   ]
  },
  {
   "cell_type": "code",
   "execution_count": 9,
   "metadata": {},
   "outputs": [
    {
     "name": "stdout",
     "output_type": "stream",
     "text": [
      "Found 4613 music <-> discogs maps\n"
     ]
    }
   ],
   "source": [
    "manualMatches = {\"Waterwheel\": \"Waterwheel\",\n",
    " \"Wally\": \"Wally (12)\",\n",
    " \"The Violents\": \"The Violents\",\n",
    " \"The Pressure\": \"The Pressure (9)\",\n",
    " \"The Pits\": \"The Pits (3)\",\n",
    " \"The Marquees\": \"The Marquees\",\n",
    " \"The Crash\": \"The Crash (5)\",\n",
    " \"Traffic\": \"Traffic\",\n",
    " \"Tim Reynolds\": \"Tim Reynolds\",\n",
    " \"Tech-9\": \"Tech-9 (2)\",\n",
    " \"Taco\": \"Taco\",\n",
    " \"Sunchild\": \"Sunchild (4)\",\n",
    " \"Stackabones\": \"Stackabones\",\n",
    " \"Silencer\": \"Silencer (8)\",\n",
    " \"Selena\": \"Selena\",\n",
    " \"Scarecrow\": \"Scarecrow (22)\",\n",
    " \"Beyond\": \"Beyond (13)\",\n",
    " \"Chris Lee\": \"Chris Lee (18)\",\n",
    "                 \"Chuck\": \"Chuck (23)\"}\n",
    "\n",
    "newManual = {}\n",
    "newManual[\"Dave Evans\"] = \"Dave Evans (14)\"\n",
    "newManual[\"David Cook\"] = \"David Cook (2)\"\n",
    "newManual[\"David Rice\"] = \"David Rice (4)\"\n",
    "newManual[\"Dead Ringers\"] = \"Dead Ringers (3)\"\n",
    "newManual[\"Dies Irae\"] = \"Dies Irae (4)\"\n",
    "newManual[\"Dune\"] = \"Dune (3)\"\n",
    "newManual[\"Julie Andrews\"] = \"Julie Andrews\"\n",
    "newManual[\"Julie Andrews\"] = \"Julie Andrews\"\n",
    "newManual[\"Nero\"] = \"Nero (7)\"\n",
    "newManual[\"Nancy Moore\"] = \"Nancy Moore\"\n",
    "newManual[\"Orwell\"] = \"Orwell\"\n",
    "newManual[\"Outcry\"] = \"Outcry (12)\"\n",
    "newManual[\"Passengers\"] = \"Passengers\"\n",
    "newManual[\"Paul Brewster\"] = \"Paul Brewster (3)\"\n",
    "\n",
    "newManual[\"Bob Gibson\"] = \"Bob Gibson\"\n",
    "newManual[\"Chaser\"] = \"Chaser (19)\"\n",
    "newManual[\"Eightball\"] = \"Eightball (6)\"\n",
    "newManual[\"Endless\"] = \"Endless (6)\"\n",
    "newManual[\"Endless Struggle\"] = \"Endless Struggle\"\n",
    "newManual[\"Eventide\"] = \"Eventide (5)\"\n",
    "newManual[\"Fall Of Because\"] = \"Fall Of Because\"\n",
    "newManual[\"Fetish\"] = \"Fetish (5)\"\n",
    "newManual[\"The Forgotten\"] = \"The Forgotten\"\n",
    "newManual[\"Four Jacks\"] = \"Four Jacks\"\n",
    "newManual[\"Funkmaster Flex\"] = \"Funkmaster Flex\"\n",
    "newManual[\"Gladys\"] = \"Gladys (14)\"\n",
    "newManual[\"Glenn Hughes\"] = \"Glenn Hughes\"\n",
    "newManual[\"Greenhouse\"] = \"Greenhouse (2)\"\n",
    "newManual[\"Grimace\"] = \"Grimace (18)\"\n",
    "newManual[\"Groundzero\"] = \"Groundzero (3)\"\n",
    "newManual[\"HALO\"] = \"HALO (5)\"\n",
    "newManual[\"The Haters\"] = \"The Haters\"\n",
    "newManual[\"Haters\"] = \"The Haters\"\n",
    "newManual[\"Heritage\"] = \"Heritage (29)\"\n",
    "newManual[\"Highstrung\"] = \"Highstrung (3)\"\n",
    "newManual[\"I.D.K.\"] = \"I.D.K. (2)\"\n",
    "newManual[\"Jason Dietz\"] = \"Jason Dietz\"\n",
    "newManual[\"Jeff Kelly\"] = \"Jeff Kelly\"\n",
    "newManual[\"Jimmie Rodgers\"] = \"Jimmie Rodgers\"\n",
    "newManual[\"Lynx\"] = \"Lynx (13)\"\n",
    "newManual[\"Stephen Duffy\"] = \"Stephen Duffy\"\n",
    "newManual[\"PainKiller\"] = \"PainKiller\"\n",
    "newManual[\"Queensrÿche\"] = \"Queensrÿche\"\n",
    "newManual[\"38 Special\"] = \"38 Special (2)\"\n",
    "newManual[\"Groundzero\"] = \"Groundzero (3)\"\n",
    "newManual[\"You\"] = \"You (21)\"\n",
    "newManual[\"The Snowmen\"] = \"The Snowmen\"\n",
    "newManual[\"The Scientists\"] = \"The Scientists (2)\"\n",
    "newManual[\"The Roots\"] = \"The Roots\"\n",
    "newManual[\"The Matrix\"] = \"The Matrix (2)\"\n",
    "newManual[\"The Criminals\"] = \"The Criminals\"\n",
    "newManual[\"The Beards\"] = \"The Beards\"\n",
    "\n",
    "newManual[\"The Livin' End\"] = \"The Livin' End (2)\"\n",
    "newManual[\"Groundzero\"] = \"Groundzero (3)\"\n",
    "newManual[\"Killing Floor\"] = \"Killing Floor (2)\"\n",
    "newManual[\"Mayday!\"] = \"¡Mayday!\"\n",
    "newManual[\"Rodriguez\"] = \"Rodriguez (5)\"\n",
    "myMusicNameIDMap.update(manualMatches) \n",
    "myMusicNameIDMap.update(newManual) \n",
    "\n",
    "print(\"Found {0} music <-> discogs maps\".format(len(myMusicNameIDMap)))"
   ]
  },
  {
   "cell_type": "markdown",
   "metadata": {},
   "source": [
    "# Find Music and Match Artists"
   ]
  },
  {
   "cell_type": "code",
   "execution_count": null,
   "metadata": {
    "scrolled": false
   },
   "outputs": [],
   "source": [
    "musicNameIDMap = {}\n",
    "multiMap       = {}\n",
    "for dirN in findDirs(\"/Users/tgadfort/matched\"):\n",
    "    print(dirN)\n",
    "    for dirval in findDirs(dirN):        \n",
    "        artistName = getDirBasics(dirval)[-1]\n",
    "        artistName = normalize('NFC', artistName)\n",
    "        \n",
    "        if myMusicNameIDMap.get(artistName) is not None:\n",
    "            continue\n",
    "\n",
    "        mdata = getMusicData(\"DiscArtist\", artistName)\n",
    "        print(artistName,type(mdata))\n",
    "        if not isinstance(mdata, DataFrame):\n",
    "            matches = mulArts.getArtistNames(artistName)\n",
    "            if not all(matches.values()):\n",
    "                print(\"{0: <10}{1: <50}{2}\".format(\"?\", artistName, matches))\n",
    "                continue\n",
    "            else:\n",
    "                print(\"{0: <10}{1: <50}{2}\".format(\"MIX\", artistName, matches))\n",
    "                srcDir = dirval\n",
    "                dstDir = setDir(\"/Volumes/Music/Multi\", artistName)\n",
    "                moveDir(srcDir, dstDir)                \n",
    "        else:\n",
    "            print('\\t',mdata.shape)\n",
    "            if mdata.shape[0] == 1:\n",
    "                musicNameIDMap[artistName] = [mdata.index, mdata[\"Name\"].values[0]]\n",
    "            else:\n",
    "                print(\"{0: <10}{1: <50}{2}\".format(\"\", artistName, \"\"))\n",
    "                albums = [x for x in findDirs(dirval) if getDirBasics(x)[-1] not in [\"Random\", \"Todo\"]]                \n",
    "                if len(albums) == 0:\n",
    "                    print(\"\\tNo Albums\\n\")\n",
    "                    srcDir = dirval\n",
    "                    dstDir = setDir(\"/Volumes/Music/Random\", artistName)\n",
    "                    moveDir(srcDir, dstDir)\n",
    "                else:\n",
    "                    multiMap[artistName] = {\"DB\": mdata, \"Albums\": albums}\n",
    "                    continue\n",
    "                    for album in albums:\n",
    "                        print(\"\\t\",album)\n",
    "                    print(\"\")\n",
    "                print(\"\\tDiscogs Data:\")\n",
    "                print(mdata)\n",
    "                print(\"\\n\\n\")"
   ]
  },
  {
   "cell_type": "code",
   "execution_count": null,
   "metadata": {},
   "outputs": [],
   "source": [
    "newManual = {}"
   ]
  },
  {
   "cell_type": "code",
   "execution_count": null,
   "metadata": {},
   "outputs": [],
   "source": [
    "print(len(multiMap))\n",
    "import json\n",
    "json.dumps(list(multiMap.keys()))"
   ]
  },
  {
   "cell_type": "code",
   "execution_count": 12,
   "metadata": {},
   "outputs": [],
   "source": []
  },
  {
   "cell_type": "code",
   "execution_count": null,
   "metadata": {
    "scrolled": true
   },
   "outputs": [],
   "source": [
    "ratVal = 0.6\n",
    "if len(myMusicNameIDMap) > 0:\n",
    "    ratVal = 0.3\n",
    "artistIDMap = {}\n",
    "for artistName,artistSlimData in multiMap.items():\n",
    "    print(\"\\n\",\"=\"*50)\n",
    "    print(\"ArtistName: {0}\".format(artistName))\n",
    "    print(\"   Albums: {0}\".format(len(artistSlimData[\"Albums\"])))\n",
    "\n",
    "    myAlbumNames = []\n",
    "    for album in artistSlimData[\"Albums\"]:\n",
    "        myAlbumName = album.split(\"/{0}/\".format(artistName))[-1]\n",
    "        #print(\"     {0: <15}{1: <10}{2}\".format(\"\", \"\", myAlbumName))\n",
    "        myAlbumNames.append(myAlbumName)\n",
    "        \n",
    "    for idx,row in artistSlimData[\"DB\"].iterrows():\n",
    "        artistAlbumsData = getRowByIndex(artistAlbumsDB, idx)\n",
    "        artistAlbums     = artistAlbumsData[\"Albums\"]\n",
    "        print(\"   Match: {0}  [{1}]\".format(row[\"DiscArtist\"], row[\"Name\"]))\n",
    "        if isinstance(artistAlbums, dict):\n",
    "            for albumType, albumTypeData in artistAlbums.items():\n",
    "                for albumID, dbAlbumName in albumTypeData.items():\n",
    "                    for myAlbumName in myAlbumNames:\n",
    "                        s = SequenceMatcher(None, myAlbumName, dbAlbumName)\n",
    "                        ratio = s.ratio()\n",
    "                        if ratio > 0.6:\n",
    "                            print(\"     {0: <15}{1: <10}{2: <8}{3}\".format(albumType, albumID, round(ratio,2), dbAlbumName))\n",
    "                            artistIDMap[artistName] = [idx, row[\"Name\"]]"
   ]
  },
  {
   "cell_type": "code",
   "execution_count": null,
   "metadata": {},
   "outputs": [],
   "source": [
    "for artistName,artistData in artistIDMap.items():\n",
    "    print(artistName,' ==> ',artistData)"
   ]
  },
  {
   "cell_type": "code",
   "execution_count": null,
   "metadata": {},
   "outputs": [],
   "source": [
    "print(len(artistIDMap))\n",
    "if len(myMusicNameIDMap) == 0:\n",
    "    myMusicNameIDMap = {}\n",
    "    print(len(musicNameIDMap))\n",
    "    myMusicNameIDMap = {k: [v[0][0], v[1].values[0]] for k,v in musicNameIDMap.items()}\n",
    "if len(musicNameIDMap) > 0:\n",
    "    try:\n",
    "        myMusicNameIDMap.update({k: [v[0][0], v[1].values[0]] for k,v in musicNameIDMap.items()})\n",
    "    except:\n",
    "        try:\n",
    "            myMusicNameIDMap.update({k: [v[0][0], v[1]] for k,v in musicNameIDMap.items()})\n",
    "        except:\n",
    "            raise ValueError(\"Not sure about {0}\".format(musicNameIDMap))\n",
    "print(len(myMusicNameIDMap))\n",
    "myMusicNameIDMap.update(artistIDMap)\n",
    "print(len(myMusicNameIDMap))"
   ]
  },
  {
   "cell_type": "code",
   "execution_count": null,
   "metadata": {},
   "outputs": [],
   "source": [
    "from ioUtils import saveFile\n",
    "saveFile(ifile=\"musicDiscogsMap.p\", idata=myMusicNameIDMap, debug=True)"
   ]
  },
  {
   "cell_type": "code",
   "execution_count": 79,
   "metadata": {},
   "outputs": [
    {
     "name": "stdout",
     "output_type": "stream",
     "text": [
      "Saving data to musicDiscogsMap.yaml\n",
      "Saved data to musicDiscogsMap.yaml\n",
      "  --> This file is 185.8kB.\n"
     ]
    }
   ],
   "source": [
    "from ioUtils import saveFile\n",
    "saveFile(ifile=\"musicDiscogsMap.yaml\", idata=myMusicNameIDMap, debug=True)"
   ]
  },
  {
   "cell_type": "code",
   "execution_count": 34,
   "metadata": {},
   "outputs": [
    {
     "name": "stdout",
     "output_type": "stream",
     "text": [
      "Found 4613 music <-> discogs maps\n"
     ]
    }
   ],
   "source": [
    "myMusicNameIDMap = getFile(\"musicDiscogsMap.p\")\n",
    "print(\"Found {0} music <-> discogs maps\".format(len(myMusicNameIDMap)))"
   ]
  },
  {
   "cell_type": "markdown",
   "metadata": {},
   "source": [
    "# Fix Discogs Mapping"
   ]
  },
  {
   "cell_type": "code",
   "execution_count": 40,
   "metadata": {},
   "outputs": [],
   "source": [
    "musicNameIDMap = {}\n",
    "for artistName,v in myMusicNameIDMap.items():\n",
    "    if isinstance(v, list):\n",
    "        musicNameIDMap[artistName] = v\n",
    "        #print(artistName,v)\n",
    "        continue\n",
    "        \n",
    "    mdata = getMusicData(\"Name\", v)\n",
    "    if isinstance(mdata, DataFrame):\n",
    "        if mdata.shape[0] == 1:\n",
    "            #print(artistName,[mdata.index[0], mdata[\"Name\"].values[0]])\n",
    "            musicNameIDMap[artistName] = [mdata.index[0], mdata[\"Name\"].values[0]]\n",
    "        else:\n",
    "            raise ValueError(\"No idea about {0}\".format(mdata))\n",
    "    else:\n",
    "        print(artistName,'\\t',v)\n",
    "        \n",
    "        \n",
    "myMusicNameIDMap = musicNameIDMap\n",
    "#from ioUtils import saveFile\n",
    "#saveFile(ifile=\"musicDiscogsMap.p\", idata=musicNameIDMap, debug=True)"
   ]
  },
  {
   "cell_type": "code",
   "execution_count": 41,
   "metadata": {},
   "outputs": [
    {
     "name": "stdout",
     "output_type": "stream",
     "text": [
      "Found 4613 music <-> discogs maps\n"
     ]
    }
   ],
   "source": [
    "print(\"Found {0} music <-> discogs maps\".format(len(myMusicNameIDMap)))"
   ]
  },
  {
   "cell_type": "markdown",
   "metadata": {},
   "source": [
    "# Find Music and Match Albums"
   ]
  },
  {
   "cell_type": "code",
   "execution_count": 10,
   "metadata": {},
   "outputs": [
    {
     "name": "stdout",
     "output_type": "stream",
     "text": [
      "Found 107 music <-> discogs albums maps\n"
     ]
    }
   ],
   "source": [
    "myMusicAlbumIDMap = getFile(\"musicDiscogsAlbumMap.p\")\n",
    "print(\"Found {0} music <-> discogs albums maps\".format(len(myMusicAlbumIDMap)))"
   ]
  },
  {
   "cell_type": "code",
   "execution_count": 72,
   "metadata": {},
   "outputs": [
    {
     "name": "stdout",
     "output_type": "stream",
     "text": [
      "/Users/tgadfort/matched/A\n",
      "/Users/tgadfort/matched/B\n",
      "\tBeenie Man                     ---> ['9373', 'Beenie Man']\n",
      "\t\tMy Album: 2004 - Cool Cool Rider- The Roots Of A Dancehall Don\n",
      "\t\t\t0.91, Cool Cool Rider: The Roots Of A Dancehall Don\n",
      "\tBlues Traveler                 ---> ['288326', 'Blues Traveler']\n",
      "\t\tMy Album: ¡Bastardos!\n",
      "\t\t\t0.91, Â¡Bastardos!\n",
      "\tBoston                         ---> ['113020', 'Boston']\n",
      "\t\tMy Album: Boston - Don't Look Back 1978\n",
      "\t\t\t0.91, Boston / Don't Look Back\n",
      "/Users/tgadfort/matched/C\n",
      "/Users/tgadfort/matched/D\n",
      "\tDave Matthews Band             ---> ['30674', 'Dave Matthews Band']\n",
      "\t\tMy Album: DMB Live Trax Vol. 30\n",
      "\t\t\t0.93, DMB Live Trax Vol. 5\n",
      "\t\tMy Album: DMB Live Trax Vol. 30\n",
      "\t\t\t0.95, DMB Live Trax Vol. 34\n",
      "\t\tMy Album: DMB Live Trax Vol. 30\n",
      "\t\t\t0.95, DMB Live Trax Vol. 40\n",
      "\tDawn                           ---> ['504628', 'Dawn (8)']\n",
      "\t\tMy Album: Nær Solen Gar Niþer For Evogher\n",
      "\t\t\t0.91, NÃ¦r Solen Gar NiÃ¾er For Evogher\n",
      "/Users/tgadfort/matched/E\n",
      "/Users/tgadfort/matched/F\n",
      "\tFleshies                       ---> ['492401', 'Fleshies']\n",
      "\t\tMy Album: The Game Of Fútbol EP\n",
      "\t\t\t0.91, The Game Of FÃºtbol EP\n",
      "/Users/tgadfort/matched/G\n",
      "\tGloria Estefan                 ---> ['48246', 'Gloria Estefan']\n",
      "\t\tMy Album: Alma Caribeña  Caribbean Soul\n",
      "\t\t\t0.92, Alma CaribeÃ±a / Caribbean Soul\n",
      "/Users/tgadfort/matched/H\n",
      "/Users/tgadfort/matched/I\n",
      "/Users/tgadfort/matched/J\n",
      "\tJaponize Elephants             ---> ['464472', 'Japonize Elephants']\n",
      "\t\tMy Album: Le Fète Du Cloune - Pirate\n",
      "\t\t\t0.93, Le FÃ¨te Du Cloune - Pirate\n",
      "\tJimi Hendrix                   ---> ['110593', 'Jimi Hendrix']\n",
      "\t\tMy Album: 1967- Live At Monterey Pop Festival\n",
      "\t\t\t0.91, Live At Monterey Pop Festival\n",
      "\tJohnny Cash                    ---> ['135946', 'Johnny Cash']\n",
      "\t\tMy Album: Greatest Hits 3\n",
      "\t\t\t0.93, Greatest Hits\n",
      "\t\tMy Album: Greatest Hits 3\n",
      "\t\t\t0.93, Greatest Hits\n",
      "\t\tMy Album: Greatest Hits 3\n",
      "\t\t\t0.93, Greatest Hits\n",
      "\t\tMy Album: Greatest Hits 3\n",
      "\t\t\t0.93, Greatest Hits\n",
      "\t\tMy Album: Greatest Hits 3\n",
      "\t\t\t0.93, Greatest Hits\n",
      "\t\tMy Album: Greatest Hits 3\n",
      "\t\t\t0.93, Greatest Hits\n",
      "\t\tMy Album: Greatest Hits 3\n",
      "\t\t\t0.93, Greatest Hits\n",
      "\t\tMy Album: Greatest Hits 3\n",
      "\t\t\t0.93, Greatest Hits\n",
      "\t\tMy Album: Greatest Hits 3\n",
      "\t\t\t0.93, Greatest Hits\n",
      "\t\tMy Album: Greatest Hits 3\n",
      "\t\t\t0.93, Greatest Hits\n",
      "\t\tMy Album: Greatest Hits 3\n",
      "\t\t\t0.93, Greatest Hits\n",
      "\t\tMy Album: Greatest Hits 3\n",
      "\t\t\t0.93, Greatest Hits\n",
      "\t\tMy Album: Greatest Hits 3\n",
      "\t\t\t0.93, Greatest Hits\n",
      "\t\tMy Album: Greatest Hits 3\n",
      "\t\t\t0.93, Greatest Hits\n",
      "\t\tMy Album: The Greatest Hits Of Johnny Cash Vol2\n",
      "\t\t\t0.93, The Greatest Hits Of Johnny Cash\n",
      "/Users/tgadfort/matched/K\n",
      "/Users/tgadfort/matched/L\n",
      "/Users/tgadfort/matched/M\n",
      "\tMariah Carey                   ---> ['33534', 'Mariah Carey']\n",
      "\t\tMy Album: E=MC²\n",
      "\t\t\t0.91, E=MCÂ²\n",
      "/Users/tgadfort/matched/N\n",
      "/Users/tgadfort/matched/Num\n",
      "/Users/tgadfort/matched/O\n",
      "\tOmarion                        ---> ['291293', 'Omarion']\n",
      "\t\tMy Album: Care Package 2\n",
      "\t\t\t0.93, Care Package 3\n",
      "/Users/tgadfort/matched/P\n",
      "\tPearl Jam                      ---> ['175395', 'Pearl Jam']\n",
      "\t\tMy Album: Christmas 1991\n",
      "\t\t\t0.93, Christmas 1998\n",
      "\t\tMy Album: Christmas 1991\n",
      "\t\t\t0.93, Christmas 1999\n",
      "\t\tMy Album: Christmas 1993\n",
      "\t\t\t0.93, Christmas 1998\n",
      "\t\tMy Album: Christmas 1993\n",
      "\t\t\t0.93, Christmas 1999\n",
      "\t\tMy Album: Christmas 1997\n",
      "\t\t\t0.93, Christmas 1998\n",
      "\t\tMy Album: Christmas 1997\n",
      "\t\t\t0.93, Christmas 1999\n",
      "\tPhil Collins                   ---> ['101028', 'Phil Collins']\n",
      "\t\tMy Album: 12ers\n",
      "\t\t\t0.91, 12\"ers\n",
      "/Users/tgadfort/matched/Q\n",
      "/Users/tgadfort/matched/R\n",
      "\tRammstein                      ---> ['11771', 'Rammstein']\n",
      "\t\tMy Album: Liebe Ist Für Alle Da\n",
      "\t\t\t0.91, Liebe Ist FÃ¼r Alle Da\n",
      "\tRobin Thicke                   ---> ['292681', 'Robin Thicke']\n",
      "\t\tMy Album: Sex therapy\n",
      "\t\t\t0.91, Sex Therapy\n",
      "\tRun On                         ---> ['135317', 'Run On']\n",
      "\t\tMy Album: OnOff\n",
      "\t\t\t0.91, On/Off\n",
      "/Users/tgadfort/matched/S\n",
      "\tShaggy                         ---> ['7708', 'Shaggy']\n",
      "\t\tMy Album: 2008 - Best Of Shaggy- The Boombastic Collection\n",
      "\t\t\t0.91, Best Of Shaggy - The Boombastic Collection\n",
      "\tSkid Row                       ---> ['260673', 'Skid Row']\n",
      "\t\tMy Album: 2013 - United World Rebellion - Chapter One\n",
      "\t\t\t0.91, United World Rebellion - Chapter One\n",
      "\tStevie Wonder                  ---> ['18956', 'Stevie Wonder']\n",
      "\t\tMy Album: Greatest Hits Vol. 2\n",
      "\t\t\t0.92, Greatest Hits Vol.1\n",
      "/Users/tgadfort/matched/T\n",
      "\tToday Is The Day               ---> ['75319', 'Today Is The Day']\n",
      "\t\tMy Album: Clusterfuck '93\n",
      "\t\t\t0.93, Clusterfuck '94\n",
      "/Users/tgadfort/matched/The\n",
      "\tThe Beach Boys                 ---> ['70829', 'The Beach Boys']\n",
      "\t\tMy Album: Carl and the Passions – So Tough\n",
      "\t\t\t0.91, Carl And The Passions – \"So Tough\"\n",
      "\tThe Four Seasons               ---> ['121112', 'The Four Seasons']\n",
      "\t\tMy Album: Dawn (Go Away) And 11 Other Great Hits\n",
      "\t\t\t0.91, Dawn (Go Away) And 11 Other Great Songs\n",
      "/Users/tgadfort/matched/U\n",
      "/Users/tgadfort/matched/V\n",
      "/Users/tgadfort/matched/W\n",
      "/Users/tgadfort/matched/Xtra\n",
      "/Users/tgadfort/matched/Y\n",
      "/Users/tgadfort/matched/Z\n"
     ]
    }
   ],
   "source": [
    "def showArtist(artistName, discogsArtist):\n",
    "    print(\"\\t{0: <30} ---> {1}\".format(artistName, discogsArtist))\n",
    "    \n",
    "def showAlbum(myAlbumName):\n",
    "    print(\"\\t\\tMy Album: {0}\".format(myAlbumName))\n",
    "\n",
    "musicAlbumIDMap = {}\n",
    "for dirN in findDirs(\"/Users/tgadfort/matched\"):\n",
    "    print(dirN)\n",
    "    for dirval in findDirs(dirN):        \n",
    "        artistName = getDirBasics(dirval)[-1]\n",
    "        artistName = normalize('NFC', artistName)\n",
    "        \n",
    "        discogsArtist = myMusicNameIDMap[artistName]\n",
    "        \n",
    "        \n",
    "        idx                      = discogsArtist[0]\n",
    "        discogsArtistName        = discogsArtist[1]\n",
    "        discogsArtistAlbumsData  = getRowByIndex(artistAlbumsDB, idx)\n",
    "        discogsArtistAlbums      = discogsArtistAlbumsData[\"Albums\"]\n",
    "        \n",
    "        albums = [x for x in findDirs(dirval) if getDirBasics(x)[-1] not in [\"Random\", \"Todo\"]]        \n",
    "        myAlbumNames = [album.split(\"/{0}/\".format(artistName))[-1] for album in albums]\n",
    "        \n",
    "        for myAlbumName in myAlbumNames:\n",
    "            if myMusicAlbumIDMap.get(artistName) is not None:\n",
    "                if myMusicAlbumIDMap[artistName].get(myAlbumName) is not None:\n",
    "                    #print(\"\\t\\tMy Album: {0} ---> {1}\".format(myAlbumName, myMusicAlbumIDMap[artistName][myAlbumName]))\n",
    "                    continue\n",
    "\n",
    "            for albumType, albumTypeData in discogsArtistAlbums.items():\n",
    "                for albumID, dbAlbumName in albumTypeData.items():\n",
    "                    convDiscogsAlbumName = discConv(dbAlbumName)\n",
    "                    s = SequenceMatcher(None, myAlbumName, convDiscogsAlbumName)\n",
    "                    ratio = round(s.ratio(), 2)\n",
    "                    if ratio > 0.90:\n",
    "                        if musicAlbumIDMap.get(artistName) is None:\n",
    "                            musicAlbumIDMap[artistName] = {}\n",
    "                            showArtist(artistName, discogsArtist)\n",
    "                        showAlbum(myAlbumName)\n",
    "                        musicAlbumIDMap[artistName][myAlbumName] = [albumID, dbAlbumName]\n",
    "                        print(\"\\t\\t\\t{0}, {1}\".format(ratio, dbAlbumName))"
   ]
  },
  {
   "cell_type": "code",
   "execution_count": 73,
   "metadata": {},
   "outputs": [
    {
     "name": "stdout",
     "output_type": "stream",
     "text": [
      "Beenie Man\n",
      "\t 2004 - Cool Cool Rider- The Roots Of A Dancehall Don \t ['536648', 'Cool Cool Rider: The Roots Of A Dancehall Don']\n",
      "Blues Traveler\n",
      "\t ¡Bastardos! \t ['598757', 'Â¡Bastardos!']\n",
      "Boston\n",
      "\t Boston - Don't Look Back 1978 \t ['497625', \"Boston / Don't Look Back\"]\n",
      "Dave Matthews Band\n",
      "\t DMB Live Trax Vol. 30 \t ['9565881', 'DMB Live Trax Vol. 40']\n",
      "Dawn\n",
      "\t Nær Solen Gar Niþer For Evogher \t ['406688', 'NÃ¦r Solen Gar NiÃ¾er For Evogher']\n",
      "Fleshies\n",
      "\t The Game Of Fútbol EP \t ['373993', 'The Game Of FÃºtbol EP']\n",
      "Gloria Estefan\n",
      "\t Alma Caribeña  Caribbean Soul \t ['192897', 'Alma CaribeÃ±a / Caribbean Soul']\n",
      "Japonize Elephants\n",
      "\t Le Fète Du Cloune - Pirate \t ['1089483', 'Le FÃ¨te Du Cloune - Pirate']\n",
      "Jimi Hendrix\n",
      "\t 1967- Live At Monterey Pop Festival \t ['13126805', 'Live At Monterey Pop Festival']\n",
      "Johnny Cash\n",
      "\t Greatest Hits 3 \t ['8804865', 'Greatest Hits']\n",
      "\t The Greatest Hits Of Johnny Cash Vol2 \t ['8765195', 'The Greatest Hits Of Johnny Cash']\n",
      "Mariah Carey\n",
      "\t E=MC² \t ['78066', 'E=MCÂ²']\n",
      "Omarion\n",
      "\t Care Package 2 \t ['7730255', 'Care Package 3']\n",
      "Pearl Jam\n",
      "\t Christmas 1991 \t ['1079372', 'Christmas 1999']\n",
      "\t Christmas 1993 \t ['1079372', 'Christmas 1999']\n",
      "\t Christmas 1997 \t ['1079372', 'Christmas 1999']\n",
      "Phil Collins\n",
      "\t 12ers \t ['104626', '12\"ers']\n",
      "Rammstein\n",
      "\t Liebe Ist Für Alle Da \t ['188716', 'Liebe Ist FÃ¼r Alle Da']\n",
      "Robin Thicke\n",
      "\t Sex therapy \t ['373447', 'Sex Therapy']\n",
      "Run On\n",
      "\t OnOff \t ['439602', 'On/Off']\n",
      "Shaggy\n",
      "\t 2008 - Best Of Shaggy- The Boombastic Collection \t ['919302', 'Best Of Shaggy - The Boombastic Collection']\n",
      "Skid Row\n",
      "\t 2013 - United World Rebellion - Chapter One \t ['578402', 'United World Rebellion - Chapter One']\n",
      "Stevie Wonder\n",
      "\t Greatest Hits Vol. 2 \t ['7948988', 'Greatest Hits Vol.1']\n",
      "Today Is The Day\n",
      "\t Clusterfuck '93 \t ['105551', \"Clusterfuck '94\"]\n",
      "The Beach Boys\n",
      "\t Carl and the Passions – So Tough \t ['338354', 'Carl And The Passions – \"So Tough\"']\n",
      "The Four Seasons\n",
      "\t Dawn (Go Away) And 11 Other Great Hits \t ['230250', 'Dawn (Go Away) And 11 Other Great Songs']\n"
     ]
    }
   ],
   "source": [
    "for artistName,v in musicAlbumIDMap.items():\n",
    "    print(artistName)\n",
    "    for myAlbumName,v2 in v.items():\n",
    "        print(\"\\t\",myAlbumName,'\\t',v2)"
   ]
  },
  {
   "cell_type": "code",
   "execution_count": 74,
   "metadata": {},
   "outputs": [
    {
     "name": "stdout",
     "output_type": "stream",
     "text": [
      "Saving data to newMusicDiscogsAlbumMap.yaml\n",
      "Saved data to newMusicDiscogsAlbumMap.yaml\n",
      "  --> This file is 2.1kB.\n",
      "Found 23 music <-> discogs albums maps\n"
     ]
    }
   ],
   "source": [
    "saveFile(ifile=\"newMusicDiscogsAlbumMap.yaml\", idata=musicAlbumIDMap, debug=True)\n",
    "print(\"Found {0} music <-> discogs albums maps\".format(len(musicAlbumIDMap)))"
   ]
  },
  {
   "cell_type": "code",
   "execution_count": 75,
   "metadata": {},
   "outputs": [
    {
     "name": "stdout",
     "output_type": "stream",
     "text": [
      "Found 17 music <-> discogs albums maps\n"
     ]
    }
   ],
   "source": [
    "musicAlbumIDMap = getFile(ifile=\"newMusicDiscogsAlbumMap.yaml\")\n",
    "print(\"Found {0} music <-> discogs albums maps\".format(len(musicAlbumIDMap)))"
   ]
  },
  {
   "cell_type": "markdown",
   "metadata": {},
   "source": [
    "## Merge Maps (if needed)"
   ]
  },
  {
   "cell_type": "code",
   "execution_count": 76,
   "metadata": {},
   "outputs": [
    {
     "name": "stdout",
     "output_type": "stream",
     "text": [
      "Adding Beenie Man\n",
      "Adding Beenie Man/2004 - Cool Cool Rider- The Roots Of A Dancehall Don ---> ['536648', 'Cool Cool Rider: The Roots Of A Dancehall Don']\n",
      "Adding Blues Traveler/¡Bastardos! ---> ['598757', 'Â¡Bastardos!']\n",
      "Adding Boston/Boston - Don't Look Back 1978 ---> ['497625', \"Boston / Don't Look Back\"]\n",
      "Adding Dawn/Nær Solen Gar Niþer For Evogher ---> ['406688', 'NÃ¦r Solen Gar NiÃ¾er For Evogher']\n",
      "Adding Fleshies/The Game Of Fútbol EP ---> ['373993', 'The Game Of FÃºtbol EP']\n",
      "Adding Jimi Hendrix/1967- Live At Monterey Pop Festival ---> ['13126805', 'Live At Monterey Pop Festival']\n",
      "Adding Mariah Carey/E=MC² ---> ['78066', 'E=MCÂ²']\n",
      "Adding Phil Collins/12ers ---> ['104626', '12\"ers']\n",
      "Adding Rammstein/Liebe Ist Für Alle Da ---> ['188716', 'Liebe Ist FÃ¼r Alle Da']\n",
      "Adding Robin Thicke\n",
      "Adding Robin Thicke/Sex therapy ---> ['373447', 'Sex Therapy']\n",
      "Adding Run On/OnOff ---> ['439602', 'On/Off']\n",
      "Adding Shaggy\n",
      "Adding Shaggy/2008 - Best Of Shaggy- The Boombastic Collection ---> ['919302', 'Best Of Shaggy - The Boombastic Collection']\n",
      "Adding Skid Row\n",
      "Adding Skid Row/2013 - United World Rebellion - Chapter One ---> ['578402', 'United World Rebellion - Chapter One']\n",
      "Adding The Beach Boys/Carl and the Passions – So Tough ---> ['338354', 'Carl And The Passions – \"So Tough\"']\n",
      "Adding The Four Seasons/Dawn (Go Away) And 11 Other Great Hits ---> ['230250', 'Dawn (Go Away) And 11 Other Great Songs']\n"
     ]
    }
   ],
   "source": [
    "for artistName,v in musicAlbumIDMap.items():\n",
    "    for myAlbumName,v2 in v.items():\n",
    "        if myMusicAlbumIDMap.get(artistName) is None:\n",
    "            print(\"Adding {0}\".format(artistName))\n",
    "            myMusicAlbumIDMap[artistName] = {}\n",
    "        if myMusicAlbumIDMap[artistName].get(myAlbumName) is None:\n",
    "            print(\"Adding {0}/{1} ---> {2}\".format(artistName, myAlbumName, v2))\n",
    "            myMusicAlbumIDMap[artistName][myAlbumName] = v2"
   ]
  },
  {
   "cell_type": "code",
   "execution_count": 77,
   "metadata": {},
   "outputs": [
    {
     "name": "stdout",
     "output_type": "stream",
     "text": [
      "Saving data to musicDiscogsAlbumMap.p\n",
      "  --> This file is 285.9kB.\n",
      "Saved data to musicDiscogsAlbumMap.p\n",
      "  --> This file is 285.9kB.\n",
      "Found 3033 music <-> discogs albums maps\n"
     ]
    }
   ],
   "source": [
    "from ioUtils import saveFile\n",
    "saveFile(ifile=\"musicDiscogsAlbumMap.p\", idata=myMusicAlbumIDMap, debug=True)\n",
    "print(\"Found {0} music <-> discogs albums maps\".format(len(myMusicAlbumIDMap)))"
   ]
  },
  {
   "cell_type": "code",
   "execution_count": 78,
   "metadata": {},
   "outputs": [
    {
     "name": "stdout",
     "output_type": "stream",
     "text": [
      "Saving data to musicDiscogsAlbumMap.yaml\n",
      "Saved data to musicDiscogsAlbumMap.yaml\n",
      "  --> This file is 487.0kB.\n"
     ]
    }
   ],
   "source": [
    "saveFile(ifile=\"musicDiscogsAlbumMap.yaml\", idata=myMusicAlbumIDMap, debug=True)"
   ]
  },
  {
   "cell_type": "code",
   "execution_count": null,
   "metadata": {},
   "outputs": [],
   "source": []
  }
 ],
 "metadata": {
  "kernelspec": {
   "display_name": "Python 3",
   "language": "python",
   "name": "python3"
  },
  "language_info": {
   "codemirror_mode": {
    "name": "ipython",
    "version": 3
   },
   "file_extension": ".py",
   "mimetype": "text/x-python",
   "name": "python",
   "nbconvert_exporter": "python",
   "pygments_lexer": "ipython3",
   "version": "3.7.3"
  }
 },
 "nbformat": 4,
 "nbformat_minor": 2
}
