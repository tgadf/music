{
 "cells": [
  {
   "cell_type": "code",
   "execution_count": 1,
   "metadata": {},
   "outputs": [
    {
     "data": {
      "text/html": [
       "<style>.container { width:100% !important; }</style>"
      ],
      "text/plain": [
       "<IPython.core.display.HTML object>"
      ]
     },
     "metadata": {},
     "output_type": "display_data"
    },
    {
     "data": {
      "text/html": [
       "<style>div.output_area{max-height:10000px;overflow:scroll;}</style>"
      ],
      "text/plain": [
       "<IPython.core.display.HTML object>"
      ]
     },
     "metadata": {},
     "output_type": "display_data"
    },
    {
     "name": "stdout",
     "output_type": "stream",
     "text": [
      "Python: 3.7.3 (default, Mar 27 2019, 16:54:48) \n",
      "[Clang 4.0.1 (tags/RELEASE_401/final)]\n",
      "Notebook Last Run Initiated: 2020-01-26 19:32:50.297287\n"
     ]
    }
   ],
   "source": [
    "## Basic stuff\n",
    "%load_ext autoreload\n",
    "%autoreload\n",
    "from IPython.core.display import display, HTML\n",
    "display(HTML(\"<style>.container { width:100% !important; }</style>\"))\n",
    "display(HTML(\"\"\"<style>div.output_area{max-height:10000px;overflow:scroll;}</style>\"\"\"))\n",
    "\n",
    "from mp3id import mp3ID\n",
    "from musicBase import musicBase\n",
    "from musicFinder import musicFinder\n",
    "from musicPath import pathBasics\n",
    "from timeUtils import clock, elapsed\n",
    "from discogsBase import discogs\n",
    "from multiArtist import multiArtist\n",
    "from time import sleep\n",
    "from pandas import DataFrame, Series\n",
    "from discogsBase import discogs\n",
    "from ioUtils import getFile\n",
    "from searchUtils import findDirs\n",
    "from fileUtils import getDirBasics\n",
    "from unicodedata import normalize\n",
    "from fsUtils import moveDir, setDir\n",
    "from masterdb import getArtistAlbumsDB, discConv\n",
    "## Python Version\n",
    "import sys\n",
    "print(\"Python: {0}\".format(sys.version))\n",
    "\n",
    "import datetime as dt\n",
    "start = dt.datetime.now()\n",
    "print(\"Notebook Last Run Initiated: \"+str(start))"
   ]
  },
  {
   "cell_type": "code",
   "execution_count": 2,
   "metadata": {},
   "outputs": [
    {
     "name": "stdout",
     "output_type": "stream",
     "text": [
      "Saved Discog Directory /Volumes/Music/Discog is Available\n",
      "Local Discog Directory /Users/tgadfort/Music/Discog is Available\n",
      "/Volumes/Music/Discog/collections exists\n",
      "/Volumes/Music/Discog/artists exists\n",
      "/Volumes/Music/Discog/albums exists\n",
      "/Volumes/Music/Discog/collections-db exists\n",
      "/Volumes/Music/Discog/artists-db exists\n",
      "/Volumes/Music/Discog/albums-db exists\n",
      "/Volumes/Music/Discog/artists-db/metadata exists\n",
      "/Volumes/Music/Discog/albums-db/metadata exists\n",
      "/Volumes/Music/Discog/diagnostic exists\n",
      "/Volumes/Music/Discog/db exists\n"
     ]
    }
   ],
   "source": [
    "disc = discogs()"
   ]
  },
  {
   "cell_type": "code",
   "execution_count": 17,
   "metadata": {},
   "outputs": [
    {
     "name": "stdout",
     "output_type": "stream",
     "text": [
      "Getting Master Artist DB File\n",
      "Loading data from /Volumes/Music/Discog/db/MasterSlimArtistDB.p\n",
      "  --> This file is 57.0MB.\n",
      "Loading /Volumes/Music/Discog/db/MasterSlimArtistDB.p\n",
      "712629\n"
     ]
    },
    {
     "data": {
      "text/html": [
       "<div>\n",
       "<style scoped>\n",
       "    .dataframe tbody tr th:only-of-type {\n",
       "        vertical-align: middle;\n",
       "    }\n",
       "\n",
       "    .dataframe tbody tr th {\n",
       "        vertical-align: top;\n",
       "    }\n",
       "\n",
       "    .dataframe thead th {\n",
       "        text-align: right;\n",
       "    }\n",
       "</style>\n",
       "<table border=\"1\" class=\"dataframe\">\n",
       "  <thead>\n",
       "    <tr style=\"text-align: right;\">\n",
       "      <th></th>\n",
       "      <th>Name</th>\n",
       "      <th>Artist</th>\n",
       "      <th>Num</th>\n",
       "      <th>DiscArtist</th>\n",
       "    </tr>\n",
       "  </thead>\n",
       "  <tbody>\n",
       "    <tr>\n",
       "      <th>1000</th>\n",
       "      <td>Dave Clarke</td>\n",
       "      <td>Dave Clarke</td>\n",
       "      <td>NaN</td>\n",
       "      <td>Dave Clarke</td>\n",
       "    </tr>\n",
       "    <tr>\n",
       "      <th>1000500</th>\n",
       "      <td>Club Pulse</td>\n",
       "      <td>Club Pulse</td>\n",
       "      <td>NaN</td>\n",
       "      <td>Club Pulse</td>\n",
       "    </tr>\n",
       "    <tr>\n",
       "      <th>100200</th>\n",
       "      <td>Dike</td>\n",
       "      <td>Dike</td>\n",
       "      <td>NaN</td>\n",
       "      <td>Dike</td>\n",
       "    </tr>\n",
       "    <tr>\n",
       "      <th>1002000</th>\n",
       "      <td>Larry Stokes</td>\n",
       "      <td>Larry Stokes</td>\n",
       "      <td>NaN</td>\n",
       "      <td>Larry Stokes</td>\n",
       "    </tr>\n",
       "    <tr>\n",
       "      <th>1002600</th>\n",
       "      <td>Gidd Sanchez</td>\n",
       "      <td>Gidd Sanchez</td>\n",
       "      <td>NaN</td>\n",
       "      <td>Gidd Sanchez</td>\n",
       "    </tr>\n",
       "  </tbody>\n",
       "</table>\n",
       "</div>"
      ],
      "text/plain": [
       "                 Name        Artist  Num    DiscArtist\n",
       "1000      Dave Clarke   Dave Clarke  NaN   Dave Clarke\n",
       "1000500    Club Pulse    Club Pulse  NaN    Club Pulse\n",
       "100200           Dike          Dike  NaN          Dike\n",
       "1002000  Larry Stokes  Larry Stokes  NaN  Larry Stokes\n",
       "1002600  Gidd Sanchez  Gidd Sanchez  NaN  Gidd Sanchez"
      ]
     },
     "execution_count": 17,
     "metadata": {},
     "output_type": "execute_result"
    }
   ],
   "source": [
    "print(\"Getting Master Artist DB File\")\n",
    "discdf = disc.getMasterSlimArtistDiscogsDB()\n",
    "artists = list(discdf[\"Artist\"])\n",
    "print(len(artists))\n",
    "discdf.head()\n",
    "# 589630\n",
    "# 610522\n",
    "# 636524\n",
    "# 669087\n",
    "# 712336\n",
    "# 712486\n",
    "# 712629"
   ]
  },
  {
   "cell_type": "code",
   "execution_count": 30,
   "metadata": {},
   "outputs": [
    {
     "name": "stdout",
     "output_type": "stream",
     "text": [
      "Current Time is Sun Jan 26, 2020 19:45:29 for \n",
      "=================================== Creating Artist Albums DB ===================================\n",
      "Loading ArtistID Data\n",
      "Loading data from /Volumes/Music/Discog/db/ArtistIDToAlbumNames.p\n",
      "  --> This file is 190.8MB.\n",
      "Loading /Volumes/Music/Discog/db/ArtistIDToAlbumNames.p\n",
      "Creating Pandas DataFrame for 712628 Artists\n",
      "\tShape --> (712628, 1)\n",
      "DataFrame Shape is (712628, 1)\n",
      "Saving Master Artist Albums DB File\n",
      "  --> This file is 375.0MB.\n",
      "Current Time is Sun Jan 26, 2020 19:48:17 for Done with \n",
      "=================================== Creating Artist Albums DB ===================================\n",
      "Process [{0}] took 2.8 minutes.\n"
     ]
    }
   ],
   "source": [
    "artistAlbumsDB = getArtistAlbumsDB(disc, force=True)"
   ]
  },
  {
   "cell_type": "code",
   "execution_count": 6,
   "metadata": {},
   "outputs": [],
   "source": [
    "def getMusicData(key, artist):\n",
    "    retval = discdf[discdf[key] == artist]\n",
    "    if retval.shape[0] > 0:\n",
    "        return retval\n",
    "    else:\n",
    "        return None\n",
    "    \n",
    "from difflib import SequenceMatcher\n",
    "\n",
    "def getRowByIndex(pdf, idx):\n",
    "    return pdf.loc[idx]"
   ]
  },
  {
   "cell_type": "code",
   "execution_count": 7,
   "metadata": {},
   "outputs": [
    {
     "name": "stdout",
     "output_type": "stream",
     "text": [
      "Found 712628 ID -> Name entries\n",
      "Found 654969 Name -> ID entries\n"
     ]
    }
   ],
   "source": [
    "artistIDToName = discdf[\"DiscArtist\"].to_dict()\n",
    "artistNameToID = {}\n",
    "print(\"Found {0} ID -> Name entries\".format(len(artistIDToName)))\n",
    "for artistID,artistName in artistIDToName.items():\n",
    "    if artistNameToID.get(artistName) is None:\n",
    "        artistNameToID[artistName] = []\n",
    "    artistNameToID[artistName].append(artistID)\n",
    "print(\"Found {0} Name -> ID entries\".format(len(artistNameToID)))"
   ]
  },
  {
   "cell_type": "code",
   "execution_count": 8,
   "metadata": {},
   "outputs": [],
   "source": [
    "#artistDB = disc.getArtistIDToNameData()\n",
    "#artistNameToID = {v: k for k,v in artistDB.items()}\n",
    "mulArts  = multiArtist(cutoff=0.9, discdata=artistNameToID, exact=False)"
   ]
  },
  {
   "cell_type": "code",
   "execution_count": 9,
   "metadata": {},
   "outputs": [
    {
     "name": "stdout",
     "output_type": "stream",
     "text": [
      "Found 4688 music <-> discogs maps\n"
     ]
    },
    {
     "data": {
      "text/plain": [
       "True"
      ]
     },
     "execution_count": 9,
     "metadata": {},
     "output_type": "execute_result"
    }
   ],
   "source": [
    "try:\n",
    "    myMusicNameIDMap = getFile(\"musicDiscogsMap.p\")\n",
    "    print(\"Found {0} music <-> discogs maps\".format(len(myMusicNameIDMap)))\n",
    "except:\n",
    "    myMusicNameIDMap = {}\n",
    "    print(\"Could not load music <-> discogs map\")\n",
    "       \n",
    "myMusicNameIDMap[\"Mayday!\"] == ['2156710', '¡Mayday!']"
   ]
  },
  {
   "cell_type": "markdown",
   "metadata": {},
   "source": [
    "# Fix Discogs Mapping"
   ]
  },
  {
   "cell_type": "code",
   "execution_count": 10,
   "metadata": {},
   "outputs": [],
   "source": [
    "def fixDiscogsMapping(myMusicNameIDMap):\n",
    "    musicNameIDMap = {}\n",
    "    for artistName,v in myMusicNameIDMap.items():\n",
    "        if isinstance(v, list):\n",
    "            musicNameIDMap[artistName] = v\n",
    "            #print(artistName,v)\n",
    "            continue\n",
    "\n",
    "        mdata = getMusicData(\"Name\", v)\n",
    "        if isinstance(mdata, DataFrame):\n",
    "            if mdata.shape[0] == 1:\n",
    "                #print(artistName,[mdata.index[0], mdata[\"Name\"].values[0]])\n",
    "                musicNameIDMap[artistName] = [mdata.index[0], mdata[\"Name\"].values[0]]\n",
    "            else:\n",
    "                raise ValueError(\"No idea about {0}\".format(mdata))\n",
    "        else:\n",
    "            print(artistName,'\\t',v)\n",
    "            \n",
    "    return musicNameIDMap\n",
    "        \n",
    "#myMusicNameIDMap = musicNameIDMap\n",
    "#from ioUtils import saveFile\n",
    "#saveFile(ifile=\"musicDiscogsMap.p\", idata=musicNameIDMap, debug=True)"
   ]
  },
  {
   "cell_type": "code",
   "execution_count": 11,
   "metadata": {},
   "outputs": [],
   "source": [
    "myMusicNameIDMap = fixDiscogsMapping(myMusicNameIDMap)"
   ]
  },
  {
   "cell_type": "code",
   "execution_count": null,
   "metadata": {},
   "outputs": [],
   "source": [
    "if myMusicNameIDMap[\"Mayday!\"] == ['2156710', '¡Mayday!']:\n",
    "    saveFile(ifile=\"musicDiscogsMap.p\", idata=myMusicNameIDMap, debug=True)\n",
    "    saveFile(ifile=\"musicDiscogsMap.yaml\", idata=myMusicNameIDMap, debug=True)"
   ]
  },
  {
   "cell_type": "code",
   "execution_count": null,
   "metadata": {},
   "outputs": [],
   "source": [
    "manualMatches = {}\n",
    "\n",
    "if len(manualMatches) > 0:\n",
    "    myMusicNameIDMap.update(manualMatches) \n",
    "\n",
    "print(\"Found {0} music <-> discogs maps\".format(len(myMusicNameIDMap)))"
   ]
  },
  {
   "cell_type": "markdown",
   "metadata": {},
   "source": [
    "# Find Music and Match Artists"
   ]
  },
  {
   "cell_type": "code",
   "execution_count": null,
   "metadata": {},
   "outputs": [],
   "source": [
    "rms = [\"Billy Gibbons & The Blue Union\"]\n",
    "rms += [\"C.B. Milton\"]\n",
    "rms += [\"David Parmley & Continental Divide\"]\n",
    "rms += [\"Hall And Oates\"]\n",
    "rms += [\"John Trubee & The Ugly Janitors Of America\"]\n",
    "rms += [\"Johnny Cash & Jerry Lee Lewis\"]\n",
    "rms += [\"Les Beatniks De Queens\"]\n",
    "rms += [\"Meathook Seed\"]\n",
    "rms += [\"Snake Hips\"]\n",
    "rms += [\"Steve Almaas & Ali Smith\"]\n",
    "rms += [\"Varios (Band)\"]\n",
    "for rm in rms:\n",
    "    del myMusicNameIDMap[rm]"
   ]
  },
  {
   "cell_type": "code",
   "execution_count": 18,
   "metadata": {
    "scrolled": true
   },
   "outputs": [
    {
     "name": "stdout",
     "output_type": "stream",
     "text": [
      "/Users/tgadfort/matched/A\n",
      "/Users/tgadfort/matched/B\n",
      "/Users/tgadfort/matched/C\n",
      "/Users/tgadfort/matched/D\n",
      "/Users/tgadfort/matched/E\n",
      "/Users/tgadfort/matched/F\n",
      "/Users/tgadfort/matched/G\n",
      "/Users/tgadfort/matched/H\n",
      "/Users/tgadfort/matched/I\n",
      "/Users/tgadfort/matched/J\n",
      "/Users/tgadfort/matched/K\n",
      "/Users/tgadfort/matched/L\n",
      "/Users/tgadfort/matched/M\n",
      "Meathook Seed <class 'pandas.core.frame.DataFrame'>\n",
      "\t (1, 4)\n",
      "/Users/tgadfort/matched/N\n",
      "/Users/tgadfort/matched/Num\n",
      "/Users/tgadfort/matched/O\n",
      "/Users/tgadfort/matched/P\n",
      "/Users/tgadfort/matched/Q\n",
      "/Users/tgadfort/matched/R\n",
      "/Users/tgadfort/matched/S\n",
      "/Users/tgadfort/matched/T\n",
      "/Users/tgadfort/matched/The\n",
      "/Users/tgadfort/matched/U\n",
      "/Users/tgadfort/matched/V\n",
      "/Users/tgadfort/matched/W\n",
      "/Users/tgadfort/matched/Xtra\n",
      "/Users/tgadfort/matched/Y\n",
      "/Users/tgadfort/matched/Z\n"
     ]
    }
   ],
   "source": [
    "musicNameIDMap = {}\n",
    "multiMap       = {}\n",
    "\n",
    "discogMediaNames = ['Albums', 'Singles & EPs', 'Compilations', 'Videos', 'Miscellaneous', 'Visual', 'DJ Mixes']\n",
    "myMediaNames     = ['Random', 'Todo', 'Match', 'Title', 'Singles']\n",
    "\n",
    "for dirN in findDirs(\"/Users/tgadfort/matched\"):\n",
    "    print(dirN)\n",
    "    for dirval in findDirs(dirN):   \n",
    "        artistName = getDirBasics(dirval)[-1]\n",
    "        artistName = normalize('NFC', artistName)\n",
    "        \n",
    "        if myMusicNameIDMap.get(artistName) is not None:\n",
    "            idx = myMusicNameIDMap[artistName][0]\n",
    "            try:\n",
    "                discogsArtistAlbumsData  = getRowByIndex(artistAlbumsDB, idx)\n",
    "                discogsArtistAlbums      = discogsArtistAlbumsData[\"Albums\"]\n",
    "            except:\n",
    "                print(idx,'\\t',artistName)\n",
    "            continue\n",
    "\n",
    "        mdata = getMusicData(\"DiscArtist\", artistName)\n",
    "        print(artistName,type(mdata))\n",
    "        if not isinstance(mdata, DataFrame):\n",
    "            matches = mulArts.getArtistNames(artistName)\n",
    "            if not all(matches.values()):\n",
    "                print(\"{0: <10}{1: <50}{2}\".format(\"?\", artistName, matches))\n",
    "                continue\n",
    "            else:\n",
    "                print(\"{0: <10}{1: <50}{2}\".format(\"MIX\", artistName, matches))\n",
    "                srcDir = dirval\n",
    "                dstDir = setDir(\"/Volumes/Music/Multi\", artistName)\n",
    "                moveDir(srcDir, dstDir)                \n",
    "        else:\n",
    "            print('\\t',mdata.shape)\n",
    "            if mdata.shape[0] == 1:\n",
    "                musicNameIDMap[artistName] = [mdata.index, mdata[\"Name\"].values[0]]\n",
    "            else:\n",
    "                print(\"{0: <10}{1: <50}{2}\".format(\"\", artistName, \"\"))\n",
    "                albums = [x for x in findDirs(dirval) if getDirBasics(x)[-1] not in discogMediaNames+myMediaNames]\n",
    "                if len(albums) == 0:\n",
    "                    print(\"\\tNo Albums\\n\")\n",
    "                    srcDir = dirval\n",
    "                    dstDir = setDir(\"/Volumes/Music/Random\", artistName)\n",
    "                    moveDir(srcDir, dstDir)\n",
    "                else:\n",
    "                    multiMap[artistName] = {\"DB\": mdata, \"Albums\": albums}\n",
    "                    continue\n",
    "                    for album in albums:\n",
    "                        print(\"\\t\",album)\n",
    "                    print(\"\")\n",
    "                print(\"\\tDiscogs Data:\")\n",
    "                print(mdata)\n",
    "                print(\"\\n\\n\")"
   ]
  },
  {
   "cell_type": "markdown",
   "metadata": {},
   "source": [
    "# Manual Entries"
   ]
  },
  {
   "cell_type": "code",
   "execution_count": null,
   "metadata": {},
   "outputs": [],
   "source": [
    "newManual = {}"
   ]
  },
  {
   "cell_type": "code",
   "execution_count": null,
   "metadata": {},
   "outputs": [],
   "source": [
    "mdata = getMusicData(\"Name\", \"Daryl Hall & John Oates\")\n",
    "newManual[mdata[\"DiscArtist\"].values[0]] = [mdata.index, mdata[\"Name\"].values[0]]"
   ]
  },
  {
   "cell_type": "code",
   "execution_count": null,
   "metadata": {},
   "outputs": [],
   "source": [
    "newManual"
   ]
  },
  {
   "cell_type": "code",
   "execution_count": null,
   "metadata": {},
   "outputs": [],
   "source": [
    "if len(newManual) > 0:\n",
    "    try:\n",
    "        myMusicNameIDMap.update({k: [v[0][0], v[1].values[0]] for k,v in newManual.items()})\n",
    "    except:\n",
    "        try:\n",
    "            myMusicNameIDMap.update({k: [v[0][0], v[1]] for k,v in newManual.items()})\n",
    "        except:\n",
    "            raise ValueError(\"Not sure about {0}\".format(newManual))"
   ]
  },
  {
   "cell_type": "markdown",
   "metadata": {},
   "source": [
    "## Find MultiMap -> Match Entry"
   ]
  },
  {
   "cell_type": "code",
   "execution_count": null,
   "metadata": {
    "scrolled": true
   },
   "outputs": [],
   "source": [
    "ratVal = 0.6\n",
    "if len(myMusicNameIDMap) > 0:\n",
    "    ratVal = 0.3\n",
    "artistIDMap = {}\n",
    "for artistName,artistSlimData in multiMap.items():\n",
    "    print(\"\\n\",\"=\"*50)\n",
    "    print(\"ArtistName: {0}\".format(artistName))\n",
    "    print(\"   Albums: {0}\".format(len(artistSlimData[\"Albums\"])))\n",
    "\n",
    "    myAlbumNames = []\n",
    "    for album in artistSlimData[\"Albums\"]:\n",
    "        myAlbumName = album.split(\"/{0}/\".format(artistName))[-1]\n",
    "        #print(\"     {0: <15}{1: <10}{2}\".format(\"\", \"\", myAlbumName))\n",
    "        myAlbumNames.append(myAlbumName)\n",
    "        \n",
    "    for idx,row in artistSlimData[\"DB\"].iterrows():\n",
    "        artistAlbumsData = getRowByIndex(artistAlbumsDB, idx)\n",
    "        artistAlbums     = artistAlbumsData[\"Albums\"]\n",
    "        print(\"   Match: {0}  [{1}]\".format(row[\"DiscArtist\"], row[\"Name\"]))\n",
    "        if isinstance(artistAlbums, dict):\n",
    "            for albumType, albumTypeData in artistAlbums.items():\n",
    "                for albumID, dbAlbumName in albumTypeData.items():\n",
    "                    for myAlbumName in myAlbumNames:\n",
    "                        s = SequenceMatcher(None, myAlbumName, dbAlbumName)\n",
    "                        ratio = s.ratio()\n",
    "                        if ratio > 0.6:\n",
    "                            print(\"     {0: <15}{1: <10}{2: <8}{3}\".format(albumType, albumID, round(ratio,2), dbAlbumName))\n",
    "                            artistIDMap[artistName] = [idx, row[\"Name\"]]"
   ]
  },
  {
   "cell_type": "markdown",
   "metadata": {},
   "source": [
    "## Found Multi Artist"
   ]
  },
  {
   "cell_type": "code",
   "execution_count": null,
   "metadata": {},
   "outputs": [],
   "source": [
    "for artistName,artistData in artistIDMap.items():\n",
    "    print(artistName,' ==> ',artistData)"
   ]
  },
  {
   "cell_type": "code",
   "execution_count": null,
   "metadata": {},
   "outputs": [],
   "source": [
    "if len(artistIDMap) > 0:\n",
    "    myMusicNameIDMap.update(artistIDMap)"
   ]
  },
  {
   "cell_type": "markdown",
   "metadata": {},
   "source": [
    "## Set Single Artist"
   ]
  },
  {
   "cell_type": "code",
   "execution_count": 19,
   "metadata": {},
   "outputs": [
    {
     "name": "stdout",
     "output_type": "stream",
     "text": [
      "Meathook Seed  ==>  [Index(['300089'], dtype='object'), 'Meathook Seed']\n"
     ]
    }
   ],
   "source": [
    "for artistName,artistData in musicNameIDMap.items():\n",
    "    print(artistName,' ==> ',artistData)"
   ]
  },
  {
   "cell_type": "code",
   "execution_count": 20,
   "metadata": {},
   "outputs": [
    {
     "name": "stdout",
     "output_type": "stream",
     "text": [
      "Found 1 entries\n",
      "Found 1 entries\n",
      "There are 4692 total entries\n"
     ]
    }
   ],
   "source": [
    "print(\"Found {0} entries\".format(len(musicNameIDMap)))\n",
    "if len(musicNameIDMap) > 0:\n",
    "    try:\n",
    "        myMusicNameIDMap.update({k: [v[0][0], v[1].values[0]] for k,v in musicNameIDMap.items()})\n",
    "    except:\n",
    "        try:\n",
    "            myMusicNameIDMap.update({k: [v[0][0], v[1]] for k,v in musicNameIDMap.items()})\n",
    "        except:\n",
    "            raise ValueError(\"Not sure about {0}\".format(musicNameIDMap))\n",
    "print(\"Found {0} entries\".format(len(musicNameIDMap)))\n",
    "print(\"There are {0} total entries\".format(len(myMusicNameIDMap)))"
   ]
  },
  {
   "cell_type": "markdown",
   "metadata": {},
   "source": [
    "# Save Everything"
   ]
  },
  {
   "cell_type": "code",
   "execution_count": 21,
   "metadata": {},
   "outputs": [
    {
     "name": "stdout",
     "output_type": "stream",
     "text": [
      "Saving 4692 entries\n",
      "Saving data to musicDiscogsMap.p\n",
      "  --> This file is 129.3kB.\n",
      "Saved data to musicDiscogsMap.p\n",
      "  --> This file is 129.3kB.\n"
     ]
    }
   ],
   "source": [
    "from ioUtils import saveFile\n",
    "print(\"Saving {0} entries\".format(len(myMusicNameIDMap)))\n",
    "saveFile(ifile=\"musicDiscogsMap.p\", idata=myMusicNameIDMap, debug=True)"
   ]
  },
  {
   "cell_type": "code",
   "execution_count": 22,
   "metadata": {},
   "outputs": [
    {
     "name": "stdout",
     "output_type": "stream",
     "text": [
      "Saving 4692 entries\n",
      "Saving data to musicDiscogsMap.yaml\n",
      "Saved data to musicDiscogsMap.yaml\n",
      "  --> This file is 188.5kB.\n"
     ]
    }
   ],
   "source": [
    "from ioUtils import saveFile\n",
    "print(\"Saving {0} entries\".format(len(myMusicNameIDMap)))\n",
    "saveFile(ifile=\"musicDiscogsMap.yaml\", idata=myMusicNameIDMap, debug=True)"
   ]
  },
  {
   "cell_type": "code",
   "execution_count": null,
   "metadata": {},
   "outputs": [],
   "source": [
    "myMusicNameIDMap = getFile(\"musicDiscogsMap.p\")\n",
    "print(\"Found {0} music <-> discogs maps\".format(len(myMusicNameIDMap)))"
   ]
  },
  {
   "cell_type": "code",
   "execution_count": null,
   "metadata": {},
   "outputs": [],
   "source": [
    "from ioUtils import saveFile\n",
    "saveFile(ifile=\"musicDiscogsMap.p\", idata=myMusicNameIDMap, debug=True)\n",
    "from ioUtils import saveFile\n",
    "saveFile(ifile=\"musicDiscogsMap.yaml\", idata=myMusicNameIDMap, debug=True)"
   ]
  },
  {
   "cell_type": "markdown",
   "metadata": {},
   "source": [
    "# Find Music and Match Albums"
   ]
  },
  {
   "cell_type": "code",
   "execution_count": 28,
   "metadata": {},
   "outputs": [
    {
     "name": "stdout",
     "output_type": "stream",
     "text": [
      "Found 0 music <-> discogs albums maps\n"
     ]
    }
   ],
   "source": [
    "#myMusicAlbumIDMap = getFile(\"musicDiscogsAlbumMap.p\")\n",
    "myMusicAlbumIDMap = {}\n",
    "print(\"Found {0} music <-> discogs albums maps\".format(len(myMusicAlbumIDMap)))"
   ]
  },
  {
   "cell_type": "code",
   "execution_count": 25,
   "metadata": {},
   "outputs": [
    {
     "name": "stderr",
     "output_type": "stream",
     "text": [
      "/anaconda3/envs/py37/lib/python3.7/site-packages/utils-0.0.1-py3.7.egg/ioUtils.py:72: YAMLLoadWarning: calling yaml.load() without Loader=... is deprecated, as the default Loader is unsafe. Please read https://msg.pyyaml.org/load for full details.\n"
     ]
    },
    {
     "name": "stdout",
     "output_type": "stream",
     "text": [
      "Found 0 music <-> discogs albums maps\n"
     ]
    }
   ],
   "source": [
    "skipMusicAlbumIDMap = getFile(ifile=\"skipMusicDiscogsAlbumMap.yaml\")\n",
    "skipMusicAlbumIDMap = {}\n",
    "print(\"Found {0} music <-> discogs albums maps\".format(len(skipMusicAlbumIDMap)))"
   ]
  },
  {
   "cell_type": "markdown",
   "metadata": {},
   "source": [
    "## Johnny Cash"
   ]
  },
  {
   "cell_type": "code",
   "execution_count": null,
   "metadata": {},
   "outputs": [],
   "source": []
  },
  {
   "cell_type": "code",
   "execution_count": null,
   "metadata": {
    "scrolled": false
   },
   "outputs": [],
   "source": [
    "#myMusicNameIDMap"
   ]
  },
  {
   "cell_type": "markdown",
   "metadata": {},
   "source": [
    "# Show and Find Music <-> Discog Matches"
   ]
  },
  {
   "cell_type": "code",
   "execution_count": 23,
   "metadata": {},
   "outputs": [],
   "source": [
    "ratioCut = 0.90\n",
    "keepSkips = False"
   ]
  },
  {
   "cell_type": "code",
   "execution_count": 31,
   "metadata": {},
   "outputs": [
    {
     "name": "stdout",
     "output_type": "stream",
     "text": [
      "/Users/tgadfort/matched/A\n",
      "\tAqua                           ---> ['38862', 'Aqua']\n",
      "\t\tMy Album: Megalomania\n",
      "\t\t   Match: ['3155890', 'Megalomania']\n",
      "/Users/tgadfort/matched/B\n",
      "\tBilly Joel                     ---> ['137418', 'Billy Joel']\n",
      "\t\tMy Album: Glass Houses\n",
      "\t\t   Match: ['9920037', 'Glass Houses']\n",
      "\t\tMy Album: The Nylon Curtain\n",
      "\t\t   Match: ['10648173', 'The Nylon Curtain']\n",
      "/Users/tgadfort/matched/C\n",
      "\tCarrie Underwood               ---> ['1011680', 'Carrie Underwood']\n",
      "\t\tMy Album: Cry Pretty\n",
      "\t\t   Match: ['1374864', 'Cry Pretty']\n",
      "\tChristopher Cross              ---> ['48512', 'Christopher Cross']\n",
      "\t\tMy Album: Window\n",
      "\t\t   Match: ['13322939', 'Window']\n",
      "\tCyndi Lauper                   ---> ['29718', 'Cyndi Lauper']\n",
      "\t\tMy Album: At Last\n",
      "\t\t   Match: ['7491780', 'At Last']\n",
      "/Users/tgadfort/matched/D\n",
      "\tDaft Punk                      ---> ['1289', 'Daft Punk']\n",
      "\t\tMy Album: One More Time\n",
      "\t\t   Match: ['14603404', 'One More Time']\n",
      "\tDavid M. Bailey                ---> ['4929306', 'David M. Bailey']\n",
      "\t\tMy Album: Peace\n",
      "\t\t   Match: ['13273455', 'Peace']\n",
      "/Users/tgadfort/matched/E\n",
      "\tEcho & The Bunnymen            ---> ['45115', 'Echo & The Bunnymen']\n",
      "\t\tMy Album: Flowers\n",
      "\t\t   Match: ['14357797', 'Flowers']\n",
      "\tEl Vez                         ---> ['280198', 'El Vez']\n",
      "\t\tMy Album: How Great Thou Art: The Greatest Hits of El Vez\n",
      "\t\t   Match: ['13611113', 'How Great Thou Art (The Greatest Hits Of El Vez)']\n",
      "/Users/tgadfort/matched/F\n",
      "\tFleetwood Mac                  ---> ['47333', 'Fleetwood Mac']\n",
      "\t\tMy Album: The Chain\n",
      "\t\t   Match: ['1290683', 'The Chain']\n",
      "/Users/tgadfort/matched/G\n",
      "\tGary Hoey                      ---> ['701018', 'Gary Hoey']\n",
      "\t\tMy Album: Gary Hoey\n",
      "\t\t   Match: ['10161962', 'Gary Hoey']\n",
      "\tGorillaz                       ---> ['6378', 'Gorillaz']\n",
      "\t\tMy Album: Humanz\n",
      "\t\t   Match: ['11921404', 'Humanz']\n",
      "/Users/tgadfort/matched/H\n",
      "\tHelmet                         ---> ['87645', 'Helmet (2)']\n",
      "\t\tMy Album: Aftertaste\n",
      "\t\t   Match: ['1276052', 'Aftertaste']\n",
      "\t\tMy Album: Meantime\n",
      "\t\t   Match: ['9580284', 'Meantime']\n",
      "/Users/tgadfort/matched/I\n",
      "/Users/tgadfort/matched/J\n",
      "/Users/tgadfort/matched/K\n",
      "\tKent                           ---> ['90653', 'Kent (2)']\n",
      "\t\tMy Album: Hagnesta Hill\n",
      "\t\t   Match: ['2854515', 'Hagnesta Hill']\n",
      "/Users/tgadfort/matched/L\n",
      "\tLenny Kravitz                  ---> ['63332', 'Lenny Kravitz']\n",
      "\t\tMy Album: Baptism\n",
      "\t\t   Match: ['14691967', 'Baptism']\n",
      "/Users/tgadfort/matched/M\n"
     ]
    },
    {
     "ename": "KeyError",
     "evalue": "'300089'",
     "output_type": "error",
     "traceback": [
      "\u001b[0;31m---------------------------------------------------------------------------\u001b[0m",
      "\u001b[0;31mKeyError\u001b[0m                                  Traceback (most recent call last)",
      "\u001b[0;32m/anaconda3/envs/py37/lib/python3.7/site-packages/pandas/core/indexes/base.py\u001b[0m in \u001b[0;36mget_loc\u001b[0;34m(self, key, method, tolerance)\u001b[0m\n\u001b[1;32m   2656\u001b[0m             \u001b[0;32mtry\u001b[0m\u001b[0;34m:\u001b[0m\u001b[0;34m\u001b[0m\u001b[0;34m\u001b[0m\u001b[0m\n\u001b[0;32m-> 2657\u001b[0;31m                 \u001b[0;32mreturn\u001b[0m \u001b[0mself\u001b[0m\u001b[0;34m.\u001b[0m\u001b[0m_engine\u001b[0m\u001b[0;34m.\u001b[0m\u001b[0mget_loc\u001b[0m\u001b[0;34m(\u001b[0m\u001b[0mkey\u001b[0m\u001b[0;34m)\u001b[0m\u001b[0;34m\u001b[0m\u001b[0;34m\u001b[0m\u001b[0m\n\u001b[0m\u001b[1;32m   2658\u001b[0m             \u001b[0;32mexcept\u001b[0m \u001b[0mKeyError\u001b[0m\u001b[0;34m:\u001b[0m\u001b[0;34m\u001b[0m\u001b[0;34m\u001b[0m\u001b[0m\n",
      "\u001b[0;32mpandas/_libs/index.pyx\u001b[0m in \u001b[0;36mpandas._libs.index.IndexEngine.get_loc\u001b[0;34m()\u001b[0m\n",
      "\u001b[0;32mpandas/_libs/index.pyx\u001b[0m in \u001b[0;36mpandas._libs.index.IndexEngine.get_loc\u001b[0;34m()\u001b[0m\n",
      "\u001b[0;32mpandas/_libs/hashtable_class_helper.pxi\u001b[0m in \u001b[0;36mpandas._libs.hashtable.PyObjectHashTable.get_item\u001b[0;34m()\u001b[0m\n",
      "\u001b[0;32mpandas/_libs/hashtable_class_helper.pxi\u001b[0m in \u001b[0;36mpandas._libs.hashtable.PyObjectHashTable.get_item\u001b[0;34m()\u001b[0m\n",
      "\u001b[0;31mKeyError\u001b[0m: '300089'",
      "\nDuring handling of the above exception, another exception occurred:\n",
      "\u001b[0;31mKeyError\u001b[0m                                  Traceback (most recent call last)",
      "\u001b[0;32m<ipython-input-31-748ec433a5fe>\u001b[0m in \u001b[0;36m<module>\u001b[0;34m\u001b[0m\n\u001b[1;32m     26\u001b[0m         \u001b[0midx\u001b[0m                      \u001b[0;34m=\u001b[0m \u001b[0mdiscogsArtist\u001b[0m\u001b[0;34m[\u001b[0m\u001b[0;36m0\u001b[0m\u001b[0;34m]\u001b[0m\u001b[0;34m\u001b[0m\u001b[0;34m\u001b[0m\u001b[0m\n\u001b[1;32m     27\u001b[0m         \u001b[0mdiscogsArtistName\u001b[0m        \u001b[0;34m=\u001b[0m \u001b[0mdiscogsArtist\u001b[0m\u001b[0;34m[\u001b[0m\u001b[0;36m1\u001b[0m\u001b[0;34m]\u001b[0m\u001b[0;34m\u001b[0m\u001b[0;34m\u001b[0m\u001b[0m\n\u001b[0;32m---> 28\u001b[0;31m         \u001b[0mdiscogsArtistAlbumsData\u001b[0m  \u001b[0;34m=\u001b[0m \u001b[0mgetRowByIndex\u001b[0m\u001b[0;34m(\u001b[0m\u001b[0martistAlbumsDB\u001b[0m\u001b[0;34m,\u001b[0m \u001b[0midx\u001b[0m\u001b[0;34m)\u001b[0m\u001b[0;34m\u001b[0m\u001b[0;34m\u001b[0m\u001b[0m\n\u001b[0m\u001b[1;32m     29\u001b[0m         \u001b[0mdiscogsArtistAlbums\u001b[0m      \u001b[0;34m=\u001b[0m \u001b[0mdiscogsArtistAlbumsData\u001b[0m\u001b[0;34m[\u001b[0m\u001b[0;34m\"Albums\"\u001b[0m\u001b[0;34m]\u001b[0m\u001b[0;34m\u001b[0m\u001b[0;34m\u001b[0m\u001b[0m\n\u001b[1;32m     30\u001b[0m \u001b[0;34m\u001b[0m\u001b[0m\n",
      "\u001b[0;32m<ipython-input-6-494ec967219f>\u001b[0m in \u001b[0;36mgetRowByIndex\u001b[0;34m(pdf, idx)\u001b[0m\n\u001b[1;32m      9\u001b[0m \u001b[0;34m\u001b[0m\u001b[0m\n\u001b[1;32m     10\u001b[0m \u001b[0;32mdef\u001b[0m \u001b[0mgetRowByIndex\u001b[0m\u001b[0;34m(\u001b[0m\u001b[0mpdf\u001b[0m\u001b[0;34m,\u001b[0m \u001b[0midx\u001b[0m\u001b[0;34m)\u001b[0m\u001b[0;34m:\u001b[0m\u001b[0;34m\u001b[0m\u001b[0;34m\u001b[0m\u001b[0m\n\u001b[0;32m---> 11\u001b[0;31m     \u001b[0;32mreturn\u001b[0m \u001b[0mpdf\u001b[0m\u001b[0;34m.\u001b[0m\u001b[0mloc\u001b[0m\u001b[0;34m[\u001b[0m\u001b[0midx\u001b[0m\u001b[0;34m]\u001b[0m\u001b[0;34m\u001b[0m\u001b[0;34m\u001b[0m\u001b[0m\n\u001b[0m",
      "\u001b[0;32m/anaconda3/envs/py37/lib/python3.7/site-packages/pandas/core/indexing.py\u001b[0m in \u001b[0;36m__getitem__\u001b[0;34m(self, key)\u001b[0m\n\u001b[1;32m   1498\u001b[0m \u001b[0;34m\u001b[0m\u001b[0m\n\u001b[1;32m   1499\u001b[0m             \u001b[0mmaybe_callable\u001b[0m \u001b[0;34m=\u001b[0m \u001b[0mcom\u001b[0m\u001b[0;34m.\u001b[0m\u001b[0mapply_if_callable\u001b[0m\u001b[0;34m(\u001b[0m\u001b[0mkey\u001b[0m\u001b[0;34m,\u001b[0m \u001b[0mself\u001b[0m\u001b[0;34m.\u001b[0m\u001b[0mobj\u001b[0m\u001b[0;34m)\u001b[0m\u001b[0;34m\u001b[0m\u001b[0;34m\u001b[0m\u001b[0m\n\u001b[0;32m-> 1500\u001b[0;31m             \u001b[0;32mreturn\u001b[0m \u001b[0mself\u001b[0m\u001b[0;34m.\u001b[0m\u001b[0m_getitem_axis\u001b[0m\u001b[0;34m(\u001b[0m\u001b[0mmaybe_callable\u001b[0m\u001b[0;34m,\u001b[0m \u001b[0maxis\u001b[0m\u001b[0;34m=\u001b[0m\u001b[0maxis\u001b[0m\u001b[0;34m)\u001b[0m\u001b[0;34m\u001b[0m\u001b[0;34m\u001b[0m\u001b[0m\n\u001b[0m\u001b[1;32m   1501\u001b[0m \u001b[0;34m\u001b[0m\u001b[0m\n\u001b[1;32m   1502\u001b[0m     \u001b[0;32mdef\u001b[0m \u001b[0m_is_scalar_access\u001b[0m\u001b[0;34m(\u001b[0m\u001b[0mself\u001b[0m\u001b[0;34m,\u001b[0m \u001b[0mkey\u001b[0m\u001b[0;34m)\u001b[0m\u001b[0;34m:\u001b[0m\u001b[0;34m\u001b[0m\u001b[0;34m\u001b[0m\u001b[0m\n",
      "\u001b[0;32m/anaconda3/envs/py37/lib/python3.7/site-packages/pandas/core/indexing.py\u001b[0m in \u001b[0;36m_getitem_axis\u001b[0;34m(self, key, axis)\u001b[0m\n\u001b[1;32m   1911\u001b[0m         \u001b[0;31m# fall thru to straight lookup\u001b[0m\u001b[0;34m\u001b[0m\u001b[0;34m\u001b[0m\u001b[0;34m\u001b[0m\u001b[0m\n\u001b[1;32m   1912\u001b[0m         \u001b[0mself\u001b[0m\u001b[0;34m.\u001b[0m\u001b[0m_validate_key\u001b[0m\u001b[0;34m(\u001b[0m\u001b[0mkey\u001b[0m\u001b[0;34m,\u001b[0m \u001b[0maxis\u001b[0m\u001b[0;34m)\u001b[0m\u001b[0;34m\u001b[0m\u001b[0;34m\u001b[0m\u001b[0m\n\u001b[0;32m-> 1913\u001b[0;31m         \u001b[0;32mreturn\u001b[0m \u001b[0mself\u001b[0m\u001b[0;34m.\u001b[0m\u001b[0m_get_label\u001b[0m\u001b[0;34m(\u001b[0m\u001b[0mkey\u001b[0m\u001b[0;34m,\u001b[0m \u001b[0maxis\u001b[0m\u001b[0;34m=\u001b[0m\u001b[0maxis\u001b[0m\u001b[0;34m)\u001b[0m\u001b[0;34m\u001b[0m\u001b[0;34m\u001b[0m\u001b[0m\n\u001b[0m\u001b[1;32m   1914\u001b[0m \u001b[0;34m\u001b[0m\u001b[0m\n\u001b[1;32m   1915\u001b[0m \u001b[0;34m\u001b[0m\u001b[0m\n",
      "\u001b[0;32m/anaconda3/envs/py37/lib/python3.7/site-packages/pandas/core/indexing.py\u001b[0m in \u001b[0;36m_get_label\u001b[0;34m(self, label, axis)\u001b[0m\n\u001b[1;32m    139\u001b[0m             \u001b[0;32mraise\u001b[0m \u001b[0mIndexingError\u001b[0m\u001b[0;34m(\u001b[0m\u001b[0;34m'no slices here, handle elsewhere'\u001b[0m\u001b[0;34m)\u001b[0m\u001b[0;34m\u001b[0m\u001b[0;34m\u001b[0m\u001b[0m\n\u001b[1;32m    140\u001b[0m \u001b[0;34m\u001b[0m\u001b[0m\n\u001b[0;32m--> 141\u001b[0;31m         \u001b[0;32mreturn\u001b[0m \u001b[0mself\u001b[0m\u001b[0;34m.\u001b[0m\u001b[0mobj\u001b[0m\u001b[0;34m.\u001b[0m\u001b[0m_xs\u001b[0m\u001b[0;34m(\u001b[0m\u001b[0mlabel\u001b[0m\u001b[0;34m,\u001b[0m \u001b[0maxis\u001b[0m\u001b[0;34m=\u001b[0m\u001b[0maxis\u001b[0m\u001b[0;34m)\u001b[0m\u001b[0;34m\u001b[0m\u001b[0;34m\u001b[0m\u001b[0m\n\u001b[0m\u001b[1;32m    142\u001b[0m \u001b[0;34m\u001b[0m\u001b[0m\n\u001b[1;32m    143\u001b[0m     \u001b[0;32mdef\u001b[0m \u001b[0m_get_loc\u001b[0m\u001b[0;34m(\u001b[0m\u001b[0mself\u001b[0m\u001b[0;34m,\u001b[0m \u001b[0mkey\u001b[0m\u001b[0;34m,\u001b[0m \u001b[0maxis\u001b[0m\u001b[0;34m=\u001b[0m\u001b[0;32mNone\u001b[0m\u001b[0;34m)\u001b[0m\u001b[0;34m:\u001b[0m\u001b[0;34m\u001b[0m\u001b[0;34m\u001b[0m\u001b[0m\n",
      "\u001b[0;32m/anaconda3/envs/py37/lib/python3.7/site-packages/pandas/core/generic.py\u001b[0m in \u001b[0;36mxs\u001b[0;34m(self, key, axis, level, drop_level)\u001b[0m\n\u001b[1;32m   3583\u001b[0m                                                       drop_level=drop_level)\n\u001b[1;32m   3584\u001b[0m         \u001b[0;32melse\u001b[0m\u001b[0;34m:\u001b[0m\u001b[0;34m\u001b[0m\u001b[0;34m\u001b[0m\u001b[0m\n\u001b[0;32m-> 3585\u001b[0;31m             \u001b[0mloc\u001b[0m \u001b[0;34m=\u001b[0m \u001b[0mself\u001b[0m\u001b[0;34m.\u001b[0m\u001b[0mindex\u001b[0m\u001b[0;34m.\u001b[0m\u001b[0mget_loc\u001b[0m\u001b[0;34m(\u001b[0m\u001b[0mkey\u001b[0m\u001b[0;34m)\u001b[0m\u001b[0;34m\u001b[0m\u001b[0;34m\u001b[0m\u001b[0m\n\u001b[0m\u001b[1;32m   3586\u001b[0m \u001b[0;34m\u001b[0m\u001b[0m\n\u001b[1;32m   3587\u001b[0m             \u001b[0;32mif\u001b[0m \u001b[0misinstance\u001b[0m\u001b[0;34m(\u001b[0m\u001b[0mloc\u001b[0m\u001b[0;34m,\u001b[0m \u001b[0mnp\u001b[0m\u001b[0;34m.\u001b[0m\u001b[0mndarray\u001b[0m\u001b[0;34m)\u001b[0m\u001b[0;34m:\u001b[0m\u001b[0;34m\u001b[0m\u001b[0;34m\u001b[0m\u001b[0m\n",
      "\u001b[0;32m/anaconda3/envs/py37/lib/python3.7/site-packages/pandas/core/indexes/base.py\u001b[0m in \u001b[0;36mget_loc\u001b[0;34m(self, key, method, tolerance)\u001b[0m\n\u001b[1;32m   2657\u001b[0m                 \u001b[0;32mreturn\u001b[0m \u001b[0mself\u001b[0m\u001b[0;34m.\u001b[0m\u001b[0m_engine\u001b[0m\u001b[0;34m.\u001b[0m\u001b[0mget_loc\u001b[0m\u001b[0;34m(\u001b[0m\u001b[0mkey\u001b[0m\u001b[0;34m)\u001b[0m\u001b[0;34m\u001b[0m\u001b[0;34m\u001b[0m\u001b[0m\n\u001b[1;32m   2658\u001b[0m             \u001b[0;32mexcept\u001b[0m \u001b[0mKeyError\u001b[0m\u001b[0;34m:\u001b[0m\u001b[0;34m\u001b[0m\u001b[0;34m\u001b[0m\u001b[0m\n\u001b[0;32m-> 2659\u001b[0;31m                 \u001b[0;32mreturn\u001b[0m \u001b[0mself\u001b[0m\u001b[0;34m.\u001b[0m\u001b[0m_engine\u001b[0m\u001b[0;34m.\u001b[0m\u001b[0mget_loc\u001b[0m\u001b[0;34m(\u001b[0m\u001b[0mself\u001b[0m\u001b[0;34m.\u001b[0m\u001b[0m_maybe_cast_indexer\u001b[0m\u001b[0;34m(\u001b[0m\u001b[0mkey\u001b[0m\u001b[0;34m)\u001b[0m\u001b[0;34m)\u001b[0m\u001b[0;34m\u001b[0m\u001b[0;34m\u001b[0m\u001b[0m\n\u001b[0m\u001b[1;32m   2660\u001b[0m         \u001b[0mindexer\u001b[0m \u001b[0;34m=\u001b[0m \u001b[0mself\u001b[0m\u001b[0;34m.\u001b[0m\u001b[0mget_indexer\u001b[0m\u001b[0;34m(\u001b[0m\u001b[0;34m[\u001b[0m\u001b[0mkey\u001b[0m\u001b[0;34m]\u001b[0m\u001b[0;34m,\u001b[0m \u001b[0mmethod\u001b[0m\u001b[0;34m=\u001b[0m\u001b[0mmethod\u001b[0m\u001b[0;34m,\u001b[0m \u001b[0mtolerance\u001b[0m\u001b[0;34m=\u001b[0m\u001b[0mtolerance\u001b[0m\u001b[0;34m)\u001b[0m\u001b[0;34m\u001b[0m\u001b[0;34m\u001b[0m\u001b[0m\n\u001b[1;32m   2661\u001b[0m         \u001b[0;32mif\u001b[0m \u001b[0mindexer\u001b[0m\u001b[0;34m.\u001b[0m\u001b[0mndim\u001b[0m \u001b[0;34m>\u001b[0m \u001b[0;36m1\u001b[0m \u001b[0;32mor\u001b[0m \u001b[0mindexer\u001b[0m\u001b[0;34m.\u001b[0m\u001b[0msize\u001b[0m \u001b[0;34m>\u001b[0m \u001b[0;36m1\u001b[0m\u001b[0;34m:\u001b[0m\u001b[0;34m\u001b[0m\u001b[0;34m\u001b[0m\u001b[0m\n",
      "\u001b[0;32mpandas/_libs/index.pyx\u001b[0m in \u001b[0;36mpandas._libs.index.IndexEngine.get_loc\u001b[0;34m()\u001b[0m\n",
      "\u001b[0;32mpandas/_libs/index.pyx\u001b[0m in \u001b[0;36mpandas._libs.index.IndexEngine.get_loc\u001b[0;34m()\u001b[0m\n",
      "\u001b[0;32mpandas/_libs/hashtable_class_helper.pxi\u001b[0m in \u001b[0;36mpandas._libs.hashtable.PyObjectHashTable.get_item\u001b[0;34m()\u001b[0m\n",
      "\u001b[0;32mpandas/_libs/hashtable_class_helper.pxi\u001b[0m in \u001b[0;36mpandas._libs.hashtable.PyObjectHashTable.get_item\u001b[0;34m()\u001b[0m\n",
      "\u001b[0;31mKeyError\u001b[0m: '300089'"
     ]
    }
   ],
   "source": [
    "def showArtist(artistName, discogsArtist):\n",
    "    print(\"\\t{0: <30} ---> {1}\".format(artistName, discogsArtist))\n",
    "    \n",
    "def showAlbum(myAlbumName):\n",
    "    print(\"\\t\\tMy Album: {0}\".format(myAlbumName))\n",
    "    \n",
    "def showMatch(myAlbumName, albumData):\n",
    "    print(\"\\t\\t   Match: {0}\".format(albumData))\n",
    "\n",
    "musicAlbumIDMap = {}\n",
    "discogMediaNames = ['Albums', 'Singles & EPs', 'Compilations', 'Videos', 'Miscellaneous', 'Visual', 'DJ Mixes']\n",
    "myMediaNames     = ['Random', 'Todo', 'Match', 'Title', 'Singles', 'Album', 'Unknown', 'Bootleg', 'Mix', 'Tribute']\n",
    "ignoreDirs       = list(set(discogMediaNames+myMediaNames))\n",
    "nSkips = len(skipMusicAlbumIDMap)\n",
    "\n",
    "\n",
    "\n",
    "for dirN in findDirs(\"/Users/tgadfort/matched\"):\n",
    "    print(dirN)\n",
    "    for dirval in findDirs(dirN):        \n",
    "        artistName = getDirBasics(dirval)[-1]\n",
    "        artistName = normalize('NFC', artistName)\n",
    "        \n",
    "        discogsArtist = myMusicNameIDMap[artistName]        \n",
    "        idx                      = discogsArtist[0]\n",
    "        discogsArtistName        = discogsArtist[1]\n",
    "        try:\n",
    "            discogsArtistAlbumsData  = getRowByIndex(artistAlbumsDB, idx)\n",
    "            discogsArtistAlbums      = discogsArtistAlbumsData[\"Albums\"]\n",
    "        except:\n",
    "            raise ValueError(\"Could not find Artist ID [{0}] and Artist Name [{1}]\".format(idx, discogsArtistName))\n",
    "        \n",
    "        albums = [x for x in findDirs(dirval) if getDirBasics(x)[-1] not in ignoreDirs]        \n",
    "        myAlbumNames = [album.split(\"/{0}/\".format(artistName))[-1] for album in albums]\n",
    "        \n",
    "        for myAlbumName in myAlbumNames:\n",
    "            myAlbumName = normalize('NFC', myAlbumName)\n",
    "            if myMusicAlbumIDMap.get(artistName) is not None:\n",
    "                if myMusicAlbumIDMap[artistName].get(myAlbumName) is not None:\n",
    "                    #print(\"\\t\\tMy Album: {0} ---> {1}\".format(myAlbumName, myMusicAlbumIDMap[artistName][myAlbumName]))\n",
    "                    continue\n",
    "            if skipMusicAlbumIDMap.get(artistName) is not None:\n",
    "                if skipMusicAlbumIDMap[artistName].get(myAlbumName) is not None:\n",
    "                    #print(\"\\t\\tMy Album: {0} ---> {1}\".format(myAlbumName, myMusicAlbumIDMap[artistName][myAlbumName]))\n",
    "                    continue\n",
    "\n",
    "            maxRatio  = None\n",
    "            albumData = None\n",
    "            for albumType, albumTypeData in discogsArtistAlbums.items():\n",
    "                for albumID, dbAlbumName in albumTypeData.items():\n",
    "                    convDiscogsAlbumName = discConv(dbAlbumName)\n",
    "                    s = SequenceMatcher(None, myAlbumName, convDiscogsAlbumName)\n",
    "                    ratio = round(s.ratio(), 3)\n",
    "                    if ratio > ratioCut:\n",
    "                        if maxRatio is None:\n",
    "                            maxRatio = ratio\n",
    "                        else:\n",
    "                            if ratio < maxRatio:\n",
    "                                continue\n",
    "                            maxRatio  = ratio\n",
    "                            albumData = [albumID, dbAlbumName]\n",
    "                            \n",
    "            if albumData is not None:\n",
    "                if musicAlbumIDMap.get(artistName) is None:\n",
    "                    musicAlbumIDMap[artistName] = {}\n",
    "                    showArtist(artistName, discogsArtist)\n",
    "                showAlbum(myAlbumName)\n",
    "                musicAlbumIDMap[artistName][myAlbumName] = albumData\n",
    "                showMatch(myAlbumName, albumData)\n",
    "                        \n",
    "            if keepSkips:\n",
    "                if skipMusicAlbumIDMap.get(artistName) is None:\n",
    "                    skipMusicAlbumIDMap[artistName] = {}\n",
    "                #showAlbum(myAlbumName)\n",
    "                skipMusicAlbumIDMap[artistName][myAlbumName] = [albumID, dbAlbumName]\n",
    "\n"
   ]
  },
  {
   "cell_type": "markdown",
   "metadata": {},
   "source": [
    "## Check For Skips"
   ]
  },
  {
   "cell_type": "code",
   "execution_count": null,
   "metadata": {},
   "outputs": [],
   "source": [
    "discogsArtist            = myMusicNameIDMap[\"John Fahey\"]\n",
    "idx                      = discogsArtist[0]\n",
    "print(\"Artist ID -->\",idx)\n",
    "discogsArtistName        = discogsArtist[1]\n",
    "discogsArtistAlbumsData  = getRowByIndex(artistAlbumsDB, idx)\n",
    "discogsArtistAlbums      = discogsArtistAlbumsData[\"Albums\"]\n",
    "\n",
    "for k,v in discogsArtistAlbums.items():\n",
    "    for code,name in v.items():\n",
    "        print(\"{0: <15}{1: <12}{2}\".format(k,code,name))\n",
    "        continue"
   ]
  },
  {
   "cell_type": "code",
   "execution_count": null,
   "metadata": {},
   "outputs": [],
   "source": [
    "print(\"Previous {0} music <-> discogs albums maps\".format(nSkips))\n",
    "print(\"Found {0} music <-> discogs albums maps\".format(len(skipMusicAlbumIDMap)))\n",
    "saveFile(ifile=\"skipMusicDiscogsAlbumMap.yaml\", idata=skipMusicAlbumIDMap, debug=True)\n"
   ]
  },
  {
   "cell_type": "code",
   "execution_count": null,
   "metadata": {},
   "outputs": [],
   "source": [
    "skipMusicAlbumIDMap = getFile(ifile=\"skipMusicDiscogsAlbumMap.yaml\")\n",
    "skipMusicAlbumIDMap = {}\n",
    "print(\"Found {0} music <-> discogs albums maps\".format(len(skipMusicAlbumIDMap)))"
   ]
  },
  {
   "cell_type": "markdown",
   "metadata": {},
   "source": [
    "## Check For Match"
   ]
  },
  {
   "cell_type": "code",
   "execution_count": null,
   "metadata": {},
   "outputs": [],
   "source": [
    "from ioUtils import saveFile\n",
    "saveFile(ifile=\"newMusicDiscogsAlbumMap.yaml\", idata=musicAlbumIDMap, debug=True)\n",
    "print(\"Found {0} music <-> discogs albums maps\".format(len(musicAlbumIDMap)))"
   ]
  },
  {
   "cell_type": "code",
   "execution_count": null,
   "metadata": {},
   "outputs": [],
   "source": [
    "musicAlbumIDMap = getFile(ifile=\"newMusicDiscogsAlbumMap.yaml\", debug=True)\n",
    "print(\"Found {0} music <-> discogs albums maps\".format(len(musicAlbumIDMap)))"
   ]
  },
  {
   "cell_type": "markdown",
   "metadata": {},
   "source": [
    "## Move To Matched"
   ]
  },
  {
   "cell_type": "code",
   "execution_count": null,
   "metadata": {},
   "outputs": [],
   "source": [
    "from fsUtils import mkDir, isDir, moveDir\n",
    "for dirN in findDirs(\"/Users/tgadfort/matched\"):\n",
    "    print(dirN)\n",
    "    for dirval in findDirs(dirN):        \n",
    "        artistName = getDirBasics(dirval)[-1]\n",
    "        artistName = normalize('NFC', artistName)\n",
    "        musicMap   = musicAlbumIDMap.get(artistName)\n",
    "        if musicMap is None:\n",
    "            continue\n",
    "        for myAlbumName,albumVal in musicMap.items():\n",
    "            matchedDir = setDir(dirval, \"Match\")\n",
    "            mkDir(matchedDir)\n",
    "            srcDir = setDir(dirval, myAlbumName)\n",
    "            if not isDir(srcDir):\n",
    "                print(\"{0} does not exist\".format(srcDir))\n",
    "                continue\n",
    "            dstDir = setDir(matchedDir, discConv(myAlbumName))\n",
    "            if isDir(dstDir):\n",
    "                print(\"{0} already exists\".format(dstDir))\n",
    "                continue\n",
    "                \n",
    "            print(\"Moving {0}  --->  {1}\".format(srcDir, dstDir))\n",
    "            moveDir(srcDir, dstDir)"
   ]
  },
  {
   "cell_type": "markdown",
   "metadata": {},
   "source": [
    "# Move To Album Type"
   ]
  },
  {
   "cell_type": "code",
   "execution_count": null,
   "metadata": {},
   "outputs": [],
   "source": [
    "moveData = {}\n",
    "for dirN in findDirs(\"/Users/tgadfort/matched\"):\n",
    "    print(dirN)\n",
    "    for dirval in findDirs(dirN):\n",
    "        matchedDir = setDir(dirval, \"Match\")\n",
    "        aTypes     = ['Albums', 'Singles & EPs', 'Compilations', 'Videos', 'Miscellaneous', 'Visual', 'DJ Mixes']\n",
    "        albums     = [getDirBasics(x)[-1] for x in findDirs(matchedDir)]\n",
    "        albums     = [x for x in albums if x not in aTypes]\n",
    "        if len(albums) == 0:\n",
    "            continue\n",
    "        \n",
    "        artistName = getDirBasics(dirval)[-1]\n",
    "        artistName = normalize('NFC', artistName)\n",
    "        \n",
    "        discogsArtist = myMusicNameIDMap[artistName]\n",
    "        \n",
    "        idx                      = discogsArtist[0]\n",
    "        discogsArtistName        = discogsArtist[1]\n",
    "        discogsArtistAlbumsData  = getRowByIndex(artistAlbumsDB, idx)\n",
    "        discogsArtistAlbums      = discogsArtistAlbumsData[\"Albums\"]\n",
    "        \n",
    "        \n",
    "        for myAlbumName in albums:\n",
    "            myAlbumName = normalize('NFC', myAlbumName)\n",
    "            maxRatio    = None\n",
    "            dbAlbumData = {}\n",
    "            for albumType, albumTypeData in discogsArtistAlbums.items():\n",
    "                for albumID, dbAlbumName in albumTypeData.items():\n",
    "                    convDiscogsAlbumName = discConv(dbAlbumName)\n",
    "                    s = SequenceMatcher(None, myAlbumName, convDiscogsAlbumName)\n",
    "                    ratio = round(s.ratio(), 2)\n",
    "                    if ratio > 0.0:\n",
    "                        if maxRatio is None:\n",
    "                            maxRatio = ratio\n",
    "                        else:\n",
    "                            if ratio < maxRatio:\n",
    "                                continue\n",
    "                            maxRatio = ratio\n",
    "\n",
    "                        if moveData.get(artistName) is None:\n",
    "                            print('  ',artistName)\n",
    "                            moveData[artistName] = {\"Dir\": matchedDir, \"Albums\": {}}\n",
    "                        moveData[artistName][\"Albums\"][myAlbumName] = [albumID, albumType, convDiscogsAlbumName]\n",
    "       \n",
    "            if maxRatio is not None:\n",
    "                print('\\t{0: <50}'.format(myAlbumName),moveData[artistName][\"Albums\"][myAlbumName])"
   ]
  },
  {
   "cell_type": "code",
   "execution_count": null,
   "metadata": {},
   "outputs": [],
   "source": [
    "saveFile(ifile=\"matchedMoveMusicDiscogsAlbumMap.yaml\", idata=moveData, debug=True)\n",
    "print(\"Found {0} music <-> discogs albums maps\".format(len(moveData)))"
   ]
  },
  {
   "cell_type": "code",
   "execution_count": null,
   "metadata": {},
   "outputs": [],
   "source": [
    "moveData = getFile(ifile=\"matchedMoveMusicDiscogsAlbumMap.yaml\", debug=True)\n",
    "print(\"Found {0} music <-> discogs albums maps\".format(len(moveData)))"
   ]
  },
  {
   "cell_type": "code",
   "execution_count": null,
   "metadata": {},
   "outputs": [],
   "source": [
    "atypes = {}\n",
    "for artistName,artistMoveData in moveData.items():\n",
    "    dirval = artistMoveData[\"Dir\"]\n",
    "    albums = artistMoveData[\"Albums\"]\n",
    "    for myAlbumName, dbAlbumData in albums.items():\n",
    "        albumID, albumType, convDiscogsAlbumName = dbAlbumData[0], dbAlbumData[1], dbAlbumData[2]\n",
    "        atypes[albumType] = True\n",
    "        albumTypeDir = setDir(dirval, albumType)\n",
    "        mkDir(albumTypeDir)\n",
    "        srcDir  = setDir(dirval, myAlbumName)\n",
    "        dstName = \" :: \".join([myAlbumName, \"[{0}]\".format(albumID)])\n",
    "        dstDir  = setDir(albumTypeDir, dstName)\n",
    "        print(\"Moving {0}\".format(srcDir))\n",
    "        moveDir(srcDir, dstDir)"
   ]
  },
  {
   "cell_type": "code",
   "execution_count": null,
   "metadata": {},
   "outputs": [],
   "source": [
    "list(atypes.keys())"
   ]
  },
  {
   "cell_type": "code",
   "execution_count": null,
   "metadata": {},
   "outputs": [],
   "source": []
  },
  {
   "cell_type": "code",
   "execution_count": null,
   "metadata": {},
   "outputs": [],
   "source": []
  },
  {
   "cell_type": "code",
   "execution_count": null,
   "metadata": {},
   "outputs": [],
   "source": [
    "for artistName,v in musicAlbumIDMap.items():\n",
    "    print(artistName)\n",
    "    for myAlbumName,v2 in v.items():\n",
    "        print(\"\\t\",myAlbumName,'\\t',v2)"
   ]
  },
  {
   "cell_type": "code",
   "execution_count": null,
   "metadata": {},
   "outputs": [],
   "source": [
    "if True:\n",
    "    saveFile(ifile=\"skipMusicDiscogsAlbumMap.yaml\", idata=skipMusicAlbumIDMap, debug=True)\n",
    "    print(\"Found {0} music <-> discogs albums maps\".format(len(skipMusicAlbumIDMap)))\n",
    "skipMusicAlbumIDMap"
   ]
  },
  {
   "cell_type": "code",
   "execution_count": null,
   "metadata": {},
   "outputs": [],
   "source": [
    "saveFile(ifile=\"newMusicDiscogsAlbumMap.yaml\", idata=musicAlbumIDMap, debug=True)\n",
    "print(\"Found {0} music <-> discogs albums maps\".format(len(musicAlbumIDMap)))"
   ]
  },
  {
   "cell_type": "code",
   "execution_count": null,
   "metadata": {},
   "outputs": [],
   "source": [
    "musicAlbumIDMap = getFile(ifile=\"newMusicDiscogsAlbumMap.yaml\", debug=True)\n",
    "print(\"Found {0} music <-> discogs albums maps\".format(len(musicAlbumIDMap)))"
   ]
  },
  {
   "cell_type": "markdown",
   "metadata": {},
   "source": [
    "## Merge Maps (if needed)"
   ]
  },
  {
   "cell_type": "code",
   "execution_count": null,
   "metadata": {},
   "outputs": [],
   "source": [
    "for artistName,v in musicAlbumIDMap.items():\n",
    "    for myAlbumName,v2 in v.items():\n",
    "        if myMusicAlbumIDMap.get(artistName) is None:\n",
    "            print(\"Adding {0}\".format(artistName))\n",
    "            myMusicAlbumIDMap[artistName] = {}\n",
    "        if myMusicAlbumIDMap[artistName].get(myAlbumName) is None:\n",
    "            print(\"Adding {0}/{1} ---> {2}\".format(artistName, myAlbumName, v2))\n",
    "            myMusicAlbumIDMap[artistName][myAlbumName] = v2"
   ]
  },
  {
   "cell_type": "code",
   "execution_count": null,
   "metadata": {},
   "outputs": [],
   "source": [
    "from ioUtils import saveFile\n",
    "saveFile(ifile=\"musicDiscogsAlbumMap.p\", idata=myMusicAlbumIDMap, debug=True)\n",
    "print(\"Found {0} music <-> discogs albums maps\".format(len(myMusicAlbumIDMap)))"
   ]
  },
  {
   "cell_type": "code",
   "execution_count": null,
   "metadata": {},
   "outputs": [],
   "source": [
    "saveFile(ifile=\"musicDiscogsAlbumMap.yaml\", idata=myMusicAlbumIDMap, debug=True)"
   ]
  },
  {
   "cell_type": "markdown",
   "metadata": {},
   "source": [
    "# Rename Albums"
   ]
  },
  {
   "cell_type": "code",
   "execution_count": null,
   "metadata": {},
   "outputs": [],
   "source": [
    "musicAlbumIDMap = getFile(ifile=\"musicDiscogsAlbumMap.yaml\", debug=True)\n",
    "print(\"Found {0} music <-> discogs albums maps\".format(len(musicAlbumIDMap)))"
   ]
  },
  {
   "cell_type": "code",
   "execution_count": null,
   "metadata": {},
   "outputs": [],
   "source": [
    "renames = {}\n",
    "for dirN in findDirs(\"/Users/tgadfort/matched\"):\n",
    "    print(dirN)\n",
    "    for dirval in findDirs(dirN):        \n",
    "        artistName = getDirBasics(dirval)[-1]\n",
    "        artistName = normalize('NFC', artistName)\n",
    "        if musicAlbumIDMap.get(artistName) is None:\n",
    "            continue\n",
    "        print(\"    {0}\".format(artistName))\n",
    "        for album, albumdata in musicAlbumIDMap[artistName].items():\n",
    "            print(\"\\t[{0}]   ====>   [{1}]\".format(album,albumdata[1]))\n",
    "            srcAlbumName = album\n",
    "            dstAlbumName = discConv(albumdata[1])\n",
    "            if srcAlbumName != dstAlbumName:\n",
    "                if renames.get(dirval) is None:\n",
    "                    renames[dirval] = {}\n",
    "                renames[dirval][srcAlbumName] = dstAlbumName"
   ]
  },
  {
   "cell_type": "code",
   "execution_count": null,
   "metadata": {},
   "outputs": [],
   "source": [
    "saveFile(ifile=\"musicRenames.yaml\", idata=renames, debug=True)"
   ]
  },
  {
   "cell_type": "code",
   "execution_count": null,
   "metadata": {},
   "outputs": [],
   "source": [
    "renameData = getFile(ifile=\"musicRenames.yaml\", debug=True)"
   ]
  },
  {
   "cell_type": "code",
   "execution_count": null,
   "metadata": {},
   "outputs": [],
   "source": [
    "from fsUtils import isDir\n",
    "for dirval,artistdata in renameData.items():\n",
    "    for src,dst in artistdata.items():\n",
    "        srcDir = setDir(dirval, src)\n",
    "        dstDir = setDir(dirval, dst)\n",
    "        print(dstDir,isDir(dstDir))\n",
    "        if srcDir != dstDir and not isDir(dstDir):\n",
    "            print(\"Moving {0} -> {1}\".format(srcDir, dstDir))\n",
    "            moveDir(srcDir, dstDir, debug=True)"
   ]
  },
  {
   "cell_type": "code",
   "execution_count": null,
   "metadata": {},
   "outputs": [],
   "source": []
  }
 ],
 "metadata": {
  "kernelspec": {
   "display_name": "Python 3",
   "language": "python",
   "name": "python3"
  },
  "language_info": {
   "codemirror_mode": {
    "name": "ipython",
    "version": 3
   },
   "file_extension": ".py",
   "mimetype": "text/x-python",
   "name": "python",
   "nbconvert_exporter": "python",
   "pygments_lexer": "ipython3",
   "version": "3.7.3"
  }
 },
 "nbformat": 4,
 "nbformat_minor": 2
}
