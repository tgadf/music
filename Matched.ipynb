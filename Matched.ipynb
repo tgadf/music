{
 "cells": [
  {
   "cell_type": "code",
   "execution_count": 1,
   "metadata": {},
   "outputs": [
    {
     "data": {
      "text/html": [
       "<style>.container { width:100% !important; }</style>"
      ],
      "text/plain": [
       "<IPython.core.display.HTML object>"
      ]
     },
     "metadata": {},
     "output_type": "display_data"
    },
    {
     "data": {
      "text/html": [
       "<style>div.output_area{max-height:10000px;overflow:scroll;}</style>"
      ],
      "text/plain": [
       "<IPython.core.display.HTML object>"
      ]
     },
     "metadata": {},
     "output_type": "display_data"
    },
    {
     "name": "stdout",
     "output_type": "stream",
     "text": [
      "Python: 3.7.3 (default, Mar 27 2019, 16:54:48) \n",
      "[Clang 4.0.1 (tags/RELEASE_401/final)]\n",
      "Notebook Last Run Initiated: 2019-12-31 20:21:35.584487\n"
     ]
    }
   ],
   "source": [
    "## Basic stuff\n",
    "%load_ext autoreload\n",
    "%autoreload\n",
    "from IPython.core.display import display, HTML\n",
    "display(HTML(\"<style>.container { width:100% !important; }</style>\"))\n",
    "display(HTML(\"\"\"<style>div.output_area{max-height:10000px;overflow:scroll;}</style>\"\"\"))\n",
    "\n",
    "from mp3id import mp3ID\n",
    "from musicBase import musicBase\n",
    "from musicFinder import musicFinder\n",
    "from musicPath import pathBasics\n",
    "from timeUtils import clock, elapsed\n",
    "from discogsBase import discogs\n",
    "from multiArtist import multiArtist\n",
    "from time import sleep\n",
    "from pandas import DataFrame, Series\n",
    "from discogsBase import discogs\n",
    "from ioUtils import getFile\n",
    "from searchUtils import findDirs\n",
    "from fileUtils import getDirBasics\n",
    "from unicodedata import normalize\n",
    "from fsUtils import moveDir, setDir\n",
    "from masterdb import getArtistAlbumsDB\n",
    "## Python Version\n",
    "import sys\n",
    "print(\"Python: {0}\".format(sys.version))\n",
    "\n",
    "import datetime as dt\n",
    "start = dt.datetime.now()\n",
    "print(\"Notebook Last Run Initiated: \"+str(start))"
   ]
  },
  {
   "cell_type": "code",
   "execution_count": 2,
   "metadata": {},
   "outputs": [
    {
     "name": "stdout",
     "output_type": "stream",
     "text": [
      "Saved Discog Directory /Volumes/Music/Discog is Available\n",
      "Local Discog Directory /Users/tgadfort/Music/Discog is Available\n",
      "/Volumes/Music/Discog/collections exists\n",
      "/Volumes/Music/Discog/artists exists\n",
      "/Volumes/Music/Discog/albums exists\n",
      "/Volumes/Music/Discog/collections-db exists\n",
      "/Volumes/Music/Discog/artists-db exists\n",
      "/Volumes/Music/Discog/albums-db exists\n",
      "/Volumes/Music/Discog/artists-db/metadata exists\n",
      "/Volumes/Music/Discog/albums-db/metadata exists\n",
      "/Volumes/Music/Discog/diagnostic exists\n",
      "/Volumes/Music/Discog/db exists\n"
     ]
    }
   ],
   "source": [
    "disc = discogs()"
   ]
  },
  {
   "cell_type": "code",
   "execution_count": 3,
   "metadata": {},
   "outputs": [
    {
     "name": "stdout",
     "output_type": "stream",
     "text": [
      "Getting Master Artist DB File\n",
      "/Volumes/Music/Discog/db/MasterSlimArtistDB.p\n",
      "610522\n"
     ]
    },
    {
     "data": {
      "text/html": [
       "<div>\n",
       "<style scoped>\n",
       "    .dataframe tbody tr th:only-of-type {\n",
       "        vertical-align: middle;\n",
       "    }\n",
       "\n",
       "    .dataframe tbody tr th {\n",
       "        vertical-align: top;\n",
       "    }\n",
       "\n",
       "    .dataframe thead th {\n",
       "        text-align: right;\n",
       "    }\n",
       "</style>\n",
       "<table border=\"1\" class=\"dataframe\">\n",
       "  <thead>\n",
       "    <tr style=\"text-align: right;\">\n",
       "      <th></th>\n",
       "      <th>Name</th>\n",
       "      <th>Artist</th>\n",
       "      <th>Num</th>\n",
       "      <th>DiscArtist</th>\n",
       "    </tr>\n",
       "  </thead>\n",
       "  <tbody>\n",
       "    <tr>\n",
       "      <th>1000</th>\n",
       "      <td>Dave Clarke</td>\n",
       "      <td>Dave Clarke</td>\n",
       "      <td>NaN</td>\n",
       "      <td>Dave Clarke</td>\n",
       "    </tr>\n",
       "    <tr>\n",
       "      <th>1000500</th>\n",
       "      <td>Club Pulse</td>\n",
       "      <td>Club Pulse</td>\n",
       "      <td>NaN</td>\n",
       "      <td>Club Pulse</td>\n",
       "    </tr>\n",
       "    <tr>\n",
       "      <th>100200</th>\n",
       "      <td>Dike</td>\n",
       "      <td>Dike</td>\n",
       "      <td>NaN</td>\n",
       "      <td>Dike</td>\n",
       "    </tr>\n",
       "    <tr>\n",
       "      <th>1002000</th>\n",
       "      <td>Larry Stokes</td>\n",
       "      <td>Larry Stokes</td>\n",
       "      <td>NaN</td>\n",
       "      <td>Larry Stokes</td>\n",
       "    </tr>\n",
       "    <tr>\n",
       "      <th>1002600</th>\n",
       "      <td>Gidd Sanchez</td>\n",
       "      <td>Gidd Sanchez</td>\n",
       "      <td>NaN</td>\n",
       "      <td>Gidd Sanchez</td>\n",
       "    </tr>\n",
       "  </tbody>\n",
       "</table>\n",
       "</div>"
      ],
      "text/plain": [
       "                 Name        Artist  Num    DiscArtist\n",
       "1000      Dave Clarke   Dave Clarke  NaN   Dave Clarke\n",
       "1000500    Club Pulse    Club Pulse  NaN    Club Pulse\n",
       "100200           Dike          Dike  NaN          Dike\n",
       "1002000  Larry Stokes  Larry Stokes  NaN  Larry Stokes\n",
       "1002600  Gidd Sanchez  Gidd Sanchez  NaN  Gidd Sanchez"
      ]
     },
     "execution_count": 3,
     "metadata": {},
     "output_type": "execute_result"
    }
   ],
   "source": [
    "print(\"Getting Master Artist DB File\")\n",
    "saveFilename = disc.getMasterSlimArtistDiscogsDBFilename()\n",
    "print(saveFilename)\n",
    "discdf = getFile(ifile=saveFilename, debug=False)\n",
    "artists = list(discdf[\"Artist\"])\n",
    "print(len(artists))\n",
    "discdf.head()\n",
    "# 589630"
   ]
  },
  {
   "cell_type": "code",
   "execution_count": 4,
   "metadata": {},
   "outputs": [
    {
     "name": "stdout",
     "output_type": "stream",
     "text": [
      "Current Time is Tue Dec 31, 2019 20:21:38 for \n",
      "=================================== Creating Artist Albums DB ===================================\n",
      "Loading ArtistID Data\n",
      "Loading data from /Volumes/Music/Discog/db/ArtistIDToAlbumNames.p\n",
      "  --> This file is 172.6MB.\n",
      "Loading /Volumes/Music/Discog/db/ArtistIDToAlbumNames.p\n",
      "Creating Pandas DataFrame for 624924 Artists\n",
      "\tShape --> (624924, 1)\n",
      "DataFrame Shape is (624924, 1)\n",
      "Current Time is Tue Dec 31, 2019 20:23:16 for Done with \n",
      "=================================== Creating Artist Albums DB ===================================\n",
      "Process [{0}] took 1.6 minutes.\n"
     ]
    }
   ],
   "source": [
    "artistAlbumsDB = getArtistAlbumsDB(disc)"
   ]
  },
  {
   "cell_type": "code",
   "execution_count": 5,
   "metadata": {},
   "outputs": [],
   "source": [
    "def getMusicData(key, artist):\n",
    "    retval = discdf[discdf[key] == artist]\n",
    "    if retval.shape[0] > 0:\n",
    "        return retval\n",
    "    else:\n",
    "        return None"
   ]
  },
  {
   "cell_type": "code",
   "execution_count": 6,
   "metadata": {},
   "outputs": [
    {
     "name": "stdout",
     "output_type": "stream",
     "text": [
      "Found 610522 ID -> Name entries\n",
      "Found 565225 Name -> ID entries\n"
     ]
    }
   ],
   "source": [
    "artistIDToName = discdf[\"DiscArtist\"].to_dict()\n",
    "artistNameToID = {}\n",
    "print(\"Found {0} ID -> Name entries\".format(len(artistIDToName)))\n",
    "for artistID,artistName in artistIDToName.items():\n",
    "    if artistNameToID.get(artistName) is None:\n",
    "        artistNameToID[artistName] = []\n",
    "    artistNameToID[artistName].append(artistID)\n",
    "print(\"Found {0} Name -> ID entries\".format(len(artistNameToID)))"
   ]
  },
  {
   "cell_type": "code",
   "execution_count": 7,
   "metadata": {},
   "outputs": [],
   "source": [
    "#artistDB = disc.getArtistIDToNameData()\n",
    "#artistNameToID = {v: k for k,v in artistDB.items()}\n",
    "mulArts  = multiArtist(cutoff=0.9, discdata=artistNameToID, exact=False)"
   ]
  },
  {
   "cell_type": "code",
   "execution_count": 8,
   "metadata": {},
   "outputs": [
    {
     "name": "stdout",
     "output_type": "stream",
     "text": [
      "Found 4603 music <-> discogs maps\n"
     ]
    }
   ],
   "source": [
    "try:\n",
    "    myMusicNameIDMap = getFile(\"musicDiscogsMap.p\")\n",
    "    print(\"Found {0} music <-> discogs maps\".format(len(myMusicNameIDMap)))\n",
    "except:\n",
    "    myMusicNameIDMap = {}\n",
    "    print(\"Could not load music <-> discogs map\")"
   ]
  },
  {
   "cell_type": "code",
   "execution_count": 9,
   "metadata": {},
   "outputs": [
    {
     "name": "stdout",
     "output_type": "stream",
     "text": [
      "Found 4603 music <-> discogs maps\n"
     ]
    }
   ],
   "source": [
    "manualMatches = {\"Waterwheel\": \"Waterwheel\",\n",
    " \"Wally\": \"Wally (12)\",\n",
    " \"The Violents\": \"The Violents\",\n",
    " \"The Pressure\": \"The Pressure (9)\",\n",
    " \"The Pits\": \"The Pits (3)\",\n",
    " \"The Marquees\": \"The Marquees\",\n",
    " \"The Crash\": \"The Crash (5)\",\n",
    " \"Traffic\": \"Traffic\",\n",
    " \"Tim Reynolds\": \"Tim Reynolds\",\n",
    " \"Tech-9\": \"Tech-9 (2)\",\n",
    " \"Taco\": \"Taco\",\n",
    " \"Sunchild\": \"Sunchild (4)\",\n",
    " \"Stackabones\": \"Stackabones\",\n",
    " \"Silencer\": \"Silencer (8)\",\n",
    " \"Selena\": \"Selena\",\n",
    " \"Scarecrow\": \"Scarecrow (22)\",\n",
    " \"Beyond\": \"Beyond (13)\",\n",
    " \"Chris Lee\": \"Chris Lee (18)\",\n",
    "                 \"Chuck\": \"Chuck (23)\"}\n",
    "\n",
    "newManual = {}\n",
    "newManual[\"Dave Evans\"] = \"Dave Evans (14)\"\n",
    "newManual[\"David Cook\"] = \"David Cook (2)\"\n",
    "newManual[\"David Rice\"] = \"David Rice (4)\"\n",
    "newManual[\"Dead Ringers\"] = \"Dead Ringers (3)\"\n",
    "newManual[\"Dies Irae\"] = \"Dies Irae (4)\"\n",
    "newManual[\"Dune\"] = \"Dune (3)\"\n",
    "newManual[\"Julie Andrews\"] = \"Julie Andrews\"\n",
    "newManual[\"Julie Andrews\"] = \"Julie Andrews\"\n",
    "newManual[\"Nero\"] = \"Nero (7)\"\n",
    "newManual[\"Nancy Moore\"] = \"Nancy Moore\"\n",
    "newManual[\"Orwell\"] = \"Orwell\"\n",
    "newManual[\"Outcry\"] = \"Outcry (12)\"\n",
    "newManual[\"Passengers\"] = \"Passengers\"\n",
    "newManual[\"Paul Brewster\"] = \"Paul Brewster (3)\"\n",
    "\n",
    "newManual[\"Bob Gibson\"] = \"Bob Gibson\"\n",
    "newManual[\"Chaser\"] = \"Chaser (19)\"\n",
    "newManual[\"Eightball\"] = \"Eightball (6)\"\n",
    "newManual[\"Endless\"] = \"Endless (6)\"\n",
    "newManual[\"Endless Struggle\"] = \"Endless Struggle\"\n",
    "newManual[\"Eventide\"] = \"Eventide (5)\"\n",
    "newManual[\"Fall Of Because\"] = \"Fall Of Because\"\n",
    "newManual[\"Fetish\"] = \"Fetish (5)\"\n",
    "newManual[\"The Forgotten\"] = \"The Forgotten\"\n",
    "newManual[\"Four Jacks\"] = \"Four Jacks\"\n",
    "newManual[\"Funkmaster Flex\"] = \"Funkmaster Flex\"\n",
    "newManual[\"Gladys\"] = \"Gladys (14)\"\n",
    "newManual[\"Glenn Hughes\"] = \"Glenn Hughes\"\n",
    "newManual[\"Greenhouse\"] = \"Greenhouse (2)\"\n",
    "newManual[\"Grimace\"] = \"Grimace (18)\"\n",
    "newManual[\"Groundzero\"] = \"Groundzero (3)\"\n",
    "newManual[\"HALO\"] = \"HALO (5)\"\n",
    "newManual[\"The Haters\"] = \"The Haters\"\n",
    "newManual[\"Haters\"] = \"The Haters\"\n",
    "newManual[\"Heritage\"] = \"Heritage (29)\"\n",
    "newManual[\"Highstrung\"] = \"Highstrung (3)\"\n",
    "newManual[\"I.D.K.\"] = \"I.D.K. (2)\"\n",
    "newManual[\"Jason Dietz\"] = \"Jason Dietz\"\n",
    "newManual[\"Jeff Kelly\"] = \"Jeff Kelly\"\n",
    "newManual[\"Jimmie Rodgers\"] = \"Jimmie Rodgers\"\n",
    "newManual[\"Lynx\"] = \"Lynx (13)\"\n",
    "newManual[\"Stephen Duffy\"] = \"Stephen Duffy\"\n",
    "newManual[\"PainKiller\"] = \"PainKiller\"\n",
    "newManual[\"Queensrÿche\"] = \"Queensrÿche\"\n",
    "newManual[\"38 Special\"] = \"38 Special (2)\"\n",
    "newManual[\"Groundzero\"] = \"Groundzero (3)\"\n",
    "newManual[\"You\"] = \"You (21)\"\n",
    "newManual[\"The Snowmen\"] = \"The Snowmen\"\n",
    "newManual[\"The Scientists\"] = \"The Scientists (2)\"\n",
    "newManual[\"The Roots\"] = \"The Roots\"\n",
    "newManual[\"The Matrix\"] = \"The Matrix (2)\"\n",
    "newManual[\"The Criminals\"] = \"The Criminals\"\n",
    "newManual[\"The Beards\"] = \"The Beards\"\n",
    "\n",
    "myMusicNameIDMap.update(manualMatches) \n",
    "myMusicNameIDMap.update(newManual) \n",
    "\n",
    "print(\"Found {0} music <-> discogs maps\".format(len(myMusicNameIDMap)))"
   ]
  },
  {
   "cell_type": "markdown",
   "metadata": {},
   "source": [
    "# Find Music"
   ]
  },
  {
   "cell_type": "code",
   "execution_count": null,
   "metadata": {
    "scrolled": false
   },
   "outputs": [],
   "source": [
    "musicNameIDMap = {}\n",
    "multiMap       = {}\n",
    "for dirN in findDirs(\"/Users/tgadfort/matched\"):\n",
    "    print(dirN)\n",
    "    for dirval in findDirs(dirN):        \n",
    "        artistName = getDirBasics(dirval)[-1]\n",
    "        artistName = normalize('NFC', artistName)\n",
    "        \n",
    "        if myMusicNameIDMap.get(artistName) is not None:\n",
    "            continue\n",
    "\n",
    "        mdata = getMusicData(\"DiscArtist\", artistName)\n",
    "        if not isinstance(mdata, DataFrame):\n",
    "            matches = mulArts.getArtistNames(artistName)\n",
    "            if not all(matches.values()):\n",
    "                print(\"{0: <10}{1: <50}{2}\".format(\"?\", artistName, matches))\n",
    "                continue\n",
    "            else:\n",
    "                print(\"{0: <10}{1: <50}{2}\".format(\"MIX\", artistName, matches))\n",
    "                srcDir = dirval\n",
    "                dstDir = setDir(\"/Volumes/Music/Multi\", artistName)\n",
    "                moveDir(srcDir, dstDir)                \n",
    "        else:\n",
    "            if mdata.shape[0] == 1:\n",
    "                musicNameIDMap[artistName] = [mdata.index, mdata[\"Name\"].values[0]]\n",
    "            else:\n",
    "                print(\"{0: <10}{1: <50}{2}\".format(\"\", artistName, \"\"))\n",
    "                albums = [x for x in findDirs(dirval) if getDirBasics(x)[-1] not in [\"Random\", \"Todo\"]]                \n",
    "                if len(albums) == 0:\n",
    "                    print(\"\\tNo Albums\\n\")\n",
    "                    srcDir = dirval\n",
    "                    dstDir = setDir(\"/Volumes/Music/Random\", artistName)\n",
    "                    moveDir(srcDir, dstDir)\n",
    "                else:\n",
    "                    multiMap[artistName] = {\"DB\": mdata, \"Albums\": albums}\n",
    "                    continue\n",
    "                    for album in albums:\n",
    "                        print(\"\\t\",album)\n",
    "                    print(\"\")\n",
    "                print(\"\\tDiscogs Data:\")\n",
    "                print(mdata)\n",
    "                print(\"\\n\\n\")"
   ]
  },
  {
   "cell_type": "code",
   "execution_count": null,
   "metadata": {},
   "outputs": [],
   "source": [
    "newManual = {}\n",
    "newManual[\"\"] = \"\"\n",
    "\n",
    "\n",
    "\n"
   ]
  },
  {
   "cell_type": "code",
   "execution_count": null,
   "metadata": {},
   "outputs": [],
   "source": [
    "print(len(multiMap))\n",
    "import json\n",
    "json.dumps(list(multiMap.keys()))"
   ]
  },
  {
   "cell_type": "code",
   "execution_count": null,
   "metadata": {},
   "outputs": [],
   "source": [
    "from difflib import SequenceMatcher\n",
    "\n",
    "def getRowByIndex(pdf, idx):\n",
    "    return pdf.loc[idx]"
   ]
  },
  {
   "cell_type": "code",
   "execution_count": null,
   "metadata": {
    "scrolled": true
   },
   "outputs": [],
   "source": [
    "ratVal = 0.6\n",
    "if len(myMusicNameIDMap) > 0:\n",
    "    ratVal = 0.3\n",
    "artistIDMap = {}\n",
    "for artistName,artistSlimData in multiMap.items():\n",
    "    print(\"\\n\",\"=\"*50)\n",
    "    print(\"ArtistName: {0}\".format(artistName))\n",
    "    print(\"   Albums: {0}\".format(len(artistSlimData[\"Albums\"])))\n",
    "\n",
    "    myAlbumNames = []\n",
    "    for album in artistSlimData[\"Albums\"]:\n",
    "        myAlbumName = album.split(\"/{0}/\".format(artistName))[-1]\n",
    "        #print(\"     {0: <15}{1: <10}{2}\".format(\"\", \"\", myAlbumName))\n",
    "        myAlbumNames.append(myAlbumName)\n",
    "        \n",
    "    for idx,row in artistSlimData[\"DB\"].iterrows():\n",
    "        artistAlbumsData = getRowByIndex(artistAlbumsDB, idx)\n",
    "        artistAlbums     = artistAlbumsData[\"Albums\"]\n",
    "        print(\"   Match: {0}  [{1}]\".format(row[\"DiscArtist\"], row[\"Name\"]))\n",
    "        if isinstance(artistAlbums, dict):\n",
    "            for albumType, albumTypeData in artistAlbums.items():\n",
    "                for albumID, dbAlbumName in albumTypeData.items():\n",
    "                    for myAlbumName in myAlbumNames:\n",
    "                        s = SequenceMatcher(None, myAlbumName, dbAlbumName)\n",
    "                        ratio = s.ratio()\n",
    "                        if ratio > 0.6:\n",
    "                            print(\"     {0: <15}{1: <10}{2: <8}{3}\".format(albumType, albumID, round(ratio,2), dbAlbumName))\n",
    "                            artistIDMap[artistName] = [idx, row[\"Name\"]]"
   ]
  },
  {
   "cell_type": "code",
   "execution_count": null,
   "metadata": {},
   "outputs": [],
   "source": [
    "for artistName,artistData in artistIDMap.items():\n",
    "    print(artistName,' ==> ',artistData)"
   ]
  },
  {
   "cell_type": "code",
   "execution_count": null,
   "metadata": {},
   "outputs": [],
   "source": [
    "print(len(artistIDMap))\n",
    "if len(myMusicNameIDMap) == 0:\n",
    "    myMusicNameIDMap = {}\n",
    "    print(len(musicNameIDMap))\n",
    "    myMusicNameIDMap = {k: [v[0][0], v[1].values[0]] for k,v in musicNameIDMap.items()}\n",
    "print(len(myMusicNameIDMap))\n",
    "myMusicNameIDMap.update(artistIDMap)\n",
    "print(len(myMusicNameIDMap))"
   ]
  },
  {
   "cell_type": "code",
   "execution_count": null,
   "metadata": {},
   "outputs": [],
   "source": [
    "from ioUtils import saveFile\n",
    "saveFile(ifile=\"musicDiscogsMap.p\", idata=myMusicNameIDMap, debug=True)"
   ]
  },
  {
   "cell_type": "code",
   "execution_count": null,
   "metadata": {},
   "outputs": [],
   "source": [
    "myMusicNameIDMap = getFile(\"musicDiscogsMap.p\")\n",
    "print(\"Found {0} music <-> discogs maps\".format(len(myMusicNameIDMap)))"
   ]
  },
  {
   "cell_type": "code",
   "execution_count": null,
   "metadata": {},
   "outputs": [],
   "source": [
    "from searchUtils import findW"
   ]
  }
 ],
 "metadata": {
  "kernelspec": {
   "display_name": "Python 3",
   "language": "python",
   "name": "python3"
  },
  "language_info": {
   "codemirror_mode": {
    "name": "ipython",
    "version": 3
   },
   "file_extension": ".py",
   "mimetype": "text/x-python",
   "name": "python",
   "nbconvert_exporter": "python",
   "pygments_lexer": "ipython3",
   "version": "3.7.3"
  }
 },
 "nbformat": 4,
 "nbformat_minor": 2
}
