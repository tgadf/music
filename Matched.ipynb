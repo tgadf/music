{
 "cells": [
  {
   "cell_type": "code",
   "execution_count": 1,
   "metadata": {},
   "outputs": [
    {
     "data": {
      "text/html": [
       "<style>.container { width:100% !important; }</style>"
      ],
      "text/plain": [
       "<IPython.core.display.HTML object>"
      ]
     },
     "metadata": {},
     "output_type": "display_data"
    },
    {
     "data": {
      "text/html": [
       "<style>div.output_area{max-height:10000px;overflow:scroll;}</style>"
      ],
      "text/plain": [
       "<IPython.core.display.HTML object>"
      ]
     },
     "metadata": {},
     "output_type": "display_data"
    },
    {
     "name": "stdout",
     "output_type": "stream",
     "text": [
      "Python: 3.7.3 (default, Mar 27 2019, 16:54:48) \n",
      "[Clang 4.0.1 (tags/RELEASE_401/final)]\n",
      "Notebook Last Run Initiated: 2020-04-18 14:17:33.929437\n"
     ]
    }
   ],
   "source": [
    "## Basic stuff\n",
    "%load_ext autoreload\n",
    "%autoreload\n",
    "from IPython.core.display import display, HTML\n",
    "display(HTML(\"<style>.container { width:100% !important; }</style>\"))\n",
    "display(HTML(\"\"\"<style>div.output_area{max-height:10000px;overflow:scroll;}</style>\"\"\"))\n",
    "\n",
    "################################################################################\n",
    "## Music Stuff\n",
    "################################################################################\n",
    "from mp3id import mp3ID\n",
    "from musicBase import musicBase\n",
    "from musicFinder import musicFinder\n",
    "from musicPath import pathBasics\n",
    "\n",
    "\n",
    "################################################################################\n",
    "## General Stuff\n",
    "################################################################################\n",
    "from timeUtils import clock, elapsed\n",
    "from listUtils import getFlatList\n",
    "from time import sleep\n",
    "from pandas import DataFrame, Series\n",
    "from ioUtils import getFile, saveFile\n",
    "from searchUtils import findDirs, findNearest, findAll\n",
    "from fileUtils import getDirBasics, getBaseFilename\n",
    "from unicodedata import normalize\n",
    "from fsUtils import moveDir, setDir, mkDir, isDir, removeDir\n",
    "from pandasUtils import getRowDataByColValue, getRowData\n",
    "import operator\n",
    "from glob import glob\n",
    "from os.path import join\n",
    "from collections import Counter\n",
    "\n",
    "\n",
    "################################################################################\n",
    "## Database Stuff\n",
    "################################################################################\n",
    "from discogsBase import discogs\n",
    "from mainDB import getAlbumTypes\n",
    "from multiArtist import multiartist\n",
    "from matchAlbums import matchAlbums\n",
    "from masterdb import getArtistAlbumsDB, discConv\n",
    "\n",
    "\n",
    "################################################################################\n",
    "## Music Stuff\n",
    "################################################################################\n",
    "from musicUtils import *\n",
    "from myMusicDBMap import myMusicDBMap\n",
    "\n",
    "\n",
    "################################################################################\n",
    "## Pandas Stuff\n",
    "################################################################################\n",
    "import pandas as pd\n",
    "pd.set_option('display.max_rows', 500)\n",
    "pd.set_option('display.max_columns', 500)\n",
    "pd.set_option('display.width', 1000)\n",
    "\n",
    "\n",
    "## Python Version\n",
    "import sys\n",
    "print(\"Python: {0}\".format(sys.version))\n",
    "\n",
    "import datetime as dt\n",
    "start = dt.datetime.now()\n",
    "print(\"Notebook Last Run Initiated: \"+str(start))"
   ]
  },
  {
   "cell_type": "markdown",
   "metadata": {},
   "source": [
    "# My Music Database Map"
   ]
  },
  {
   "cell_type": "code",
   "execution_count": null,
   "metadata": {},
   "outputs": [],
   "source": [
    "mdb = myMusicDBMap(debug=True)\n",
    "mdb.getFullDBData()"
   ]
  },
  {
   "cell_type": "code",
   "execution_count": null,
   "metadata": {},
   "outputs": [],
   "source": [
    "#mdb.getArtistAlbumsFromID(db='AllMusic', artistID='0000239827')"
   ]
  },
  {
   "cell_type": "code",
   "execution_count": null,
   "metadata": {},
   "outputs": [],
   "source": [
    "#mdb.setDBs([\"AceBootlegs\"])\n",
    "#mdb.show()"
   ]
  },
  {
   "cell_type": "markdown",
   "metadata": {},
   "source": [
    "***\n",
    "***"
   ]
  },
  {
   "cell_type": "markdown",
   "metadata": {},
   "source": [
    "# Search For Artist <-> Match In My Music"
   ]
  },
  {
   "cell_type": "markdown",
   "metadata": {},
   "source": [
    "#### Just look for fully unknown artists"
   ]
  },
  {
   "cell_type": "code",
   "execution_count": null,
   "metadata": {},
   "outputs": [],
   "source": [
    "#mdb.add(\"Almanac\", \"AllMusic\", '0003476217')\n",
    "mdb.add(\"James\", \"AllMusic\", \"0000112185\")\n",
    "mdb.save()\n",
    "#for artist in matchedResults[\"FullyUnknown\"].keys():\n",
    "#    print(\"mdb.add(\\\"{0}\\\", \\\"AllMusic\\\", \\\"\\\")\".format(artist))"
   ]
  },
  {
   "cell_type": "code",
   "execution_count": null,
   "metadata": {},
   "outputs": [],
   "source": [
    "matchedResults = getMatchedStatusForMyArtists(mdb, onlyUnknown=True)\n",
    "for status, matchedResult in matchedResults.items():\n",
    "    print(\"{0: <30}{1}\".format(status, len(matchedResult)))\n",
    "    \n",
    "_, _ = clock(\"Last Run\")"
   ]
  },
  {
   "cell_type": "markdown",
   "metadata": {},
   "source": [
    "#### Check everyone"
   ]
  },
  {
   "cell_type": "code",
   "execution_count": null,
   "metadata": {},
   "outputs": [],
   "source": [
    "## Don't really need this anymore, but it's important\n",
    "if False:\n",
    "    matchedResults = getMatchedStatusForMyArtists()\n",
    "    for status, matchedResult in matchedResults.items():\n",
    "        print(\"{0: <30}{1}\".format(status, len(matchedResult)))\n",
    "    _, _ = clock(\"Last Run\")"
   ]
  },
  {
   "cell_type": "markdown",
   "metadata": {},
   "source": [
    "***"
   ]
  },
  {
   "cell_type": "markdown",
   "metadata": {},
   "source": [
    "## Analyze Fully Unknown Music Artists"
   ]
  },
  {
   "cell_type": "code",
   "execution_count": null,
   "metadata": {},
   "outputs": [],
   "source": [
    "def forceRename(myMusicAlbumMatch, test=True):\n",
    "    for dbKey, dbValues in myMusicAlbumMatch.items():\n",
    "        if dbValues is None:\n",
    "            continue\n",
    "        print(\"Found {0} artist entries\".format(len(dbValues)))\n",
    "        for artistName, artistAlbums in dbValues.items():\n",
    "            first = False\n",
    "            for myAlbumName,albumVals in artistAlbums.items():\n",
    "                dirval   = albumVals[\"Dir\"]\n",
    "                albumVal = albumVals[\"Album\"]\n",
    "                albumID, dbAlbumName, mediaType = albumVal\n",
    "\n",
    "                dbAlbumNameConv = discConv(dbAlbumName)\n",
    "                if myAlbumName != dbAlbumNameConv:\n",
    "                    if myAlbumName.upper() == dbAlbumNameConv.upper():\n",
    "                        continue\n",
    "                    srcDir = setDir(dirval, myAlbumName)\n",
    "                    dstDir = setDir(dirval, discConv(dbAlbumName))\n",
    "                else:\n",
    "                    continue\n",
    "\n",
    "                if isDir(dstDir):\n",
    "                    if first is False:\n",
    "                        print(\"\\n==>\",artistName)\n",
    "                        first = True\n",
    "                    print(\"[{0}] and [{1}] already exists for artist {2}\".format(srcDir, dstDir, artistName))\n",
    "\n",
    "                if first is False:\n",
    "                    print(\"\\n==>\",artistName)\n",
    "                    first = True\n",
    "\n",
    "                print(\"\\tMoving {0}  --->  {1}\".format(srcDir, dstDir))\n",
    "                if test is False:\n",
    "                    moveDir(srcDir, dstDir, debug=True)\n",
    "                \n",
    "\n",
    "def showArtist(artistName, discogsArtist):\n",
    "    print(\"\\t{0: <30} ---> {1}\".format(artistName, discogsArtist))\n",
    "    \n",
    "def showAlbum(myAlbumName):\n",
    "    print(\"\\t\\tMy Album: {0}\".format(myAlbumName))\n",
    "    \n",
    "def showMatch(myAlbumName, albumData):\n",
    "    print(\"\\t\\t   Match: {0}\".format(albumData))\n",
    "\n",
    "    \n",
    "def matchMyAlbum(myAlbumName, dbAlbumsData, cuts, dbKey, albumType, debug=False):\n",
    "    maxRatio  = None\n",
    "    albumData = None\n",
    "    ratioCut,maxCut = cuts\n",
    "    if maxCut is None:\n",
    "        maxCut = 1.0\n",
    "        \n",
    "    mediaTypes = getAlbumTypes(dbKey, albumType)\n",
    "    for mediaType in mediaTypes:\n",
    "        if dbAlbumsData.get(mediaType) is None:\n",
    "            continue\n",
    "        mediaAlbums = dbAlbumsData[mediaType]\n",
    "        for albumID, dbAlbumName in mediaAlbums.items():\n",
    "            convAlbumName = discConv(dbAlbumName)\n",
    "            s = SequenceMatcher(None, myAlbumName, convAlbumName)\n",
    "            ratio = round(s.ratio(), 3)\n",
    "            if debug:\n",
    "                print(\"\\tMy Album: {0: <30}\\tMatch: {1: <30}\\tRatio: {2}\".format(myAlbumName, convAlbumName, ratio))\n",
    "            if ratio > ratioCut and ratio <= maxCut:\n",
    "                if maxRatio is None:\n",
    "                    maxRatio = ratio\n",
    "                if ratio < maxRatio:\n",
    "                    continue\n",
    "                maxRatio  = ratio\n",
    "                albumData = [albumID, dbAlbumName, mediaType]\n",
    "                    \n",
    "    if isinstance(maxRatio, float):\n",
    "        retRatio = round(maxRatio,2)\n",
    "    else:\n",
    "        retRatio = None\n",
    "        \n",
    "    return albumData, retRatio\n",
    "\n",
    "\n",
    "\n",
    "def getMatchedDirName(albumName, albumID, dbKey = \"Discogs\"):\n",
    "    if dbKey == \"AllMusic\":\n",
    "        matchedDirName = \" :: \".join([discConv(albumName), \"[AM-{0}]\".format(albumID)])\n",
    "    elif dbKey == \"MusicBrainz\":\n",
    "        matchedDirName = \" :: \".join([discConv(albumName), \"[MB-{0}]\".format(albumID)])\n",
    "    elif dbKey == \"Discogs\":\n",
    "        matchedDirName = \" :: \".join([discConv(albumName), \"[DC-{0}]\".format(albumID)])\n",
    "    elif dbKey == \"AceBootlegs\":\n",
    "        matchedDirName = \" :: \".join([discConv(albumName), \"[AB-{0}]\".format(albumID)])\n",
    "    elif dbKey == \"RateYourMusic\":\n",
    "        matchedDirName = \" :: \".join([discConv(albumName), \"[RM-{0}]\".format(albumID)])\n",
    "    elif dbKey == \"LastFM\":\n",
    "        matchedDirName = \" :: \".join([discConv(albumName), \"[LM-{0}]\".format(albumID)])\n",
    "    elif dbKey == \"DatPiff\":\n",
    "        matchedDirName = \" :: \".join([discConv(albumName), \"[DP-{0}]\".format(albumID)])\n",
    "    elif dbKey == \"RockCorner\":\n",
    "        matchedDirName = \" :: \".join([discConv(albumName), \"[RC-{0}]\".format(albumID)])\n",
    "    elif dbKey == \"CDandLP\":\n",
    "        matchedDirName = \" :: \".join([discConv(albumName), \"[CL-{0}]\".format(albumID)])\n",
    "    elif dbKey == \"MusicStack\":\n",
    "        matchedDirName = \" :: \".join([discConv(albumName), \"[MS-{0}]\".format(albumID)])\n",
    "    else:\n",
    "        raise ValueError(\"dbKey {0} not recognized!\".format(dbKey))\n",
    "        \n",
    "    return matchedDirName\n",
    "\n",
    "\n",
    "\n",
    "def getUnMatchedDirName(matchedDirName, mediaDirType):\n",
    "    vals = matchedDirName.split(\" :: \")\n",
    "    if len(vals) == 2:\n",
    "        albumName  = vals[0]\n",
    "        albumIDval = vals[1]\n",
    "        try:\n",
    "            albumID = int(albumIDval[(albumIDval.find(\"[\")+3):albumIDval.rfind(\"]\")])\n",
    "        except:\n",
    "            raise ValueError(\"Could not extract album ID from {0}\".format(albumIDval))\n",
    "            \n",
    "        if sum([x in mediaDirType for x in [\"Single\", \"EP\"]]) > 0:\n",
    "            albumName = \"{0} (Single)\".format(albumName)\n",
    "            \n",
    "        if sum([x in mediaDirType for x in [\"Mix\", \"MixTape\"]]) > 0:\n",
    "            albumName = \"{0} (MixTape)\".format(albumName)\n",
    "            \n",
    "        return albumName\n",
    "    else:\n",
    "        raise ValueError(\"Could not extract album name from {0}\".format(matchedDirName))\n",
    "        \n",
    "\n",
    "\n",
    "def showMatchedMoves(myMusicAlbumMatch, rename=False):\n",
    "    for dbKey, dbValues in myMusicAlbumMatch.items():\n",
    "        if dbValues is None:\n",
    "            continue\n",
    "        for artistName, artistAlbums in dbValues.items():\n",
    "            print(\"==>\",artistName)\n",
    "            for myAlbumName,albumVals in artistAlbums.items():\n",
    "                dirval   = albumVals[\"Dir\"]\n",
    "                albumVal = albumVals[\"Album\"]\n",
    "                albumID, dbAlbumName, mediaType = albumVal\n",
    "\n",
    "                srcDir = setDir(dirval, myAlbumName)\n",
    "                if rename is True:\n",
    "                    dstName = getMatchedDirName(discConv(dbAlbumName), albumID, dbKey)\n",
    "                else:\n",
    "                    dstName = getMatchedDirName(myAlbumName, albumID, dbKey)    \n",
    "                    \n",
    "                    \n",
    "                    \n",
    "def moveMatchedDirectories(myMusicAlbumMatch, rename=False, show=False):\n",
    "    for dbKey, dbValues in myMusicAlbumMatch.items():\n",
    "        if dbValues is None:\n",
    "            continue\n",
    "        for artistName, artistAlbums in dbValues.items():\n",
    "            print(\"==>\",artistName)\n",
    "            for myAlbumName,albumVals in artistAlbums.items():\n",
    "                dirval   = albumVals[\"Dir\"]\n",
    "                albumVal = albumVals[\"Album\"]\n",
    "\n",
    "                matchedDir = setDir(dirval, \"Match\")\n",
    "                mkDir(matchedDir)\n",
    "\n",
    "                albumID, dbAlbumName, mediaType = albumVal\n",
    "\n",
    "                srcName = myAlbumName\n",
    "                srcDir  = setDir(dirval, srcName)\n",
    "                if not isDir(srcDir):\n",
    "                    print(\"{0} does not exist\".format(srcDir))\n",
    "                    continue\n",
    "\n",
    "                mediaDir = setDir(matchedDir, discConv(mediaType))\n",
    "                mkDir(mediaDir)\n",
    "\n",
    "                if rename is True:\n",
    "                    dstName = getMatchedDirName(discConv(dbAlbumName), albumID, dbKey)\n",
    "                else:\n",
    "                    dstName = getMatchedDirName(myAlbumName, albumID, dbKey)\n",
    "                    \n",
    "                if show is True:\n",
    "                    print('\\t{0}'.format(mediaDir))\n",
    "                    print(\"\\t\\t[{0}]\".format(srcName))\n",
    "                    print(\"\\t\\t[{0}]\".format(dstName))\n",
    "                    continue\n",
    "                    \n",
    "                    \n",
    "                dstDir  = setDir(mediaDir, dstName)\n",
    "                if isDir(dstDir):\n",
    "                    print(\"{0} already exists\".format(dstDir))\n",
    "                    continue\n",
    "\n",
    "                print(\"\\tMoving {0}  --->  {1}\".format(srcDir, dstDir))\n",
    "                moveDir(srcDir, dstDir, debug=True)\n",
    "                \n",
    "                \n",
    "                \n",
    "def formatAlbum(albumName, albumType):\n",
    "    if albumType == 3:\n",
    "        retval = albumName.replace(\"(Single)\", \"\")\n",
    "        retval = retval.replace(\"(EP)\", \"\")\n",
    "        retval = retval.strip()\n",
    "        return retval\n",
    "    return albumName\n",
    "\n",
    "\n",
    "def matchArtistNameAlbum(artistName, artistPrimeDirs, mdb, db, ratioCut = 0.95, maxCut = 1.0, albumType=1, debug=False):    \n",
    "    artistRetVal = {}\n",
    "    \n",
    "    ######################################################################\n",
    "    #### Get My Database Matched ID\n",
    "    ######################################################################\n",
    "    myMusicDBData = mdb.getArtistDBData(artistName, db)\n",
    "    artistID      = myMusicDBData.get(\"ID\")\n",
    "    if artistID is None:\n",
    "        return\n",
    "    \n",
    "    \n",
    "    ######################################################################\n",
    "    #### Get Database Albums\n",
    "    ######################################################################\n",
    "    artistAlbums = mdb.getArtistAlbumsFromID(db, artistID)\n",
    "    \n",
    "\n",
    "    ######################################################################\n",
    "    #### Get My Remaining Albums To Be Matched (For Each Dirval)\n",
    "    ######################################################################\n",
    "    for dirval in artistPrimeDirs:\n",
    "        myMusicAlbums = getMyMusicAlbums(dirval, returnNames=True)\n",
    "        if len(myMusicAlbums) == 0:\n",
    "            continue\n",
    "        \n",
    "        \n",
    "        ######################################################################\n",
    "        #### Loop over my albums to be matched\n",
    "        ######################################################################\n",
    "        for myAlbumName in myMusicAlbums:\n",
    "            if debug:\n",
    "                print(\"\\tMy album: {0}\".format(myAlbumName))\n",
    "            myFormattedAlbum = formatAlbum(myAlbumName, albumType)\n",
    "            albumData, ratio = matchMyAlbum(myFormattedAlbum, artistAlbums, [ratioCut, maxCut], db, albumType, debug=debug)\n",
    "            if debug:\n",
    "                print(\"\\t\\tMy match: {0}  [{1}]\".format(albumData, ratio))\n",
    "\n",
    "            if albumData is not None:\n",
    "                showArtist(artistName, artistID)\n",
    "                showAlbum(myAlbumName)\n",
    "                if artistRetVal.get(myAlbumName) is None:\n",
    "                    artistRetVal[myAlbumName] = {\"Ratio\": ratio, \"Dir\": dirval, \"Album\": albumData}\n",
    "                else:\n",
    "                    raise ValueError(\"Multiple copies for {0} by {1}\".format(myAlbumName, artistName))\n",
    "                showMatch(myAlbumName, albumData)\n",
    "\n",
    "    return artistRetVal\n",
    "\n",
    "    \n",
    "\n",
    "def matchMyMusicAlbums(ratioCut=0.95, maxCut=None, db=\"Discogs\", albumType=1):\n",
    "    if maxCut is None:\n",
    "        maxCut            = ratioCut+0.01\n",
    "    myMusicAlbumMatch = {}\n",
    "\n",
    "    start, cmt = clock(\"Checking for Albums Matches Against {0} DB\".format(db))\n",
    "\n",
    "\n",
    "    ######################################################################\n",
    "    #### Loop Over Artist Name <-> Prime Map Items\n",
    "    ######################################################################\n",
    "    artistNameMatchedDirs = getArtistNameMatchedDirs()\n",
    "    for artistName, artistPrimeDirs in artistNameMatchedDirs.items():\n",
    "        matchVal = matchArtistNameAlbum(artistName, artistPrimeDirs, mdb, db, ratioCut, maxCut, albumType, debug=False)\n",
    "        if isinstance(matchVal, dict) and len(matchVal) > 0:\n",
    "            if myMusicAlbumMatch.get(db) is None:\n",
    "                myMusicAlbumMatch[db] = {}\n",
    "            if myMusicAlbumMatch[db].get(artistName) is None:\n",
    "                myMusicAlbumMatch[db][artistName] = {}\n",
    "            myMusicAlbumMatch[db][artistName].update(matchVal)\n",
    "        \n",
    "        \n",
    "    elapsed(start, cmt)\n",
    "\n",
    "    from ioUtils import saveFile\n",
    "    saveFile(ifile=\"myMusicAlbumMatch.yaml\", idata=myMusicAlbumMatch, debug=True)\n",
    "    print(\"Found {0} music <-> discogs albums maps\".format(len(myMusicAlbumMatch)))\n",
    "    \n",
    "    \n",
    "def unMatchArtist(artistName):\n",
    "    from os.path import join\n",
    "    from fsUtils import removeDir, isFile, setFile, removeFile\n",
    "\n",
    "    for musicDir in getMatchedDirs():\n",
    "        dirval        = join(musicDir, getPrimeDirectory(artistName), artistName)\n",
    "        if not isDir(dirval):\n",
    "            continue\n",
    "            \n",
    "        matchedDir    = setDir(dirval, \"Match\")\n",
    "        mediaTypeDirs = findDirs(matchedDir)\n",
    "        for mediaTypeDir in mediaTypeDirs:\n",
    "            for matchDir in findDirs(mediaTypeDir):\n",
    "                albumName = getUnMatchedDirName(getDirBasics(matchDir)[-1], mediaTypeDir)\n",
    "\n",
    "                srcDir = matchDir\n",
    "                dstDir = setDir(dirval, albumName)\n",
    "                if isDir(dstDir):\n",
    "                    i = 0\n",
    "                    while not isDir(dstDir):\n",
    "                        dstDir = \"{0} [Fix-{1}]\".format(setDir(dirval, albumName), i)\n",
    "                        i += 1\n",
    "\n",
    "                moveDir(srcDir, dstDir, debug=True)\n",
    "\n",
    "            if isDir(mediaTypeDir):\n",
    "                DS_Store = setFile(mediaTypeDir, \".DS_Store\")\n",
    "                if isFile(DS_Store):\n",
    "                    removeFile(DS_Store, debug=True)\n",
    "                removeDir(mediaTypeDir, debug=True)\n",
    "\n",
    "        if isDir(matchedDir):\n",
    "            DS_Store = setFile(matchedDir, \".DS_Store\")\n",
    "            if isFile(DS_Store):\n",
    "                removeFile(DS_Store, debug=True)\n",
    "            removeDir(matchedDir, debug=True)"
   ]
  },
  {
   "cell_type": "code",
   "execution_count": null,
   "metadata": {},
   "outputs": [],
   "source": [
    "def analyzeFullyUnknownArtists(mdb, matchedResults, ratioCut=0.65, maxCut=None):\n",
    "    maxCut = 1.0\n",
    "    myMusicMatch = {}\n",
    "\n",
    "    start, cmt = clock(\"Checking for Artist Matches\")\n",
    "            \n",
    "    ma = matchAlbums()\n",
    "\n",
    "\n",
    "\n",
    "    ######################################################################\n",
    "    #### Loop Over Artist Name <-> Prime Map Items\n",
    "    ######################################################################\n",
    "    artistNameMatchedDirs = getArtistNameMatchedDirs()\n",
    "    for artistName, artistPrimeDirs in artistNameMatchedDirs.items():\n",
    "        if matchedResults[\"FullyUnknown\"].get(artistName) is None:\n",
    "            continue\n",
    "        print(artistName)\n",
    "        \n",
    "        myMusicAlbums = []\n",
    "        for dirval in artistPrimeDirs:\n",
    "            myMusicAlbums += getMyMusicAlbums(dirval, returnNames=True)\n",
    "        print(artistName,'\\t',len(myMusicAlbums))\n",
    "        artistAlbums        = mdb.getArtistAlbums(artistName, num=10, cutoff=0.7)\n",
    "        \n",
    "        for db,dbdata in artistAlbums.items():\n",
    "            print(\"\\t{0: <20}\".format(db))\n",
    "            for artist,IDs in dbdata.items():\n",
    "                for artistID,artistIDData in IDs.items():\n",
    "                    artistIDAlbums = getFlattenedArtistAlbums(artistIDData)                    \n",
    "                    ma.match(artistIDAlbums, myMusicAlbums)\n",
    "                    if ma.near >= 1 and ma.maxval >= 0.8:\n",
    "                        if myMusicMatch.get(artistName) is None:\n",
    "                            myMusicMatch[artistName] = {}\n",
    "                            \n",
    "                        if myMusicMatch[artistName].get(db) is None:\n",
    "                            myMusicMatch[artistName][db] = {\"ID\": str(artistID), \"Score\": [ma.near, ma.score, ma.maxval]}\n",
    "                        elif ma.near > myMusicMatch[artistName][db][\"Score\"][0] or ma.maxval > myMusicMatch[artistName][db][\"Score\"][2]:\n",
    "                            myMusicMatch[artistName][db] = {\"ID\": str(artistID), \"Score\": [ma.near, ma.score, ma.maxval]}\n",
    "                            \n",
    "                        print(\"\\t{0: <20}{1: <20}{2: <50}{3: <20}{4}\\tMatch!!\".format(db,artist,artistID,len(artistIDAlbums), [ma.near, ma.score, ma.maxval]))\n",
    "                        \n",
    "\n",
    "    from ioUtils import saveFile\n",
    "    saveFile(ifile=\"myMusicArtistMatch.yaml\", idata=myMusicMatch, debug=True)\n",
    "    print(\"Found {0} music <-> discogs artist maps\".format(len(myMusicMatch)))"
   ]
  },
  {
   "cell_type": "code",
   "execution_count": null,
   "metadata": {},
   "outputs": [],
   "source": [
    "analyzeFullyUnknownArtists(mdb, matchedResults)"
   ]
  },
  {
   "cell_type": "code",
   "execution_count": null,
   "metadata": {},
   "outputs": [],
   "source": [
    "myMusicMatch = getFile(ifile=\"myMusicArtistMatch.yaml\")\n",
    "print(\"Found {0} music <-> discogs artist maps\".format(len(myMusicMatch)))"
   ]
  },
  {
   "cell_type": "code",
   "execution_count": null,
   "metadata": {},
   "outputs": [],
   "source": [
    "if len(myMusicMatch) > 0:\n",
    "    for artistName, artistValues in myMusicMatch.items():\n",
    "        print(artistName)\n",
    "        for db, dbEntry in artistValues.items():\n",
    "            print('\\t',db,'\\t',dbEntry)\n",
    "            mdb.add(artistName, db, dbEntry[\"ID\"])\n",
    "    mdb.save()"
   ]
  },
  {
   "cell_type": "markdown",
   "metadata": {},
   "source": [
    "***"
   ]
  },
  {
   "cell_type": "markdown",
   "metadata": {},
   "source": [
    "## Analyze Partially Unknown Music Artists"
   ]
  },
  {
   "cell_type": "code",
   "execution_count": null,
   "metadata": {},
   "outputs": [],
   "source": [
    "## Don't really need this anymore...\n",
    "if False:\n",
    "    additions = analyzePartiallyUnknownArtists(matchedResults)\n",
    "    print(\"Found {0} additions\".format(len(additions)))\n",
    "    start, cmt = clock(\"Adding New Matches to myMusicMap\")\n",
    "    if len(additions) > 0:\n",
    "        showMyMusicMap(myMusicMap)\n",
    "\n",
    "        for artistName, artistValues in additions.items():\n",
    "            for key, value in artistValues.items():\n",
    "                val   = value['Value']\n",
    "                score = value['Score']\n",
    "                if myMusicMap.get(artistName) is None:\n",
    "                    myMusicMap[artistName] = {dbKey['Key']: None for dbKey in dbKeys}\n",
    "                myMusicMap[artistName][key] = val\n",
    "\n",
    "        showMyMusicMap(myMusicMap)\n",
    "    saveFile(idata=myMusicMap, ifile=\"myMusicMap.p\", debug=True)\n",
    "    elapsed(start, cmt)"
   ]
  },
  {
   "cell_type": "markdown",
   "metadata": {},
   "source": [
    "***\n",
    "***"
   ]
  },
  {
   "cell_type": "markdown",
   "metadata": {},
   "source": [
    "# Match Albums"
   ]
  },
  {
   "cell_type": "code",
   "execution_count": null,
   "metadata": {},
   "outputs": [],
   "source": [
    "dR=0.1\n",
    "rC=0.9\n",
    "\n",
    "matchMyMusicAlbums(ratioCut=rC, maxCut=rC+dR, db=\"AllMusic\", albumType=1)\n",
    "#matchMyMusicAlbums(ratioCut=rC, maxCut=rC+dR, db=\"MusicBrainz\", albumType=3)\n",
    "#matchMyMusicAlbums(ratioCut=rC, maxCut=rC+dR, db=\"Discogs\", albumType=\"All\")\n",
    "#matchMyMusicAlbums(ratioCut=rC, maxCut=rC+dR, db=\"AceBootlegs\", albumType=1) ## Max 1\n",
    "#matchMyMusicAlbums(ratioCut=rC, maxCut=rC+dR, db=\"LastFM\", albumType=1) ## Max 1\n",
    "#matchMyMusicAlbums(ratioCut=rC, maxCut=rC+dR, db=\"RateYourMusic\", albumType=\"All\")\n",
    "#matchMyMusicAlbums(ratioCut=rC, maxCut=rC+dR, db=\"DatPiff\", albumType=1) ## Max 1\n",
    "#matchMyMusicAlbums(ratioCut=rC, maxCut=rC+dR, db=\"RockCorner\", albumType=\"All\") ## Max 1\n",
    "#matchMyMusicAlbums(ratioCut=rC, maxCut=rC+dR, db=\"CDandLP\", albumType=\"All\") ## Max 1\n",
    "#matchMyMusicAlbums(ratioCut=rC, maxCut=rC+dR, db=\"MusicStack\", albumType=\"All\") ## Max 1"
   ]
  },
  {
   "cell_type": "markdown",
   "metadata": {},
   "source": [
    "***\n",
    "***\n",
    "# Move To Matched"
   ]
  },
  {
   "cell_type": "code",
   "execution_count": null,
   "metadata": {},
   "outputs": [],
   "source": [
    "myMusicAlbumMatch = getFile(ifile=\"myMusicAlbumMatch.yaml\", debug=True)\n",
    "print(\"Found {0} music <-> discogs albums maps\".format(len(myMusicAlbumMatch)))"
   ]
  },
  {
   "cell_type": "code",
   "execution_count": null,
   "metadata": {},
   "outputs": [],
   "source": [
    "moveMatchedDirectories(myMusicAlbumMatch, rename=True, show=True)"
   ]
  },
  {
   "cell_type": "code",
   "execution_count": null,
   "metadata": {},
   "outputs": [],
   "source": [
    "moveMatchedDirectories(myMusicAlbumMatch, rename=True, show=False)"
   ]
  },
  {
   "cell_type": "markdown",
   "metadata": {},
   "source": [
    "***\n",
    "***\n",
    "***"
   ]
  },
  {
   "cell_type": "markdown",
   "metadata": {},
   "source": [
    "# UnMatch Artist"
   ]
  },
  {
   "cell_type": "code",
   "execution_count": null,
   "metadata": {
    "scrolled": true
   },
   "outputs": [],
   "source": [
    "## Anita Baker\n",
    "## Annie Lennox\n",
    "## Ani DiFranco\n",
    "## Aretha Franklin\n",
    "\n",
    "## Barenaked Ladies (Complete redo)\n",
    "## Ben E. King\n",
    "\n",
    "## David Bowie is a mess...\n",
    "## Def Leopard is rough...\n",
    "## Dolly Parton needs work...\n",
    "## Eagles (Downloading what I can)\n",
    "## Eric Clapton is a mess...\n",
    "## Fleetwood mac is a real mess...\n",
    "\n",
    "\n",
    "unMatchArtist(\"The Offspring\")"
   ]
  },
  {
   "cell_type": "code",
   "execution_count": null,
   "metadata": {},
   "outputs": [],
   "source": [
    "######################################################################\n",
    "#### Loop Over Prime Directories\n",
    "######################################################################\n",
    "for primeDir in getPrimeDirectories():\n",
    "    artistPrimeDirMap = getArtistPrimeDirMap(primeDir)\n",
    "\n",
    "    ######################################################################\n",
    "    #### Loop Over Artist Name <-> Prime Map Items\n",
    "    ######################################################################\n",
    "    for artistName, artistPrimeDirs in artistPrimeDirMap.items():\n",
    "        unMatchArtist(artistName)\n"
   ]
  }
 ],
 "metadata": {
  "kernelspec": {
   "display_name": "Python 3",
   "language": "python",
   "name": "python3"
  },
  "language_info": {
   "codemirror_mode": {
    "name": "ipython",
    "version": 3
   },
   "file_extension": ".py",
   "mimetype": "text/x-python",
   "name": "python",
   "nbconvert_exporter": "python",
   "pygments_lexer": "ipython3",
   "version": "3.7.3"
  }
 },
 "nbformat": 4,
 "nbformat_minor": 2
}
