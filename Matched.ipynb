{
 "cells": [
  {
   "cell_type": "code",
   "execution_count": 26,
   "metadata": {},
   "outputs": [
    {
     "name": "stdout",
     "output_type": "stream",
     "text": [
      "The autoreload extension is already loaded. To reload it, use:\n",
      "  %reload_ext autoreload\n"
     ]
    },
    {
     "data": {
      "text/html": [
       "<style>.container { width:100% !important; }</style>"
      ],
      "text/plain": [
       "<IPython.core.display.HTML object>"
      ]
     },
     "metadata": {},
     "output_type": "display_data"
    },
    {
     "data": {
      "text/html": [
       "<style>div.output_area{max-height:10000px;overflow:scroll;}</style>"
      ],
      "text/plain": [
       "<IPython.core.display.HTML object>"
      ]
     },
     "metadata": {},
     "output_type": "display_data"
    },
    {
     "name": "stdout",
     "output_type": "stream",
     "text": [
      "Python: 3.7.3 (default, Mar 27 2019, 16:54:48) \n",
      "[Clang 4.0.1 (tags/RELEASE_401/final)]\n",
      "Notebook Last Run Initiated: 2020-04-24 20:17:25.039697\n"
     ]
    }
   ],
   "source": [
    "## Basic stuff\n",
    "%load_ext autoreload\n",
    "%autoreload\n",
    "from IPython.core.display import display, HTML\n",
    "display(HTML(\"<style>.container { width:100% !important; }</style>\"))\n",
    "display(HTML(\"\"\"<style>div.output_area{max-height:10000px;overflow:scroll;}</style>\"\"\"))\n",
    "\n",
    "\n",
    "################################################################################\n",
    "## General Stuff\n",
    "################################################################################\n",
    "from timeUtils import clock, elapsed\n",
    "from listUtils import getFlatList\n",
    "from time import sleep\n",
    "from pandas import DataFrame, Series\n",
    "from ioUtils import getFile, saveFile\n",
    "from searchUtils import findDirs, findNearest, findAll\n",
    "from fileUtils import getDirBasics, getBaseFilename\n",
    "from unicodedata import normalize\n",
    "from fsUtils import moveDir, setDir, mkDir, isDir, removeDir\n",
    "from pandasUtils import getRowDataByColValue, getRowData\n",
    "import operator\n",
    "from glob import glob\n",
    "from os.path import join\n",
    "from collections import Counter\n",
    "\n",
    "\n",
    "################################################################################\n",
    "## Mp3 Stuff\n",
    "################################################################################\n",
    "from mp3id import mp3ID\n",
    "\n",
    "\n",
    "################################################################################\n",
    "## Database Stuff\n",
    "################################################################################\n",
    "from discogsBase import discogs\n",
    "from mainDB import getAlbumTypes\n",
    "from multiArtist import multiartist\n",
    "from matchAlbums import matchAlbums\n",
    "from masterdb import getArtistAlbumsDB, discConv\n",
    "\n",
    "\n",
    "################################################################################\n",
    "## Music Stuff\n",
    "################################################################################\n",
    "from musicUtils import *\n",
    "from myMusicDBMap import myMusicDBMap\n",
    "from musicBase import myMusicBase\n",
    "from musicMatch import myMatchedMusic\n",
    "\n",
    "\n",
    "################################################################################\n",
    "## Pandas Stuff\n",
    "################################################################################\n",
    "import pandas as pd\n",
    "pd.set_option('display.max_rows', 500)\n",
    "pd.set_option('display.max_columns', 500)\n",
    "pd.set_option('display.width', 1000)\n",
    "\n",
    "\n",
    "## Python Version\n",
    "import sys\n",
    "print(\"Python: {0}\".format(sys.version))\n",
    "\n",
    "import datetime as dt\n",
    "start = dt.datetime.now()\n",
    "print(\"Notebook Last Run Initiated: \"+str(start))"
   ]
  },
  {
   "cell_type": "markdown",
   "metadata": {},
   "source": [
    "# My Music Database Map"
   ]
  },
  {
   "cell_type": "code",
   "execution_count": 2,
   "metadata": {
    "scrolled": false
   },
   "outputs": [
    {
     "name": "stdout",
     "output_type": "stream",
     "text": [
      "Current Time is Fri Apr 24, 2020 20:06:07 for \n",
      "=================================== Creating Artist Albums DB ===================================\n",
      "Using previously created Artist Albums DB\n",
      "Current Time is Fri Apr 24, 2020 20:06:36 for Done with \n",
      "=================================== Creating Artist Albums DB ===================================\n",
      "Process [Done with \n",
      "=================================== Creating Artist Albums DB ===================================] took 28 seconds.\n",
      "Summary Statistics For DB: Discogs\n",
      "    Found 718816 ID -> Name entries\n",
      "    Found 660527 Name -> ID entries\n",
      "    Found 0 Albums\n",
      "Current Time is Fri Apr 24, 2020 20:06:37 for \n",
      "=================================== Creating Artist Albums DB ===================================\n",
      "Using previously created Artist Albums DB\n",
      "Current Time is Fri Apr 24, 2020 20:06:39 for Done with \n",
      "=================================== Creating Artist Albums DB ===================================\n",
      "Process [Done with \n",
      "=================================== Creating Artist Albums DB ===================================] took 2 seconds.\n",
      "Summary Statistics For DB: AllMusic\n",
      "    Found 38716 ID -> Name entries\n",
      "    Found 36425 Name -> ID entries\n",
      "    Found 177567 Albums\n",
      "Current Time is Fri Apr 24, 2020 20:06:39 for \n",
      "=================================== Creating Artist Albums DB ===================================\n",
      "Using previously created Artist Albums DB\n",
      "Current Time is Fri Apr 24, 2020 20:06:40 for Done with \n",
      "=================================== Creating Artist Albums DB ===================================\n",
      "Process [Done with \n",
      "=================================== Creating Artist Albums DB ===================================] took 916.0 millseconds.\n",
      "Summary Statistics For DB: MusicBrainz\n",
      "    Found 55519 ID -> Name entries\n",
      "    Found 44947 Name -> ID entries\n",
      "    Found 0 Albums\n",
      "Current Time is Fri Apr 24, 2020 20:06:40 for \n",
      "=================================== Creating Artist Albums DB ===================================\n",
      "Using previously created Artist Albums DB\n",
      "Current Time is Fri Apr 24, 2020 20:06:40 for Done with \n",
      "=================================== Creating Artist Albums DB ===================================\n",
      "Process [Done with \n",
      "=================================== Creating Artist Albums DB ===================================] took 17.0 millseconds.\n",
      "Summary Statistics For DB: AceBootlegs\n",
      "    Found 341 ID -> Name entries\n",
      "    Found 341 Name -> ID entries\n",
      "    Found 2838 Albums\n",
      "Current Time is Fri Apr 24, 2020 20:06:40 for \n",
      "=================================== Creating Artist Albums DB ===================================\n",
      "Using previously created Artist Albums DB\n",
      "Current Time is Fri Apr 24, 2020 20:06:40 for Done with \n",
      "=================================== Creating Artist Albums DB ===================================\n",
      "Process [Done with \n",
      "=================================== Creating Artist Albums DB ===================================] took 7.0 millseconds.\n",
      "Summary Statistics For DB: RateYourMusic\n",
      "    Found 39 ID -> Name entries\n",
      "    Found 38 Name -> ID entries\n",
      "    Found 332 Albums\n",
      "Current Time is Fri Apr 24, 2020 20:06:40 for \n",
      "=================================== Creating Artist Albums DB ===================================\n",
      "Using previously created Artist Albums DB\n",
      "Current Time is Fri Apr 24, 2020 20:06:41 for Done with \n",
      "=================================== Creating Artist Albums DB ===================================\n",
      "Process [Done with \n",
      "=================================== Creating Artist Albums DB ===================================] took 292.0 millseconds.\n",
      "Summary Statistics For DB: LastFM\n",
      "    Found 48223 ID -> Name entries\n",
      "    Found 48118 Name -> ID entries\n",
      "    Found 73151 Albums\n",
      "Current Time is Fri Apr 24, 2020 20:06:41 for \n",
      "=================================== Creating Artist Albums DB ===================================\n",
      "Using previously created Artist Albums DB\n",
      "Current Time is Fri Apr 24, 2020 20:06:42 for Done with \n",
      "=================================== Creating Artist Albums DB ===================================\n",
      "Process [Done with \n",
      "=================================== Creating Artist Albums DB ===================================] took 884.0 millseconds.\n",
      "Summary Statistics For DB: DatPiff\n",
      "    Found 44170 ID -> Name entries\n",
      "    Found 44146 Name -> ID entries\n",
      "    Found 125385 Albums\n",
      "Current Time is Fri Apr 24, 2020 20:06:42 for \n",
      "=================================== Creating Artist Albums DB ===================================\n",
      "Using previously created Artist Albums DB\n",
      "Current Time is Fri Apr 24, 2020 20:06:42 for Done with \n",
      "=================================== Creating Artist Albums DB ===================================\n",
      "Process [Done with \n",
      "=================================== Creating Artist Albums DB ===================================] took 172.0 millseconds.\n",
      "Summary Statistics For DB: RockCorner\n",
      "    Found 1251 ID -> Name entries\n",
      "    Found 1251 Name -> ID entries\n",
      "    Found 14439 Albums\n",
      "Current Time is Fri Apr 24, 2020 20:06:42 for \n",
      "=================================== Creating Artist Albums DB ===================================\n",
      "Using previously created Artist Albums DB\n",
      "Current Time is Fri Apr 24, 2020 20:06:42 for Done with \n",
      "=================================== Creating Artist Albums DB ===================================\n",
      "Process [Done with \n",
      "=================================== Creating Artist Albums DB ===================================] took 19.0 millseconds.\n",
      "Summary Statistics For DB: CDandLP\n",
      "    Found 568 ID -> Name entries\n",
      "    Found 568 Name -> ID entries\n",
      "    Found 4046 Albums\n",
      "Current Time is Fri Apr 24, 2020 20:06:42 for \n",
      "=================================== Creating Artist Albums DB ===================================\n",
      "Using previously created Artist Albums DB\n",
      "Current Time is Fri Apr 24, 2020 20:06:42 for Done with \n",
      "=================================== Creating Artist Albums DB ===================================\n",
      "Process [Done with \n",
      "=================================== Creating Artist Albums DB ===================================] took 5.0 millseconds.\n",
      "Summary Statistics For DB: MusicStack\n",
      "    Found 187 ID -> Name entries\n",
      "    Found 186 Name -> ID entries\n",
      "    Found 579 Albums\n",
      "Current Time is Fri Apr 24, 2020 20:06:42 for \n",
      "=================================== Creating Artist Albums DB ===================================\n",
      "Using previously created Artist Albums DB\n",
      "Current Time is Fri Apr 24, 2020 20:06:42 for Done with \n",
      "=================================== Creating Artist Albums DB ===================================\n",
      "Process [Done with \n",
      "=================================== Creating Artist Albums DB ===================================] took 3.0 millseconds.\n",
      "Summary Statistics For DB: MetalStorm\n",
      "    Found 11 ID -> Name entries\n",
      "    Found 11 Name -> ID entries\n",
      "    Found 43 Albums\n"
     ]
    }
   ],
   "source": [
    "mdb = myMusicDBMap(debug=False)\n",
    "mdb.getFullDBData()"
   ]
  },
  {
   "cell_type": "markdown",
   "metadata": {},
   "source": [
    "# Music Base"
   ]
  },
  {
   "cell_type": "code",
   "execution_count": 3,
   "metadata": {},
   "outputs": [
    {
     "name": "stdout",
     "output_type": "stream",
     "text": [
      "The autoreload extension is already loaded. To reload it, use:\n",
      "  %reload_ext autoreload\n",
      "My Music Base: ['/Volumes/Music/Matched', '/Volumes/Biggy/Matched']\n",
      "Current Time is Fri Apr 24, 2020 20:06:42 for Finding All Artist Albums\n",
      "Current Time is Fri Apr 24, 2020 20:07:21 for Done with Finding All Artist Albums\n",
      "Process [Done with Finding All Artist Albums] took 39 seconds.\n"
     ]
    }
   ],
   "source": [
    "## Basic stuff\n",
    "%load_ext autoreload\n",
    "%autoreload\n",
    "\n",
    "from musicBase import myMusicBase\n",
    "mmb = myMusicBase()\n",
    "mmb.findArtistAlbums()"
   ]
  },
  {
   "cell_type": "markdown",
   "metadata": {},
   "source": [
    "# Create My Matched Music Artists"
   ]
  },
  {
   "cell_type": "code",
   "execution_count": 27,
   "metadata": {},
   "outputs": [
    {
     "name": "stdout",
     "output_type": "stream",
     "text": [
      "My Music Base: ['/Volumes/Music/Matched', '/Volumes/Biggy/Matched']\n"
     ]
    }
   ],
   "source": [
    "mmm = myMatchedMusic(mdb)"
   ]
  },
  {
   "cell_type": "markdown",
   "metadata": {},
   "source": [
    "## Get Artist Status and Find Unknowns"
   ]
  },
  {
   "cell_type": "code",
   "execution_count": 9,
   "metadata": {},
   "outputs": [
    {
     "name": "stdout",
     "output_type": "stream",
     "text": [
      "Current Time is Fri Apr 24, 2020 20:10:26 for Matching All Music Artists\n",
      "Current Time is Fri Apr 24, 2020 20:10:27 for Done with Matching All Music Artists\n",
      "Process [Done with Matching All Music Artists] took 886.0 millseconds.\n",
      "Found 1 unknown artists\n",
      "Found 0 total artists\n"
     ]
    },
    {
     "data": {
      "text/plain": [
       "{\"Killin' Baudelaire\": [\"/Volumes/Biggy/Matched/K/Killin' Baudelaire\"]}"
      ]
     },
     "execution_count": 9,
     "metadata": {},
     "output_type": "execute_result"
    }
   ],
   "source": [
    "mmm.getArtistStatus()\n",
    "mmm.setMusicBase(mmb)\n",
    "mmm.getUnknownArtists()"
   ]
  },
  {
   "cell_type": "markdown",
   "metadata": {},
   "source": [
    "***\n",
    "***"
   ]
  },
  {
   "cell_type": "markdown",
   "metadata": {},
   "source": [
    "# Match Albums From My Matched Artists"
   ]
  },
  {
   "cell_type": "code",
   "execution_count": 10,
   "metadata": {},
   "outputs": [
    {
     "name": "stdout",
     "output_type": "stream",
     "text": [
      "Current Time is Fri Apr 24, 2020 20:10:27 for Checking for Albums Matches Against AllMusic DB\n",
      "Artist                                  Database       Album Name                                    --> Matched Album\n",
      "Alison Moyet                            AllMusic       Singles                                       --> {'Name': 'Singles/Alf', 'Code': '0001089227', 'MediaType': 'Comp'}\n",
      "Artist ID [0000691561] is not found in Albums DB [AllMusic]\n",
      "Cornelius                               AllMusic       Cornelius FM                                  --> {'Name': 'CM Cornelius Mix', 'Code': '0000602808', 'MediaType': 'Single/EP'}\n",
      "DJ Shadow                               AllMusic       Enuff EP                                      --> {'Name': 'Enuff', 'Code': '0001689967', 'MediaType': 'Single/EP'}\n",
      "DJ Shadow                               AllMusic       What Does Your Soul Look Like (Peshay-DJ Die Remixes) EP --> {'Name': 'What Does Your Soul Look Like Remixes', 'Code': '0001026639', 'MediaType': 'Single/EP'}\n",
      "Eros Ramazzotti                         AllMusic       DeLuxe Collection                             --> {'Name': 'The  Collection', 'Code': '0001969727', 'MediaType': 'Comp'}\n",
      "Grateful Dead                           AllMusic       Steal Your Face (Live)                        --> {'Name': 'Steal Your Face!', 'Code': '0000199661', 'MediaType': 'Albums'}\n",
      "Herbie Hancock                          AllMusic       The Essential                                 --> {'Name': 'The Essence', 'Code': '0000531195', 'MediaType': 'Single/EP'}\n",
      "INXS                                    AllMusic       Everything Part 2                             --> {'Name': 'Everything [#2]', 'Code': '0001021011', 'MediaType': 'Single/EP'}\n",
      "J. J. Cale                              AllMusic       In Session At Paradise Studios, Los Angeles   --> {'Name': 'In Session at Paradise Studio', 'Code': '0002456784', 'MediaType': 'Comp'}\n",
      "Artist ID [0000112185] is not found in Albums DB [AllMusic]\n",
      "Jerry Lee Lewis                         AllMusic       The Killer 1969-1972                          --> {'Name': 'The Killer Live (1964-1970)', 'Code': '0002379953', 'MediaType': 'Comp'}\n",
      "Jimi Hendrix                            AllMusic       Cherokee Mist                                 --> {'Name': 'Cherokee', 'Code': '0000465934', 'MediaType': 'Comp'}\n",
      "Metallica                               AllMusic       100% Metallica                                --> {'Name': 'Metallica', 'Code': '0000311315', 'MediaType': 'Albums'}\n",
      "Muse                                    AllMusic       Hullabaloo                                    --> {'Name': 'Hullabaloo [VHS]', 'Code': '0001640625', 'MediaType': 'Video'}\n",
      "Natasha Bedingfield                     AllMusic       Strip Me Away                                 --> {'Name': 'Strip Me', 'Code': '0002051292', 'MediaType': 'Albums'}\n",
      "Nelly Furtado                           AllMusic       iTunes Live Session                           --> {'Name': 'Live Session', 'Code': '0001516603', 'MediaType': 'Single/EP'}\n",
      "Orchestral Manoeuvres in the Dark       AllMusic       So80s Presents Orchestral Manoeuvres In The Dark --> {'Name': 'The  Best of Orchestral Manoeuvres in the Dark', 'Code': '0002119494', 'MediaType': 'Comp'}\n",
      "Rascal Flatts                           AllMusic       Still Feels Good                              --> {'Name': 'Still Feels Good', 'Code': '0000780122', 'MediaType': 'Albums'}\n",
      "Steve Winwood                           AllMusic       Revolutions The Very Best Of                  --> {'Name': 'Revolutions: The Very Best of Steve Winwood', 'Code': '0001990915', 'MediaType': 'Comp'}\n",
      "The Sweet                               AllMusic       Greatest Hits Remixed                         --> {'Name': 'Greatest Hits Live', 'Code': '0000969225', 'MediaType': 'Comp'}\n",
      "Current Time is Fri Apr 24, 2020 20:10:42 for Done with Checking for Albums Matches Against AllMusic DB\n",
      "Process [Done with Checking for Albums Matches Against AllMusic DB] took 15 seconds.\n",
      "Saving data to myMusicAlbumMatch.yaml\n",
      "Saved data to myMusicAlbumMatch.yaml\n",
      "  --> This file is 4.0kB.\n",
      "Found 1 music <-> discogs albums maps\n"
     ]
    }
   ],
   "source": [
    "dR = 0.1\n",
    "rC = 0.75\n",
    "\n",
    "mmm.matchMyMusicAlbums(db=\"AllMusic\", albumType=1, ratioCut=rC, maxCut=rC+dR)"
   ]
  },
  {
   "cell_type": "code",
   "execution_count": 28,
   "metadata": {},
   "outputs": [
    {
     "name": "stdout",
     "output_type": "stream",
     "text": [
      "Found 1 music <-> discogs albums maps\n",
      "==> DJ Shadow\n",
      "\tMoving /Volumes/Biggy/Matched/D/DJ Shadow/Enuff EP  --->  /Volumes/Biggy/Matched/D/DJ Shadow/Match/Single-EP/Enuff :: [AM-0001689967]\n"
     ]
    },
    {
     "ename": "NameError",
     "evalue": "name 'moveDir' is not defined",
     "output_type": "error",
     "traceback": [
      "\u001b[0;31m---------------------------------------------------------------------------\u001b[0m",
      "\u001b[0;31mNameError\u001b[0m                                 Traceback (most recent call last)",
      "\u001b[0;32m<ipython-input-28-b9bca8447675>\u001b[0m in \u001b[0;36m<module>\u001b[0;34m\u001b[0m\n\u001b[0;32m----> 1\u001b[0;31m \u001b[0mmmm\u001b[0m\u001b[0;34m.\u001b[0m\u001b[0mmoveMyMatchedMusicAlbums\u001b[0m\u001b[0;34m(\u001b[0m\u001b[0mshow\u001b[0m\u001b[0;34m=\u001b[0m\u001b[0;32mFalse\u001b[0m\u001b[0;34m)\u001b[0m\u001b[0;34m\u001b[0m\u001b[0;34m\u001b[0m\u001b[0m\n\u001b[0m",
      "\u001b[0;32m~/Documents/code/music/musicMatch.py\u001b[0m in \u001b[0;36mmoveMyMatchedMusicAlbums\u001b[0;34m(self, show)\u001b[0m\n\u001b[1;32m    275\u001b[0m \u001b[0;34m\u001b[0m\u001b[0m\n\u001b[1;32m    276\u001b[0m                     \u001b[0mprint\u001b[0m\u001b[0;34m(\u001b[0m\u001b[0;34m\"\\tMoving {0}  --->  {1}\"\u001b[0m\u001b[0;34m.\u001b[0m\u001b[0mformat\u001b[0m\u001b[0;34m(\u001b[0m\u001b[0msrcDir\u001b[0m\u001b[0;34m,\u001b[0m \u001b[0mdstDir\u001b[0m\u001b[0;34m)\u001b[0m\u001b[0;34m)\u001b[0m\u001b[0;34m\u001b[0m\u001b[0;34m\u001b[0m\u001b[0m\n\u001b[0;32m--> 277\u001b[0;31m                     \u001b[0mmoveDir\u001b[0m\u001b[0;34m(\u001b[0m\u001b[0msrcDir\u001b[0m\u001b[0;34m,\u001b[0m \u001b[0mdstDir\u001b[0m\u001b[0;34m,\u001b[0m \u001b[0mdebug\u001b[0m\u001b[0;34m=\u001b[0m\u001b[0;32mTrue\u001b[0m\u001b[0;34m)\u001b[0m\u001b[0;34m\u001b[0m\u001b[0;34m\u001b[0m\u001b[0m\n\u001b[0m",
      "\u001b[0;31mNameError\u001b[0m: name 'moveDir' is not defined"
     ]
    }
   ],
   "source": [
    "mmm.moveMyMatchedMusicAlbums(show=False)"
   ]
  },
  {
   "cell_type": "markdown",
   "metadata": {},
   "source": [
    "***\n",
    "***"
   ]
  },
  {
   "cell_type": "markdown",
   "metadata": {},
   "source": [
    "# UnMatch Artist"
   ]
  },
  {
   "cell_type": "code",
   "execution_count": null,
   "metadata": {},
   "outputs": [],
   "source": [
    "\n",
    "def unMatchArtist(artistName):\n",
    "    from os.path import join\n",
    "    from fsUtils import removeDir, isFile, setFile, removeFile\n",
    "\n",
    "    for musicDir in getMatchedDirs():\n",
    "        dirval        = join(musicDir, getPrimeDirectory(artistName), artistName)\n",
    "        if not isDir(dirval):\n",
    "            continue\n",
    "            \n",
    "        matchedDir    = setDir(dirval, \"Match\")\n",
    "        mediaTypeDirs = findDirs(matchedDir)\n",
    "        for mediaTypeDir in mediaTypeDirs:\n",
    "            for matchDir in findDirs(mediaTypeDir):\n",
    "                albumName = getUnMatchedDirName(getDirBasics(matchDir)[-1], mediaTypeDir)\n",
    "\n",
    "                srcDir = matchDir\n",
    "                dstDir = setDir(dirval, albumName)\n",
    "                if isDir(dstDir):\n",
    "                    i = 0\n",
    "                    while not isDir(dstDir):\n",
    "                        dstDir = \"{0} [Fix-{1}]\".format(setDir(dirval, albumName), i)\n",
    "                        i += 1\n",
    "\n",
    "                moveDir(srcDir, dstDir, debug=True)\n",
    "\n",
    "            if isDir(mediaTypeDir):\n",
    "                DS_Store = setFile(mediaTypeDir, \".DS_Store\")\n",
    "                if isFile(DS_Store):\n",
    "                    removeFile(DS_Store, debug=True)\n",
    "                removeDir(mediaTypeDir, debug=True)\n",
    "\n",
    "        if isDir(matchedDir):\n",
    "            DS_Store = setFile(matchedDir, \".DS_Store\")\n",
    "            if isFile(DS_Store):\n",
    "                removeFile(DS_Store, debug=True)\n",
    "            removeDir(matchedDir, debug=True)\n",
    "            "
   ]
  },
  {
   "cell_type": "code",
   "execution_count": null,
   "metadata": {
    "scrolled": true
   },
   "outputs": [],
   "source": [
    "unMatchArtist(\"The J. Geils Band\")"
   ]
  },
  {
   "cell_type": "code",
   "execution_count": null,
   "metadata": {},
   "outputs": [],
   "source": [
    "######################################################################\n",
    "#### Loop Over Prime Directories\n",
    "######################################################################\n",
    "for primeDir in getPrimeDirectories():\n",
    "    artistPrimeDirMap = getArtistPrimeDirMap(primeDir)\n",
    "\n",
    "    ######################################################################\n",
    "    #### Loop Over Artist Name <-> Prime Map Items\n",
    "    ######################################################################\n",
    "    for artistName, artistPrimeDirs in artistPrimeDirMap.items():\n",
    "        unMatchArtist(artistName)\n"
   ]
  }
 ],
 "metadata": {
  "kernelspec": {
   "display_name": "Python 3",
   "language": "python",
   "name": "python3"
  },
  "language_info": {
   "codemirror_mode": {
    "name": "ipython",
    "version": 3
   },
   "file_extension": ".py",
   "mimetype": "text/x-python",
   "name": "python",
   "nbconvert_exporter": "python",
   "pygments_lexer": "ipython3",
   "version": "3.7.3"
  }
 },
 "nbformat": 4,
 "nbformat_minor": 2
}
