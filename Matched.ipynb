{
 "cells": [
  {
   "cell_type": "code",
   "execution_count": 1,
   "metadata": {},
   "outputs": [
    {
     "data": {
      "text/html": [
       "<style>.container { width:100% !important; }</style>"
      ],
      "text/plain": [
       "<IPython.core.display.HTML object>"
      ]
     },
     "metadata": {},
     "output_type": "display_data"
    },
    {
     "data": {
      "text/html": [
       "<style>div.output_area{max-height:10000px;overflow:scroll;}</style>"
      ],
      "text/plain": [
       "<IPython.core.display.HTML object>"
      ]
     },
     "metadata": {},
     "output_type": "display_data"
    },
    {
     "name": "stderr",
     "output_type": "stream",
     "text": [
      "/Users/tgadfort/opt/anaconda3/envs/py37/lib/python3.7/site-packages/sklearn/externals/joblib/__init__.py:15: FutureWarning: sklearn.externals.joblib is deprecated in 0.21 and will be removed in 0.23. Please import this functionality directly from joblib, which can be installed with: pip install joblib. If this warning is raised when loading pickled models, you may need to re-serialize those models with scikit-learn 0.21+.\n",
      "  warnings.warn(msg, category=FutureWarning)\n"
     ]
    },
    {
     "name": "stdout",
     "output_type": "stream",
     "text": [
      "Python: 3.7.7 (default, Mar 26 2020, 10:32:53) \n",
      "[Clang 4.0.1 (tags/RELEASE_401/final)]\n",
      "Notebook Last Run Initiated: 2020-11-17 19:30:51.787256\n"
     ]
    }
   ],
   "source": [
    "## Basic stuff\n",
    "%load_ext autoreload\n",
    "%autoreload\n",
    "from IPython.core.display import display, HTML\n",
    "display(HTML(\"<style>.container { width:100% !important; }</style>\"))\n",
    "display(HTML(\"\"\"<style>div.output_area{max-height:10000px;overflow:scroll;}</style>\"\"\"))\n",
    "\n",
    "\n",
    "################################################################################\n",
    "## General Stuff\n",
    "################################################################################\n",
    "from timeUtils import clock, elapsed\n",
    "from listUtils import getFlatList\n",
    "from time import sleep\n",
    "from pandas import DataFrame, Series\n",
    "from ioUtils import getFile, saveFile\n",
    "from searchUtils import findDirs, findNearest, findAll\n",
    "from fileUtils import getDirBasics, getBaseFilename\n",
    "from unicodedata import normalize\n",
    "from fsUtils import moveDir, setDir, mkDir, isDir, removeDir\n",
    "from pandasUtils import getRowDataByColValue, getRowData\n",
    "import operator\n",
    "from glob import glob\n",
    "from os.path import join\n",
    "from collections import Counter\n",
    "\n",
    "\n",
    "################################################################################\n",
    "## Mp3 Stuff\n",
    "################################################################################\n",
    "from mp3id import mp3ID\n",
    "\n",
    "\n",
    "################################################################################\n",
    "## Database Stuff\n",
    "################################################################################\n",
    "from dbBase import dbBase\n",
    "from mainDB import mainDB\n",
    "from multiArtist import multiartist\n",
    "from matchAlbums import matchAlbums\n",
    "from masterdb import masterdb\n",
    "from masterDBMatchClass import masterDBMatchClass\n",
    "\n",
    "\n",
    "################################################################################\n",
    "## Music Stuff\n",
    "################################################################################\n",
    "from musicUtils import *\n",
    "from myMusicDBMap import myMusicDBMap\n",
    "from musicBase import myMusicBase\n",
    "from musicDBMap import musicDBMap\n",
    "from matchDBArtist import matchDBArtist\n",
    "from matchMyMusic import matchMyMusic\n",
    "from matchMusicName import myMusicName\n",
    "from mergeDB import searchForMutualDBEntries, searchForMutualArtistDBEntries\n",
    "\n",
    "\n",
    "################################################################################\n",
    "## Pandas Stuff\n",
    "################################################################################\n",
    "import pandas as pd\n",
    "pd.set_option('display.max_rows', 500)\n",
    "pd.set_option('display.max_columns', 500)\n",
    "pd.set_option('display.width', 1000)\n",
    "\n",
    "\n",
    "## Python Version\n",
    "import sys\n",
    "print(\"Python: {0}\".format(sys.version))\n",
    "\n",
    "import datetime as dt\n",
    "start = dt.datetime.now()\n",
    "print(\"Notebook Last Run Initiated: \"+str(start))"
   ]
  },
  {
   "cell_type": "markdown",
   "metadata": {},
   "source": [
    "# My Music Database Map"
   ]
  },
  {
   "cell_type": "code",
   "execution_count": 2,
   "metadata": {},
   "outputs": [],
   "source": [
    "from difflib import SequenceMatcher\n",
    "from pandas import Series, DataFrame, isna, isnull\n",
    "\n",
    "def getDBDF(mdbmc, dbName, dbShort, keepNA=False):\n",
    "    amdf = DataFrame(mdbmaps[dbName].getDF().T)\n",
    "    print(\"Total Size: {0}\".format(amdf.shape[0]))\n",
    "    dbcols = amdf.columns\n",
    "\n",
    "    matchData  =  mdbmc.getDBMatchData(dbName)\n",
    "    mAlbDF = DataFrame(Series({primaryKey: len(albums) for primaryKey,albums in matchData.items()}))\n",
    "\n",
    "    amdf = amdf.join(mAlbDF)\n",
    "    cols = list(amdf.columns)\n",
    "    cols[-1] = \"{0}Albums\".format(dbShort)\n",
    "    amdf.columns = cols\n",
    "\n",
    "    amdf.reset_index(inplace=True)\n",
    "    columns = list(amdf.columns)\n",
    "    columns[0] = \"{0}ArtistName\".format(dbShort)\n",
    "    columns[1] = \"{0}Key\".format(dbShort)\n",
    "    amdf.columns = columns\n",
    "    if keepNA is False:\n",
    "        amdf = amdf[~amdf[dbName].isna()]\n",
    "\n",
    "    colOrder = columns[:2] + [columns[-1]] + list(dbcols)\n",
    "    amdf = amdf[colOrder]\n",
    "\n",
    "    amdf = amdf.sort_values(\"{0}Albums\".format(dbShort), ascending=False)\n",
    "\n",
    "    print(\" Good Size: {0}\".format(amdf.shape[0]))\n",
    "    return amdf\n",
    "\n",
    "\n",
    "def checkDBIDMatch(amdf, dbName, dbShort):\n",
    "    wrong = amdf[amdf[\"{0}Key\".format(dbShort)] != amdf[dbName]]\n",
    "    idxs  = list(wrong.index)\n",
    "    print(\"Found {0} wrongly assigned index\".format(len(idxs)))\n",
    "    return idxs\n",
    " \n",
    "    \n",
    "#####################################################################################################################\n",
    "# Fill Matched DB Data From Overlapping Data In A Previously Matched DB\n",
    "#####################################################################################################################\n",
    "def mutualMatch(amdf, mdbmaps, primaryInfo, secondaryInfo, debug=False, test=True, ratioCut=0.9):\n",
    "    primaryDBName  = primaryInfo[0]\n",
    "    primaryDBShort = primaryInfo[1]\n",
    "    primaryDBArtistName = \"{0}ArtistName\".format(primaryDBShort)\n",
    "    primaryDBKey        = \"{0}Key\".format(primaryDBShort)\n",
    "\n",
    "    secondaryDBName  = secondaryInfo[0]\n",
    "    secondaryDBShort = secondaryInfo[1]\n",
    "\n",
    "    debug = debug\n",
    "    amrcdf = amdf[~amdf[secondaryDBName].isna()][[primaryDBArtistName, primaryDBKey, secondaryDBName]]\n",
    "    for i,row in amrcdf.iterrows():\n",
    "\n",
    "        ## Primary DB Key --> Secondary ID\n",
    "        amDBName = row[primaryDBArtistName]\n",
    "        amDBKey  = row[primaryDBKey]\n",
    "        rcDBKey  = row[secondaryDBName]\n",
    "\n",
    "        ## Secondary ID --> Secondary DB Key\n",
    "        primKey  = mdbmaps[secondaryDBName].getPrimaryKeyFromID(rcDBKey)\n",
    "        if primKey is None:\n",
    "            continue\n",
    "        rcDBName = primKey[0]\n",
    "        rcDBKey  = primKey[1]\n",
    "\n",
    "\n",
    "        s = SequenceMatcher(None, str(amDBName), str(rcDBName))\n",
    "\n",
    "        if debug is True:\n",
    "            print(\"{0: <30}{1: <30}{2: <30}{3}\".format(\"\", primaryDBName, secondaryDBName, \"Match\"))\n",
    "            print(\"{0: <30}{1: <30}{2: <30}{3}\".format(\"{0} ID   --> {1} ID\".format(primaryDBShort, secondaryDBShort), amDBKey, rcDBKey, round(s.ratio(),2)))\n",
    "            print(\"{0: <30}{1: <30}{2: <30}\".format(\"{0} Name --> {1} Name\".format(primaryDBShort, secondaryDBShort), amDBName, rcDBName))\n",
    "\n",
    "\n",
    "        amDBData = mdbmaps[primaryDBName].getArtistData(amDBName, amDBKey)\n",
    "        rcDBData = mdbmaps[secondaryDBName].getArtistData(rcDBName, rcDBKey)\n",
    "\n",
    "        amRCDBKey = rcDBKey\n",
    "        rcAMDBKey = rcDBData.getDBID(primaryDBName)\n",
    "        if debug is True:\n",
    "            print(\"{0: <30}{1: <30}{2: <30}\".format(\"{0} ID   --> {1} ID\".format(secondaryDBShort, primaryDBShort), str(rcAMDBKey), str(amRCDBKey)))    \n",
    "\n",
    "        if s.ratio() > ratioCut:\n",
    "            if rcAMDBKey != amDBKey:\n",
    "                print(\"{0: <50}{1: <75}\\t--->\\t[{2}/{3}]\".format(\"Setting {0} DBData For {1}\".format(secondaryDBName,primaryDBName),\"[{0: <30} {1: <4} {2: >30}]\".format(amDBName,round(s.ratio(),2),rcDBName),amDBKey,rcDBKey))\n",
    "                if test is True:\n",
    "                    continue\n",
    "                mdbmaps[secondaryDBName].addArtistData(rcDBName, rcDBKey, primaryDBName, amDBKey)\n",
    "\n",
    "        if debug:\n",
    "            print(\"\\n\")\n",
    "\n",
    "    if test is True:\n",
    "        return\n",
    "    mdbmaps[secondaryDBName].save()\n",
    "    \n",
    "    \n",
    "    \n",
    "#####################################################################################################################\n",
    "# Fill Fresh DB Data From A Previously Matched DB\n",
    "#####################################################################################################################\n",
    "def mutualMatchFromPreviousDBMatch(amdf, mdbmaps, primaryInfo, secondaryInfo, debug=False, test=True, ratioCut=0.9):\n",
    "\n",
    "    primaryDBName  = primaryInfo[0]\n",
    "    primaryDBShort = primaryInfo[1]\n",
    "    primaryDBArtistName = \"{0}ArtistName\".format(primaryDBShort)\n",
    "    primaryDBKey        = \"{0}Key\".format(primaryDBShort)\n",
    "\n",
    "    secondaryDBName  = secondaryInfo[0]\n",
    "    secondaryDBShort = secondaryInfo[1]\n",
    "\n",
    "\n",
    "\n",
    "    amrcdf = amdf[~amdf[secondaryDBName].isna()][[primaryDBArtistName, primaryDBKey, secondaryDBName]]\n",
    "    for i,row in amrcdf.iterrows():\n",
    "\n",
    "        ## Primary DB Key --> Secondary ID\n",
    "        amDBName = row[primaryDBArtistName]\n",
    "        amDBKey  = row[primaryDBKey]\n",
    "        rcDBKey  = row[secondaryDBName]\n",
    "\n",
    "        if amDBKey is None:\n",
    "            continue\n",
    "\n",
    "        #if debug is True:\n",
    "        #    print(amDBName,'\\t',amDBKey,'\\t',rcDBKey,'\\t-->\\t',end=\"\")\n",
    "\n",
    "        ## Secondary ID --> Secondary DB Key\n",
    "        primKey = toMatchKeys.get(rcDBKey)\n",
    "        #if debug is True:\n",
    "        #    print(primKey)\n",
    "        #primKey  = mdbmaps[secondaryDBName].getPrimaryKeyFromID(rcDBKey)\n",
    "\n",
    "        if primKey is None:\n",
    "            continue\n",
    "        rcDBName = primKey[0]\n",
    "        rcDBKey  = primKey[1]\n",
    "\n",
    "\n",
    "\n",
    "        s = SequenceMatcher(None, str(amDBName), str(rcDBName))\n",
    "\n",
    "        if debug is True:\n",
    "            print(\"{0: <30}{1: <30}{2: <30}{3}\".format(\"\", primaryDBName, secondaryDBName, \"Match\"))\n",
    "            print(\"{0: <30}{1: <30}{2: <30}{3}\".format(\"{0} ID   --> {1} ID\".format(primaryDBShort, secondaryDBShort), amDBKey, rcDBKey, round(s.ratio(),2)))\n",
    "            print(\"{0: <30}{1: <30}{2: <30}\".format(\"{0} Name --> {1} Name\".format(primaryDBShort, secondaryDBShort), amDBName, rcDBName))\n",
    "\n",
    "        continue\n",
    "        if not mdbmaps[secondaryDBName].isKnown(rcDBName, rcDBKey):\n",
    "            mdbmaps[secondaryDBName].addArtist(rcDBName, rcDBKey)\n",
    "            mdbmaps[secondaryDBName].addArtistData(rcDBName, rcDBKey, secondaryDBName, rcDBKey)\n",
    "\n",
    "\n",
    "        amDBData = mdbmaps[primaryDBName].getArtistData(amDBName, amDBKey)\n",
    "        rcDBData = mdbmaps[secondaryDBName].getArtistData(rcDBName, rcDBKey)\n",
    "\n",
    "        amRCDBKey = rcDBKey\n",
    "        rcAMDBKey = rcDBData.getDBID(primaryDBName)\n",
    "        if debug is True:\n",
    "            print(\"{0: <30}{1: <30}{2: <30}\".format(\"{0} ID   --> {1} ID\".format(secondaryDBShort, primaryDBShort), str(rcAMDBKey), str(amRCDBKey)))    \n",
    "\n",
    "        if s.ratio() > ratioCut:\n",
    "            if rcAMDBKey != amDBKey:\n",
    "                print(\"{0: <50}{1: <75}\\t--->\\t[{2}/{3}]\".format(\"Setting {0} DBData For {1}\".format(secondaryDBName,primaryDBName),\"[{0: <30} {1: <4} {2: >30}]\".format(amDBName,round(s.ratio(),2),rcDBName),amDBKey,rcDBKey))\n",
    "                if test is True:\n",
    "                    continue\n",
    "                mdbmaps[secondaryDBName].addArtistData(rcDBName, rcDBKey, primaryDBName, amDBKey)\n",
    "\n",
    "\n",
    "        if debug:\n",
    "            print(\"\\n\")\n",
    "\n",
    "    if test is False:\n",
    "        mdbmaps[secondaryDBName].save()    \n",
    "    \n",
    "    \n",
    "\n",
    "def isSame(x):\n",
    "    name  = x.MyArtistName\n",
    "    match = x[\"{0}ArtistName\".format(dbShort)]\n",
    "    if not all([name,match]):\n",
    "        return None\n",
    "    if any([isna(x) for x in [name,match]]):\n",
    "        return None\n",
    "\n",
    "    same = False\n",
    "    if all([name,match]):\n",
    "        if str(name) == str(match):\n",
    "            same = True\n",
    "    else:\n",
    "        raise ValueError([name,match])\n",
    "    return same\n",
    "\n",
    "def ratio(x):\n",
    "    name  = x.MyArtistName\n",
    "    match = x[\"{0}ArtistName\".format(dbShort)]\n",
    "    same  = x.Same\n",
    "    if same is None:\n",
    "        return None\n",
    "    else:\n",
    "        if all([name,match]):\n",
    "            s = SequenceMatcher(None, str(name), str(match))\n",
    "            return s.ratio()\n",
    "        return -1.0"
   ]
  },
  {
   "cell_type": "markdown",
   "metadata": {},
   "source": [
    "# Load My Music DB"
   ]
  },
  {
   "cell_type": "code",
   "execution_count": 3,
   "metadata": {},
   "outputs": [
    {
     "name": "stdout",
     "output_type": "stream",
     "text": [
      "  Loaded 4732 previously matched entries\n"
     ]
    }
   ],
   "source": [
    "#mdbmap.removeArtist(\"Marvin Gaye & Tammi Terrell\")\n",
    "#mdbmap.save()\n",
    "mdbmap = musicDBMap(\"Music\", init=False)"
   ]
  },
  {
   "cell_type": "markdown",
   "metadata": {},
   "source": [
    "# Load DB Data"
   ]
  },
  {
   "cell_type": "code",
   "execution_count": null,
   "metadata": {},
   "outputs": [],
   "source": [
    "dbDict = {}\n",
    "dbDict[\"AllMusic\"]      = \"AM\"\n",
    "dbDict[\"Discogs\"]       = \"DC\"\n",
    "dbDict[\"MusicBrainz\"]   = \"MB\"\n",
    "dbDict[\"LastFM\"]        = \"LM\"\n",
    "dbDict[\"RockCorner\"]    = \"RC\"\n",
    "dbDict[\"MusicStack\"]    = \"MS\"\n",
    "dbDict[\"CDandLP\"]       = \"CL\"\n",
    "dbDict[\"AceBootlegs\"]   = \"AB\"\n",
    "dbDict[\"RateYourMusic\"] = \"RM\"\n",
    "dbDict"
   ]
  },
  {
   "cell_type": "code",
   "execution_count": null,
   "metadata": {},
   "outputs": [],
   "source": [
    "loadAll = True\n",
    "if loadAll:\n",
    "    mdbmaps = {}\n",
    "    for db in maindb.getDBs():\n",
    "        print(\"{0: <30}\".format(db), end=\"\")\n",
    "        mdbmaps[db] = musicDBMap(db, init=False)\n",
    "    #mdbmaps = {db: musicDBMap(db, init=False) for db in maindb.getDBs()}\n",
    "else:\n",
    "    mdbmaps = {}\n",
    "    mdbmaps[\"AllMusic\"]      = musicDBMap(\"AllMusic\", init=False)\n",
    "    mdbmaps[\"MusicBrainz\"]   = musicDBMap(\"MusicBrainz\", init=False)\n",
    "    mdbmaps[\"RockCorner\"]    = musicDBMap(\"RockCorner\", init=False)\n",
    "    mdbmaps[\"MusicStack\"]    = musicDBMap(\"MusicStack\", init=False)\n",
    "    mdbmaps[\"CDandLP\"]       = musicDBMap(\"CDandLP\", init=False)\n",
    "    mdbmaps[\"AceBootlegs\"]   = musicDBMap(\"AceBootlegs\", init=False)\n",
    "    mdbmaps[\"RateYourMusic\"] = musicDBMap(\"RateYourMusic\", init=False)"
   ]
  },
  {
   "cell_type": "code",
   "execution_count": null,
   "metadata": {},
   "outputs": [],
   "source": [
    "mdbmaps={}\n",
    "mdbmaps[\"AllMusic\"]      = musicDBMap(\"AllMusic\", init=False)\n",
    "mdbmaps[\"MusicBrainz\"]   = musicDBMap(\"MusicBrainz\", init=False)"
   ]
  },
  {
   "cell_type": "markdown",
   "metadata": {},
   "source": [
    "# Load Main DB and Match Class"
   ]
  },
  {
   "cell_type": "code",
   "execution_count": null,
   "metadata": {},
   "outputs": [],
   "source": [
    "maindb = mainDB(mdb=None, create=False, debug=False)\n",
    "maindb.loadDBDataMap()"
   ]
  },
  {
   "cell_type": "code",
   "execution_count": null,
   "metadata": {},
   "outputs": [],
   "source": [
    "mdbmc = masterDBMatchClass(maindb, mdbmaps)"
   ]
  },
  {
   "cell_type": "code",
   "execution_count": null,
   "metadata": {},
   "outputs": [],
   "source": [
    "dbDataMatch = mdbmc.getDBMatchData(\"Discogs\")"
   ]
  },
  {
   "cell_type": "code",
   "execution_count": 4,
   "metadata": {},
   "outputs": [],
   "source": [
    "mydf = mdbmap.getDF().T"
   ]
  },
  {
   "cell_type": "code",
   "execution_count": null,
   "metadata": {},
   "outputs": [],
   "source": [
    "https://www.musicstack.com/discography/joe+satriani\n",
    "https://www.therockcorner.com\n",
    "https://www.cdandlp.com/en/def-leppard/artist/\n",
    "https://www.amoeba.com/music/cd-and-vinyl/#/genre-43"
   ]
  },
  {
   "cell_type": "code",
   "execution_count": 13,
   "metadata": {},
   "outputs": [
    {
     "data": {
      "text/html": [
       "<div>\n",
       "<style scoped>\n",
       "    .dataframe tbody tr th:only-of-type {\n",
       "        vertical-align: middle;\n",
       "    }\n",
       "\n",
       "    .dataframe tbody tr th {\n",
       "        vertical-align: top;\n",
       "    }\n",
       "\n",
       "    .dataframe thead th {\n",
       "        text-align: right;\n",
       "    }\n",
       "</style>\n",
       "<table border=\"1\" class=\"dataframe\">\n",
       "  <thead>\n",
       "    <tr style=\"text-align: right;\">\n",
       "      <th></th>\n",
       "      <th></th>\n",
       "      <th>Discogs</th>\n",
       "      <th>AllMusic</th>\n",
       "      <th>MusicBrainz</th>\n",
       "      <th>AceBootlegs</th>\n",
       "      <th>RateYourMusic</th>\n",
       "      <th>LastFM</th>\n",
       "      <th>DatPiff</th>\n",
       "      <th>RockCorner</th>\n",
       "      <th>CDandLP</th>\n",
       "      <th>MusicStack</th>\n",
       "      <th>MetalStorm</th>\n",
       "    </tr>\n",
       "  </thead>\n",
       "  <tbody>\n",
       "    <tr>\n",
       "      <th>\"Weird Al\" Yankovic</th>\n",
       "      <th>144448e4d28359187bdfa41653d2de95</th>\n",
       "      <td>259422</td>\n",
       "      <td>0000817315</td>\n",
       "      <td>252089069206782159204445716107588788546</td>\n",
       "      <td>None</td>\n",
       "      <td>None</td>\n",
       "      <td>None</td>\n",
       "      <td>None</td>\n",
       "      <td>None</td>\n",
       "      <td>None</td>\n",
       "      <td>None</td>\n",
       "      <td>None</td>\n",
       "    </tr>\n",
       "    <tr>\n",
       "      <th>'68 Comeback</th>\n",
       "      <th>7a713b0e18aceebf99af14f348092a8f</th>\n",
       "      <td>350286</td>\n",
       "      <td>0000726082</td>\n",
       "      <td>223315906270366269211184693736845870471</td>\n",
       "      <td>None</td>\n",
       "      <td>None</td>\n",
       "      <td>76102572316</td>\n",
       "      <td>None</td>\n",
       "      <td>None</td>\n",
       "      <td>7789063285768</td>\n",
       "      <td>None</td>\n",
       "      <td>None</td>\n",
       "    </tr>\n",
       "    <tr>\n",
       "      <th>'68 Comeback Special</th>\n",
       "      <th>ef325f05f85b6d7eefccc257a35e6715</th>\n",
       "      <td>4690194</td>\n",
       "      <td>0002768705</td>\n",
       "      <td>334023133475570103002327579969852187749</td>\n",
       "      <td>None</td>\n",
       "      <td>None</td>\n",
       "      <td>None</td>\n",
       "      <td>None</td>\n",
       "      <td>None</td>\n",
       "      <td>None</td>\n",
       "      <td>None</td>\n",
       "      <td>None</td>\n",
       "    </tr>\n",
       "    <tr>\n",
       "      <th>*NSYNC</th>\n",
       "      <th>b968a9b7ce2a374b178b80070284c7c3</th>\n",
       "      <td>69433</td>\n",
       "      <td>0000516929</td>\n",
       "      <td>59621135211322028167760795472347712673</td>\n",
       "      <td>None</td>\n",
       "      <td>None</td>\n",
       "      <td>67689072579</td>\n",
       "      <td>None</td>\n",
       "      <td>None</td>\n",
       "      <td>None</td>\n",
       "      <td>None</td>\n",
       "      <td>None</td>\n",
       "    </tr>\n",
       "    <tr>\n",
       "      <th>-123 min.</th>\n",
       "      <th>8311291b86c3d52634444dfb330f42b3</th>\n",
       "      <td>2054727</td>\n",
       "      <td>0000422575</td>\n",
       "      <td>None</td>\n",
       "      <td>None</td>\n",
       "      <td>None</td>\n",
       "      <td>None</td>\n",
       "      <td>None</td>\n",
       "      <td>None</td>\n",
       "      <td>None</td>\n",
       "      <td>None</td>\n",
       "      <td>None</td>\n",
       "    </tr>\n",
       "    <tr>\n",
       "      <th>...</th>\n",
       "      <th>...</th>\n",
       "      <td>...</td>\n",
       "      <td>...</td>\n",
       "      <td>...</td>\n",
       "      <td>...</td>\n",
       "      <td>...</td>\n",
       "      <td>...</td>\n",
       "      <td>...</td>\n",
       "      <td>...</td>\n",
       "      <td>...</td>\n",
       "      <td>...</td>\n",
       "      <td>...</td>\n",
       "    </tr>\n",
       "    <tr>\n",
       "      <th>Hellhole</th>\n",
       "      <th>79714996a98b8157b74985d2b4bc7f87</th>\n",
       "      <td>2707104</td>\n",
       "      <td>0001273006</td>\n",
       "      <td>None</td>\n",
       "      <td>None</td>\n",
       "      <td>None</td>\n",
       "      <td>None</td>\n",
       "      <td>None</td>\n",
       "      <td>None</td>\n",
       "      <td>None</td>\n",
       "      <td>None</td>\n",
       "      <td>None</td>\n",
       "    </tr>\n",
       "    <tr>\n",
       "      <th>The Choir of Trinity College Cambridge</th>\n",
       "      <th>24b3c0e696d44b82ff3dcf3d433aca08</th>\n",
       "      <td>None</td>\n",
       "      <td>0001488098</td>\n",
       "      <td>197193132978383613585900352857213609510</td>\n",
       "      <td>None</td>\n",
       "      <td>None</td>\n",
       "      <td>None</td>\n",
       "      <td>None</td>\n",
       "      <td>None</td>\n",
       "      <td>None</td>\n",
       "      <td>None</td>\n",
       "      <td>None</td>\n",
       "    </tr>\n",
       "    <tr>\n",
       "      <th>The Choir of King's College Cambridge</th>\n",
       "      <th>3559bca7c05b51850a9011dc0c0cccff</th>\n",
       "      <td>None</td>\n",
       "      <td>0000608992</td>\n",
       "      <td>273338754289470679440863230907769944743</td>\n",
       "      <td>None</td>\n",
       "      <td>None</td>\n",
       "      <td>None</td>\n",
       "      <td>None</td>\n",
       "      <td>None</td>\n",
       "      <td>None</td>\n",
       "      <td>None</td>\n",
       "      <td>None</td>\n",
       "    </tr>\n",
       "    <tr>\n",
       "      <th>Mieczysław Horszowski</th>\n",
       "      <th>5423255356443e5212414eced87a51cf</th>\n",
       "      <td>None</td>\n",
       "      <td>None</td>\n",
       "      <td>None</td>\n",
       "      <td>None</td>\n",
       "      <td>None</td>\n",
       "      <td>None</td>\n",
       "      <td>None</td>\n",
       "      <td>None</td>\n",
       "      <td>None</td>\n",
       "      <td>None</td>\n",
       "      <td>None</td>\n",
       "    </tr>\n",
       "    <tr>\n",
       "      <th>Dorrough</th>\n",
       "      <th>b0a440e9a57506d1ec9b9feb3c73e409</th>\n",
       "      <td>None</td>\n",
       "      <td>None</td>\n",
       "      <td>None</td>\n",
       "      <td>None</td>\n",
       "      <td>None</td>\n",
       "      <td>None</td>\n",
       "      <td>None</td>\n",
       "      <td>None</td>\n",
       "      <td>None</td>\n",
       "      <td>None</td>\n",
       "      <td>None</td>\n",
       "    </tr>\n",
       "  </tbody>\n",
       "</table>\n",
       "<p>4732 rows × 11 columns</p>\n",
       "</div>"
      ],
      "text/plain": [
       "                                                                         Discogs    AllMusic                              MusicBrainz AceBootlegs RateYourMusic       LastFM DatPiff RockCorner        CDandLP MusicStack MetalStorm\n",
       "\"Weird Al\" Yankovic                    144448e4d28359187bdfa41653d2de95   259422  0000817315  252089069206782159204445716107588788546        None          None         None    None       None           None       None       None\n",
       "'68 Comeback                           7a713b0e18aceebf99af14f348092a8f   350286  0000726082  223315906270366269211184693736845870471        None          None  76102572316    None       None  7789063285768       None       None\n",
       "'68 Comeback Special                   ef325f05f85b6d7eefccc257a35e6715  4690194  0002768705  334023133475570103002327579969852187749        None          None         None    None       None           None       None       None\n",
       "*NSYNC                                 b968a9b7ce2a374b178b80070284c7c3    69433  0000516929   59621135211322028167760795472347712673        None          None  67689072579    None       None           None       None       None\n",
       "-123 min.                              8311291b86c3d52634444dfb330f42b3  2054727  0000422575                                     None        None          None         None    None       None           None       None       None\n",
       "...                                                                          ...         ...                                      ...         ...           ...          ...     ...        ...            ...        ...        ...\n",
       "Hellhole                               79714996a98b8157b74985d2b4bc7f87  2707104  0001273006                                     None        None          None         None    None       None           None       None       None\n",
       "The Choir of Trinity College Cambridge 24b3c0e696d44b82ff3dcf3d433aca08     None  0001488098  197193132978383613585900352857213609510        None          None         None    None       None           None       None       None\n",
       "The Choir of King's College Cambridge  3559bca7c05b51850a9011dc0c0cccff     None  0000608992  273338754289470679440863230907769944743        None          None         None    None       None           None       None       None\n",
       "Mieczysław Horszowski                  5423255356443e5212414eced87a51cf     None        None                                     None        None          None         None    None       None           None       None       None\n",
       "Dorrough                               b0a440e9a57506d1ec9b9feb3c73e409     None        None                                     None        None          None         None    None       None           None       None       None\n",
       "\n",
       "[4732 rows x 11 columns]"
      ]
     },
     "execution_count": 13,
     "metadata": {},
     "output_type": "execute_result"
    }
   ],
   "source": [
    "mydf"
   ]
  },
  {
   "cell_type": "code",
   "execution_count": 12,
   "metadata": {},
   "outputs": [],
   "source": [
    "mydf[mydf[\"RateYourMusic\"].isna()].to_pickle(\"/Users/tgadfort/Dropbox/RateYourMusic.p\")\n",
    "mydf[mydf[\"CDandLP\"].isna()].to_pickle(\"/Users/tgadfort/Dropbox/CDandLP.p\")\n",
    "mydf[mydf[\"MusicStack\"].isna()].to_pickle(\"/Users/tgadfort/Dropbox/MusicStack.p\")"
   ]
  },
  {
   "cell_type": "code",
   "execution_count": null,
   "metadata": {},
   "outputs": [],
   "source": [
    "mdbmc.getDataToMatch(\"Discogs\")"
   ]
  },
  {
   "cell_type": "code",
   "execution_count": null,
   "metadata": {},
   "outputs": [],
   "source": [
    "getDBDFs = True\n",
    "if getDBDFs:\n",
    "    mdfs = {dbNameKey: getDBDF(mdbmc, dbNameKey, dbDict[dbNameKey]) for dbNameKey in mdbmaps.keys()}\n",
    "    for dbNameKey in mdfs.keys():\n",
    "        idxs = checkDBIDMatch(mdfs[dbNameKey], dbNameKey, dbDict[dbNameKey])\n",
    "        print(\"\")"
   ]
  },
  {
   "cell_type": "code",
   "execution_count": null,
   "metadata": {},
   "outputs": [],
   "source": [
    "#mutualMatch(amdf, mdbmaps, (\"AllMusic\", \"AM\"), (\"MusicStack\", \"MS\"), debug=False, test=True)\n",
    "#mutualMatch(amdf, mdbmaps, (\"AllMusic\", \"AM\"), (\"MusicBrainz\", \"AB\"), debug=False, test=True)"
   ]
  },
  {
   "cell_type": "markdown",
   "metadata": {},
   "source": [
    "# Matching Area"
   ]
  },
  {
   "cell_type": "code",
   "execution_count": null,
   "metadata": {},
   "outputs": [],
   "source": [
    "mdbmap  = musicDBMap(\"Music\", init=False)\n",
    "dbName  = \"MusicBrainz\"\n",
    "dbShort = \"MB\""
   ]
  },
  {
   "cell_type": "code",
   "execution_count": null,
   "metadata": {},
   "outputs": [],
   "source": [
    "myamdf = DataFrame(mdbmap.getDF().T[dbName])\n",
    "myamdf.reset_index(inplace=True)\n",
    "myamdf.columns = [\"MyArtistName\", \"MyKey\", \"DBID\"]\n",
    "myamdf = myamdf[~myamdf[\"DBID\"].isna()]\n",
    "\n",
    "amdf = mdfs[dbName][[\"{0}ArtistName\".format(dbShort), \"{0}Key\".format(dbShort), \"{0}\".format(dbName)]].copy(deep=True)\n",
    "cols = list(amdf.columns)\n",
    "cols[-1] = \"DBID\"\n",
    "amdf.columns = cols"
   ]
  },
  {
   "cell_type": "code",
   "execution_count": null,
   "metadata": {},
   "outputs": [],
   "source": [
    "from pandas import merge\n",
    "mgdf = merge(myamdf, amdf, on=['DBID'], how='inner')\n",
    "dbShort = dbDict[dbName]\n",
    "print(dbName,dbShort)\n",
    "#mgdf[mgdf[\"AMKey\"].isna()]\n",
    "print(mgdf.shape)"
   ]
  },
  {
   "cell_type": "code",
   "execution_count": null,
   "metadata": {},
   "outputs": [],
   "source": [
    "dbRenames = getFile(\"dbRenames.yaml\")\n",
    "dbRenames"
   ]
  },
  {
   "cell_type": "code",
   "execution_count": null,
   "metadata": {},
   "outputs": [],
   "source": [
    "dbRenames = getFile(\"dbRenames.yaml\")\n",
    "mgdf[\"{0}ArtistName\".format(dbShort)] = mgdf[\"{0}ArtistName\".format(dbShort)].apply(lambda x: dbRenames.get(x) if dbRenames.get(x) else x)\n",
    "mgdf[\"Same\"]  = mgdf.apply(isSame, axis=1)\n",
    "mgdf[\"Ratio\"] = mgdf.apply(ratio, axis=1)"
   ]
  },
  {
   "cell_type": "code",
   "execution_count": null,
   "metadata": {},
   "outputs": [],
   "source": [
    "rDF = mgdf[((mgdf['Same'] == False) & (mgdf['Ratio'] > 0.0) & (mgdf['Ratio'] < 1.6))][[\"MyArtistName\", \"{0}ArtistName\".format(dbShort)]]\n",
    "print(\"Size ==> {0}\".format(mgdf[(mgdf['Same'] == False)].shape[0]))\n",
    "print(\"-\"*20)\n",
    "for i,row in rDF.iterrows():\n",
    "    myName = row.MyArtistName\n",
    "    amName = row[\"{0}ArtistName\".format(dbShort)]\n",
    "    #print(\"mdbmap.addArtistData(\\\"{0}\\\", mdbmap.getHash(\\\"{1}\\\"), 'MusicBrainz', None)\".format(myName, myName))\n",
    "    #print(\"mdbmap.addArtistData(\\\"{0}\\\", mdbmap.getHash(\\\"{1}\\\"), 'MusicBrainz', maindb.dbdata[\\\"MusicBrainz\\\"][\\\"Utils\\\"].getArtistID(\\\"\\\"))\".format(myName, myName))\n",
    "    #continue\n",
    "    print(\"{0}: {1}\".format(amName, myName))\n",
    "    if myName.startswith(\"The \") and not amName.startswith(\"The \"):\n",
    "        print(\"The The {0}: {1}\".format(amName, myName))"
   ]
  },
  {
   "cell_type": "code",
   "execution_count": null,
   "metadata": {},
   "outputs": [],
   "source": [
    "artistName = \"Project Z\"\n",
    "row = mgdf[mgdf[\"MyArtistName\"] == artistName]\n",
    "myKey = row.MyKey.values[0]\n",
    "print(\"Artist --> {0}\".format(artistName))\n",
    "print(\"MyKey  --> {0}\".format(myKey))\n",
    "row"
   ]
  },
  {
   "cell_type": "code",
   "execution_count": null,
   "metadata": {},
   "outputs": [],
   "source": [
    "mdbmap.getArtistData(\"Jay-Z\").show()"
   ]
  },
  {
   "cell_type": "code",
   "execution_count": null,
   "metadata": {},
   "outputs": [],
   "source": [
    "mdbmap.removeArtist(\"The English Beat\", mdbmap.getHash(\"The English Beat\"))\n",
    "mdbmap.save()"
   ]
  },
  {
   "cell_type": "code",
   "execution_count": null,
   "metadata": {},
   "outputs": [],
   "source": [
    "maindb.dbdata[\"MusicBrainz\"][\"Utils\"].getArtistID(\"c945ec66-a07c-3986-86a7-6db575d99740\")"
   ]
  },
  {
   "cell_type": "code",
   "execution_count": null,
   "metadata": {},
   "outputs": [],
   "source": [
    "mdbmap.addArtistData(artistName, myKey, 'MusicBrainz', '327099666880863839613792835568821512284')\n",
    "mdbmap.save()"
   ]
  },
  {
   "cell_type": "code",
   "execution_count": null,
   "metadata": {},
   "outputs": [],
   "source": [
    "mdbmap.removeArtist(\"Joe King Carrasco and The El Molino Band\")\n",
    "mdbmap.save()"
   ]
  },
  {
   "cell_type": "code",
   "execution_count": null,
   "metadata": {},
   "outputs": [],
   "source": [
    "mdbmap.addArtistData(\"Lil' Boosie\", mdbmap.getHash(\"Lil' Boosie\"), 'MusicBrainz', maindb.dbdata[\"MusicBrainz\"][\"Utils\"].getArtistID(\"https://musicbrainz.org/artist/8ba17cf6-bec2-4ae4-9820-b1cda47adc08\"))\n",
    "mdbmap.save()"
   ]
  },
  {
   "cell_type": "code",
   "execution_count": null,
   "metadata": {},
   "outputs": [],
   "source": [
    "maindb.dbdata[\"MusicBrainz\"][\"Utils\"].getArtistID(\"https://musicbrainz.org/artist/769b978f-8b3e-42cc-8a3b-9c1121c5dc0f\")"
   ]
  },
  {
   "cell_type": "code",
   "execution_count": null,
   "metadata": {},
   "outputs": [],
   "source": [
    "maindb.dbdata[\"MusicBrainz\"][\"Utils\"].getArtistID(\"769b978f-8b3e-42cc-8a3b-9c1121c5dc0f\")"
   ]
  },
  {
   "cell_type": "code",
   "execution_count": null,
   "metadata": {},
   "outputs": [],
   "source": [
    "mdbmap.addArtistData(\"Tone-Loc\", mdbmap.getHash(\"Tone-Loc\"), 'MusicBrainz', maindb.dbdata[\"MusicBrainz\"][\"Utils\"].getArtistID(\"https://musicbrainz.org/artist/16da4997-78e1-4837-85f6-9247d10cde1f\"))\n",
    "mdbmap.save()"
   ]
  },
  {
   "cell_type": "code",
   "execution_count": null,
   "metadata": {},
   "outputs": [],
   "source": [
    "mdbmap.save()"
   ]
  },
  {
   "cell_type": "code",
   "execution_count": null,
   "metadata": {},
   "outputs": [],
   "source": [
    "for primaryKey,dbID in mdf.T[\"AllMusic\"].to_dict():\n",
    "    artistName = primaryKey[0]\n",
    "    mdbmaps[]"
   ]
  },
  {
   "cell_type": "code",
   "execution_count": null,
   "metadata": {},
   "outputs": [],
   "source": [
    "### Master DB code\n",
    "%load_ext autoreload\n",
    "%autoreload\n",
    "maindb = mainDB(mdb=None, create=False, debug=False)\n",
    "maindb.loadDBDataMap()"
   ]
  },
  {
   "cell_type": "code",
   "execution_count": null,
   "metadata": {},
   "outputs": [],
   "source": [
    "mdbmap = musicDBMap(\"Music\", init=False)"
   ]
  },
  {
   "cell_type": "code",
   "execution_count": null,
   "metadata": {},
   "outputs": [],
   "source": [
    "if False:\n",
    "    mdb = myMusicDBMap(debug=False)\n",
    "    mdb.getFullDBData()\n",
    "    #mdb.getKnownDBData()\n",
    "    maindb = mainDB(mdb=mdb, create=False, debug=True)\n",
    "    dbdata = maindb.dbdata\n",
    "    #maindb.setDBFull() ## Do this to recreate everything\n",
    "    #maindb.setDBKnown()\n",
    "    _, _ = clock(\"Last Run\")"
   ]
  },
  {
   "cell_type": "markdown",
   "metadata": {},
   "source": [
    "# Find All My Music and What's Known/Unknown"
   ]
  },
  {
   "cell_type": "markdown",
   "metadata": {},
   "source": [
    "#### Find My Music"
   ]
  },
  {
   "cell_type": "code",
   "execution_count": null,
   "metadata": {
    "scrolled": false
   },
   "outputs": [],
   "source": [
    "%load_ext autoreload\n",
    "%autoreload\n",
    "from musicBase import myMusicBase\n",
    "\n",
    "def getMusicStatus(mdb):\n",
    "    ## Basic stuff\n",
    "    mmb = myMusicBase(debug=False)\n",
    "    mmb.findArtistAlbums()\n",
    "    \n",
    "    mmm = matchMyMusic(mdb)\n",
    "    mmm.getArtistStatus()\n",
    "    mmm.setMusicBase(mmb)\n",
    "    unknownArtists = mmm.getUnknownArtists()\n",
    "    _, _ = clock(\"Last Run\")\n",
    "    \n",
    "    return mmb,mmm,unknownArtists\n",
    "\n",
    "def findUnknownArtists(mmm, unknownArtists):\n",
    "    if len(unknownArtists) > 0:\n",
    "        mmm.matchUnknownArtists(ratioCut=0.75)\n",
    "\n",
    "        for artist in unknownArtists:\n",
    "            print(\"mdb.add(\\\"{0}\\\", \\\"{1}\\\", \\\"{2}\\\")\".format(artist, \"AllMusic\", \"\"))\n",
    "\n",
    "mmb, mmm, unknownArtists = getMusicStatus(mdb)\n",
    "findUnknownArtists(mmm, unknownArtists)"
   ]
  },
  {
   "cell_type": "code",
   "execution_count": null,
   "metadata": {},
   "outputs": [],
   "source": [
    "#mdb.add(\"Mieczysław Horszowski\", \"Discogs\", \"1233607\")\n",
    "mdb.save()"
   ]
  },
  {
   "cell_type": "markdown",
   "metadata": {},
   "source": [
    "# Find Mutual Entries"
   ]
  },
  {
   "cell_type": "code",
   "execution_count": null,
   "metadata": {},
   "outputs": [],
   "source": [
    "#mdb.rmArtistDBKey(\"Intro To India\", \"MusicBrainz\")\n",
    "#mdb.save()"
   ]
  },
  {
   "cell_type": "code",
   "execution_count": null,
   "metadata": {},
   "outputs": [],
   "source": [
    "#mdb.add(\"I Am Kloot\", \"AllMusic\", \"0000256067\")\n",
    "if False:\n",
    "    ignores  = [\"Bryan Adams\", \"Leslie Keith\", \"Patrick Swayze\", \"David Frizzell & Shelly West\", \"Matt Monroe\"]\n",
    "    ignores += [\"Antonio Vivaldi\", \"Franz Liszt\", \"Georges Bizet\", \"Hector Berlioz\", \"Richard Wagner\"]\n",
    "    ignores += [\"Robert Schumann\", \"Blyss\"]   \n",
    "    for artistName in ignores:\n",
    "        mdb.rmArtistDBKey(artistName, \"AllMusic\")\n",
    "    mdb.save()"
   ]
  },
  {
   "cell_type": "code",
   "execution_count": null,
   "metadata": {},
   "outputs": [],
   "source": [
    "mdb.getArtistDBData('\"Weird Al\" Yankovic', \"LastFM\")['ID']"
   ]
  },
  {
   "cell_type": "code",
   "execution_count": null,
   "metadata": {
    "scrolled": false
   },
   "outputs": [],
   "source": [
    "#searchForMutualDBEntries\n",
    "%load_ext autoreload\n",
    "%autoreload\n",
    "if True:\n",
    "    #mdb = myMusicDBMap(debug=False)\n",
    "    #mdb.getFullDBData()\n",
    "    mmm = matchMyMusic(mdb)\n",
    "    mmm.searchForMutualDBEntriesByDB(\"LastFM\", cutoff=0.90, maxAdds=100, start=-1, modVal=250, maxAlbumsForSearch=500)\n",
    "#mmm.getArtistStatus()\n",
    "#mmm.setMusicBase(mmb)\n",
    "#unknownArtists = mmm.getUnknownArtists()\n",
    "\n",
    "_, _ = clock(\"Last Run\")"
   ]
  },
  {
   "cell_type": "code",
   "execution_count": null,
   "metadata": {},
   "outputs": [],
   "source": [
    "\n",
    "mdb.save()"
   ]
  },
  {
   "cell_type": "code",
   "execution_count": null,
   "metadata": {},
   "outputs": [],
   "source": [
    "name = \"Robert Schumann\"\n",
    "dutils = dbdata[\"LastFM\"][\"Utils\"]\n",
    "artistID = dutils.getArtistID(name)\n",
    "print(name,' \\t--> ',artistID)\n",
    "mdb.add(name, \"LastFM\", artistID)\n",
    "mdb.save()"
   ]
  },
  {
   "cell_type": "markdown",
   "metadata": {},
   "source": [
    "# Try Matching Unmatched Albums"
   ]
  },
  {
   "cell_type": "code",
   "execution_count": null,
   "metadata": {
    "scrolled": false
   },
   "outputs": [],
   "source": [
    "dR = 0.1\n",
    "rC = 0.99\n",
    "\n",
    "#for db in ['Discogs', 'AllMusic', 'MusicBrainz', 'AceBootlegs', 'RateYourMusic', 'LastFM', 'DatPiff', 'RockCorner', 'CDandLP', 'MusicStack', 'MetalStorm']:\n",
    "#for db in ['Discogs', 'MusicBrainz', 'AllMusic', 'LastFM']:\n",
    "for db in ['LastFM']:\n",
    "    for albumType in [1]:\n",
    "        print(\"=\"*140)\n",
    "        mmm.matchMyMusicAlbums(db=db, albumType=albumType, ratioCut=rC, maxCut=rC+dR)\n",
    "        print(\"\\n\\n\")"
   ]
  },
  {
   "cell_type": "code",
   "execution_count": null,
   "metadata": {},
   "outputs": [],
   "source": [
    "mmm.mmn.moveMyMatchedMusicAlbums(show=True)"
   ]
  },
  {
   "cell_type": "code",
   "execution_count": null,
   "metadata": {},
   "outputs": [],
   "source": [
    "mmm.mmn.moveMyMatchedMusicAlbums(show=False)\n",
    "mmb, mmm, unknownArtists = getMusicStatus(mdb)"
   ]
  },
  {
   "cell_type": "markdown",
   "metadata": {},
   "source": [
    "***\n",
    "***"
   ]
  },
  {
   "cell_type": "markdown",
   "metadata": {},
   "source": [
    "# Match Albums From My Matched Artists"
   ]
  },
  {
   "cell_type": "code",
   "execution_count": null,
   "metadata": {},
   "outputs": [],
   "source": [
    "resultD = {\"ID\": None, \"Matches\": 0, \"Score\": 0.0, \"Best\": None}\n",
    "\n",
    "for artistName,artistDBIDs in artistNameDBIDs.items():\n",
    "    print(artistName,artistDBIDs)\n",
    "    for dbArtistID in artistDBIDs:\n",
    "        print('\\t',dbArtistID)\n",
    "        dbArtistIDAlbums = mdb.getArtistAlbumsFromID(db, dbArtistID, flatten=True)\n",
    "        print(\"\\t\\t\",dbArtistIDAlbums)\n",
    "\n",
    "        \n",
    "        ### Match Albums (if possible)\n",
    "        ma = matchAlbums()\n",
    "        ma.match(unMatchedAlbums, dbArtistIDAlbums)\n",
    "        if debug:\n",
    "            print(\"\\t\\t{0: <45}{1}\\t{2}\\t{3}\\t{4}\".format(dbArtistID, len(dbArtistIDAlbums), ma.near, ma.score, ma.maxval))\n",
    "        if ma.near < resultD[\"Matches\"]:\n",
    "            continue\n",
    "        if ma.score < max([resultD[\"Score\"], cutoff]):\n",
    "            continue\n",
    "        resultD = {\"ID\": dbArtistID, \"Matches\": ma.near, \"Score\": ma.score, \"Best\": ma}\n",
    "        if debug:\n",
    "            print(\"\\t\\t{0: <45}{1}\\t{2}\\t{3}\\t{4} <-- Match\".format(dbArtistID, len(artistAlbums), ma.near, ma.score, ma.maxval))\n",
    "\n",
    "\n"
   ]
  },
  {
   "cell_type": "code",
   "execution_count": null,
   "metadata": {
    "scrolled": true
   },
   "outputs": [],
   "source": [
    "dR = 0.1\n",
    "rC = 0.99\n",
    "mmm.matchMyMusicAlbums(db=\"LastFM\", albumType=1, ratioCut=rC, maxCut=rC+dR)"
   ]
  },
  {
   "cell_type": "code",
   "execution_count": null,
   "metadata": {},
   "outputs": [],
   "source": [
    "mmm.moveMyMatchedMusicAlbums(show=False)"
   ]
  },
  {
   "cell_type": "code",
   "execution_count": null,
   "metadata": {},
   "outputs": [],
   "source": []
  },
  {
   "cell_type": "code",
   "execution_count": null,
   "metadata": {},
   "outputs": [],
   "source": [
    "from timeUtils import clock, elapsed\n",
    "from listUtils import getFlatList\n",
    "from musicBase import myMusicBase\n",
    "from matchAlbums import matchAlbums\n",
    "from ioUtils import getFile, saveFile\n",
    "from fsUtils import isDir, setDir, mkDir, moveDir\n",
    "from matchMusicName import myMusicName\n",
    "\n",
    "\n",
    "class matchMyMusic:\n",
    "    def __init__(self, mdb, debug=False):\n",
    "        self.debug = debug\n",
    "        self.mdb   = mdb\n",
    "        self.mmb   = myMusicBase()\n",
    "        self.mmn   = myMusicName()\n",
    "        \n",
    "        self.unknownArtists = {}\n",
    "        self.artistAlbums   = {}\n",
    "        \n",
    "        self.matchedAlbums  = {}\n",
    "        \n",
    "        \n",
    "    def setMusicBase(self, mmb):\n",
    "        self.mmb = mmb\n",
    "        \n",
    "        \n",
    "    def getAlbumStatus(self, force=False):\n",
    "        self.artistAlbums = self.mmb.getArtistAlbums(force=force)\n",
    "        \n",
    "\n",
    "    def getArtistStatus(self):\n",
    "        start, cmt = clock(\"Matching All Music Artists\")\n",
    "\n",
    "        ######################################################################\n",
    "        #### Loop Over My Artists and Paths\n",
    "        ######################################################################\n",
    "        for primeDir in self.mmb.getPrimeDirectories():\n",
    "            for artistName, artistPrimeDirs in self.mmb.getArtistPrimeDirMap(primeDir).items():\n",
    "                if self.debug:\n",
    "                    print(\"{0: <50}{1}\".format(artistName,artistPrimeDirs))\n",
    "\n",
    "\n",
    "                ######################################################################\n",
    "                #### Get Database IDs\n",
    "                ######################################################################\n",
    "                isKnown = self.mdb.isKnown(artistName)\n",
    "                if isKnown is False:\n",
    "                    self.unknownArtists[artistName] = artistPrimeDirs\n",
    "                    if self.debug:\n",
    "                        print(\"\\tUnknown (All)     --> {0}\".format(artistName))\n",
    "                        \n",
    "\n",
    "        elapsed(start, cmt)\n",
    "        print(\"Found {0} unknown artists\".format(len(self.unknownArtists)))\n",
    "        print(\"Found {0} total artists\".format(len(self.artistAlbums)))\n",
    "\n",
    "        \n",
    "        \n",
    "    def getUnknownArtists(self):\n",
    "        return self.unknownArtists\n",
    "    \n",
    "    \n",
    "    \n",
    "    def getArtistNameMatchedDirs(self):\n",
    "        self.artistMatchedDirs = {}\n",
    "        for primeDir in self.mmb.getPrimeDirectories():\n",
    "            self.artistMatchedDirs.update(self.mmb.getArtistPrimeDirMap(primeDir))\n",
    "            \n",
    "\n",
    "    \n",
    "    def matchMyMusicAlbumsByArtist(self, db, artistName, albumType=None, ratioCut=0.95, maxCut=0.1):\n",
    "\n",
    "        matchedAlbums = {}\n",
    "        \n",
    "\n",
    "        ######################################################################\n",
    "        #### Get Artist Album Data\n",
    "        ######################################################################\n",
    "        artistAlbumsData = self.mmb.getArtistAlbumsByArtist(artistName)\n",
    "    \n",
    "    \n",
    "        ######################################################################\n",
    "        #### Get Unmatched Albums\n",
    "        ######################################################################\n",
    "        unMatchedAlbums = self.mmb.getUnMatchedAlbumsByArtist(artistName)\n",
    "        dirval = self.mmb.getArtistMusicDir(artistName)\n",
    "        if len(unMatchedAlbums) == 0:\n",
    "            return matchedAlbums\n",
    "            \n",
    "            \n",
    "        ######################################################################\n",
    "        #### Loop Over Artist Name <-> Prime Map Items\n",
    "        ######################################################################\n",
    "        if self.mdb.isKnown(artistName) is True:\n",
    "            myMusicData = self.mdb.getArtistData(artistName)\n",
    "            try:\n",
    "                artistID = myMusicData[db][\"ID\"]\n",
    "            except:\n",
    "                return matchedAlbums\n",
    "        else:\n",
    "            return matchedAlbums\n",
    "            \n",
    "\n",
    "\n",
    "        ######################################################################\n",
    "        #### Get Database Albums\n",
    "        ######################################################################\n",
    "        artistDBAlbumsFromID = self.mdb.getArtistAlbumsFromID(db, artistID)\n",
    "\n",
    "        \n",
    "        ######################################################################\n",
    "        #### Loop over my albums\n",
    "        ######################################################################\n",
    "        for myAlbumName in unMatchedAlbums:\n",
    "\n",
    "            bestMatchVal = {\"Ratio\": ratioCut, \"Dir\": None, \"Album\": None}\n",
    "\n",
    "            for mediaType, mediaTypeAlbums in artistDBAlbumsFromID.items():\n",
    "                if albumType is not None:\n",
    "                    if mediaType not in self.mdb.getDBAlbumTypeNames(db, albumType):\n",
    "                        continue\n",
    "\n",
    "                if self.debug:\n",
    "                    print(\"\\tMy album: {0}\".format(myAlbumName))\n",
    "                myFormattedAlbum = self.mmn.formatAlbum(myAlbumName, mediaType)\n",
    "\n",
    "                ma = matchAlbums(cutoff=ratioCut)\n",
    "                ma.match([myFormattedAlbum], mediaTypeAlbums)\n",
    "\n",
    "                if ma.maxval < ratioCut or ma.maxval > ratioCut+maxCut:\n",
    "                    continue\n",
    "                if ma.maxval < bestMatchVal[\"Ratio\"]:\n",
    "                    continue\n",
    "\n",
    "                bestMatch = ma.getBestMatch(myFormattedAlbum)\n",
    "\n",
    "                bestMatchVal = {\"Ratio\": ma.maxval, \"Dir\": dirval, \n",
    "                                \"Album\": {\"Name\": bestMatch[\"Name\"],\n",
    "                                          \"Code\": bestMatch[\"Code\"],\n",
    "                                          \"MediaType\": mediaType}}\n",
    "                matchedAlbums[myAlbumName] = bestMatchVal\n",
    "                #print(\"{0: <30}{1: <15}{2: <30} --> {3}\".format(artistName, db, myAlbumName, bestMatchVal[\"Album\"]))\n",
    "                #bestMatchVal[\"Match\"].show(debug=True)\n",
    "                    \n",
    "        return matchedAlbums\n",
    "\n",
    "                \n",
    "    \n",
    "    def matchMyMusicAlbums(self, db, albumType=1, ratioCut=0.95, maxCut=0.1):\n",
    "        self.matchedAlbums = {}\n",
    "\n",
    "        start, cmt = clock(\"Checking for Albums Matches Against {0} DB\".format(db))\n",
    "        \n",
    "        \n",
    "        print(\"{0: <40}{1: <15}{2: <45} --> {3}\".format(\"Artist\", \"Database\", \"Album Name\", \"Matched Album\"))\n",
    "\n",
    "        ######################################################################\n",
    "        #### Get Map of Artists and Unmatched Albums\n",
    "        ######################################################################\n",
    "        artistNames = self.mmb.getArtists()\n",
    "        #artistAlbums = self.mmb.getArtistAlbums()\n",
    "\n",
    "\n",
    "        ######################################################################\n",
    "        #### Loop Over Artist Name <-> Prime Map Items\n",
    "        ######################################################################\n",
    "        for artistName in artistNames:\n",
    "            matchedAlbums = self.matchMyMusicAlbumsByArtist(db, artistName, albumType, ratioCut, maxCut)\n",
    "            if len(matchedAlbums) > 0:\n",
    "                if self.matchedAlbums.get(db) is None:\n",
    "                    self.matchedAlbums[db] = {}\n",
    "                self.matchedAlbums[db][artistName] = matchedAlbums\n",
    "                for myAlbumName,bestMatchVal in matchedAlbums.items():\n",
    "                    print(\"{0: <40}{1: <15}{2: <45} --> {3}\".format(artistName, db, myAlbumName, bestMatchVal[\"Album\"]))\n",
    "\n",
    "            \n",
    "        elapsed(start, cmt)\n",
    "\n",
    "        saveFile(ifile=self.mmn.moveFilename, idata=self.matchedAlbums, debug=True)\n",
    "        print(\"Found {0} music <-> discogs albums maps\".format(len(self.matchedAlbums)))\n",
    "        \n",
    "\n",
    "    def matchUnknownArtists(self, albumType=1, ratioCut=0.95):\n",
    "        unknownArtists = self.getUnknownArtists()\n",
    "        for unknownArtist in unknownArtists.keys():\n",
    "            print(\"# ===>\",unknownArtist)\n",
    "            retval = self.matchUnknownArtist(unknownArtist, albumType, ratioCut)\n",
    "\n",
    "            for db,dbdata in retval.items():\n",
    "                bestMatch = {\"ID\": None, \"Matches\": 0, \"Score\": 0.0}\n",
    "                for artistDBID,artistDBData in dbdata.items():\n",
    "                    for mediaType,ma in artistDBData.items():\n",
    "                        if ma.near == 0:\n",
    "                            continue\n",
    "                        if ma.near > bestMatch[\"Matches\"]:\n",
    "                            bestMatch = {\"ID\": artistDBID, \"Matches\": ma.near, \"Score\": ma.score}\n",
    "                        elif ma.near == bestMatch[\"Matches\"]:\n",
    "                            if ma.score > bestMatch[\"Score\"]:\n",
    "                                bestMatch = {\"ID\": artistDBID, \"Matches\": ma.near, \"Score\": ma.score}\n",
    "\n",
    "                if bestMatch[\"ID\"] is not None:\n",
    "                    print(\"mdb.add(\\\"{0}\\\", \\\"{1}\\\", \\\"{2}\\\")\".format(unknownArtist, db, bestMatch[\"ID\"]))\n",
    "            \n",
    "            \n",
    "    def matchUnknownArtist(self, unknownArtist, albumType=None, ratioCut=0.95):\n",
    "        ######################################################################\n",
    "        #### Get Unknown Artist Albums and Potential DB Artists\n",
    "        ######################################################################\n",
    "        unMatchedAlbums = self.mmb.getUnMatchedAlbumsByArtist(unknownArtist)\n",
    "        artistNameDBIDs = self.mdb.getArtistIDs(unknownArtist)\n",
    "        \n",
    "        #print(unknownArtist)\n",
    "        #print(unMatchedAlbums)\n",
    "        #print(artistNameDBIDs)\n",
    "        #return\n",
    "\n",
    "        \n",
    "        ######################################################################\n",
    "        #### Get Database Albums\n",
    "        ######################################################################\n",
    "        matches = {}\n",
    "        for db,artistDBartists in artistNameDBIDs.items():\n",
    "            \n",
    "            dbMatches = {}\n",
    "            for artistDBartist,artistDBIDs in artistDBartists.items():\n",
    "                for artistDBID in artistDBIDs:\n",
    "                    dbMatches[artistDBID] = {}\n",
    "                    artistDBAlbumsFromID = self.mdb.getArtistAlbumsFromID(db, artistDBID)\n",
    "\n",
    "                    for mediaType, mediaTypeAlbums in artistDBAlbumsFromID.items():\n",
    "                        if mediaType not in self.mdb.getDBAlbumTypeNames(db, albumType):\n",
    "                            continue\n",
    "\n",
    "                        ma = matchAlbums(cutoff=ratioCut)\n",
    "                        ma.match(unMatchedAlbums, mediaTypeAlbums)\n",
    "                        #ma.show(debug=True)\n",
    "                        \n",
    "                        dbMatches[artistDBID][mediaType] = ma\n",
    "                        \n",
    "            matches[db] = dbMatches\n",
    "            \n",
    "        return matches\n",
    "    \n",
    "    def manuallyMatchUnknownArtist(self, unknownArtist, cutoff=0.8):\n",
    "        ######################################################################\n",
    "        #### Get Unknown Artist Albums and Potential DB Artists\n",
    "        ######################################################################\n",
    "        unMatchedAlbums = self.mmb.getUnMatchedAlbumsByArtist(unknownArtist)\n",
    "        artistNameDBIDs = self.mdb.getArtistIDs(unknownArtist, cutoff=cutoff)\n",
    "        \n",
    "        print(\"Unknown Artist:   {0}\".format(unknownArtist))\n",
    "        try:\n",
    "            print(\"UnMatched Albums: {0}\".format(\", \".join(unMatchedAlbums)))\n",
    "        except:\n",
    "            print(\"Could not show the unMatched Albums below:\")\n",
    "            print(\"-> \",unMatchedAlbums,\" <-\")\n",
    "        print(\"=\"*50)\n",
    "        print(artistNameDBIDs)\n",
    "        for db,artistDBartists in artistNameDBIDs.items():\n",
    "            print(\"=\"*50)\n",
    "            print(\"   {0}\".format(db))\n",
    "            for artistDBartist,artistDBIDs in artistDBartists.items():\n",
    "                print(\"      {0}\".format(artistDBartist))\n",
    "                for artistDBID in artistDBIDs:\n",
    "                    artistDBAlbumsFromID = self.mdb.getArtistAlbumsFromID(db, artistDBID)\n",
    "                    albums = [list(mediaTypeAlbums.values()) for mediaTypeAlbums in artistDBAlbumsFromID.values()]\n",
    "                    print(\"mdb.add(\\\"{0}\\\", \\\"{1}\\\", \\\"{2}\\\")\".format(unknownArtist, db, artistDBID))\n",
    "                    print(\"         {0: <45}\\t{1}\".format(artistDBID, getFlatList(albums)))\n",
    "                    \n",
    "\n",
    "                    \n",
    "    def getArtistDBMatchLists(self, dbartist):\n",
    "        dbArtistData   = self.mdb.getArtistData(dbartist)\n",
    "        retval = {\"Matched\": [], \"Unmatched\": []}\n",
    "        albumTypesData = {k: [] for k in [1,2,3,4]}\n",
    "        for db,dbIDdata in dbArtistData.items():\n",
    "            try:\n",
    "                dbID = dbIDdata[\"ID\"]\n",
    "                retval[\"Matched\"].append(db)\n",
    "            except:\n",
    "                retval[\"Unmatched\"].append(db)\n",
    "        return retval\n",
    "    \n",
    "                    \n",
    "    def getMatchedArtistAlbumsFromDB(self, dbartist, merge=True):\n",
    "        dbArtistData   = self.mdb.getArtistData(dbartist)\n",
    "        dbsToSearch    = self.getArtistDBMatchLists(dbartist)\n",
    "        albumTypesData = {k: [] for k in [1,2,3,4]}\n",
    "        for db in dbsToSearch[\"Matched\"]:\n",
    "            dbIDdata = dbArtistData[db]\n",
    "            try:\n",
    "                dbID = dbIDdata[\"ID\"]\n",
    "            except:\n",
    "                raise ValueError(\"This db {0} should already be known for {1}\".format(db, dbartist))\n",
    "\n",
    "            dbAlbumsData = self.mdb.getArtistAlbumsFromID(db, dbID)\n",
    "\n",
    "            for albumType in albumTypesData.keys():\n",
    "                for mediaType, mediaTypeAlbums in dbAlbumsData.items():\n",
    "                    if mediaType not in self.mdb.getDBAlbumTypeNames(db, albumType):\n",
    "                        continue                \n",
    "                    #print(db,albumType,mediaType,mediaTypeAlbums)\n",
    "                    albumTypesData[albumType] += list(mediaTypeAlbums.values())\n",
    "\n",
    "        albumTypesData = {k: list(set(v)) for k,v in albumTypesData.items()}\n",
    "\n",
    "        ############################\n",
    "        ## Merge Albums\n",
    "        ############################\n",
    "        if merge is True:\n",
    "            artistAlbums = getFlatList(albumTypesData.values())\n",
    "        else:\n",
    "            artistAlbums = albumTypesData\n",
    "\n",
    "        return artistAlbums\n",
    "\n",
    "            \n",
    "    def searchForMutualDBEntries(self, cutoff=0.8, maxAdds=50, start=None):\n",
    "        ######################################################################\n",
    "        #### Get Map of Artists and Unmatched Albums\n",
    "        ######################################################################\n",
    "        dbartists = self.mdb.getArtists()\n",
    "        cnts      = 0\n",
    "        print(\"Searching for mutual DB matches for {0} artists\".format(len(dbartists)))\n",
    "        for ia,dbartist in enumerate(dbartists):\n",
    "            if start is not None:\n",
    "                if ia < start:\n",
    "                    continue\n",
    "            if ia % 100 == 0:\n",
    "                print(\"## {0}/{1}\".format(ia,len(dbartists)))\n",
    "            if cnts >= maxAdds:\n",
    "                break\n",
    "            artistAlbums = self.getMatchedArtistAlbumsFromDB(dbartist, merge=True)\n",
    "            dbsToSearch  = self.getArtistDBMatchLists(dbartist)\n",
    "\n",
    "            usefulDBs          = ['Discogs', 'MusicBrainz', 'AllMusic', 'LastFM']\n",
    "            usefulDBsToSearch  = list(set(dbsToSearch[\"Unmatched\"]).intersection(set(usefulDBs)))\n",
    "\n",
    "\n",
    "            ########################################################\n",
    "            ## Loop Over Unmatched DBs\n",
    "            ########################################################\n",
    "            for db in usefulDBsToSearch:\n",
    "                dbMatches = {}\n",
    "                artistDBartists = self.mdb.getArtistDBIDs(dbartist, db, num=10, cutoff=cutoff, debug=False)\n",
    "                \n",
    "                for artistDBartist,artistDBIDs in artistDBartists.items():\n",
    "                    #print('  ',db,'\\t',artistDBartist)\n",
    "                    for artistDBID in artistDBIDs:\n",
    "                        #print('    ',artistDBID)\n",
    "                        dbMatches[artistDBID] = {}\n",
    "                        artistDBAlbumsFromID = self.mdb.getArtistAlbumsFromID(db, artistDBID)\n",
    "\n",
    "                        albumTypesData = {k: [] for k in [1,2,3,4]}\n",
    "                        for albumType in albumTypesData.keys():\n",
    "                            for mediaType, mediaTypeAlbums in artistDBAlbumsFromID.items():\n",
    "                                if mediaType not in self.mdb.getDBAlbumTypeNames(db, albumType):\n",
    "                                    continue\n",
    "                                albumTypesData[albumType] += list(mediaTypeAlbums.values())\n",
    "\n",
    "                        albumTypesData = {k: list(set(v)) for k,v in albumTypesData.items()}\n",
    "                        dbArtistAlbums = getFlatList(albumTypesData.values())\n",
    "            \n",
    "\n",
    "                        ma = matchAlbums(cutoff=cutoff)\n",
    "                        ma.match(artistAlbums, dbArtistAlbums)\n",
    "                        #ma.show(debug=True)\n",
    "                        \n",
    "                        dbMatches[artistDBID] = ma\n",
    "                \n",
    "                if len(dbMatches) > 0:\n",
    "                    bestMatch = {\"ID\": None, \"Matches\": 0, \"Score\": 0.0}\n",
    "                    for artistDBID,ma in dbMatches.items():\n",
    "                        if ma.near == 0:\n",
    "                            continue\n",
    "                        if ma.near > bestMatch[\"Matches\"]:\n",
    "                            bestMatch = {\"ID\": artistDBID, \"Matches\": ma.near, \"Score\": ma.score}\n",
    "                        elif ma.near == bestMatch[\"Matches\"]:\n",
    "                            if ma.score > bestMatch[\"Score\"]:\n",
    "                                bestMatch = {\"ID\": artistDBID, \"Matches\": ma.near, \"Score\": ma.score}\n",
    "\n",
    "                    if bestMatch[\"ID\"] is not None:\n",
    "                        cnts += 1                 \n",
    "                        print(\"mdb.add(\\\"{0}\\\", \\\"{1}\\\", \\\"{2}\\\")\".format(dbartist, db, bestMatch[\"ID\"]))\n",
    "                        \n",
    "\n",
    "\n"
   ]
  },
  {
   "cell_type": "code",
   "execution_count": null,
   "metadata": {},
   "outputs": [],
   "source": [
    "%load_ext autoreload\n",
    "%autoreload\n",
    "mmm = matchMyMusic(mdb)"
   ]
  },
  {
   "cell_type": "code",
   "execution_count": null,
   "metadata": {},
   "outputs": [],
   "source": [
    "\n",
    "artistData"
   ]
  },
  {
   "cell_type": "code",
   "execution_count": null,
   "metadata": {},
   "outputs": [],
   "source": [
    "artistData     = mdb.getArtistData(\"Michael Jackson\")\n",
    "albumTypes     = [1,2,3,4]\n",
    "albumTypesData = {k: [] for k in albumTypes}\n",
    "fullAlbumTypesData = {k: {} for k in albumTypes}\n",
    "for db,dbArtistData in artistData.items():\n",
    "    try:\n",
    "        artistDBID = dbArtistData['ID']\n",
    "    except:\n",
    "        continue\n",
    "    artistDBAlbumsFromID = mdb.getArtistAlbumsFromID(db, artistDBID)\n",
    "\n",
    "    for albumType in albumTypes:\n",
    "        for mediaType, mediaTypeAlbums in artistDBAlbumsFromID.items():\n",
    "            if mediaType not in mdb.getDBAlbumTypeNames(db, albumType):\n",
    "                continue\n",
    "            albumTypesData[albumType] += list(mediaTypeAlbums.values())\n",
    "            if fullAlbumTypesData[albumType].get(\"{0}-{1}\".format(db,mediaType)) is None:\n",
    "                fullAlbumTypesData[albumType][\"{0}-{1}\".format(db,mediaType)] = list(mediaTypeAlbums.values())\n",
    "\n",
    "albumTypesData = {k: list(set(v)) for k,v in albumTypesData.items()}\n",
    "dbArtistAlbums = getFlatList(albumTypesData.values())"
   ]
  },
  {
   "cell_type": "code",
   "execution_count": null,
   "metadata": {},
   "outputs": [],
   "source": [
    "studio = {\"AllMusic\": [\"Albums\"], \"Discogs\": [\"Albums\"], \"MusicBrainz\": [\"Album\"], \"RateYourMusic\": [\"Album\"], \"RockCorner\": [\"Albums\"]}"
   ]
  },
  {
   "cell_type": "code",
   "execution_count": null,
   "metadata": {},
   "outputs": [],
   "source": [
    "albumsMap    = {}\n",
    "fullAlbumMap = Counter()\n",
    "\n",
    "dbmapping     = {}\n",
    "invdbmapping  = {}\n",
    "for db,mediaTypes in studio.items():\n",
    "    dbmapping[db]    = {}\n",
    "    invdbmapping[db] = {}\n",
    "\n",
    "    for mediaType in mediaTypes:\n",
    "        dbAlbums      = fullAlbumTypesData[1][\"{0}-{1}\".format(db,mediaType)]\n",
    "        for k in dbAlbums:\n",
    "            dbmapping[db][k.upper()] = k\n",
    "            dbmapping[db][k] = k.upper()\n",
    "            fullAlbumMap[k.upper()] += 1\n",
    "        \n",
    "#fullAlbumMap"
   ]
  },
  {
   "cell_type": "code",
   "execution_count": null,
   "metadata": {},
   "outputs": [],
   "source": [
    "core = set()\n",
    "noncore = set()\n",
    "nearest = {k: findNearest(k, list(fullAlbumMap.keys()), 2, 0.9) for k in fullAlbumMap.keys()}\n",
    "for k,v in nearest.items():\n",
    "    if len(v) == 2:\n",
    "        if fullAlbumMap[v[0]] > fullAlbumMap[v[1]]:\n",
    "            core.add(v[0])\n",
    "        elif fullAlbumMap[v[1]] > fullAlbumMap[v[0]]:\n",
    "            core.add(v[1])\n",
    "        else:\n",
    "            noncore.add(v[0])\n",
    "            noncore.add(v[1])\n",
    "            #print(k,v,[fullAlbumMap[v2] for v2 in v])\n",
    "    else:\n",
    "        if fullAlbumMap[k] > 1:\n",
    "            core.add(k)\n",
    "        else:\n",
    "            noncore.add(k)\n",
    "            #print(k,fullAlbumMap[k])"
   ]
  },
  {
   "cell_type": "code",
   "execution_count": null,
   "metadata": {},
   "outputs": [],
   "source": [
    "[core"
   ]
  },
  {
   "cell_type": "code",
   "execution_count": null,
   "metadata": {},
   "outputs": [],
   "source": [
    "noncore"
   ]
  },
  {
   "cell_type": "code",
   "execution_count": null,
   "metadata": {},
   "outputs": [],
   "source": [
    "fullAlbumTypesData[1]"
   ]
  },
  {
   "cell_type": "code",
   "execution_count": null,
   "metadata": {},
   "outputs": [],
   "source": []
  },
  {
   "cell_type": "code",
   "execution_count": null,
   "metadata": {},
   "outputs": [],
   "source": []
  },
  {
   "cell_type": "code",
   "execution_count": null,
   "metadata": {},
   "outputs": [],
   "source": [
    "## Basic stuff\n",
    "%load_ext autoreload\n",
    "%autoreload\n",
    "\n",
    "from musicBase import myMusicBase\n",
    "mmb = myMusicBase()\n",
    "mmb.findArtistAlbums()"
   ]
  },
  {
   "cell_type": "markdown",
   "metadata": {},
   "source": [
    "***\n",
    "***"
   ]
  },
  {
   "cell_type": "code",
   "execution_count": null,
   "metadata": {},
   "outputs": [],
   "source": [
    "DatPiffArtists = maindb.getDBData('DatPiff')['Disc'].getMasterSlimArtistDiscogsDB()['DiscArtist']"
   ]
  },
  {
   "cell_type": "code",
   "execution_count": null,
   "metadata": {},
   "outputs": [],
   "source": [
    "retval = {artist: mdb.getArtistDBIDs(db=\"DatPiff\", artistName=artist, cutoff=0.9) for artist in mmb.getArtists()}\n",
    "retval = {artist: v for artist, v in retval.items() if len(v) > 0}\n",
    "saveFile(idata=retval, ifile=\"datPiffMatch.yaml\")"
   ]
  },
  {
   "cell_type": "code",
   "execution_count": null,
   "metadata": {},
   "outputs": [],
   "source": [
    "matches = getFile(\"datPiffMatch.yaml\")\n",
    "for artist, match in matches.items():\n",
    "    values = list(match.values())\n",
    "    if values[0] is None:\n",
    "        print(artist)\n",
    "    if len(values[0]) != 1:\n",
    "        print(artist)\n",
    "    print(values[0][0])\n",
    "    mdb.add(artist, \"DatPiff\", str(values[0][0]))\n",
    "mdb.save()"
   ]
  },
  {
   "cell_type": "code",
   "execution_count": null,
   "metadata": {},
   "outputs": [],
   "source": [
    "mmm.matchUnknownArtist('Notorious B.I.G.')"
   ]
  },
  {
   "cell_type": "code",
   "execution_count": null,
   "metadata": {},
   "outputs": [],
   "source": []
  },
  {
   "cell_type": "markdown",
   "metadata": {},
   "source": [
    "# UnMatch Artist"
   ]
  },
  {
   "cell_type": "code",
   "execution_count": null,
   "metadata": {},
   "outputs": [],
   "source": [
    "\n",
    "def unMatchArtist(artistName):\n",
    "    from os.path import join\n",
    "    from fsUtils import removeDir, isFile, setFile, removeFile\n",
    "\n",
    "    for musicDir in getMatchedDirs():\n",
    "        dirval        = join(musicDir, getPrimeDirectory(artistName), artistName)\n",
    "        if not isDir(dirval):\n",
    "            continue\n",
    "            \n",
    "        matchedDir    = setDir(dirval, \"Match\")\n",
    "        mediaTypeDirs = findDirs(matchedDir)\n",
    "        for mediaTypeDir in mediaTypeDirs:\n",
    "            for matchDir in findDirs(mediaTypeDir):\n",
    "                albumName = getUnMatchedDirName(getDirBasics(matchDir)[-1], mediaTypeDir)\n",
    "\n",
    "                srcDir = matchDir\n",
    "                dstDir = setDir(dirval, albumName)\n",
    "                if isDir(dstDir):\n",
    "                    i = 0\n",
    "                    while not isDir(dstDir):\n",
    "                        dstDir = \"{0} [Fix-{1}]\".format(setDir(dirval, albumName), i)\n",
    "                        i += 1\n",
    "\n",
    "                moveDir(srcDir, dstDir, debug=True)\n",
    "\n",
    "            if isDir(mediaTypeDir):\n",
    "                DS_Store = setFile(mediaTypeDir, \".DS_Store\")\n",
    "                if isFile(DS_Store):\n",
    "                    removeFile(DS_Store, debug=True)\n",
    "                removeDir(mediaTypeDir, debug=True)\n",
    "\n",
    "        if isDir(matchedDir):\n",
    "            DS_Store = setFile(matchedDir, \".DS_Store\")\n",
    "            if isFile(DS_Store):\n",
    "                removeFile(DS_Store, debug=True)\n",
    "            removeDir(matchedDir, debug=True)\n",
    "            "
   ]
  },
  {
   "cell_type": "code",
   "execution_count": null,
   "metadata": {
    "scrolled": true
   },
   "outputs": [],
   "source": [
    "unMatchArtist(\"Sweet\")"
   ]
  },
  {
   "cell_type": "code",
   "execution_count": null,
   "metadata": {},
   "outputs": [],
   "source": [
    "######################################################################\n",
    "#### Loop Over Prime Directories\n",
    "######################################################################\n",
    "for primeDir in getPrimeDirectories():\n",
    "    artistPrimeDirMap = getArtistPrimeDirMap(primeDir)\n",
    "\n",
    "    ######################################################################\n",
    "    #### Loop Over Artist Name <-> Prime Map Items\n",
    "    ######################################################################\n",
    "    for artistName, artistPrimeDirs in artistPrimeDirMap.items():\n",
    "        unMatchArtist(artistName)\n"
   ]
  },
  {
   "cell_type": "markdown",
   "metadata": {},
   "source": [
    "***\n",
    "***"
   ]
  },
  {
   "cell_type": "markdown",
   "metadata": {},
   "source": [
    "# Merge DBs After Finding Matches"
   ]
  },
  {
   "cell_type": "code",
   "execution_count": null,
   "metadata": {},
   "outputs": [],
   "source": [
    "retval = searchForMutualDBEntries(mdb, minI=-1, cutoff=0.7, maxR=3000)"
   ]
  },
  {
   "cell_type": "code",
   "execution_count": null,
   "metadata": {},
   "outputs": [],
   "source": [
    "retval"
   ]
  },
  {
   "cell_type": "code",
   "execution_count": null,
   "metadata": {},
   "outputs": [],
   "source": [
    "if len(retval) > 0:\n",
    "    for artistName,artistResult in retval.items():\n",
    "        for db,dbResult in artistResult.items():\n",
    "            mdb.add(artistName, db, dbResult[\"ID\"])\n",
    "    mdb.save()"
   ]
  },
  {
   "cell_type": "code",
   "execution_count": null,
   "metadata": {},
   "outputs": [],
   "source": [
    "mdb.getArtistData(\"A-Mafia\")"
   ]
  },
  {
   "cell_type": "code",
   "execution_count": null,
   "metadata": {},
   "outputs": [],
   "source": []
  },
  {
   "cell_type": "code",
   "execution_count": null,
   "metadata": {},
   "outputs": [],
   "source": [
    "for unknownArtist in unknownArtists.keys():\n",
    "    print(unknownArtist)"
   ]
  },
  {
   "cell_type": "code",
   "execution_count": null,
   "metadata": {},
   "outputs": [],
   "source": [
    "db = \"AllMusic\"\n",
    "for unknownArtist in unknownArtists.keys():\n",
    "    artistNameDBIDs = mdb.getArtistDBIDs(unknownArtist, db, cutoff=0.99)\n",
    "    if len(artistNameDBIDs) == 1:\n",
    "        mdb.add(unknownArtist, db, artistNameDBIDs[unknownArtist][0])\n",
    "        #print(unknownArtist,'\\t',artistNameDBIDs)\n",
    "mdb.save()"
   ]
  },
  {
   "cell_type": "code",
   "execution_count": null,
   "metadata": {},
   "outputs": [],
   "source": [
    "artistName = \"Sweet\"\n",
    "db = \"AllMusic\""
   ]
  },
  {
   "cell_type": "code",
   "execution_count": null,
   "metadata": {},
   "outputs": [],
   "source": [
    "artistName = \"Sweet\"\n",
    "db = \"AllMusic\"\n",
    "unMatchedAlbums = mmb.getArtistAlbumsByArtist(artistName).getUnmatched()\n",
    "artistNameDBIDs = mdb.getArtistDBIDs(artistName, db)"
   ]
  },
  {
   "cell_type": "code",
   "execution_count": null,
   "metadata": {},
   "outputs": [],
   "source": []
  },
  {
   "cell_type": "code",
   "execution_count": null,
   "metadata": {},
   "outputs": [],
   "source": [
    "resultD = {\"ID\": None, \"Matches\": 0, \"Score\": 0.0, \"Best\": None}\n",
    "\n",
    "for artistName,artistDBIDs in artistNameDBIDs.items():\n",
    "    print(artistName,artistDBIDs)\n",
    "    for dbArtistID in artistDBIDs:\n",
    "        print('\\t',dbArtistID)\n",
    "        dbArtistIDAlbums = mdb.getArtistAlbumsFromID(db, dbArtistID, flatten=True)\n",
    "        print(\"\\t\\t\",dbArtistIDAlbums)\n",
    "\n",
    "        \n",
    "        ### Match Albums (if possible)\n",
    "        ma = matchAlbums()\n",
    "        ma.match(unMatchedAlbums, dbArtistIDAlbums)\n",
    "        if debug:\n",
    "            print(\"\\t\\t{0: <45}{1}\\t{2}\\t{3}\\t{4}\".format(dbArtistID, len(dbArtistIDAlbums), ma.near, ma.score, ma.maxval))\n",
    "        if ma.near < resultD[\"Matches\"]:\n",
    "            continue\n",
    "        if ma.score < max([resultD[\"Score\"], cutoff]):\n",
    "            continue\n",
    "        resultD = {\"ID\": dbArtistID, \"Matches\": ma.near, \"Score\": ma.score, \"Best\": ma}\n",
    "        if debug:\n",
    "            print(\"\\t\\t{0: <45}{1}\\t{2}\\t{3}\\t{4} <-- Match\".format(dbArtistID, len(artistAlbums), ma.near, ma.score, ma.maxval))\n",
    "\n",
    "\n",
    "\n"
   ]
  },
  {
   "cell_type": "code",
   "execution_count": null,
   "metadata": {},
   "outputs": [],
   "source": [
    "from matchAlbums import matchAlbums\n",
    "\n",
    "def searchForArtistDBEntries(mdb, artistName):\n",
    "    mmb.getArtistAlbumsByArtist(\"Sweet\").getUnmatched()\n",
    "    albums = \n",
    "\n",
    "\n",
    "def searchForArtistAlbumsDBEntries(mdb, artistName, albums, dbsToMatch=None, cutoff=0.7, num=10, debug=False):\n",
    "    retval     = {}\n",
    "    \n",
    "\n",
    "    ######################################################################\n",
    "    #### Set Known Albums\n",
    "    ######################################################################\n",
    "    knownArtistAlbums = albums\n",
    "    \n",
    "    \n",
    "    ######################################################################\n",
    "    #### Loop Over Missing DBs\n",
    "    ######################################################################\n",
    "    if dbsToMatch is None:\n",
    "        dbsToMatch = mdb.getDBs()\n",
    "    for db in dbsToMatch:        \n",
    "        artistDBIDs = mdb.getArtistDBIDs(artistName, db, cutoff=cutoff, num=num, debug=num)\n",
    "        print(\"{0: <20}\".format(db), end=\"\\t\")\n",
    "        if \"Full\" in debug:\n",
    "            print(\"Found {0} possible artists in DB\".format(len(artistDBIDs)))\n",
    "        else:\n",
    "            print(\"\")\n",
    "        \n",
    "        \n",
    "        ######################################################################\n",
    "        #### Search For Matches in Possible IDs\n",
    "        ######################################################################\n",
    "        resultD = {\"ID\": None, \"Matches\": num, \"Score\": 0.0, \"Best\": None}\n",
    "        for dbArtistName, dbArtistIDs in artistDBIDs.items():\n",
    "            for dbArtistID in dbArtistIDs:\n",
    "                dbArtistIDAlbums = mdb.getArtistAlbumsFromID(db, dbArtistID, flatten=True)\n",
    "                                \n",
    "                ma = matchAlbums()\n",
    "                ma.match(knownArtistAlbums, dbArtistIDAlbums)\n",
    "                if \"ID\" in debug or \"Full\" in debug:\n",
    "                    print(\"\\t\\t{0: <45}{1}\\t{2}\\t{3}\\t{4}\".format(dbArtistID, len(dbArtistIDAlbums), ma.near, ma.score, ma.maxval))\n",
    "                if ma.near < resultD[\"Matches\"]:\n",
    "                    continue\n",
    "                if ma.score < max([resultD[\"Score\"], cutoff]):\n",
    "                    continue\n",
    "                resultD = {\"ID\": dbArtistID, \"Matches\": ma.near, \"Score\": ma.score, \"Best\": ma}\n",
    "                print(\"\\t\\t{0: <45}{1}\\t{2}\\t{3}\\t{4} <-- Match\".format(dbArtistID, len(artistAlbums), ma.near, ma.score, ma.maxval))\n",
    "\n",
    "                \n",
    "        if resultD[\"ID\"] is not None:\n",
    "            print(\"\\t\\t{0: <45}{1}\\t{2} <====================================== Best Match\".format(resultD[\"ID\"], resultD[\"Matches\"], resultD[\"Score\"]))\n",
    "            retval[db] = {'ID': resultD[\"ID\"], 'Name': None}\n",
    "            if \"Full\" in debug:\n",
    "                print(\"\\t\\t =====>\",retval[db])\n",
    "        else:\n",
    "            if \"Full\" in debug:\n",
    "                print(\"\\t\\t =====> No Match\")\n",
    "            retval[db] = None\n",
    "            \n",
    "    return retval\n",
    "\n",
    "\n",
    "\n",
    "def searchForMutualArtistDBEntries(mdb, artistName, num=2, cutoff=0.8, debug=[None]):\n",
    "    retval     = {}\n",
    "\n",
    "    \n",
    "    ######################################################################\n",
    "    #### Determine Albums To Match\n",
    "    ######################################################################\n",
    "    artistAlbums = []\n",
    "    dbsToMatch   = []\n",
    "    dbMatches    = mdb.getArtistDataIDs(artistName)\n",
    "    knownDBs     = []\n",
    "    for db,artistID in dbMatches.items():\n",
    "        if artistID is not None:\n",
    "            artistAlbums.append(mdb.getArtistAlbumsFromID(db, artistID, flatten=True))\n",
    "            knownDBs.append(db)\n",
    "        else:\n",
    "            dbsToMatch.append(db)\n",
    "    from listUtils import getFlatList\n",
    "    knownArtistAlbums   = list(set(getFlatList(artistAlbums)))\n",
    "    print(\"Searching for matches:  [{0}] using [{1}] albums collected from [{2}] dbs\".format(artistName, len(knownArtistAlbums), len(artistAlbums)))\n",
    "    print(\"  Will search for matches in these DBs: {0}\".format(dbsToMatch))\n",
    "    \n",
    "    \n",
    "    ######################################################################\n",
    "    #### Loop Over Missing DBs\n",
    "    ######################################################################\n",
    "    retval = searchForArtistAlbumsDBEntries(mdb, artistName, knownArtistAlbums, dbsToMatch, cutoff, num, debug)\n",
    "    return retval\n",
    "            \n",
    "            \n",
    "def searchForMutualDBEntries(mdb, num=2, cutoff=0.8, debug=[None], minI=-1, maxR=50):\n",
    "    retval = {}\n",
    "    nR = 0\n",
    "    \n",
    "    musicArtists = mdb.getArtists()\n",
    "    for i, artistName in enumerate(musicArtists):\n",
    "        if i <= minI:\n",
    "            continue\n",
    "        result = searchForMutualArtistDBEntries(mdb, artistName, num, cutoff, debug)\n",
    "        for db,dbval in result.items():\n",
    "            if dbval is not None:\n",
    "                if retval.get(artistName) is None:\n",
    "                    retval[artistName] = {}\n",
    "                retval[artistName][db] = dbval\n",
    "                nR += 1\n",
    "                \n",
    "        if nR > maxR:\n",
    "            break\n",
    "                \n",
    "    print(\"Found {0} new artist matches after looping over {1} artists\".format(len(retval), i))\n",
    "    return retval"
   ]
  },
  {
   "cell_type": "code",
   "execution_count": null,
   "metadata": {},
   "outputs": [],
   "source": []
  },
  {
   "cell_type": "code",
   "execution_count": null,
   "metadata": {},
   "outputs": [],
   "source": []
  },
  {
   "cell_type": "code",
   "execution_count": null,
   "metadata": {},
   "outputs": [],
   "source": []
  },
  {
   "cell_type": "code",
   "execution_count": null,
   "metadata": {},
   "outputs": [],
   "source": []
  },
  {
   "cell_type": "code",
   "execution_count": null,
   "metadata": {},
   "outputs": [],
   "source": []
  },
  {
   "cell_type": "code",
   "execution_count": null,
   "metadata": {},
   "outputs": [],
   "source": [
    "import matplotlib.pyplot as plt\n",
    "from scipy.optimize import curve_fit\n",
    "import numpy as np\n",
    "from random import random\n",
    "\n",
    "def r(size=0.1):\n",
    "    val = size*(random() - 0.5)\n",
    "    return val\n",
    "\n",
    "def func(x, a, b):\n",
    "    return (a + b*np.sin(np.pi*x/24.0))"
   ]
  },
  {
   "cell_type": "code",
   "execution_count": null,
   "metadata": {},
   "outputs": [],
   "source": [
    "days = 7"
   ]
  },
  {
   "cell_type": "code",
   "execution_count": null,
   "metadata": {},
   "outputs": [],
   "source": [
    "x = np.linspace(0,24*days,250*days)\n",
    "y = [func(t, a=1.0, b=2.0) for t in x]\n",
    "ygen = y + 0.2 * np.random.normal(size=x.size)"
   ]
  },
  {
   "cell_type": "code",
   "execution_count": null,
   "metadata": {},
   "outputs": [],
   "source": []
  },
  {
   "cell_type": "code",
   "execution_count": null,
   "metadata": {},
   "outputs": [],
   "source": [
    "xdata = x\n",
    "ydata = ygen\n",
    "popt, pcov = curve_fit(func, xdata, ydata)\n",
    "popt"
   ]
  },
  {
   "cell_type": "code",
   "execution_count": null,
   "metadata": {},
   "outputs": [],
   "source": [
    "plt.plot(x,y, 'r--', label='truth')\n",
    "plt.plot(x,ygen, 'g--', label='data')\n",
    "plt.xlabel('Hour of Week')\n",
    "plt.ylabel('Energy Usage [arbitrary units]')\n",
    "plt.plot(xdata, func(xdata, *popt), 'b-', label='fit: a=%5.2f, b=%5.2f' % tuple(popt))\n",
    "plt.legend()\n",
    "plt.show()"
   ]
  },
  {
   "cell_type": "code",
   "execution_count": null,
   "metadata": {},
   "outputs": [],
   "source": [
    "predicted = [4, 25,  0.75, 11]\n",
    "observed  = [3, 21, -1.25, 13]"
   ]
  },
  {
   "cell_type": "code",
   "execution_count": null,
   "metadata": {},
   "outputs": [],
   "source": [
    "if len(predicted) != len(observed):\n",
    "    raise ValueError(\"Must be equal lengths\")\n",
    "residual = list(zip(predicted, observed))\n",
    "N = len(residual)\n",
    "import numpy as np\n",
    "np.sqrt(sum([(item[0] - item[1])**2 for item in list(residual)])/N)"
   ]
  },
  {
   "cell_type": "code",
   "execution_count": null,
   "metadata": {},
   "outputs": [],
   "source": [
    "import numpy as np\n",
    "import pandas as pd\n",
    "\n",
    "\n",
    "# you can use this table as an example\n",
    "distr_table = pd.DataFrame({\n",
    "    'X': [0, 0, 1, 1],\n",
    "    'Y': [1, 2, 1, 2],\n",
    "    'pr': [0.25, 0.25, 0.15, 0.35]\n",
    "})\n",
    "\n",
    "class CheckIndependence:\n",
    "\n",
    "    def __init__(self):\n",
    "        self.version = 1\n",
    "\n",
    "    def check_independence(self, distr_table: pd.DataFrame):\n",
    "        # write your solution here\n",
    "        ## Initialize output\n",
    "        output = {\"are_independent\": None, \"cov\": None, \"corr\": None}\n",
    "        \n",
    "        ### Mean X and Sigma X\n",
    "        muX  = 0\n",
    "        for Xval,df in distr_table.groupby('X'):\n",
    "            prX   = df['pr'].sum()\n",
    "            muX  += Xval*prX\n",
    "        sigX = 0\n",
    "        for Xval,df in distr_table.groupby('X'):\n",
    "            prX   = df['pr'].sum()\n",
    "            sigX += prX * (Xval - muX)**2\n",
    "        sigX = np.sqrt(sigX)\n",
    "\n",
    "        ### Mean Y and Sigma Y\n",
    "        muY  = 0\n",
    "        for Yval,df in distr_table.groupby('Y'):\n",
    "            prY  = df['pr'].sum()\n",
    "            muY += Yval*prY\n",
    "        sigY = 0\n",
    "        for Yval,df in distr_table.groupby('Y'):\n",
    "            prY  = df['pr'].sum()\n",
    "            sigY += prY * (Yval - muY)**2\n",
    "        sigY = np.sqrt(sigY)\n",
    "\n",
    "        print(sigX)\n",
    "        print(sigY)\n",
    "            \n",
    "        ### Covariance Calculation\n",
    "        cov = 0\n",
    "        for i,row in distr_table.iterrows():\n",
    "            pr   = row.pr\n",
    "            xval = row.X\n",
    "            yval = row.Y\n",
    "            cov += pr*(xval - muX)*(yval - muY)            \n",
    "            \n",
    "        ### Correlation Calculation\n",
    "        corr = cov / (sigX * sigY)\n",
    "        \n",
    "        \n",
    "        \n",
    "        ### Independence Calculation\n",
    "        diff = 0\n",
    "        for i,row in distr_table.iterrows():\n",
    "            pr   = row.pr\n",
    "            xval = row.X\n",
    "            yval = row.Y\n",
    "\n",
    "            prX = distr_table[distr_table['X'] == xval]['pr'].sum()\n",
    "            prY = distr_table[distr_table['Y'] == yval]['pr'].sum()\n",
    "\n",
    "            prXY = prX*prY\n",
    "            diff += np.abs(prXY - pr)\n",
    "\n",
    "        indy = True\n",
    "        if diff > 1e-4:\n",
    "            indy = False\n",
    "        \n",
    "        \n",
    "        \n",
    "        output[\"cov\"]  = cov\n",
    "        output[\"corr\"] = corr\n",
    "        output[\"are_independent\"] = indy\n",
    "        \n",
    "        return output"
   ]
  },
  {
   "cell_type": "code",
   "execution_count": null,
   "metadata": {},
   "outputs": [],
   "source": [
    "ci = CheckIndependence()\n",
    "ci.check_independence(distr_table)"
   ]
  },
  {
   "cell_type": "code",
   "execution_count": null,
   "metadata": {},
   "outputs": [],
   "source": [
    "ci"
   ]
  },
  {
   "cell_type": "code",
   "execution_count": null,
   "metadata": {},
   "outputs": [],
   "source": [
    "distr_table['X'].unique()"
   ]
  },
  {
   "cell_type": "code",
   "execution_count": null,
   "metadata": {},
   "outputs": [],
   "source": [
    "muX  = 0\n",
    "for Xval,df in distr_table.groupby('X'):\n",
    "    prX   = df['pr'].sum()\n",
    "    muX  += Xval*prX\n",
    "sigX = 0\n",
    "for Xval,df in distr_table.groupby('X'):\n",
    "    sigX += prX * (Xval - muX)**2\n",
    "sigX = np.sqrt(sigX)\n",
    "\n",
    "muY  = 0\n",
    "for Yval,df in distr_table.groupby('Y'):\n",
    "    prY  = df['pr'].sum()\n",
    "    muY += Yval*prY\n",
    "sigY = 0\n",
    "for Yval,df in distr_table.groupby('Y'):\n",
    "    prY  = df['pr'].sum()\n",
    "    sigY += prY * (Yval - muY)**2\n",
    "sigY = np.sqrt(sigY)"
   ]
  },
  {
   "cell_type": "code",
   "execution_count": null,
   "metadata": {},
   "outputs": [],
   "source": [
    "cov = 0\n",
    "for i,row in distr_table.iterrows():\n",
    "    pr   = row.pr\n",
    "    xval = row.X\n",
    "    yval = row.Y\n",
    "    cov += pr*(xval - muX)*(yval - muY)"
   ]
  },
  {
   "cell_type": "code",
   "execution_count": null,
   "metadata": {},
   "outputs": [],
   "source": [
    "\n",
    "diff"
   ]
  },
  {
   "cell_type": "code",
   "execution_count": null,
   "metadata": {},
   "outputs": [],
   "source": [
    "prX = {}\n",
    "for Xval,df in distr_table.groupby('X'):\n",
    "    prX[Xval] = df['pr'].sum()"
   ]
  },
  {
   "cell_type": "code",
   "execution_count": null,
   "metadata": {},
   "outputs": [],
   "source": [
    "prX"
   ]
  },
  {
   "cell_type": "code",
   "execution_count": null,
   "metadata": {},
   "outputs": [],
   "source": [
    "distr_table[distr_table['X'] == 0]['pr'].sum()"
   ]
  },
  {
   "cell_type": "code",
   "execution_count": null,
   "metadata": {},
   "outputs": [],
   "source": []
  }
 ],
 "metadata": {
  "kernelspec": {
   "display_name": "Python 3",
   "language": "python",
   "name": "python3"
  },
  "language_info": {
   "codemirror_mode": {
    "name": "ipython",
    "version": 3
   },
   "file_extension": ".py",
   "mimetype": "text/x-python",
   "name": "python",
   "nbconvert_exporter": "python",
   "pygments_lexer": "ipython3",
   "version": "3.7.7"
  }
 },
 "nbformat": 4,
 "nbformat_minor": 2
}
