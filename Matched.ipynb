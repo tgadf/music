{
 "cells": [
  {
   "cell_type": "code",
   "execution_count": 1,
   "metadata": {},
   "outputs": [
    {
     "data": {
      "text/html": [
       "<style>.container { width:100% !important; }</style>"
      ],
      "text/plain": [
       "<IPython.core.display.HTML object>"
      ]
     },
     "metadata": {},
     "output_type": "display_data"
    },
    {
     "data": {
      "text/html": [
       "<style>div.output_area{max-height:10000px;overflow:scroll;}</style>"
      ],
      "text/plain": [
       "<IPython.core.display.HTML object>"
      ]
     },
     "metadata": {},
     "output_type": "display_data"
    },
    {
     "name": "stderr",
     "output_type": "stream",
     "text": [
      "/Users/tgadfort/opt/anaconda3/envs/py37/lib/python3.7/site-packages/sklearn/externals/joblib/__init__.py:15: FutureWarning: sklearn.externals.joblib is deprecated in 0.21 and will be removed in 0.23. Please import this functionality directly from joblib, which can be installed with: pip install joblib. If this warning is raised when loading pickled models, you may need to re-serialize those models with scikit-learn 0.21+.\n",
      "  warnings.warn(msg, category=FutureWarning)\n"
     ]
    },
    {
     "name": "stdout",
     "output_type": "stream",
     "text": [
      "Python: 3.7.7 (default, Mar 26 2020, 10:32:53) \n",
      "[Clang 4.0.1 (tags/RELEASE_401/final)]\n",
      "Notebook Last Run Initiated: 2020-09-10 23:13:41.116725\n"
     ]
    }
   ],
   "source": [
    "## Basic stuff\n",
    "%load_ext autoreload\n",
    "%autoreload\n",
    "from IPython.core.display import display, HTML\n",
    "display(HTML(\"<style>.container { width:100% !important; }</style>\"))\n",
    "display(HTML(\"\"\"<style>div.output_area{max-height:10000px;overflow:scroll;}</style>\"\"\"))\n",
    "\n",
    "\n",
    "################################################################################\n",
    "## General Stuff\n",
    "################################################################################\n",
    "from timeUtils import clock, elapsed\n",
    "from listUtils import getFlatList\n",
    "from time import sleep\n",
    "from pandas import DataFrame, Series\n",
    "from ioUtils import getFile, saveFile\n",
    "from searchUtils import findDirs, findNearest, findAll\n",
    "from fileUtils import getDirBasics, getBaseFilename\n",
    "from unicodedata import normalize\n",
    "from fsUtils import moveDir, setDir, mkDir, isDir, removeDir\n",
    "from pandasUtils import getRowDataByColValue, getRowData\n",
    "import operator\n",
    "from glob import glob\n",
    "from os.path import join\n",
    "from collections import Counter\n",
    "\n",
    "\n",
    "################################################################################\n",
    "## Mp3 Stuff\n",
    "################################################################################\n",
    "from mp3id import mp3ID\n",
    "\n",
    "\n",
    "################################################################################\n",
    "## Database Stuff\n",
    "################################################################################\n",
    "from dbBase import dbBase\n",
    "from mainDB import mainDB\n",
    "from multiArtist import multiartist\n",
    "from matchAlbums import matchAlbums\n",
    "from masterdb import masterdb\n",
    "\n",
    "\n",
    "################################################################################\n",
    "## Music Stuff\n",
    "################################################################################\n",
    "from musicUtils import *\n",
    "from myMusicDBMap import myMusicDBMap\n",
    "from musicBase import myMusicBase\n",
    "from matchMyMusic import matchMyMusic\n",
    "from matchMusicName import myMusicName\n",
    "from mergeDB import searchForMutualDBEntries, searchForMutualArtistDBEntries\n",
    "\n",
    "\n",
    "################################################################################\n",
    "## Pandas Stuff\n",
    "################################################################################\n",
    "import pandas as pd\n",
    "pd.set_option('display.max_rows', 500)\n",
    "pd.set_option('display.max_columns', 500)\n",
    "pd.set_option('display.width', 1000)\n",
    "\n",
    "\n",
    "## Python Version\n",
    "import sys\n",
    "print(\"Python: {0}\".format(sys.version))\n",
    "\n",
    "import datetime as dt\n",
    "start = dt.datetime.now()\n",
    "print(\"Notebook Last Run Initiated: \"+str(start))"
   ]
  },
  {
   "cell_type": "markdown",
   "metadata": {},
   "source": [
    "# My Music Database Map"
   ]
  },
  {
   "cell_type": "code",
   "execution_count": 2,
   "metadata": {},
   "outputs": [
    {
     "name": "stdout",
     "output_type": "stream",
     "text": [
      "Counter({'Discogs': 4327, 'AllMusic': 4198, 'MusicBrainz': 4022, 'LastFM': 3298, 'CDandLP': 759, 'DatPiff': 550, 'RockCorner': 511, 'AceBootlegs': 179, 'RateYourMusic': 68, 'MusicStack': 5, 'MetalStorm': 0})\n"
     ]
    },
    {
     "ename": "KeyError",
     "evalue": "'Joey Lawrence'",
     "output_type": "error",
     "traceback": [
      "\u001b[0;31m---------------------------------------------------------------------------\u001b[0m",
      "\u001b[0;31mKeyError\u001b[0m                                  Traceback (most recent call last)",
      "\u001b[0;32m<ipython-input-2-9323704650bd>\u001b[0m in \u001b[0;36m<module>\u001b[0;34m\u001b[0m\n\u001b[0;32m----> 1\u001b[0;31m \u001b[0mmdb\u001b[0m \u001b[0;34m=\u001b[0m \u001b[0mmyMusicDBMap\u001b[0m\u001b[0;34m(\u001b[0m\u001b[0mdebug\u001b[0m\u001b[0;34m=\u001b[0m\u001b[0;32mFalse\u001b[0m\u001b[0;34m)\u001b[0m\u001b[0;34m\u001b[0m\u001b[0;34m\u001b[0m\u001b[0m\n\u001b[0m\u001b[1;32m      2\u001b[0m \u001b[0mmdb\u001b[0m\u001b[0;34m.\u001b[0m\u001b[0mgetFullDBData\u001b[0m\u001b[0;34m(\u001b[0m\u001b[0;34m)\u001b[0m\u001b[0;34m\u001b[0m\u001b[0;34m\u001b[0m\u001b[0m\n\u001b[1;32m      3\u001b[0m \u001b[0;31m#mdb.getKnownDBData()\u001b[0m\u001b[0;34m\u001b[0m\u001b[0;34m\u001b[0m\u001b[0;34m\u001b[0m\u001b[0m\n\u001b[1;32m      4\u001b[0m \u001b[0m_\u001b[0m\u001b[0;34m,\u001b[0m \u001b[0m_\u001b[0m \u001b[0;34m=\u001b[0m \u001b[0mclock\u001b[0m\u001b[0;34m(\u001b[0m\u001b[0;34m\"Last Run\"\u001b[0m\u001b[0;34m)\u001b[0m\u001b[0;34m\u001b[0m\u001b[0;34m\u001b[0m\u001b[0m\n",
      "\u001b[0;32m~/opt/anaconda3/envs/py37/lib/python3.7/site-packages/myMusicDBMap.py\u001b[0m in \u001b[0;36m__init__\u001b[0;34m(self, debug)\u001b[0m\n\u001b[1;32m     36\u001b[0m \u001b[0;34m\u001b[0m\u001b[0m\n\u001b[1;32m     37\u001b[0m         \u001b[0mself\u001b[0m\u001b[0;34m.\u001b[0m\u001b[0msetAlbumTypes\u001b[0m\u001b[0;34m(\u001b[0m\u001b[0;34m)\u001b[0m\u001b[0;34m\u001b[0m\u001b[0;34m\u001b[0m\u001b[0m\n\u001b[0;32m---> 38\u001b[0;31m         \u001b[0mself\u001b[0m\u001b[0;34m.\u001b[0m\u001b[0msetDBMatches\u001b[0m\u001b[0;34m(\u001b[0m\u001b[0;34m)\u001b[0m\u001b[0;34m\u001b[0m\u001b[0;34m\u001b[0m\u001b[0m\n\u001b[0m\u001b[1;32m     39\u001b[0m \u001b[0;34m\u001b[0m\u001b[0m\n\u001b[1;32m     40\u001b[0m         \u001b[0;32mif\u001b[0m \u001b[0mdebug\u001b[0m\u001b[0;34m:\u001b[0m\u001b[0;34m\u001b[0m\u001b[0;34m\u001b[0m\u001b[0m\n",
      "\u001b[0;32m~/opt/anaconda3/envs/py37/lib/python3.7/site-packages/myMusicDBMap.py\u001b[0m in \u001b[0;36msetDBMatches\u001b[0;34m(self)\u001b[0m\n\u001b[1;32m    159\u001b[0m                     \u001b[0;32mexcept\u001b[0m\u001b[0;34m:\u001b[0m\u001b[0;34m\u001b[0m\u001b[0;34m\u001b[0m\u001b[0m\n\u001b[1;32m    160\u001b[0m                         \u001b[0;32mpass\u001b[0m\u001b[0;34m\u001b[0m\u001b[0;34m\u001b[0m\u001b[0m\n\u001b[0;32m--> 161\u001b[0;31m                     \u001b[0mself\u001b[0m\u001b[0;34m.\u001b[0m\u001b[0mdbArtistData\u001b[0m\u001b[0;34m[\u001b[0m\u001b[0mdb\u001b[0m\u001b[0;34m]\u001b[0m\u001b[0;34m[\u001b[0m\u001b[0mdbID\u001b[0m\u001b[0;34m]\u001b[0m \u001b[0;34m=\u001b[0m \u001b[0martist\u001b[0m\u001b[0;34m\u001b[0m\u001b[0;34m\u001b[0m\u001b[0m\n\u001b[0m\u001b[1;32m    162\u001b[0m \u001b[0;34m\u001b[0m\u001b[0m\n\u001b[1;32m    163\u001b[0m \u001b[0;34m\u001b[0m\u001b[0m\n",
      "\u001b[0;31mKeyError\u001b[0m: 'Joey Lawrence'"
     ]
    }
   ],
   "source": [
    "mdb = myMusicDBMap(debug=False)\n",
    "mdb.getFullDBData()\n",
    "#mdb.getKnownDBData()\n",
    "_, _ = clock(\"Last Run\")"
   ]
  },
  {
   "cell_type": "code",
   "execution_count": null,
   "metadata": {},
   "outputs": [],
   "source": [
    "maindb = mainDB(mdb=mdb, create=False, debug=True)\n",
    "dbdata = maindb.dbdata\n",
    "#maindb.setDBFull() ## Do this to recreate everything\n",
    "#maindb.setDBKnown()"
   ]
  },
  {
   "cell_type": "markdown",
   "metadata": {},
   "source": [
    "# Find All My Music and What's Known/Unknown"
   ]
  },
  {
   "cell_type": "markdown",
   "metadata": {},
   "source": [
    "#### Find My Music"
   ]
  },
  {
   "cell_type": "code",
   "execution_count": null,
   "metadata": {
    "scrolled": false
   },
   "outputs": [],
   "source": [
    "## Basic stuff\n",
    "%load_ext autoreload\n",
    "%autoreload\n",
    "from musicBase import myMusicBase\n",
    "mmb = myMusicBase(debug=False)\n",
    "mmb.findArtistAlbums()\n",
    "_, _ = clock(\"Last Run\")"
   ]
  },
  {
   "cell_type": "markdown",
   "metadata": {},
   "source": [
    "#### Get Artist Status and Find Unknowns"
   ]
  },
  {
   "cell_type": "code",
   "execution_count": null,
   "metadata": {},
   "outputs": [],
   "source": [
    "%load_ext autoreload\n",
    "%autoreload\n",
    "mmm = matchMyMusic(mdb)\n",
    "mmm.getArtistStatus()\n",
    "mmm.setMusicBase(mmb)\n",
    "unknownArtists = mmm.getUnknownArtists()"
   ]
  },
  {
   "cell_type": "markdown",
   "metadata": {},
   "source": [
    "#### If there are Unknown Artists Try To Find a Match"
   ]
  },
  {
   "cell_type": "code",
   "execution_count": null,
   "metadata": {
    "scrolled": false
   },
   "outputs": [],
   "source": [
    "%load_ext autoreload\n",
    "%autoreload\n",
    "if True:\n",
    "    #mdb = myMusicDBMap(debug=False)\n",
    "    #mdb.getFullDBData()\n",
    "    mmm = matchMyMusic(mdb)\n",
    "    mmm.searchForMutualDBEntries(maxAdds=2000, start=4200)\n",
    "#mmm.getArtistStatus()\n",
    "#mmm.setMusicBase(mmb)\n",
    "#unknownArtists = mmm.getUnknownArtists()"
   ]
  },
  {
   "cell_type": "code",
   "execution_count": null,
   "metadata": {},
   "outputs": [],
   "source": [
    "mdb.save()"
   ]
  },
  {
   "cell_type": "code",
   "execution_count": null,
   "metadata": {
    "scrolled": false
   },
   "outputs": [],
   "source": [
    "if len(unknownArtists) > 0:\n",
    "    mmm.matchUnknownArtists(ratioCut=0.75)\n",
    "\n",
    "    for artist in unknownArtists:\n",
    "        print(\"mdb.add(\\\"{0}\\\", \\\"{1}\\\", \\\"{2}\\\")\".format(artist, \"AllMusic\", \"\"))"
   ]
  },
  {
   "cell_type": "code",
   "execution_count": null,
   "metadata": {},
   "outputs": [],
   "source": [
    "mdb.save()"
   ]
  },
  {
   "cell_type": "code",
   "execution_count": null,
   "metadata": {},
   "outputs": [],
   "source": [
    "vals=['0000178122', \n",
    "'0000146490', \n",
    "'0000326964', \n",
    "'0000125561', \n",
    "'0000547185', \n",
    "'0003276047', \n",
    "'0000019241', \n",
    "'4003550',\n",
    "'0000139354', \n",
    "'0000135152', \n",
    "'0000361541', \n",
    "'mw0000577383', \n",
    "'0000568137', \n",
    "'0000648813', \n",
    "'0000773642']\n"
   ]
  },
  {
   "cell_type": "code",
   "execution_count": null,
   "metadata": {},
   "outputs": [],
   "source": [
    "#vals=['0000093778', '0000006649', '4003550', '0000139354', 'mw0000577383', '0000648813', '0000787960', '0000031556']\n",
    "\n",
    "mdb.add(\"Joey Lawrence\", \"AllMusic\", \"0000213272\")\n",
    "mdb.add(\"John Parr\", \"AllMusic\", \"0000188467\")\n",
    "mdb.add(\"I Am Kloot\", \"AllMusic\",\"0000139354\")\n",
    "mdb.add(\"Razorlight\", \"AllMusic\", \"0000242578\")\n",
    "mdb.add(\"Jennifer Love Hewitt\", \"AllMusic\", \"0000317571\")\n",
    "mdb.add(\"Joe Diffie\", \"AllMusic\", \"0000787960\")\n",
    "mdb.add(\"Supergrass\", \"AllMusic\", \"0000031556\")\n",
    "mdb.add(\"Tammy Wynette\", \"AllMusic\", \"0000136640\")\n",
    "mdb.save()\n"
   ]
  },
  {
   "cell_type": "code",
   "execution_count": null,
   "metadata": {},
   "outputs": [],
   "source": [
    "artists = []\n",
    "for artist,artistData in mdb.get().items():\n",
    "    am = artistData.get(\"AllMusic\")\n",
    "    if isinstance(am,dict):\n",
    "        val = am[\"ID\"]\n",
    "        #if val in ['17511340549140560325157539681187019978']:\n",
    "        #if val is None:\n",
    "        if val in vals:\n",
    "            print(val,'\\t',artist)\n",
    "            artists.append(artist)\n",
    "artists\n",
    "#mdb.save()"
   ]
  },
  {
   "cell_type": "markdown",
   "metadata": {},
   "source": [
    "# Try Matching Unmatched Albums"
   ]
  },
  {
   "cell_type": "code",
   "execution_count": null,
   "metadata": {
    "scrolled": false
   },
   "outputs": [],
   "source": [
    "dR = 0.06\n",
    "rC = 0.85\n",
    "\n",
    "#for db in ['Discogs', 'AllMusic', 'MusicBrainz', 'AceBootlegs', 'RateYourMusic', 'LastFM', 'DatPiff', 'RockCorner', 'CDandLP', 'MusicStack', 'MetalStorm']:\n",
    "#for db in ['Discogs', 'MusicBrainz', 'AllMusic', 'LastFM']:\n",
    "for db in ['LastFM']:\n",
    "    for albumType in [1]:\n",
    "        print(\"=\"*140)\n",
    "        mmm.matchMyMusicAlbums(db=db, albumType=albumType, ratioCut=rC, maxCut=rC+dR)\n",
    "        print(\"\\n\\n\")"
   ]
  },
  {
   "cell_type": "code",
   "execution_count": null,
   "metadata": {},
   "outputs": [],
   "source": [
    "mmm.mmn.moveMyMatchedMusicAlbums(show=True)"
   ]
  },
  {
   "cell_type": "code",
   "execution_count": null,
   "metadata": {},
   "outputs": [],
   "source": [
    "mmm.mmn.moveMyMatchedMusicAlbums(show=False)"
   ]
  },
  {
   "cell_type": "markdown",
   "metadata": {},
   "source": [
    "***\n",
    "***"
   ]
  },
  {
   "cell_type": "markdown",
   "metadata": {},
   "source": [
    "# Match Albums From My Matched Artists"
   ]
  },
  {
   "cell_type": "code",
   "execution_count": null,
   "metadata": {},
   "outputs": [],
   "source": [
    "resultD = {\"ID\": None, \"Matches\": 0, \"Score\": 0.0, \"Best\": None}\n",
    "\n",
    "for artistName,artistDBIDs in artistNameDBIDs.items():\n",
    "    print(artistName,artistDBIDs)\n",
    "    for dbArtistID in artistDBIDs:\n",
    "        print('\\t',dbArtistID)\n",
    "        dbArtistIDAlbums = mdb.getArtistAlbumsFromID(db, dbArtistID, flatten=True)\n",
    "        print(\"\\t\\t\",dbArtistIDAlbums)\n",
    "\n",
    "        \n",
    "        ### Match Albums (if possible)\n",
    "        ma = matchAlbums()\n",
    "        ma.match(unMatchedAlbums, dbArtistIDAlbums)\n",
    "        if debug:\n",
    "            print(\"\\t\\t{0: <45}{1}\\t{2}\\t{3}\\t{4}\".format(dbArtistID, len(dbArtistIDAlbums), ma.near, ma.score, ma.maxval))\n",
    "        if ma.near < resultD[\"Matches\"]:\n",
    "            continue\n",
    "        if ma.score < max([resultD[\"Score\"], cutoff]):\n",
    "            continue\n",
    "        resultD = {\"ID\": dbArtistID, \"Matches\": ma.near, \"Score\": ma.score, \"Best\": ma}\n",
    "        if debug:\n",
    "            print(\"\\t\\t{0: <45}{1}\\t{2}\\t{3}\\t{4} <-- Match\".format(dbArtistID, len(artistAlbums), ma.near, ma.score, ma.maxval))\n",
    "\n",
    "\n"
   ]
  },
  {
   "cell_type": "code",
   "execution_count": null,
   "metadata": {
    "scrolled": true
   },
   "outputs": [],
   "source": [
    "dR = 0.1\n",
    "rC = 0.9\n",
    "\n",
    "mmm.matchMyMusicAlbums(db=\"AllMusic\", albumType=1, ratioCut=rC, maxCut=rC+dR)"
   ]
  },
  {
   "cell_type": "code",
   "execution_count": null,
   "metadata": {},
   "outputs": [],
   "source": [
    "mmm.moveMyMatchedMusicAlbums(show=False)"
   ]
  },
  {
   "cell_type": "code",
   "execution_count": null,
   "metadata": {},
   "outputs": [],
   "source": []
  },
  {
   "cell_type": "code",
   "execution_count": null,
   "metadata": {},
   "outputs": [],
   "source": [
    "from timeUtils import clock, elapsed\n",
    "from listUtils import getFlatList\n",
    "from musicBase import myMusicBase\n",
    "from matchAlbums import matchAlbums\n",
    "from ioUtils import getFile, saveFile\n",
    "from fsUtils import isDir, setDir, mkDir, moveDir\n",
    "from matchMusicName import myMusicName\n",
    "\n",
    "\n",
    "class matchMyMusic:\n",
    "    def __init__(self, mdb, debug=False):\n",
    "        self.debug = debug\n",
    "        self.mdb   = mdb\n",
    "        self.mmb   = myMusicBase()\n",
    "        self.mmn   = myMusicName()\n",
    "        \n",
    "        self.unknownArtists = {}\n",
    "        self.artistAlbums   = {}\n",
    "        \n",
    "        self.matchedAlbums  = {}\n",
    "        \n",
    "        \n",
    "    def setMusicBase(self, mmb):\n",
    "        self.mmb = mmb\n",
    "        \n",
    "        \n",
    "    def getAlbumStatus(self, force=False):\n",
    "        self.artistAlbums = self.mmb.getArtistAlbums(force=force)\n",
    "        \n",
    "\n",
    "    def getArtistStatus(self):\n",
    "        start, cmt = clock(\"Matching All Music Artists\")\n",
    "\n",
    "        ######################################################################\n",
    "        #### Loop Over My Artists and Paths\n",
    "        ######################################################################\n",
    "        for primeDir in self.mmb.getPrimeDirectories():\n",
    "            for artistName, artistPrimeDirs in self.mmb.getArtistPrimeDirMap(primeDir).items():\n",
    "                if self.debug:\n",
    "                    print(\"{0: <50}{1}\".format(artistName,artistPrimeDirs))\n",
    "\n",
    "\n",
    "                ######################################################################\n",
    "                #### Get Database IDs\n",
    "                ######################################################################\n",
    "                isKnown = self.mdb.isKnown(artistName)\n",
    "                if isKnown is False:\n",
    "                    self.unknownArtists[artistName] = artistPrimeDirs\n",
    "                    if self.debug:\n",
    "                        print(\"\\tUnknown (All)     --> {0}\".format(artistName))\n",
    "                        \n",
    "\n",
    "        elapsed(start, cmt)\n",
    "        print(\"Found {0} unknown artists\".format(len(self.unknownArtists)))\n",
    "        print(\"Found {0} total artists\".format(len(self.artistAlbums)))\n",
    "\n",
    "        \n",
    "        \n",
    "    def getUnknownArtists(self):\n",
    "        return self.unknownArtists\n",
    "    \n",
    "    \n",
    "    \n",
    "    def getArtistNameMatchedDirs(self):\n",
    "        self.artistMatchedDirs = {}\n",
    "        for primeDir in self.mmb.getPrimeDirectories():\n",
    "            self.artistMatchedDirs.update(self.mmb.getArtistPrimeDirMap(primeDir))\n",
    "            \n",
    "\n",
    "    \n",
    "    def matchMyMusicAlbumsByArtist(self, db, artistName, albumType=None, ratioCut=0.95, maxCut=0.1):\n",
    "\n",
    "        matchedAlbums = {}\n",
    "        \n",
    "\n",
    "        ######################################################################\n",
    "        #### Get Artist Album Data\n",
    "        ######################################################################\n",
    "        artistAlbumsData = self.mmb.getArtistAlbumsByArtist(artistName)\n",
    "    \n",
    "    \n",
    "        ######################################################################\n",
    "        #### Get Unmatched Albums\n",
    "        ######################################################################\n",
    "        unMatchedAlbums = self.mmb.getUnMatchedAlbumsByArtist(artistName)\n",
    "        dirval = self.mmb.getArtistMusicDir(artistName)\n",
    "        if len(unMatchedAlbums) == 0:\n",
    "            return matchedAlbums\n",
    "            \n",
    "            \n",
    "        ######################################################################\n",
    "        #### Loop Over Artist Name <-> Prime Map Items\n",
    "        ######################################################################\n",
    "        if self.mdb.isKnown(artistName) is True:\n",
    "            myMusicData = self.mdb.getArtistData(artistName)\n",
    "            try:\n",
    "                artistID = myMusicData[db][\"ID\"]\n",
    "            except:\n",
    "                return matchedAlbums\n",
    "        else:\n",
    "            return matchedAlbums\n",
    "            \n",
    "\n",
    "\n",
    "        ######################################################################\n",
    "        #### Get Database Albums\n",
    "        ######################################################################\n",
    "        artistDBAlbumsFromID = self.mdb.getArtistAlbumsFromID(db, artistID)\n",
    "\n",
    "        \n",
    "        ######################################################################\n",
    "        #### Loop over my albums\n",
    "        ######################################################################\n",
    "        for myAlbumName in unMatchedAlbums:\n",
    "\n",
    "            bestMatchVal = {\"Ratio\": ratioCut, \"Dir\": None, \"Album\": None}\n",
    "\n",
    "            for mediaType, mediaTypeAlbums in artistDBAlbumsFromID.items():\n",
    "                if albumType is not None:\n",
    "                    if mediaType not in self.mdb.getDBAlbumTypeNames(db, albumType):\n",
    "                        continue\n",
    "\n",
    "                if self.debug:\n",
    "                    print(\"\\tMy album: {0}\".format(myAlbumName))\n",
    "                myFormattedAlbum = self.mmn.formatAlbum(myAlbumName, mediaType)\n",
    "\n",
    "                ma = matchAlbums(cutoff=ratioCut)\n",
    "                ma.match([myFormattedAlbum], mediaTypeAlbums)\n",
    "\n",
    "                if ma.maxval < ratioCut or ma.maxval > ratioCut+maxCut:\n",
    "                    continue\n",
    "                if ma.maxval < bestMatchVal[\"Ratio\"]:\n",
    "                    continue\n",
    "\n",
    "                bestMatch = ma.getBestMatch(myFormattedAlbum)\n",
    "\n",
    "                bestMatchVal = {\"Ratio\": ma.maxval, \"Dir\": dirval, \n",
    "                                \"Album\": {\"Name\": bestMatch[\"Name\"],\n",
    "                                          \"Code\": bestMatch[\"Code\"],\n",
    "                                          \"MediaType\": mediaType}}\n",
    "                matchedAlbums[myAlbumName] = bestMatchVal\n",
    "                #print(\"{0: <30}{1: <15}{2: <30} --> {3}\".format(artistName, db, myAlbumName, bestMatchVal[\"Album\"]))\n",
    "                #bestMatchVal[\"Match\"].show(debug=True)\n",
    "                    \n",
    "        return matchedAlbums\n",
    "\n",
    "                \n",
    "    \n",
    "    def matchMyMusicAlbums(self, db, albumType=1, ratioCut=0.95, maxCut=0.1):\n",
    "        self.matchedAlbums = {}\n",
    "\n",
    "        start, cmt = clock(\"Checking for Albums Matches Against {0} DB\".format(db))\n",
    "        \n",
    "        \n",
    "        print(\"{0: <40}{1: <15}{2: <45} --> {3}\".format(\"Artist\", \"Database\", \"Album Name\", \"Matched Album\"))\n",
    "\n",
    "        ######################################################################\n",
    "        #### Get Map of Artists and Unmatched Albums\n",
    "        ######################################################################\n",
    "        artistNames = self.mmb.getArtists()\n",
    "        #artistAlbums = self.mmb.getArtistAlbums()\n",
    "\n",
    "\n",
    "        ######################################################################\n",
    "        #### Loop Over Artist Name <-> Prime Map Items\n",
    "        ######################################################################\n",
    "        for artistName in artistNames:\n",
    "            matchedAlbums = self.matchMyMusicAlbumsByArtist(db, artistName, albumType, ratioCut, maxCut)\n",
    "            if len(matchedAlbums) > 0:\n",
    "                if self.matchedAlbums.get(db) is None:\n",
    "                    self.matchedAlbums[db] = {}\n",
    "                self.matchedAlbums[db][artistName] = matchedAlbums\n",
    "                for myAlbumName,bestMatchVal in matchedAlbums.items():\n",
    "                    print(\"{0: <40}{1: <15}{2: <45} --> {3}\".format(artistName, db, myAlbumName, bestMatchVal[\"Album\"]))\n",
    "\n",
    "            \n",
    "        elapsed(start, cmt)\n",
    "\n",
    "        saveFile(ifile=self.mmn.moveFilename, idata=self.matchedAlbums, debug=True)\n",
    "        print(\"Found {0} music <-> discogs albums maps\".format(len(self.matchedAlbums)))\n",
    "        \n",
    "\n",
    "    def matchUnknownArtists(self, albumType=1, ratioCut=0.95):\n",
    "        unknownArtists = self.getUnknownArtists()\n",
    "        for unknownArtist in unknownArtists.keys():\n",
    "            print(\"# ===>\",unknownArtist)\n",
    "            retval = self.matchUnknownArtist(unknownArtist, albumType, ratioCut)\n",
    "\n",
    "            for db,dbdata in retval.items():\n",
    "                bestMatch = {\"ID\": None, \"Matches\": 0, \"Score\": 0.0}\n",
    "                for artistDBID,artistDBData in dbdata.items():\n",
    "                    for mediaType,ma in artistDBData.items():\n",
    "                        if ma.near == 0:\n",
    "                            continue\n",
    "                        if ma.near > bestMatch[\"Matches\"]:\n",
    "                            bestMatch = {\"ID\": artistDBID, \"Matches\": ma.near, \"Score\": ma.score}\n",
    "                        elif ma.near == bestMatch[\"Matches\"]:\n",
    "                            if ma.score > bestMatch[\"Score\"]:\n",
    "                                bestMatch = {\"ID\": artistDBID, \"Matches\": ma.near, \"Score\": ma.score}\n",
    "\n",
    "                if bestMatch[\"ID\"] is not None:\n",
    "                    print(\"mdb.add(\\\"{0}\\\", \\\"{1}\\\", \\\"{2}\\\")\".format(unknownArtist, db, bestMatch[\"ID\"]))\n",
    "            \n",
    "            \n",
    "    def matchUnknownArtist(self, unknownArtist, albumType=None, ratioCut=0.95):\n",
    "        ######################################################################\n",
    "        #### Get Unknown Artist Albums and Potential DB Artists\n",
    "        ######################################################################\n",
    "        unMatchedAlbums = self.mmb.getUnMatchedAlbumsByArtist(unknownArtist)\n",
    "        artistNameDBIDs = self.mdb.getArtistIDs(unknownArtist)\n",
    "        \n",
    "        #print(unknownArtist)\n",
    "        #print(unMatchedAlbums)\n",
    "        #print(artistNameDBIDs)\n",
    "        #return\n",
    "\n",
    "        \n",
    "        ######################################################################\n",
    "        #### Get Database Albums\n",
    "        ######################################################################\n",
    "        matches = {}\n",
    "        for db,artistDBartists in artistNameDBIDs.items():\n",
    "            \n",
    "            dbMatches = {}\n",
    "            for artistDBartist,artistDBIDs in artistDBartists.items():\n",
    "                for artistDBID in artistDBIDs:\n",
    "                    dbMatches[artistDBID] = {}\n",
    "                    artistDBAlbumsFromID = self.mdb.getArtistAlbumsFromID(db, artistDBID)\n",
    "\n",
    "                    for mediaType, mediaTypeAlbums in artistDBAlbumsFromID.items():\n",
    "                        if mediaType not in self.mdb.getDBAlbumTypeNames(db, albumType):\n",
    "                            continue\n",
    "\n",
    "                        ma = matchAlbums(cutoff=ratioCut)\n",
    "                        ma.match(unMatchedAlbums, mediaTypeAlbums)\n",
    "                        #ma.show(debug=True)\n",
    "                        \n",
    "                        dbMatches[artistDBID][mediaType] = ma\n",
    "                        \n",
    "            matches[db] = dbMatches\n",
    "            \n",
    "        return matches\n",
    "    \n",
    "    def manuallyMatchUnknownArtist(self, unknownArtist, cutoff=0.8):\n",
    "        ######################################################################\n",
    "        #### Get Unknown Artist Albums and Potential DB Artists\n",
    "        ######################################################################\n",
    "        unMatchedAlbums = self.mmb.getUnMatchedAlbumsByArtist(unknownArtist)\n",
    "        artistNameDBIDs = self.mdb.getArtistIDs(unknownArtist, cutoff=cutoff)\n",
    "        \n",
    "        print(\"Unknown Artist:   {0}\".format(unknownArtist))\n",
    "        try:\n",
    "            print(\"UnMatched Albums: {0}\".format(\", \".join(unMatchedAlbums)))\n",
    "        except:\n",
    "            print(\"Could not show the unMatched Albums below:\")\n",
    "            print(\"-> \",unMatchedAlbums,\" <-\")\n",
    "        print(\"=\"*50)\n",
    "        print(artistNameDBIDs)\n",
    "        for db,artistDBartists in artistNameDBIDs.items():\n",
    "            print(\"=\"*50)\n",
    "            print(\"   {0}\".format(db))\n",
    "            for artistDBartist,artistDBIDs in artistDBartists.items():\n",
    "                print(\"      {0}\".format(artistDBartist))\n",
    "                for artistDBID in artistDBIDs:\n",
    "                    artistDBAlbumsFromID = self.mdb.getArtistAlbumsFromID(db, artistDBID)\n",
    "                    albums = [list(mediaTypeAlbums.values()) for mediaTypeAlbums in artistDBAlbumsFromID.values()]\n",
    "                    print(\"mdb.add(\\\"{0}\\\", \\\"{1}\\\", \\\"{2}\\\")\".format(unknownArtist, db, artistDBID))\n",
    "                    print(\"         {0: <45}\\t{1}\".format(artistDBID, getFlatList(albums)))\n",
    "                    \n",
    "\n",
    "                    \n",
    "    def getArtistDBMatchLists(self, dbartist):\n",
    "        dbArtistData   = self.mdb.getArtistData(dbartist)\n",
    "        retval = {\"Matched\": [], \"Unmatched\": []}\n",
    "        albumTypesData = {k: [] for k in [1,2,3,4]}\n",
    "        for db,dbIDdata in dbArtistData.items():\n",
    "            try:\n",
    "                dbID = dbIDdata[\"ID\"]\n",
    "                retval[\"Matched\"].append(db)\n",
    "            except:\n",
    "                retval[\"Unmatched\"].append(db)\n",
    "        return retval\n",
    "    \n",
    "                    \n",
    "    def getMatchedArtistAlbumsFromDB(self, dbartist, merge=True):\n",
    "        dbArtistData   = self.mdb.getArtistData(dbartist)\n",
    "        dbsToSearch    = self.getArtistDBMatchLists(dbartist)\n",
    "        albumTypesData = {k: [] for k in [1,2,3,4]}\n",
    "        for db in dbsToSearch[\"Matched\"]:\n",
    "            dbIDdata = dbArtistData[db]\n",
    "            try:\n",
    "                dbID = dbIDdata[\"ID\"]\n",
    "            except:\n",
    "                raise ValueError(\"This db {0} should already be known for {1}\".format(db, dbartist))\n",
    "\n",
    "            dbAlbumsData = self.mdb.getArtistAlbumsFromID(db, dbID)\n",
    "\n",
    "            for albumType in albumTypesData.keys():\n",
    "                for mediaType, mediaTypeAlbums in dbAlbumsData.items():\n",
    "                    if mediaType not in self.mdb.getDBAlbumTypeNames(db, albumType):\n",
    "                        continue                \n",
    "                    #print(db,albumType,mediaType,mediaTypeAlbums)\n",
    "                    albumTypesData[albumType] += list(mediaTypeAlbums.values())\n",
    "\n",
    "        albumTypesData = {k: list(set(v)) for k,v in albumTypesData.items()}\n",
    "\n",
    "        ############################\n",
    "        ## Merge Albums\n",
    "        ############################\n",
    "        if merge is True:\n",
    "            artistAlbums = getFlatList(albumTypesData.values())\n",
    "        else:\n",
    "            artistAlbums = albumTypesData\n",
    "\n",
    "        return artistAlbums\n",
    "\n",
    "            \n",
    "    def searchForMutualDBEntries(self, cutoff=0.8, maxAdds=50, start=None):\n",
    "        ######################################################################\n",
    "        #### Get Map of Artists and Unmatched Albums\n",
    "        ######################################################################\n",
    "        dbartists = self.mdb.getArtists()\n",
    "        cnts      = 0\n",
    "        print(\"Searching for mutual DB matches for {0} artists\".format(len(dbartists)))\n",
    "        for ia,dbartist in enumerate(dbartists):\n",
    "            if start is not None:\n",
    "                if ia < start:\n",
    "                    continue\n",
    "            if ia % 100 == 0:\n",
    "                print(\"## {0}/{1}\".format(ia,len(dbartists)))\n",
    "            if cnts >= maxAdds:\n",
    "                break\n",
    "            artistAlbums = self.getMatchedArtistAlbumsFromDB(dbartist, merge=True)\n",
    "            dbsToSearch  = self.getArtistDBMatchLists(dbartist)\n",
    "\n",
    "            usefulDBs          = ['Discogs', 'MusicBrainz', 'AllMusic', 'LastFM']\n",
    "            usefulDBsToSearch  = list(set(dbsToSearch[\"Unmatched\"]).intersection(set(usefulDBs)))\n",
    "\n",
    "\n",
    "            ########################################################\n",
    "            ## Loop Over Unmatched DBs\n",
    "            ########################################################\n",
    "            for db in usefulDBsToSearch:\n",
    "                dbMatches = {}\n",
    "                artistDBartists = self.mdb.getArtistDBIDs(dbartist, db, num=10, cutoff=cutoff, debug=False)\n",
    "                \n",
    "                for artistDBartist,artistDBIDs in artistDBartists.items():\n",
    "                    #print('  ',db,'\\t',artistDBartist)\n",
    "                    for artistDBID in artistDBIDs:\n",
    "                        #print('    ',artistDBID)\n",
    "                        dbMatches[artistDBID] = {}\n",
    "                        artistDBAlbumsFromID = self.mdb.getArtistAlbumsFromID(db, artistDBID)\n",
    "\n",
    "                        albumTypesData = {k: [] for k in [1,2,3,4]}\n",
    "                        for albumType in albumTypesData.keys():\n",
    "                            for mediaType, mediaTypeAlbums in artistDBAlbumsFromID.items():\n",
    "                                if mediaType not in self.mdb.getDBAlbumTypeNames(db, albumType):\n",
    "                                    continue\n",
    "                                albumTypesData[albumType] += list(mediaTypeAlbums.values())\n",
    "\n",
    "                        albumTypesData = {k: list(set(v)) for k,v in albumTypesData.items()}\n",
    "                        dbArtistAlbums = getFlatList(albumTypesData.values())\n",
    "            \n",
    "\n",
    "                        ma = matchAlbums(cutoff=cutoff)\n",
    "                        ma.match(artistAlbums, dbArtistAlbums)\n",
    "                        #ma.show(debug=True)\n",
    "                        \n",
    "                        dbMatches[artistDBID] = ma\n",
    "                \n",
    "                if len(dbMatches) > 0:\n",
    "                    bestMatch = {\"ID\": None, \"Matches\": 0, \"Score\": 0.0}\n",
    "                    for artistDBID,ma in dbMatches.items():\n",
    "                        if ma.near == 0:\n",
    "                            continue\n",
    "                        if ma.near > bestMatch[\"Matches\"]:\n",
    "                            bestMatch = {\"ID\": artistDBID, \"Matches\": ma.near, \"Score\": ma.score}\n",
    "                        elif ma.near == bestMatch[\"Matches\"]:\n",
    "                            if ma.score > bestMatch[\"Score\"]:\n",
    "                                bestMatch = {\"ID\": artistDBID, \"Matches\": ma.near, \"Score\": ma.score}\n",
    "\n",
    "                    if bestMatch[\"ID\"] is not None:\n",
    "                        cnts += 1                 \n",
    "                        print(\"mdb.add(\\\"{0}\\\", \\\"{1}\\\", \\\"{2}\\\")\".format(dbartist, db, bestMatch[\"ID\"]))\n",
    "                        \n",
    "\n",
    "\n"
   ]
  },
  {
   "cell_type": "code",
   "execution_count": null,
   "metadata": {},
   "outputs": [],
   "source": [
    "%load_ext autoreload\n",
    "%autoreload\n",
    "mmm = matchMyMusic(mdb)"
   ]
  },
  {
   "cell_type": "code",
   "execution_count": null,
   "metadata": {},
   "outputs": [],
   "source": [
    "\n",
    "artistData"
   ]
  },
  {
   "cell_type": "code",
   "execution_count": null,
   "metadata": {},
   "outputs": [],
   "source": [
    "artistData     = mdb.getArtistData(\"Michael Jackson\")\n",
    "albumTypes     = [1,2,3,4]\n",
    "albumTypesData = {k: [] for k in albumTypes}\n",
    "fullAlbumTypesData = {k: {} for k in albumTypes}\n",
    "for db,dbArtistData in artistData.items():\n",
    "    try:\n",
    "        artistDBID = dbArtistData['ID']\n",
    "    except:\n",
    "        continue\n",
    "    artistDBAlbumsFromID = mdb.getArtistAlbumsFromID(db, artistDBID)\n",
    "\n",
    "    for albumType in albumTypes:\n",
    "        for mediaType, mediaTypeAlbums in artistDBAlbumsFromID.items():\n",
    "            if mediaType not in mdb.getDBAlbumTypeNames(db, albumType):\n",
    "                continue\n",
    "            albumTypesData[albumType] += list(mediaTypeAlbums.values())\n",
    "            if fullAlbumTypesData[albumType].get(\"{0}-{1}\".format(db,mediaType)) is None:\n",
    "                fullAlbumTypesData[albumType][\"{0}-{1}\".format(db,mediaType)] = list(mediaTypeAlbums.values())\n",
    "\n",
    "albumTypesData = {k: list(set(v)) for k,v in albumTypesData.items()}\n",
    "dbArtistAlbums = getFlatList(albumTypesData.values())"
   ]
  },
  {
   "cell_type": "code",
   "execution_count": null,
   "metadata": {},
   "outputs": [],
   "source": [
    "studio = {\"AllMusic\": [\"Albums\"], \"Discogs\": [\"Albums\"], \"MusicBrainz\": [\"Album\"], \"RateYourMusic\": [\"Album\"], \"RockCorner\": [\"Albums\"]}"
   ]
  },
  {
   "cell_type": "code",
   "execution_count": null,
   "metadata": {},
   "outputs": [],
   "source": [
    "albumsMap    = {}\n",
    "fullAlbumMap = Counter()\n",
    "\n",
    "dbmapping     = {}\n",
    "invdbmapping  = {}\n",
    "for db,mediaTypes in studio.items():\n",
    "    dbmapping[db]    = {}\n",
    "    invdbmapping[db] = {}\n",
    "\n",
    "    for mediaType in mediaTypes:\n",
    "        dbAlbums      = fullAlbumTypesData[1][\"{0}-{1}\".format(db,mediaType)]\n",
    "        for k in dbAlbums:\n",
    "            dbmapping[db][k.upper()] = k\n",
    "            dbmapping[db][k] = k.upper()\n",
    "            fullAlbumMap[k.upper()] += 1\n",
    "        \n",
    "#fullAlbumMap"
   ]
  },
  {
   "cell_type": "code",
   "execution_count": null,
   "metadata": {},
   "outputs": [],
   "source": [
    "core = set()\n",
    "noncore = set()\n",
    "nearest = {k: findNearest(k, list(fullAlbumMap.keys()), 2, 0.9) for k in fullAlbumMap.keys()}\n",
    "for k,v in nearest.items():\n",
    "    if len(v) == 2:\n",
    "        if fullAlbumMap[v[0]] > fullAlbumMap[v[1]]:\n",
    "            core.add(v[0])\n",
    "        elif fullAlbumMap[v[1]] > fullAlbumMap[v[0]]:\n",
    "            core.add(v[1])\n",
    "        else:\n",
    "            noncore.add(v[0])\n",
    "            noncore.add(v[1])\n",
    "            #print(k,v,[fullAlbumMap[v2] for v2 in v])\n",
    "    else:\n",
    "        if fullAlbumMap[k] > 1:\n",
    "            core.add(k)\n",
    "        else:\n",
    "            noncore.add(k)\n",
    "            #print(k,fullAlbumMap[k])"
   ]
  },
  {
   "cell_type": "code",
   "execution_count": null,
   "metadata": {},
   "outputs": [],
   "source": [
    "[core"
   ]
  },
  {
   "cell_type": "code",
   "execution_count": null,
   "metadata": {},
   "outputs": [],
   "source": [
    "noncore"
   ]
  },
  {
   "cell_type": "code",
   "execution_count": null,
   "metadata": {},
   "outputs": [],
   "source": [
    "fullAlbumTypesData[1]"
   ]
  },
  {
   "cell_type": "code",
   "execution_count": null,
   "metadata": {},
   "outputs": [],
   "source": []
  },
  {
   "cell_type": "code",
   "execution_count": null,
   "metadata": {},
   "outputs": [],
   "source": []
  },
  {
   "cell_type": "code",
   "execution_count": null,
   "metadata": {},
   "outputs": [],
   "source": [
    "## Basic stuff\n",
    "%load_ext autoreload\n",
    "%autoreload\n",
    "\n",
    "from musicBase import myMusicBase\n",
    "mmb = myMusicBase()\n",
    "mmb.findArtistAlbums()"
   ]
  },
  {
   "cell_type": "markdown",
   "metadata": {},
   "source": [
    "***\n",
    "***"
   ]
  },
  {
   "cell_type": "code",
   "execution_count": null,
   "metadata": {},
   "outputs": [],
   "source": [
    "DatPiffArtists = maindb.getDBData('DatPiff')['Disc'].getMasterSlimArtistDiscogsDB()['DiscArtist']"
   ]
  },
  {
   "cell_type": "code",
   "execution_count": null,
   "metadata": {},
   "outputs": [],
   "source": [
    "retval = {artist: mdb.getArtistDBIDs(db=\"DatPiff\", artistName=artist, cutoff=0.9) for artist in mmb.getArtists()}\n",
    "retval = {artist: v for artist, v in retval.items() if len(v) > 0}\n",
    "saveFile(idata=retval, ifile=\"datPiffMatch.yaml\")"
   ]
  },
  {
   "cell_type": "code",
   "execution_count": null,
   "metadata": {},
   "outputs": [],
   "source": [
    "matches = getFile(\"datPiffMatch.yaml\")\n",
    "for artist, match in matches.items():\n",
    "    values = list(match.values())\n",
    "    if values[0] is None:\n",
    "        print(artist)\n",
    "    if len(values[0]) != 1:\n",
    "        print(artist)\n",
    "    print(values[0][0])\n",
    "    mdb.add(artist, \"DatPiff\", str(values[0][0]))\n",
    "mdb.save()"
   ]
  },
  {
   "cell_type": "code",
   "execution_count": null,
   "metadata": {},
   "outputs": [],
   "source": [
    "mmm.matchUnknownArtist('Notorious B.I.G.')"
   ]
  },
  {
   "cell_type": "code",
   "execution_count": null,
   "metadata": {},
   "outputs": [],
   "source": []
  },
  {
   "cell_type": "markdown",
   "metadata": {},
   "source": [
    "# UnMatch Artist"
   ]
  },
  {
   "cell_type": "code",
   "execution_count": null,
   "metadata": {},
   "outputs": [],
   "source": [
    "\n",
    "def unMatchArtist(artistName):\n",
    "    from os.path import join\n",
    "    from fsUtils import removeDir, isFile, setFile, removeFile\n",
    "\n",
    "    for musicDir in getMatchedDirs():\n",
    "        dirval        = join(musicDir, getPrimeDirectory(artistName), artistName)\n",
    "        if not isDir(dirval):\n",
    "            continue\n",
    "            \n",
    "        matchedDir    = setDir(dirval, \"Match\")\n",
    "        mediaTypeDirs = findDirs(matchedDir)\n",
    "        for mediaTypeDir in mediaTypeDirs:\n",
    "            for matchDir in findDirs(mediaTypeDir):\n",
    "                albumName = getUnMatchedDirName(getDirBasics(matchDir)[-1], mediaTypeDir)\n",
    "\n",
    "                srcDir = matchDir\n",
    "                dstDir = setDir(dirval, albumName)\n",
    "                if isDir(dstDir):\n",
    "                    i = 0\n",
    "                    while not isDir(dstDir):\n",
    "                        dstDir = \"{0} [Fix-{1}]\".format(setDir(dirval, albumName), i)\n",
    "                        i += 1\n",
    "\n",
    "                moveDir(srcDir, dstDir, debug=True)\n",
    "\n",
    "            if isDir(mediaTypeDir):\n",
    "                DS_Store = setFile(mediaTypeDir, \".DS_Store\")\n",
    "                if isFile(DS_Store):\n",
    "                    removeFile(DS_Store, debug=True)\n",
    "                removeDir(mediaTypeDir, debug=True)\n",
    "\n",
    "        if isDir(matchedDir):\n",
    "            DS_Store = setFile(matchedDir, \".DS_Store\")\n",
    "            if isFile(DS_Store):\n",
    "                removeFile(DS_Store, debug=True)\n",
    "            removeDir(matchedDir, debug=True)\n",
    "            "
   ]
  },
  {
   "cell_type": "code",
   "execution_count": null,
   "metadata": {
    "scrolled": true
   },
   "outputs": [],
   "source": [
    "unMatchArtist(\"Sweet\")"
   ]
  },
  {
   "cell_type": "code",
   "execution_count": null,
   "metadata": {},
   "outputs": [],
   "source": [
    "######################################################################\n",
    "#### Loop Over Prime Directories\n",
    "######################################################################\n",
    "for primeDir in getPrimeDirectories():\n",
    "    artistPrimeDirMap = getArtistPrimeDirMap(primeDir)\n",
    "\n",
    "    ######################################################################\n",
    "    #### Loop Over Artist Name <-> Prime Map Items\n",
    "    ######################################################################\n",
    "    for artistName, artistPrimeDirs in artistPrimeDirMap.items():\n",
    "        unMatchArtist(artistName)\n"
   ]
  },
  {
   "cell_type": "markdown",
   "metadata": {},
   "source": [
    "***\n",
    "***"
   ]
  },
  {
   "cell_type": "markdown",
   "metadata": {},
   "source": [
    "# Merge DBs After Finding Matches"
   ]
  },
  {
   "cell_type": "code",
   "execution_count": null,
   "metadata": {},
   "outputs": [],
   "source": [
    "retval = searchForMutualDBEntries(mdb, minI=-1, cutoff=0.7, maxR=3000)"
   ]
  },
  {
   "cell_type": "code",
   "execution_count": null,
   "metadata": {},
   "outputs": [],
   "source": [
    "retval"
   ]
  },
  {
   "cell_type": "code",
   "execution_count": null,
   "metadata": {},
   "outputs": [],
   "source": [
    "if len(retval) > 0:\n",
    "    for artistName,artistResult in retval.items():\n",
    "        for db,dbResult in artistResult.items():\n",
    "            mdb.add(artistName, db, dbResult[\"ID\"])\n",
    "    mdb.save()"
   ]
  },
  {
   "cell_type": "code",
   "execution_count": null,
   "metadata": {},
   "outputs": [],
   "source": [
    "mdb.getArtistData(\"A-Mafia\")"
   ]
  },
  {
   "cell_type": "code",
   "execution_count": null,
   "metadata": {},
   "outputs": [],
   "source": []
  },
  {
   "cell_type": "code",
   "execution_count": null,
   "metadata": {},
   "outputs": [],
   "source": [
    "for unknownArtist in unknownArtists.keys():\n",
    "    print(unknownArtist)"
   ]
  },
  {
   "cell_type": "code",
   "execution_count": null,
   "metadata": {},
   "outputs": [],
   "source": [
    "db = \"AllMusic\"\n",
    "for unknownArtist in unknownArtists.keys():\n",
    "    artistNameDBIDs = mdb.getArtistDBIDs(unknownArtist, db, cutoff=0.99)\n",
    "    if len(artistNameDBIDs) == 1:\n",
    "        mdb.add(unknownArtist, db, artistNameDBIDs[unknownArtist][0])\n",
    "        #print(unknownArtist,'\\t',artistNameDBIDs)\n",
    "mdb.save()"
   ]
  },
  {
   "cell_type": "code",
   "execution_count": null,
   "metadata": {},
   "outputs": [],
   "source": [
    "artistName = \"Sweet\"\n",
    "db = \"AllMusic\""
   ]
  },
  {
   "cell_type": "code",
   "execution_count": null,
   "metadata": {},
   "outputs": [],
   "source": [
    "artistName = \"Sweet\"\n",
    "db = \"AllMusic\"\n",
    "unMatchedAlbums = mmb.getArtistAlbumsByArtist(artistName).getUnmatched()\n",
    "artistNameDBIDs = mdb.getArtistDBIDs(artistName, db)"
   ]
  },
  {
   "cell_type": "code",
   "execution_count": null,
   "metadata": {},
   "outputs": [],
   "source": []
  },
  {
   "cell_type": "code",
   "execution_count": null,
   "metadata": {},
   "outputs": [],
   "source": [
    "resultD = {\"ID\": None, \"Matches\": 0, \"Score\": 0.0, \"Best\": None}\n",
    "\n",
    "for artistName,artistDBIDs in artistNameDBIDs.items():\n",
    "    print(artistName,artistDBIDs)\n",
    "    for dbArtistID in artistDBIDs:\n",
    "        print('\\t',dbArtistID)\n",
    "        dbArtistIDAlbums = mdb.getArtistAlbumsFromID(db, dbArtistID, flatten=True)\n",
    "        print(\"\\t\\t\",dbArtistIDAlbums)\n",
    "\n",
    "        \n",
    "        ### Match Albums (if possible)\n",
    "        ma = matchAlbums()\n",
    "        ma.match(unMatchedAlbums, dbArtistIDAlbums)\n",
    "        if debug:\n",
    "            print(\"\\t\\t{0: <45}{1}\\t{2}\\t{3}\\t{4}\".format(dbArtistID, len(dbArtistIDAlbums), ma.near, ma.score, ma.maxval))\n",
    "        if ma.near < resultD[\"Matches\"]:\n",
    "            continue\n",
    "        if ma.score < max([resultD[\"Score\"], cutoff]):\n",
    "            continue\n",
    "        resultD = {\"ID\": dbArtistID, \"Matches\": ma.near, \"Score\": ma.score, \"Best\": ma}\n",
    "        if debug:\n",
    "            print(\"\\t\\t{0: <45}{1}\\t{2}\\t{3}\\t{4} <-- Match\".format(dbArtistID, len(artistAlbums), ma.near, ma.score, ma.maxval))\n",
    "\n",
    "\n",
    "\n"
   ]
  },
  {
   "cell_type": "code",
   "execution_count": null,
   "metadata": {},
   "outputs": [],
   "source": [
    "from matchAlbums import matchAlbums\n",
    "\n",
    "def searchForArtistDBEntries(mdb, artistName):\n",
    "    mmb.getArtistAlbumsByArtist(\"Sweet\").getUnmatched()\n",
    "    albums = \n",
    "\n",
    "\n",
    "def searchForArtistAlbumsDBEntries(mdb, artistName, albums, dbsToMatch=None, cutoff=0.7, num=10, debug=False):\n",
    "    retval     = {}\n",
    "    \n",
    "\n",
    "    ######################################################################\n",
    "    #### Set Known Albums\n",
    "    ######################################################################\n",
    "    knownArtistAlbums = albums\n",
    "    \n",
    "    \n",
    "    ######################################################################\n",
    "    #### Loop Over Missing DBs\n",
    "    ######################################################################\n",
    "    if dbsToMatch is None:\n",
    "        dbsToMatch = mdb.getDBs()\n",
    "    for db in dbsToMatch:        \n",
    "        artistDBIDs = mdb.getArtistDBIDs(artistName, db, cutoff=cutoff, num=num, debug=num)\n",
    "        print(\"{0: <20}\".format(db), end=\"\\t\")\n",
    "        if \"Full\" in debug:\n",
    "            print(\"Found {0} possible artists in DB\".format(len(artistDBIDs)))\n",
    "        else:\n",
    "            print(\"\")\n",
    "        \n",
    "        \n",
    "        ######################################################################\n",
    "        #### Search For Matches in Possible IDs\n",
    "        ######################################################################\n",
    "        resultD = {\"ID\": None, \"Matches\": num, \"Score\": 0.0, \"Best\": None}\n",
    "        for dbArtistName, dbArtistIDs in artistDBIDs.items():\n",
    "            for dbArtistID in dbArtistIDs:\n",
    "                dbArtistIDAlbums = mdb.getArtistAlbumsFromID(db, dbArtistID, flatten=True)\n",
    "                                \n",
    "                ma = matchAlbums()\n",
    "                ma.match(knownArtistAlbums, dbArtistIDAlbums)\n",
    "                if \"ID\" in debug or \"Full\" in debug:\n",
    "                    print(\"\\t\\t{0: <45}{1}\\t{2}\\t{3}\\t{4}\".format(dbArtistID, len(dbArtistIDAlbums), ma.near, ma.score, ma.maxval))\n",
    "                if ma.near < resultD[\"Matches\"]:\n",
    "                    continue\n",
    "                if ma.score < max([resultD[\"Score\"], cutoff]):\n",
    "                    continue\n",
    "                resultD = {\"ID\": dbArtistID, \"Matches\": ma.near, \"Score\": ma.score, \"Best\": ma}\n",
    "                print(\"\\t\\t{0: <45}{1}\\t{2}\\t{3}\\t{4} <-- Match\".format(dbArtistID, len(artistAlbums), ma.near, ma.score, ma.maxval))\n",
    "\n",
    "                \n",
    "        if resultD[\"ID\"] is not None:\n",
    "            print(\"\\t\\t{0: <45}{1}\\t{2} <====================================== Best Match\".format(resultD[\"ID\"], resultD[\"Matches\"], resultD[\"Score\"]))\n",
    "            retval[db] = {'ID': resultD[\"ID\"], 'Name': None}\n",
    "            if \"Full\" in debug:\n",
    "                print(\"\\t\\t =====>\",retval[db])\n",
    "        else:\n",
    "            if \"Full\" in debug:\n",
    "                print(\"\\t\\t =====> No Match\")\n",
    "            retval[db] = None\n",
    "            \n",
    "    return retval\n",
    "\n",
    "\n",
    "\n",
    "def searchForMutualArtistDBEntries(mdb, artistName, num=2, cutoff=0.8, debug=[None]):\n",
    "    retval     = {}\n",
    "\n",
    "    \n",
    "    ######################################################################\n",
    "    #### Determine Albums To Match\n",
    "    ######################################################################\n",
    "    artistAlbums = []\n",
    "    dbsToMatch   = []\n",
    "    dbMatches    = mdb.getArtistDataIDs(artistName)\n",
    "    knownDBs     = []\n",
    "    for db,artistID in dbMatches.items():\n",
    "        if artistID is not None:\n",
    "            artistAlbums.append(mdb.getArtistAlbumsFromID(db, artistID, flatten=True))\n",
    "            knownDBs.append(db)\n",
    "        else:\n",
    "            dbsToMatch.append(db)\n",
    "    from listUtils import getFlatList\n",
    "    knownArtistAlbums   = list(set(getFlatList(artistAlbums)))\n",
    "    print(\"Searching for matches:  [{0}] using [{1}] albums collected from [{2}] dbs\".format(artistName, len(knownArtistAlbums), len(artistAlbums)))\n",
    "    print(\"  Will search for matches in these DBs: {0}\".format(dbsToMatch))\n",
    "    \n",
    "    \n",
    "    ######################################################################\n",
    "    #### Loop Over Missing DBs\n",
    "    ######################################################################\n",
    "    retval = searchForArtistAlbumsDBEntries(mdb, artistName, knownArtistAlbums, dbsToMatch, cutoff, num, debug)\n",
    "    return retval\n",
    "            \n",
    "            \n",
    "def searchForMutualDBEntries(mdb, num=2, cutoff=0.8, debug=[None], minI=-1, maxR=50):\n",
    "    retval = {}\n",
    "    nR = 0\n",
    "    \n",
    "    musicArtists = mdb.getArtists()\n",
    "    for i, artistName in enumerate(musicArtists):\n",
    "        if i <= minI:\n",
    "            continue\n",
    "        result = searchForMutualArtistDBEntries(mdb, artistName, num, cutoff, debug)\n",
    "        for db,dbval in result.items():\n",
    "            if dbval is not None:\n",
    "                if retval.get(artistName) is None:\n",
    "                    retval[artistName] = {}\n",
    "                retval[artistName][db] = dbval\n",
    "                nR += 1\n",
    "                \n",
    "        if nR > maxR:\n",
    "            break\n",
    "                \n",
    "    print(\"Found {0} new artist matches after looping over {1} artists\".format(len(retval), i))\n",
    "    return retval"
   ]
  },
  {
   "cell_type": "code",
   "execution_count": null,
   "metadata": {},
   "outputs": [],
   "source": []
  },
  {
   "cell_type": "code",
   "execution_count": null,
   "metadata": {},
   "outputs": [],
   "source": []
  },
  {
   "cell_type": "code",
   "execution_count": null,
   "metadata": {},
   "outputs": [],
   "source": []
  },
  {
   "cell_type": "code",
   "execution_count": null,
   "metadata": {},
   "outputs": [],
   "source": []
  },
  {
   "cell_type": "code",
   "execution_count": null,
   "metadata": {},
   "outputs": [],
   "source": []
  },
  {
   "cell_type": "code",
   "execution_count": null,
   "metadata": {},
   "outputs": [],
   "source": [
    "import matplotlib.pyplot as plt\n",
    "from scipy.optimize import curve_fit\n",
    "import numpy as np\n",
    "from random import random\n",
    "\n",
    "def r(size=0.1):\n",
    "    val = size*(random() - 0.5)\n",
    "    return val\n",
    "\n",
    "def func(x, a, b):\n",
    "    return (a + b*np.sin(np.pi*x/24.0))"
   ]
  },
  {
   "cell_type": "code",
   "execution_count": null,
   "metadata": {},
   "outputs": [],
   "source": [
    "days = 7"
   ]
  },
  {
   "cell_type": "code",
   "execution_count": null,
   "metadata": {},
   "outputs": [],
   "source": [
    "x = np.linspace(0,24*days,250*days)\n",
    "y = [func(t, a=1.0, b=2.0) for t in x]\n",
    "ygen = y + 0.2 * np.random.normal(size=x.size)"
   ]
  },
  {
   "cell_type": "code",
   "execution_count": null,
   "metadata": {},
   "outputs": [],
   "source": []
  },
  {
   "cell_type": "code",
   "execution_count": null,
   "metadata": {},
   "outputs": [],
   "source": [
    "xdata = x\n",
    "ydata = ygen\n",
    "popt, pcov = curve_fit(func, xdata, ydata)\n",
    "popt"
   ]
  },
  {
   "cell_type": "code",
   "execution_count": null,
   "metadata": {},
   "outputs": [],
   "source": [
    "plt.plot(x,y, 'r--', label='truth')\n",
    "plt.plot(x,ygen, 'g--', label='data')\n",
    "plt.xlabel('Hour of Week')\n",
    "plt.ylabel('Energy Usage [arbitrary units]')\n",
    "plt.plot(xdata, func(xdata, *popt), 'b-', label='fit: a=%5.2f, b=%5.2f' % tuple(popt))\n",
    "plt.legend()\n",
    "plt.show()"
   ]
  },
  {
   "cell_type": "code",
   "execution_count": null,
   "metadata": {},
   "outputs": [],
   "source": []
  }
 ],
 "metadata": {
  "kernelspec": {
   "display_name": "Python 3",
   "language": "python",
   "name": "python3"
  },
  "language_info": {
   "codemirror_mode": {
    "name": "ipython",
    "version": 3
   },
   "file_extension": ".py",
   "mimetype": "text/x-python",
   "name": "python",
   "nbconvert_exporter": "python",
   "pygments_lexer": "ipython3",
   "version": "3.7.7"
  }
 },
 "nbformat": 4,
 "nbformat_minor": 2
}
