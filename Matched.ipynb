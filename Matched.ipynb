{
 "cells": [
  {
   "cell_type": "code",
   "execution_count": 11,
   "metadata": {},
   "outputs": [
    {
     "name": "stdout",
     "output_type": "stream",
     "text": [
      "The autoreload extension is already loaded. To reload it, use:\n",
      "  %reload_ext autoreload\n"
     ]
    },
    {
     "data": {
      "text/html": [
       "<style>.container { width:100% !important; }</style>"
      ],
      "text/plain": [
       "<IPython.core.display.HTML object>"
      ]
     },
     "metadata": {},
     "output_type": "display_data"
    },
    {
     "data": {
      "text/html": [
       "<style>div.output_area{max-height:10000px;overflow:scroll;}</style>"
      ],
      "text/plain": [
       "<IPython.core.display.HTML object>"
      ]
     },
     "metadata": {},
     "output_type": "display_data"
    },
    {
     "name": "stdout",
     "output_type": "stream",
     "text": [
      "Python: 3.7.7 (default, Mar 26 2020, 10:32:53) \n",
      "[Clang 4.0.1 (tags/RELEASE_401/final)]\n",
      "Notebook Last Run Initiated: 2020-06-27 20:13:12.951413\n"
     ]
    }
   ],
   "source": [
    "## Basic stuff\n",
    "%load_ext autoreload\n",
    "%autoreload\n",
    "from IPython.core.display import display, HTML\n",
    "display(HTML(\"<style>.container { width:100% !important; }</style>\"))\n",
    "display(HTML(\"\"\"<style>div.output_area{max-height:10000px;overflow:scroll;}</style>\"\"\"))\n",
    "\n",
    "\n",
    "################################################################################\n",
    "## General Stuff\n",
    "################################################################################\n",
    "from timeUtils import clock, elapsed\n",
    "from listUtils import getFlatList\n",
    "from time import sleep\n",
    "from pandas import DataFrame, Series\n",
    "from ioUtils import getFile, saveFile\n",
    "from searchUtils import findDirs, findNearest, findAll\n",
    "from fileUtils import getDirBasics, getBaseFilename\n",
    "from unicodedata import normalize\n",
    "from fsUtils import moveDir, setDir, mkDir, isDir, removeDir\n",
    "from pandasUtils import getRowDataByColValue, getRowData\n",
    "import operator\n",
    "from glob import glob\n",
    "from os.path import join\n",
    "from collections import Counter\n",
    "\n",
    "\n",
    "################################################################################\n",
    "## Mp3 Stuff\n",
    "################################################################################\n",
    "from mp3id import mp3ID\n",
    "\n",
    "\n",
    "################################################################################\n",
    "## Database Stuff\n",
    "################################################################################\n",
    "from discogsBase import discogs\n",
    "from mainDB import mainDB\n",
    "from multiArtist import multiartist\n",
    "from matchAlbums import matchAlbums\n",
    "from masterdb import masterdb\n",
    "\n",
    "\n",
    "################################################################################\n",
    "## Music Stuff\n",
    "################################################################################\n",
    "from musicUtils import *\n",
    "from myMusicDBMap import myMusicDBMap\n",
    "from musicBase import myMusicBase\n",
    "from matchMyMusic import matchMyMusic\n",
    "from matchMusicName import myMusicName\n",
    "from mergeDB import searchForMutualDBEntries, searchForMutualArtistDBEntries\n",
    "\n",
    "\n",
    "################################################################################\n",
    "## Pandas Stuff\n",
    "################################################################################\n",
    "import pandas as pd\n",
    "pd.set_option('display.max_rows', 500)\n",
    "pd.set_option('display.max_columns', 500)\n",
    "pd.set_option('display.width', 1000)\n",
    "\n",
    "\n",
    "## Python Version\n",
    "import sys\n",
    "print(\"Python: {0}\".format(sys.version))\n",
    "\n",
    "import datetime as dt\n",
    "start = dt.datetime.now()\n",
    "print(\"Notebook Last Run Initiated: \"+str(start))"
   ]
  },
  {
   "cell_type": "markdown",
   "metadata": {},
   "source": [
    "# My Music Database Map"
   ]
  },
  {
   "cell_type": "code",
   "execution_count": 12,
   "metadata": {},
   "outputs": [
    {
     "name": "stdout",
     "output_type": "stream",
     "text": [
      "=========================   discogs   =========================\n",
      "Summary Statistics For DB: Discogs\n",
      "    Using Known Artists: False\n",
      "    Found 738764 ID -> Name entries\n",
      "    Found 676601 Name -> ID entries\n",
      "    Found 0 Albums\n",
      "=========================   allmusic   =========================\n",
      "Summary Statistics For DB: AllMusic\n",
      "    Using Known Artists: False\n",
      "    Found 38931 ID -> Name entries\n",
      "    Found 36621 Name -> ID entries\n",
      "    Found 178191 Albums\n",
      "=========================   musicbrainz   =========================\n",
      "Summary Statistics For DB: MusicBrainz\n",
      "    Using Known Artists: False\n",
      "    Found 94738 ID -> Name entries\n",
      "    Found 80005 Name -> ID entries\n",
      "    Found 0 Albums\n",
      "=========================   acebootlegs   =========================\n",
      "Summary Statistics For DB: AceBootlegs\n",
      "    Using Known Artists: False\n",
      "    Found 341 ID -> Name entries\n",
      "    Found 341 Name -> ID entries\n",
      "    Found 2838 Albums\n",
      "=========================   rateyourmusic   =========================\n",
      "Summary Statistics For DB: RateYourMusic\n",
      "    Using Known Artists: False\n",
      "    Found 77 ID -> Name entries\n",
      "    Found 76 Name -> ID entries\n",
      "    Found 0 Albums\n",
      "=========================   lastfm   =========================\n",
      "Summary Statistics For DB: LastFM\n",
      "    Using Known Artists: False\n",
      "    Found 62480 ID -> Name entries\n",
      "    Found 62351 Name -> ID entries\n",
      "    Found 97539 Albums\n",
      "=========================   datpiff   =========================\n",
      "Summary Statistics For DB: DatPiff\n",
      "    Using Known Artists: False\n",
      "    Found 44209 ID -> Name entries\n",
      "    Found 44185 Name -> ID entries\n",
      "    Found 125386 Albums\n",
      "=========================   rockcorner   =========================\n",
      "Summary Statistics For DB: RockCorner\n",
      "    Using Known Artists: False\n",
      "    Found 1262 ID -> Name entries\n",
      "    Found 1262 Name -> ID entries\n",
      "    Found 14481 Albums\n",
      "=========================   cdandlp   =========================\n",
      "Summary Statistics For DB: CDandLP\n",
      "    Using Known Artists: False\n",
      "    Found 4977 ID -> Name entries\n",
      "    Found 4936 Name -> ID entries\n",
      "    Found 39600 Albums\n",
      "=========================   musicstack   =========================\n",
      "Summary Statistics For DB: MusicStack\n",
      "    Using Known Artists: False\n",
      "    Found 187 ID -> Name entries\n",
      "    Found 186 Name -> ID entries\n",
      "    Found 579 Albums\n",
      "=========================   metalstorm   =========================\n",
      "Summary Statistics For DB: MetalStorm\n",
      "    Using Known Artists: False\n",
      "    Found 11 ID -> Name entries\n",
      "    Found 11 Name -> ID entries\n",
      "    Found 43 Albums\n",
      "Current Time is Sat Jun 27, 2020 20:13:40 for Last Run\n"
     ]
    }
   ],
   "source": [
    "mdb = myMusicDBMap(debug=False)\n",
    "mdb.getFullDBData()\n",
    "#mdb.getKnownDBData()\n",
    "_, _ = clock(\"Last Run\")"
   ]
  },
  {
   "cell_type": "code",
   "execution_count": null,
   "metadata": {},
   "outputs": [],
   "source": [
    "maindb = mainDB(mdb=mdb, create=False, debug=True)\n",
    "#maindb.setDBFull() ## Do this to recreate everything\n",
    "#maindb.setDBKnown()"
   ]
  },
  {
   "cell_type": "markdown",
   "metadata": {},
   "source": [
    "# Find All My Music and What's Known/Unknown"
   ]
  },
  {
   "cell_type": "markdown",
   "metadata": {},
   "source": [
    "#### Find My Music"
   ]
  },
  {
   "cell_type": "code",
   "execution_count": 13,
   "metadata": {
    "scrolled": false
   },
   "outputs": [
    {
     "name": "stdout",
     "output_type": "stream",
     "text": [
      "The autoreload extension is already loaded. To reload it, use:\n",
      "  %reload_ext autoreload\n",
      "My Music Base: ['/Volumes/Piggy/Music/Matched']\n",
      "Current Time is Sat Jun 27, 2020 20:13:40 for Finding All Artist Albums\n",
      "Current Time is Sat Jun 27, 2020 20:14:54 for Done with Finding All Artist Albums\n",
      "Process [Done with Finding All Artist Albums] took 1.2 minutes.\n",
      "Current Time is Sat Jun 27, 2020 20:14:54 for Last Run\n"
     ]
    }
   ],
   "source": [
    "## Basic stuff\n",
    "%load_ext autoreload\n",
    "%autoreload\n",
    "\n",
    "from musicBase import myMusicBase\n",
    "mmb = myMusicBase(debug=False)\n",
    "mmb.findArtistAlbums()\n",
    "_, _ = clock(\"Last Run\")"
   ]
  },
  {
   "cell_type": "markdown",
   "metadata": {},
   "source": [
    "#### Get Artist Status and Find Unknowns"
   ]
  },
  {
   "cell_type": "code",
   "execution_count": 24,
   "metadata": {},
   "outputs": [
    {
     "name": "stdout",
     "output_type": "stream",
     "text": [
      "The autoreload extension is already loaded. To reload it, use:\n",
      "  %reload_ext autoreload\n",
      "My Music Base: ['/Volumes/Piggy/Music/Matched']\n",
      "Current Time is Sat Jun 27, 2020 20:21:17 for Matching All Music Artists\n",
      "Current Time is Sat Jun 27, 2020 20:21:18 for Done with Matching All Music Artists\n",
      "Process [Done with Matching All Music Artists] took 882.0 millseconds.\n",
      "Found 0 unknown artists\n",
      "Found 0 total artists\n"
     ]
    }
   ],
   "source": [
    "%load_ext autoreload\n",
    "%autoreload\n",
    "mmm = matchMyMusic(mdb)\n",
    "mmm.getArtistStatus()\n",
    "mmm.setMusicBase(mmb)\n",
    "unknownArtists = mmm.getUnknownArtists()"
   ]
  },
  {
   "cell_type": "markdown",
   "metadata": {},
   "source": [
    "#### If there are Unknown Artists Try To Find a Match"
   ]
  },
  {
   "cell_type": "code",
   "execution_count": 25,
   "metadata": {},
   "outputs": [],
   "source": [
    "mmm.matchUnknownArtists(ratioCut=0.85)"
   ]
  },
  {
   "cell_type": "code",
   "execution_count": 26,
   "metadata": {},
   "outputs": [],
   "source": [
    "#mmm.manuallyMatchUnknownArtist(\"Tavares\")"
   ]
  },
  {
   "cell_type": "markdown",
   "metadata": {},
   "source": [
    "# Try Matching Unmatched Albums"
   ]
  },
  {
   "cell_type": "code",
   "execution_count": 27,
   "metadata": {
    "scrolled": false
   },
   "outputs": [
    {
     "name": "stdout",
     "output_type": "stream",
     "text": [
      "============================================================================================================================================\n",
      "Current Time is Sat Jun 27, 2020 20:21:39 for Checking for Albums Matches Against Discogs DB\n",
      "Artist                                  Database       Album Name                                    --> Matched Album\n"
     ]
    },
    {
     "ename": "AttributeError",
     "evalue": "'dict' object has no attribute 'getNumUnmatched'",
     "output_type": "error",
     "traceback": [
      "\u001b[0;31m---------------------------------------------------------------------------\u001b[0m",
      "\u001b[0;31mAttributeError\u001b[0m                            Traceback (most recent call last)",
      "\u001b[0;32m<ipython-input-27-c5e824e89ed0>\u001b[0m in \u001b[0;36m<module>\u001b[0;34m\u001b[0m\n\u001b[1;32m      6\u001b[0m     \u001b[0;32mfor\u001b[0m \u001b[0malbumType\u001b[0m \u001b[0;32min\u001b[0m \u001b[0;34m[\u001b[0m\u001b[0;36m1\u001b[0m\u001b[0;34m]\u001b[0m\u001b[0;34m:\u001b[0m\u001b[0;34m\u001b[0m\u001b[0;34m\u001b[0m\u001b[0m\n\u001b[1;32m      7\u001b[0m         \u001b[0mprint\u001b[0m\u001b[0;34m(\u001b[0m\u001b[0;34m\"=\"\u001b[0m\u001b[0;34m*\u001b[0m\u001b[0;36m140\u001b[0m\u001b[0;34m)\u001b[0m\u001b[0;34m\u001b[0m\u001b[0;34m\u001b[0m\u001b[0m\n\u001b[0;32m----> 8\u001b[0;31m         \u001b[0mmmm\u001b[0m\u001b[0;34m.\u001b[0m\u001b[0mmatchMyMusicAlbums\u001b[0m\u001b[0;34m(\u001b[0m\u001b[0mdb\u001b[0m\u001b[0;34m=\u001b[0m\u001b[0mdb\u001b[0m\u001b[0;34m,\u001b[0m \u001b[0malbumType\u001b[0m\u001b[0;34m=\u001b[0m\u001b[0malbumType\u001b[0m\u001b[0;34m,\u001b[0m \u001b[0mratioCut\u001b[0m\u001b[0;34m=\u001b[0m\u001b[0mrC\u001b[0m\u001b[0;34m,\u001b[0m \u001b[0mmaxCut\u001b[0m\u001b[0;34m=\u001b[0m\u001b[0mrC\u001b[0m\u001b[0;34m+\u001b[0m\u001b[0mdR\u001b[0m\u001b[0;34m)\u001b[0m\u001b[0;34m\u001b[0m\u001b[0;34m\u001b[0m\u001b[0m\n\u001b[0m\u001b[1;32m      9\u001b[0m         \u001b[0mprint\u001b[0m\u001b[0;34m(\u001b[0m\u001b[0;34m\"\\n\\n\"\u001b[0m\u001b[0;34m)\u001b[0m\u001b[0;34m\u001b[0m\u001b[0;34m\u001b[0m\u001b[0m\n",
      "\u001b[0;32m~/Documents/code/music/matchMyMusic.py\u001b[0m in \u001b[0;36mmatchMyMusicAlbums\u001b[0;34m(self, db, albumType, ratioCut, maxCut)\u001b[0m\n\u001b[1;32m    159\u001b[0m         \u001b[0;31m######################################################################\u001b[0m\u001b[0;34m\u001b[0m\u001b[0;34m\u001b[0m\u001b[0;34m\u001b[0m\u001b[0m\n\u001b[1;32m    160\u001b[0m         \u001b[0;32mfor\u001b[0m \u001b[0martistName\u001b[0m \u001b[0;32min\u001b[0m \u001b[0martistNames\u001b[0m\u001b[0;34m:\u001b[0m\u001b[0;34m\u001b[0m\u001b[0;34m\u001b[0m\u001b[0m\n\u001b[0;32m--> 161\u001b[0;31m             \u001b[0mmatchedAlbums\u001b[0m \u001b[0;34m=\u001b[0m \u001b[0mself\u001b[0m\u001b[0;34m.\u001b[0m\u001b[0mmatchMyMusicAlbumsByArtist\u001b[0m\u001b[0;34m(\u001b[0m\u001b[0mdb\u001b[0m\u001b[0;34m,\u001b[0m \u001b[0martistName\u001b[0m\u001b[0;34m,\u001b[0m \u001b[0malbumType\u001b[0m\u001b[0;34m,\u001b[0m \u001b[0mratioCut\u001b[0m\u001b[0;34m,\u001b[0m \u001b[0mmaxCut\u001b[0m\u001b[0;34m)\u001b[0m\u001b[0;34m\u001b[0m\u001b[0;34m\u001b[0m\u001b[0m\n\u001b[0m\u001b[1;32m    162\u001b[0m             \u001b[0;32mif\u001b[0m \u001b[0mlen\u001b[0m\u001b[0;34m(\u001b[0m\u001b[0mmatchedAlbums\u001b[0m\u001b[0;34m)\u001b[0m \u001b[0;34m>\u001b[0m \u001b[0;36m0\u001b[0m\u001b[0;34m:\u001b[0m\u001b[0;34m\u001b[0m\u001b[0;34m\u001b[0m\u001b[0m\n\u001b[1;32m    163\u001b[0m                 \u001b[0;32mif\u001b[0m \u001b[0mself\u001b[0m\u001b[0;34m.\u001b[0m\u001b[0mmatchedAlbums\u001b[0m\u001b[0;34m.\u001b[0m\u001b[0mget\u001b[0m\u001b[0;34m(\u001b[0m\u001b[0mdb\u001b[0m\u001b[0;34m)\u001b[0m \u001b[0;32mis\u001b[0m \u001b[0;32mNone\u001b[0m\u001b[0;34m:\u001b[0m\u001b[0;34m\u001b[0m\u001b[0;34m\u001b[0m\u001b[0m\n",
      "\u001b[0;32m~/Documents/code/music/matchMyMusic.py\u001b[0m in \u001b[0;36mmatchMyMusicAlbumsByArtist\u001b[0;34m(self, db, artistName, albumType, ratioCut, maxCut)\u001b[0m\n\u001b[1;32m     78\u001b[0m         \u001b[0martistAlbumsData\u001b[0m \u001b[0;34m=\u001b[0m \u001b[0mself\u001b[0m\u001b[0;34m.\u001b[0m\u001b[0mmmb\u001b[0m\u001b[0;34m.\u001b[0m\u001b[0mgetArtistAlbumsByArtist\u001b[0m\u001b[0;34m(\u001b[0m\u001b[0martistName\u001b[0m\u001b[0;34m)\u001b[0m\u001b[0;34m\u001b[0m\u001b[0;34m\u001b[0m\u001b[0m\n\u001b[1;32m     79\u001b[0m \u001b[0;34m\u001b[0m\u001b[0m\n\u001b[0;32m---> 80\u001b[0;31m         \u001b[0;32mif\u001b[0m \u001b[0martistAlbumsData\u001b[0m\u001b[0;34m.\u001b[0m\u001b[0mgetNumUnmatched\u001b[0m\u001b[0;34m(\u001b[0m\u001b[0;34m)\u001b[0m \u001b[0;34m==\u001b[0m \u001b[0;36m0\u001b[0m\u001b[0;34m:\u001b[0m\u001b[0;34m\u001b[0m\u001b[0;34m\u001b[0m\u001b[0m\n\u001b[0m\u001b[1;32m     81\u001b[0m             \u001b[0;32mreturn\u001b[0m \u001b[0mmatchedAlbums\u001b[0m\u001b[0;34m\u001b[0m\u001b[0;34m\u001b[0m\u001b[0m\n\u001b[1;32m     82\u001b[0m \u001b[0;34m\u001b[0m\u001b[0m\n",
      "\u001b[0;31mAttributeError\u001b[0m: 'dict' object has no attribute 'getNumUnmatched'"
     ]
    }
   ],
   "source": [
    "dR = 0.1\n",
    "rC = 0.95\n",
    "\n",
    "for db in ['Discogs', 'AllMusic', 'MusicBrainz', 'AceBootlegs', 'RateYourMusic', 'LastFM', 'DatPiff', 'RockCorner', 'CDandLP', 'MusicStack', 'MetalStorm']:\n",
    "#for db in ['Discogs']: #, 'AllMusic', 'MusicBrainz']:\n",
    "    for albumType in [1]:\n",
    "        print(\"=\"*140)\n",
    "        mmm.matchMyMusicAlbums(db=db, albumType=albumType, ratioCut=rC, maxCut=rC+dR)\n",
    "        print(\"\\n\\n\")"
   ]
  },
  {
   "cell_type": "code",
   "execution_count": null,
   "metadata": {},
   "outputs": [],
   "source": [
    "mmn = mmm.mmn\n",
    "mmn.moveMyMatchedMusicAlbums(show=True)"
   ]
  },
  {
   "cell_type": "code",
   "execution_count": null,
   "metadata": {},
   "outputs": [],
   "source": [
    "mmn.moveMyMatchedMusicAlbums(show=False)"
   ]
  },
  {
   "cell_type": "markdown",
   "metadata": {},
   "source": [
    "***\n",
    "***"
   ]
  },
  {
   "cell_type": "markdown",
   "metadata": {},
   "source": [
    "# Match Albums From My Matched Artists"
   ]
  },
  {
   "cell_type": "code",
   "execution_count": null,
   "metadata": {},
   "outputs": [],
   "source": [
    "resultD = {\"ID\": None, \"Matches\": 0, \"Score\": 0.0, \"Best\": None}\n",
    "\n",
    "for artistName,artistDBIDs in artistNameDBIDs.items():\n",
    "    print(artistName,artistDBIDs)\n",
    "    for dbArtistID in artistDBIDs:\n",
    "        print('\\t',dbArtistID)\n",
    "        dbArtistIDAlbums = mdb.getArtistAlbumsFromID(db, dbArtistID, flatten=True)\n",
    "        print(\"\\t\\t\",dbArtistIDAlbums)\n",
    "\n",
    "        \n",
    "        ### Match Albums (if possible)\n",
    "        ma = matchAlbums()\n",
    "        ma.match(unMatchedAlbums, dbArtistIDAlbums)\n",
    "        if debug:\n",
    "            print(\"\\t\\t{0: <45}{1}\\t{2}\\t{3}\\t{4}\".format(dbArtistID, len(dbArtistIDAlbums), ma.near, ma.score, ma.maxval))\n",
    "        if ma.near < resultD[\"Matches\"]:\n",
    "            continue\n",
    "        if ma.score < max([resultD[\"Score\"], cutoff]):\n",
    "            continue\n",
    "        resultD = {\"ID\": dbArtistID, \"Matches\": ma.near, \"Score\": ma.score, \"Best\": ma}\n",
    "        if debug:\n",
    "            print(\"\\t\\t{0: <45}{1}\\t{2}\\t{3}\\t{4} <-- Match\".format(dbArtistID, len(artistAlbums), ma.near, ma.score, ma.maxval))\n",
    "\n",
    "\n"
   ]
  },
  {
   "cell_type": "code",
   "execution_count": null,
   "metadata": {
    "scrolled": true
   },
   "outputs": [],
   "source": [
    "dR = 0.1\n",
    "rC = 0.9\n",
    "\n",
    "mmm.matchMyMusicAlbums(db=\"AllMusic\", albumType=1, ratioCut=rC, maxCut=rC+dR)"
   ]
  },
  {
   "cell_type": "code",
   "execution_count": null,
   "metadata": {},
   "outputs": [],
   "source": [
    "mmm.moveMyMatchedMusicAlbums(show=False)"
   ]
  },
  {
   "cell_type": "code",
   "execution_count": null,
   "metadata": {},
   "outputs": [],
   "source": [
    "## Basic stuff\n",
    "%load_ext autoreload\n",
    "%autoreload\n",
    "\n",
    "from musicBase import myMusicBase\n",
    "mmb = myMusicBase()\n",
    "mmb.findArtistAlbums()"
   ]
  },
  {
   "cell_type": "markdown",
   "metadata": {},
   "source": [
    "***\n",
    "***"
   ]
  },
  {
   "cell_type": "markdown",
   "metadata": {},
   "source": [
    "# UnMatch Artist"
   ]
  },
  {
   "cell_type": "code",
   "execution_count": null,
   "metadata": {},
   "outputs": [],
   "source": [
    "\n",
    "def unMatchArtist(artistName):\n",
    "    from os.path import join\n",
    "    from fsUtils import removeDir, isFile, setFile, removeFile\n",
    "\n",
    "    for musicDir in getMatchedDirs():\n",
    "        dirval        = join(musicDir, getPrimeDirectory(artistName), artistName)\n",
    "        if not isDir(dirval):\n",
    "            continue\n",
    "            \n",
    "        matchedDir    = setDir(dirval, \"Match\")\n",
    "        mediaTypeDirs = findDirs(matchedDir)\n",
    "        for mediaTypeDir in mediaTypeDirs:\n",
    "            for matchDir in findDirs(mediaTypeDir):\n",
    "                albumName = getUnMatchedDirName(getDirBasics(matchDir)[-1], mediaTypeDir)\n",
    "\n",
    "                srcDir = matchDir\n",
    "                dstDir = setDir(dirval, albumName)\n",
    "                if isDir(dstDir):\n",
    "                    i = 0\n",
    "                    while not isDir(dstDir):\n",
    "                        dstDir = \"{0} [Fix-{1}]\".format(setDir(dirval, albumName), i)\n",
    "                        i += 1\n",
    "\n",
    "                moveDir(srcDir, dstDir, debug=True)\n",
    "\n",
    "            if isDir(mediaTypeDir):\n",
    "                DS_Store = setFile(mediaTypeDir, \".DS_Store\")\n",
    "                if isFile(DS_Store):\n",
    "                    removeFile(DS_Store, debug=True)\n",
    "                removeDir(mediaTypeDir, debug=True)\n",
    "\n",
    "        if isDir(matchedDir):\n",
    "            DS_Store = setFile(matchedDir, \".DS_Store\")\n",
    "            if isFile(DS_Store):\n",
    "                removeFile(DS_Store, debug=True)\n",
    "            removeDir(matchedDir, debug=True)\n",
    "            "
   ]
  },
  {
   "cell_type": "code",
   "execution_count": null,
   "metadata": {
    "scrolled": true
   },
   "outputs": [],
   "source": [
    "unMatchArtist(\"Sweet\")"
   ]
  },
  {
   "cell_type": "code",
   "execution_count": null,
   "metadata": {},
   "outputs": [],
   "source": [
    "######################################################################\n",
    "#### Loop Over Prime Directories\n",
    "######################################################################\n",
    "for primeDir in getPrimeDirectories():\n",
    "    artistPrimeDirMap = getArtistPrimeDirMap(primeDir)\n",
    "\n",
    "    ######################################################################\n",
    "    #### Loop Over Artist Name <-> Prime Map Items\n",
    "    ######################################################################\n",
    "    for artistName, artistPrimeDirs in artistPrimeDirMap.items():\n",
    "        unMatchArtist(artistName)\n"
   ]
  },
  {
   "cell_type": "markdown",
   "metadata": {},
   "source": [
    "***\n",
    "***"
   ]
  },
  {
   "cell_type": "markdown",
   "metadata": {},
   "source": [
    "# Merge DBs After Finding Matches"
   ]
  },
  {
   "cell_type": "code",
   "execution_count": null,
   "metadata": {},
   "outputs": [],
   "source": [
    "retval = searchForMutualDBEntries(mdb, minI=-1, cutoff=0.7, maxR=3000)"
   ]
  },
  {
   "cell_type": "code",
   "execution_count": null,
   "metadata": {},
   "outputs": [],
   "source": [
    "retval"
   ]
  },
  {
   "cell_type": "code",
   "execution_count": null,
   "metadata": {},
   "outputs": [],
   "source": [
    "if len(retval) > 0:\n",
    "    for artistName,artistResult in retval.items():\n",
    "        for db,dbResult in artistResult.items():\n",
    "            mdb.add(artistName, db, dbResult[\"ID\"])\n",
    "    mdb.save()"
   ]
  },
  {
   "cell_type": "code",
   "execution_count": null,
   "metadata": {},
   "outputs": [],
   "source": [
    "mdb.getArtistData(\"A-Mafia\")"
   ]
  },
  {
   "cell_type": "code",
   "execution_count": null,
   "metadata": {},
   "outputs": [],
   "source": []
  },
  {
   "cell_type": "code",
   "execution_count": null,
   "metadata": {},
   "outputs": [],
   "source": [
    "for unknownArtist in unknownArtists.keys():\n",
    "    print(unknownArtist)"
   ]
  },
  {
   "cell_type": "code",
   "execution_count": null,
   "metadata": {},
   "outputs": [],
   "source": [
    "db = \"AllMusic\"\n",
    "for unknownArtist in unknownArtists.keys():\n",
    "    artistNameDBIDs = mdb.getArtistDBIDs(unknownArtist, db, cutoff=0.99)\n",
    "    if len(artistNameDBIDs) == 1:\n",
    "        mdb.add(unknownArtist, db, artistNameDBIDs[unknownArtist][0])\n",
    "        #print(unknownArtist,'\\t',artistNameDBIDs)\n",
    "mdb.save()"
   ]
  },
  {
   "cell_type": "code",
   "execution_count": null,
   "metadata": {},
   "outputs": [],
   "source": [
    "artistName = \"Sweet\"\n",
    "db = \"AllMusic\""
   ]
  },
  {
   "cell_type": "code",
   "execution_count": null,
   "metadata": {},
   "outputs": [],
   "source": [
    "artistName = \"Sweet\"\n",
    "db = \"AllMusic\"\n",
    "unMatchedAlbums = mmb.getArtistAlbumsByArtist(artistName).getUnmatched()\n",
    "artistNameDBIDs = mdb.getArtistDBIDs(artistName, db)"
   ]
  },
  {
   "cell_type": "code",
   "execution_count": null,
   "metadata": {},
   "outputs": [],
   "source": []
  },
  {
   "cell_type": "code",
   "execution_count": null,
   "metadata": {},
   "outputs": [],
   "source": [
    "resultD = {\"ID\": None, \"Matches\": 0, \"Score\": 0.0, \"Best\": None}\n",
    "\n",
    "for artistName,artistDBIDs in artistNameDBIDs.items():\n",
    "    print(artistName,artistDBIDs)\n",
    "    for dbArtistID in artistDBIDs:\n",
    "        print('\\t',dbArtistID)\n",
    "        dbArtistIDAlbums = mdb.getArtistAlbumsFromID(db, dbArtistID, flatten=True)\n",
    "        print(\"\\t\\t\",dbArtistIDAlbums)\n",
    "\n",
    "        \n",
    "        ### Match Albums (if possible)\n",
    "        ma = matchAlbums()\n",
    "        ma.match(unMatchedAlbums, dbArtistIDAlbums)\n",
    "        if debug:\n",
    "            print(\"\\t\\t{0: <45}{1}\\t{2}\\t{3}\\t{4}\".format(dbArtistID, len(dbArtistIDAlbums), ma.near, ma.score, ma.maxval))\n",
    "        if ma.near < resultD[\"Matches\"]:\n",
    "            continue\n",
    "        if ma.score < max([resultD[\"Score\"], cutoff]):\n",
    "            continue\n",
    "        resultD = {\"ID\": dbArtistID, \"Matches\": ma.near, \"Score\": ma.score, \"Best\": ma}\n",
    "        if debug:\n",
    "            print(\"\\t\\t{0: <45}{1}\\t{2}\\t{3}\\t{4} <-- Match\".format(dbArtistID, len(artistAlbums), ma.near, ma.score, ma.maxval))\n",
    "\n",
    "\n",
    "\n"
   ]
  },
  {
   "cell_type": "code",
   "execution_count": null,
   "metadata": {},
   "outputs": [],
   "source": [
    "from matchAlbums import matchAlbums\n",
    "\n",
    "def searchForArtistDBEntries(mdb, artistName):\n",
    "    mmb.getArtistAlbumsByArtist(\"Sweet\").getUnmatched()\n",
    "    albums = \n",
    "\n",
    "\n",
    "def searchForArtistAlbumsDBEntries(mdb, artistName, albums, dbsToMatch=None, cutoff=0.7, num=10, debug=False):\n",
    "    retval     = {}\n",
    "    \n",
    "\n",
    "    ######################################################################\n",
    "    #### Set Known Albums\n",
    "    ######################################################################\n",
    "    knownArtistAlbums = albums\n",
    "    \n",
    "    \n",
    "    ######################################################################\n",
    "    #### Loop Over Missing DBs\n",
    "    ######################################################################\n",
    "    if dbsToMatch is None:\n",
    "        dbsToMatch = mdb.getDBs()\n",
    "    for db in dbsToMatch:        \n",
    "        artistDBIDs = mdb.getArtistDBIDs(artistName, db, cutoff=cutoff, num=num, debug=num)\n",
    "        print(\"{0: <20}\".format(db), end=\"\\t\")\n",
    "        if \"Full\" in debug:\n",
    "            print(\"Found {0} possible artists in DB\".format(len(artistDBIDs)))\n",
    "        else:\n",
    "            print(\"\")\n",
    "        \n",
    "        \n",
    "        ######################################################################\n",
    "        #### Search For Matches in Possible IDs\n",
    "        ######################################################################\n",
    "        resultD = {\"ID\": None, \"Matches\": num, \"Score\": 0.0, \"Best\": None}\n",
    "        for dbArtistName, dbArtistIDs in artistDBIDs.items():\n",
    "            for dbArtistID in dbArtistIDs:\n",
    "                dbArtistIDAlbums = mdb.getArtistAlbumsFromID(db, dbArtistID, flatten=True)\n",
    "                                \n",
    "                ma = matchAlbums()\n",
    "                ma.match(knownArtistAlbums, dbArtistIDAlbums)\n",
    "                if \"ID\" in debug or \"Full\" in debug:\n",
    "                    print(\"\\t\\t{0: <45}{1}\\t{2}\\t{3}\\t{4}\".format(dbArtistID, len(dbArtistIDAlbums), ma.near, ma.score, ma.maxval))\n",
    "                if ma.near < resultD[\"Matches\"]:\n",
    "                    continue\n",
    "                if ma.score < max([resultD[\"Score\"], cutoff]):\n",
    "                    continue\n",
    "                resultD = {\"ID\": dbArtistID, \"Matches\": ma.near, \"Score\": ma.score, \"Best\": ma}\n",
    "                print(\"\\t\\t{0: <45}{1}\\t{2}\\t{3}\\t{4} <-- Match\".format(dbArtistID, len(artistAlbums), ma.near, ma.score, ma.maxval))\n",
    "\n",
    "                \n",
    "        if resultD[\"ID\"] is not None:\n",
    "            print(\"\\t\\t{0: <45}{1}\\t{2} <====================================== Best Match\".format(resultD[\"ID\"], resultD[\"Matches\"], resultD[\"Score\"]))\n",
    "            retval[db] = {'ID': resultD[\"ID\"], 'Name': None}\n",
    "            if \"Full\" in debug:\n",
    "                print(\"\\t\\t =====>\",retval[db])\n",
    "        else:\n",
    "            if \"Full\" in debug:\n",
    "                print(\"\\t\\t =====> No Match\")\n",
    "            retval[db] = None\n",
    "            \n",
    "    return retval\n",
    "\n",
    "\n",
    "\n",
    "def searchForMutualArtistDBEntries(mdb, artistName, num=2, cutoff=0.8, debug=[None]):\n",
    "    retval     = {}\n",
    "\n",
    "    \n",
    "    ######################################################################\n",
    "    #### Determine Albums To Match\n",
    "    ######################################################################\n",
    "    artistAlbums = []\n",
    "    dbsToMatch   = []\n",
    "    dbMatches    = mdb.getArtistDataIDs(artistName)\n",
    "    knownDBs     = []\n",
    "    for db,artistID in dbMatches.items():\n",
    "        if artistID is not None:\n",
    "            artistAlbums.append(mdb.getArtistAlbumsFromID(db, artistID, flatten=True))\n",
    "            knownDBs.append(db)\n",
    "        else:\n",
    "            dbsToMatch.append(db)\n",
    "    from listUtils import getFlatList\n",
    "    knownArtistAlbums   = list(set(getFlatList(artistAlbums)))\n",
    "    print(\"Searching for matches:  [{0}] using [{1}] albums collected from [{2}] dbs\".format(artistName, len(knownArtistAlbums), len(artistAlbums)))\n",
    "    print(\"  Will search for matches in these DBs: {0}\".format(dbsToMatch))\n",
    "    \n",
    "    \n",
    "    ######################################################################\n",
    "    #### Loop Over Missing DBs\n",
    "    ######################################################################\n",
    "    retval = searchForArtistAlbumsDBEntries(mdb, artistName, knownArtistAlbums, dbsToMatch, cutoff, num, debug)\n",
    "    return retval\n",
    "            \n",
    "            \n",
    "def searchForMutualDBEntries(mdb, num=2, cutoff=0.8, debug=[None], minI=-1, maxR=50):\n",
    "    retval = {}\n",
    "    nR = 0\n",
    "    \n",
    "    musicArtists = mdb.getArtists()\n",
    "    for i, artistName in enumerate(musicArtists):\n",
    "        if i <= minI:\n",
    "            continue\n",
    "        result = searchForMutualArtistDBEntries(mdb, artistName, num, cutoff, debug)\n",
    "        for db,dbval in result.items():\n",
    "            if dbval is not None:\n",
    "                if retval.get(artistName) is None:\n",
    "                    retval[artistName] = {}\n",
    "                retval[artistName][db] = dbval\n",
    "                nR += 1\n",
    "                \n",
    "        if nR > maxR:\n",
    "            break\n",
    "                \n",
    "    print(\"Found {0} new artist matches after looping over {1} artists\".format(len(retval), i))\n",
    "    return retval"
   ]
  }
 ],
 "metadata": {
  "kernelspec": {
   "display_name": "Python 3",
   "language": "python",
   "name": "python3"
  },
  "language_info": {
   "codemirror_mode": {
    "name": "ipython",
    "version": 3
   },
   "file_extension": ".py",
   "mimetype": "text/x-python",
   "name": "python",
   "nbconvert_exporter": "python",
   "pygments_lexer": "ipython3",
   "version": "3.7.7"
  }
 },
 "nbformat": 4,
 "nbformat_minor": 2
}
