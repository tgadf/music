{
 "cells": [
  {
   "cell_type": "code",
   "execution_count": 3,
   "metadata": {},
   "outputs": [
    {
     "name": "stdout",
     "output_type": "stream",
     "text": [
      "The autoreload extension is already loaded. To reload it, use:\n",
      "  %reload_ext autoreload\n"
     ]
    },
    {
     "data": {
      "text/html": [
       "<style>.container { width:100% !important; }</style>"
      ],
      "text/plain": [
       "<IPython.core.display.HTML object>"
      ]
     },
     "metadata": {},
     "output_type": "display_data"
    },
    {
     "data": {
      "text/html": [
       "<style>div.output_area{max-height:10000px;overflow:scroll;}</style>"
      ],
      "text/plain": [
       "<IPython.core.display.HTML object>"
      ]
     },
     "metadata": {},
     "output_type": "display_data"
    },
    {
     "name": "stdout",
     "output_type": "stream",
     "text": [
      "Python: 3.7.3 (default, Mar 27 2019, 16:54:48) \n",
      "[Clang 4.0.1 (tags/RELEASE_401/final)]\n",
      "Notebook Last Run Initiated: 2020-06-16 14:34:37.304939\n"
     ]
    }
   ],
   "source": [
    "## Basic stuff\n",
    "%load_ext autoreload\n",
    "%autoreload\n",
    "from IPython.core.display import display, HTML\n",
    "display(HTML(\"<style>.container { width:100% !important; }</style>\"))\n",
    "display(HTML(\"\"\"<style>div.output_area{max-height:10000px;overflow:scroll;}</style>\"\"\"))\n",
    "\n",
    "\n",
    "################################################################################\n",
    "## General Stuff\n",
    "################################################################################\n",
    "from timeUtils import clock, elapsed\n",
    "from listUtils import getFlatList\n",
    "from time import sleep\n",
    "from pandas import DataFrame, Series\n",
    "from ioUtils import getFile, saveFile\n",
    "from searchUtils import findDirs, findNearest, findAll\n",
    "from fileUtils import getDirBasics, getBaseFilename\n",
    "from unicodedata import normalize\n",
    "from fsUtils import moveDir, setDir, mkDir, isDir, removeDir\n",
    "from pandasUtils import getRowDataByColValue, getRowData\n",
    "import operator\n",
    "from glob import glob\n",
    "from os.path import join\n",
    "from collections import Counter\n",
    "\n",
    "\n",
    "################################################################################\n",
    "## Mp3 Stuff\n",
    "################################################################################\n",
    "from mp3id import mp3ID\n",
    "\n",
    "\n",
    "################################################################################\n",
    "## Database Stuff\n",
    "################################################################################\n",
    "from discogsBase import discogs\n",
    "from mainDB import mainDB\n",
    "from multiArtist import multiartist\n",
    "from matchAlbums import matchAlbums\n",
    "from masterdb import masterdb\n",
    "\n",
    "\n",
    "################################################################################\n",
    "## Music Stuff\n",
    "################################################################################\n",
    "from musicUtils import *\n",
    "from myMusicDBMap import myMusicDBMap\n",
    "from musicBase import myMusicBase\n",
    "from matchMyMusic import matchMyMusic\n",
    "from matchMusicName import myMusicName\n",
    "from mergeDB import searchForMutualDBEntries, searchForMutualArtistDBEntries\n",
    "\n",
    "\n",
    "################################################################################\n",
    "## Pandas Stuff\n",
    "################################################################################\n",
    "import pandas as pd\n",
    "pd.set_option('display.max_rows', 500)\n",
    "pd.set_option('display.max_columns', 500)\n",
    "pd.set_option('display.width', 1000)\n",
    "\n",
    "\n",
    "## Python Version\n",
    "import sys\n",
    "print(\"Python: {0}\".format(sys.version))\n",
    "\n",
    "import datetime as dt\n",
    "start = dt.datetime.now()\n",
    "print(\"Notebook Last Run Initiated: \"+str(start))"
   ]
  },
  {
   "cell_type": "markdown",
   "metadata": {},
   "source": [
    "# My Music Database Map"
   ]
  },
  {
   "cell_type": "code",
   "execution_count": 4,
   "metadata": {},
   "outputs": [
    {
     "name": "stdout",
     "output_type": "stream",
     "text": [
      "Summary Statistics For DB: Discogs\n",
      "    Using Known Artists: True\n",
      "    Found 3909 ID -> Name entries\n",
      "    Found 3908 Name -> ID entries\n",
      "    Found 48662 Albums\n",
      "Summary Statistics For DB: AllMusic\n",
      "    Using Known Artists: True\n",
      "    Found 3839 ID -> Name entries\n",
      "    Found 3836 Name -> ID entries\n",
      "    Found 27759 Albums\n",
      "Summary Statistics For DB: MusicBrainz\n",
      "    Using Known Artists: True\n",
      "    Found 3573 ID -> Name entries\n",
      "    Found 3572 Name -> ID entries\n",
      "    Found 26401 Albums\n",
      "Summary Statistics For DB: AceBootlegs\n",
      "    Using Known Artists: True\n",
      "    Found 144 ID -> Name entries\n",
      "    Found 144 Name -> ID entries\n",
      "    Found 2000 Albums\n",
      "Summary Statistics For DB: RateYourMusic\n",
      "    Using Known Artists: True\n",
      "    Found 26 ID -> Name entries\n",
      "    Found 26 Name -> ID entries\n",
      "    Found 292 Albums\n",
      "Summary Statistics For DB: LastFM\n",
      "    Using Known Artists: True\n",
      "    Found 2577 ID -> Name entries\n",
      "    Found 2577 Name -> ID entries\n",
      "    Found 28447 Albums\n",
      "Summary Statistics For DB: DatPiff\n",
      "    Using Known Artists: True\n",
      "    Found 454 ID -> Name entries\n",
      "    Found 454 Name -> ID entries\n",
      "    Found 15444 Albums\n",
      "Summary Statistics For DB: RockCorner\n",
      "    Using Known Artists: True\n",
      "    Found 407 ID -> Name entries\n",
      "    Found 407 Name -> ID entries\n",
      "    Found 6694 Albums\n",
      "Summary Statistics For DB: CDandLP\n",
      "    Using Known Artists: True\n",
      "    Found 75 ID -> Name entries\n",
      "    Found 75 Name -> ID entries\n",
      "    Found 1716 Albums\n",
      "Summary Statistics For DB: MusicStack\n",
      "    Using Known Artists: True\n",
      "    Found 5 ID -> Name entries\n",
      "    Found 5 Name -> ID entries\n",
      "    Found 182 Albums\n",
      "Summary Statistics For DB: MetalStorm\n",
      "    Using Known Artists: True\n",
      "    Found 0 ID -> Name entries\n",
      "    Found 0 Name -> ID entries\n",
      "    Found 0 Albums\n",
      "Current Time is Tue Jun 16, 2020 14:34:41 for Last Run\n"
     ]
    }
   ],
   "source": [
    "mdb = myMusicDBMap(debug=False)\n",
    "#mdb.getFullDBData()\n",
    "mdb.getKnownDBData()\n",
    "_, _ = clock(\"Last Run\")"
   ]
  },
  {
   "cell_type": "markdown",
   "metadata": {},
   "source": [
    "# Find All My Music and What's Known/Unknown"
   ]
  },
  {
   "cell_type": "markdown",
   "metadata": {},
   "source": [
    "#### Find My Music"
   ]
  },
  {
   "cell_type": "code",
   "execution_count": 75,
   "metadata": {
    "scrolled": false
   },
   "outputs": [
    {
     "name": "stdout",
     "output_type": "stream",
     "text": [
      "The autoreload extension is already loaded. To reload it, use:\n",
      "  %reload_ext autoreload\n",
      "My Music Base: ['/Volumes/Piggy/Music/Matched']\n",
      "Current Time is Tue Jun 16, 2020 17:49:55 for Finding All Artist Albums\n",
      "Current Time is Tue Jun 16, 2020 17:50:37 for Done with Finding All Artist Albums\n",
      "Process [Done with Finding All Artist Albums] took 42 seconds.\n",
      "Current Time is Tue Jun 16, 2020 17:50:37 for Last Run\n"
     ]
    }
   ],
   "source": [
    "## Basic stuff\n",
    "%load_ext autoreload\n",
    "%autoreload\n",
    "\n",
    "from musicBase import myMusicBase\n",
    "mmb = myMusicBase(debug=False)\n",
    "mmb.findArtistAlbums()\n",
    "_, _ = clock(\"Last Run\")"
   ]
  },
  {
   "cell_type": "markdown",
   "metadata": {},
   "source": [
    "#### Get Artist Status and Find Unknowns"
   ]
  },
  {
   "cell_type": "code",
   "execution_count": 76,
   "metadata": {},
   "outputs": [
    {
     "name": "stdout",
     "output_type": "stream",
     "text": [
      "The autoreload extension is already loaded. To reload it, use:\n",
      "  %reload_ext autoreload\n",
      "My Music Base: ['/Volumes/Piggy/Music/Matched']\n",
      "Current Time is Tue Jun 16, 2020 17:50:37 for Matching All Music Artists\n",
      "Current Time is Tue Jun 16, 2020 17:50:38 for Done with Matching All Music Artists\n",
      "Process [Done with Matching All Music Artists] took 609.0 millseconds.\n",
      "Found 1 unknown artists\n",
      "Found 0 total artists\n"
     ]
    }
   ],
   "source": [
    "%load_ext autoreload\n",
    "%autoreload\n",
    "mmm = matchMyMusic(mdb)\n",
    "mmm.getArtistStatus()\n",
    "mmm.setMusicBase(mmb)\n",
    "unknownArtists = mmm.getUnknownArtists()"
   ]
  },
  {
   "cell_type": "code",
   "execution_count": 55,
   "metadata": {},
   "outputs": [
    {
     "data": {
      "text/plain": [
       "{'The Gimmme Caps': ['/Volumes/Piggy/Music/Matched/The/The Gimmme Caps']}"
      ]
     },
     "execution_count": 55,
     "metadata": {},
     "output_type": "execute_result"
    }
   ],
   "source": [
    "unknownArtists"
   ]
  },
  {
   "cell_type": "markdown",
   "metadata": {},
   "source": [
    "# Try Matching Unmatched Albums"
   ]
  },
  {
   "cell_type": "code",
   "execution_count": 78,
   "metadata": {
    "scrolled": false
   },
   "outputs": [
    {
     "name": "stdout",
     "output_type": "stream",
     "text": [
      "============================================================================================================================================\n",
      "Current Time is Tue Jun 16, 2020 17:51:43 for Checking for Albums Matches Against Discogs DB\n",
      "Artist                                  Database       Album Name                                    --> Matched Album\n",
      "Alejandro Sanz                          Discogs        Nuestro amor será leyenda (EP)               --> {'Name': 'Nuestro Amor Será Leyenda', 'Code': '9955278', 'MediaType': 'Singles & EPs'}\n",
      "Alejandro Sanz                          Discogs        Si tú me miras                               --> {'Name': 'Si Tu Me Miras', 'Code': '813500', 'MediaType': 'Singles & EPs'}\n",
      "Edith Piaf                              Discogs        The Best La Vie En Rose                       --> {'Name': 'La Vie En Rose', 'Code': '873136', 'MediaType': 'Singles & EPs'}\n",
      "Fatboy Slim                             Discogs        Song For Shelter - Ya Mama                    --> {'Name': 'Song For Shelter', 'Code': '1092551', 'MediaType': 'Singles & EPs'}\n",
      "Artist ID [7683209] is not found in Albums DB [Discogs]\n",
      "Johnny Cash                             Discogs        The Hits                                      --> {'Name': 'The Big Hits!', 'Code': '1246229', 'MediaType': 'Singles & EPs'}\n",
      "Lisa Stansfield                         Discogs        Live Together (Single)                        --> {'Name': 'Live Together (Remix)', 'Code': '14082640', 'MediaType': 'Singles & EPs'}\n",
      "Muse                                    Discogs        Hyper Music Box                               --> {'Name': 'Hyper Music', 'Code': '1363541', 'MediaType': 'Singles & EPs'}\n",
      "Artist ID [2559390] is not found in Albums DB [Discogs]\n",
      "Artist ID [3136110] is not found in Albums DB [Discogs]\n",
      "The Yardbirds                           Discogs        Yardbirds '68                                 --> {'Name': 'Yardbirds', 'Code': '1647417', 'MediaType': 'Singles & EPs'}\n",
      "Westlife                                Discogs        Tonight Miss You Night                        --> {'Name': 'Miss You Nights', 'Code': '532166', 'MediaType': 'Singles & EPs'}\n",
      "Current Time is Tue Jun 16, 2020 17:51:52 for Done with Checking for Albums Matches Against Discogs DB\n",
      "Process [Done with Checking for Albums Matches Against Discogs DB] took 8 seconds.\n",
      "Saving data to myMusicAlbumMatch.yaml\n",
      "Saved data to myMusicAlbumMatch.yaml\n",
      "  --> This file is 1.9kB.\n",
      "Found 1 music <-> discogs albums maps\n",
      "\n",
      "\n",
      "\n",
      "============================================================================================================================================\n",
      "Current Time is Tue Jun 16, 2020 17:51:52 for Checking for Albums Matches Against AllMusic DB\n",
      "Artist                                  Database       Album Name                                    --> Matched Album\n",
      "DJ Vadim                                AllMusic       Like The Wind (EP)                            --> {'Name': 'Like the Wind', 'Code': '0000777040', 'MediaType': 'Single/EP'}\n",
      "DJ Vadim                                AllMusic       That Lite (EP)                                --> {'Name': 'That Lite', 'Code': '0001333493', 'MediaType': 'Single/EP'}\n",
      "Herbie Hancock                          AllMusic       The Essential                                 --> {'Name': 'The Essence', 'Code': '0000531195', 'MediaType': 'Single/EP'}\n",
      "Nelly Furtado                           AllMusic       iTunes Live Session                           --> {'Name': 'Live Session', 'Code': '0001516603', 'MediaType': 'Single/EP'}\n",
      "Current Time is Tue Jun 16, 2020 17:51:55 for Done with Checking for Albums Matches Against AllMusic DB\n",
      "Process [Done with Checking for Albums Matches Against AllMusic DB] took 2 seconds.\n",
      "Saving data to myMusicAlbumMatch.yaml\n",
      "Saved data to myMusicAlbumMatch.yaml\n",
      "  --> This file is 812B.\n",
      "Found 1 music <-> discogs albums maps\n",
      "\n",
      "\n",
      "\n",
      "============================================================================================================================================\n",
      "Current Time is Tue Jun 16, 2020 17:51:55 for Checking for Albums Matches Against MusicBrainz DB\n",
      "Artist                                  Database       Album Name                                    --> Matched Album\n",
      "Tiesto                                  MusicBrainz    Who Wants To Be Alone (Remixes)               --> {'Name': 'Who Wants to Be Alone', 'Code': 256640201149401926696427104285008669069, 'MediaType': 'Single'}\n",
      "Current Time is Tue Jun 16, 2020 17:51:57 for Done with Checking for Albums Matches Against MusicBrainz DB\n",
      "Process [Done with Checking for Albums Matches Against MusicBrainz DB] took 2 seconds.\n",
      "Saving data to myMusicAlbumMatch.yaml\n",
      "Saved data to myMusicAlbumMatch.yaml\n",
      "  --> This file is 257B.\n",
      "Found 1 music <-> discogs albums maps\n",
      "\n",
      "\n",
      "\n",
      "============================================================================================================================================\n",
      "Current Time is Tue Jun 16, 2020 17:51:57 for Checking for Albums Matches Against AceBootlegs DB\n",
      "Artist                                  Database       Album Name                                    --> Matched Album\n",
      "Current Time is Tue Jun 16, 2020 17:51:57 for Done with Checking for Albums Matches Against AceBootlegs DB\n",
      "Process [Done with Checking for Albums Matches Against AceBootlegs DB] took 15.0 millseconds.\n",
      "Saving data to myMusicAlbumMatch.yaml\n",
      "Saved data to myMusicAlbumMatch.yaml\n",
      "  --> This file is 3B.\n",
      "Found 0 music <-> discogs albums maps\n",
      "\n",
      "\n",
      "\n",
      "============================================================================================================================================\n",
      "Current Time is Tue Jun 16, 2020 17:51:57 for Checking for Albums Matches Against RateYourMusic DB\n",
      "Artist                                  Database       Album Name                                    --> Matched Album\n",
      "Current Time is Tue Jun 16, 2020 17:51:57 for Done with Checking for Albums Matches Against RateYourMusic DB\n",
      "Process [Done with Checking for Albums Matches Against RateYourMusic DB] took 68.0 millseconds.\n",
      "Saving data to myMusicAlbumMatch.yaml\n",
      "Saved data to myMusicAlbumMatch.yaml\n",
      "  --> This file is 3B.\n",
      "Found 0 music <-> discogs albums maps\n",
      "\n",
      "\n",
      "\n",
      "============================================================================================================================================\n",
      "Current Time is Tue Jun 16, 2020 17:51:57 for Checking for Albums Matches Against LastFM DB\n",
      "Artist                                  Database       Album Name                                    --> Matched Album\n",
      "Current Time is Tue Jun 16, 2020 17:51:57 for Done with Checking for Albums Matches Against LastFM DB\n",
      "Process [Done with Checking for Albums Matches Against LastFM DB] took 27.0 millseconds.\n",
      "Saving data to myMusicAlbumMatch.yaml\n",
      "Saved data to myMusicAlbumMatch.yaml\n",
      "  --> This file is 3B.\n",
      "Found 0 music <-> discogs albums maps\n",
      "\n",
      "\n",
      "\n",
      "============================================================================================================================================\n",
      "Current Time is Tue Jun 16, 2020 17:51:57 for Checking for Albums Matches Against DatPiff DB\n",
      "Artist                                  Database       Album Name                                    --> Matched Album\n",
      "Current Time is Tue Jun 16, 2020 17:51:57 for Done with Checking for Albums Matches Against DatPiff DB\n",
      "Process [Done with Checking for Albums Matches Against DatPiff DB] took 19.0 millseconds.\n",
      "Saving data to myMusicAlbumMatch.yaml\n",
      "Saved data to myMusicAlbumMatch.yaml\n",
      "  --> This file is 3B.\n",
      "Found 0 music <-> discogs albums maps\n",
      "\n",
      "\n",
      "\n",
      "============================================================================================================================================\n",
      "Current Time is Tue Jun 16, 2020 17:51:57 for Checking for Albums Matches Against RockCorner DB\n",
      "Artist                                  Database       Album Name                                    --> Matched Album\n",
      "Goo Goo Dolls                           RockCorner     Greatest Hits Volume Two: B-sides & Rarities  --> {'Name': 'Hate This Place (Volume Two B-sides & Rarities)', 'Code': '390114116', 'MediaType': 'Songs'}\n",
      "Current Time is Tue Jun 16, 2020 17:51:59 for Done with Checking for Albums Matches Against RockCorner DB\n",
      "Process [Done with Checking for Albums Matches Against RockCorner DB] took 2 seconds.\n",
      "Saving data to myMusicAlbumMatch.yaml\n",
      "Saved data to myMusicAlbumMatch.yaml\n",
      "  --> This file is 282B.\n",
      "Found 1 music <-> discogs albums maps\n",
      "\n",
      "\n",
      "\n",
      "============================================================================================================================================\n",
      "Current Time is Tue Jun 16, 2020 17:51:59 for Checking for Albums Matches Against CDandLP DB\n",
      "Artist                                  Database       Album Name                                    --> Matched Album\n",
      "Current Time is Tue Jun 16, 2020 17:51:59 for Done with Checking for Albums Matches Against CDandLP DB\n",
      "Process [Done with Checking for Albums Matches Against CDandLP DB] took 12.0 millseconds.\n",
      "Saving data to myMusicAlbumMatch.yaml\n",
      "Saved data to myMusicAlbumMatch.yaml\n",
      "  --> This file is 3B.\n",
      "Found 0 music <-> discogs albums maps\n",
      "\n",
      "\n",
      "\n",
      "============================================================================================================================================\n",
      "Current Time is Tue Jun 16, 2020 17:51:59 for Checking for Albums Matches Against MusicStack DB\n",
      "Artist                                  Database       Album Name                                    --> Matched Album\n",
      "Current Time is Tue Jun 16, 2020 17:51:59 for Done with Checking for Albums Matches Against MusicStack DB\n",
      "Process [Done with Checking for Albums Matches Against MusicStack DB] took 10.0 millseconds.\n",
      "Saving data to myMusicAlbumMatch.yaml\n",
      "Saved data to myMusicAlbumMatch.yaml\n",
      "  --> This file is 3B.\n",
      "Found 0 music <-> discogs albums maps\n",
      "\n",
      "\n",
      "\n",
      "============================================================================================================================================\n",
      "Current Time is Tue Jun 16, 2020 17:51:59 for Checking for Albums Matches Against MetalStorm DB\n",
      "Artist                                  Database       Album Name                                    --> Matched Album\n",
      "Current Time is Tue Jun 16, 2020 17:51:59 for Done with Checking for Albums Matches Against MetalStorm DB\n",
      "Process [Done with Checking for Albums Matches Against MetalStorm DB] took 11.0 millseconds.\n",
      "Saving data to myMusicAlbumMatch.yaml\n",
      "Saved data to myMusicAlbumMatch.yaml\n",
      "  --> This file is 3B.\n",
      "Found 0 music <-> discogs albums maps\n",
      "\n",
      "\n",
      "\n"
     ]
    }
   ],
   "source": [
    "dR = 0.1\n",
    "rC = 0.75\n",
    "\n",
    "for db in ['Discogs', 'AllMusic', 'MusicBrainz', 'AceBootlegs', 'RateYourMusic', 'LastFM', 'DatPiff', 'RockCorner', 'CDandLP', 'MusicStack', 'MetalStorm']:\n",
    "#for db in ['Discogs']: #, 'AllMusic', 'MusicBrainz']:\n",
    "    for albumType in [3]:\n",
    "        print(\"=\"*140)\n",
    "        mmm.matchMyMusicAlbums(db=db, albumType=albumType, ratioCut=rC, maxCut=rC+dR)\n",
    "        print(\"\\n\\n\")"
   ]
  },
  {
   "cell_type": "code",
   "execution_count": 73,
   "metadata": {},
   "outputs": [
    {
     "name": "stdout",
     "output_type": "stream",
     "text": [
      "Found 1 music <-> discogs albums maps\n",
      "==> Aetherian\n",
      "\t/Volumes/Piggy/Music/Matched/A/Aetherian/Match/Singles & EPs\n",
      "\t\t[Drops of Light]\n",
      "\t\t[Drops Of Light :: [DC-9118496]]\n",
      "\t/Volumes/Piggy/Music/Matched/A/Aetherian/Match/Singles & EPs\n",
      "\t\t[Scar of Despair]\n",
      "\t\t[Scar Of Despair :: [DC-9118524]]\n",
      "\t/Volumes/Piggy/Music/Matched/A/Aetherian/Match/Singles & EPs\n",
      "\t\t[Tales of Our Times]\n",
      "\t\t[Tales Of Our Times :: [DC-1065955]]\n",
      "==> Certainly, Sir\n",
      "\t/Volumes/Piggy/Music/Matched/C/Certainly, Sir/Match/Singles & EPs\n",
      "\t\t[My Thing For You]\n",
      "\t\t[My Thing For You :: [DC-3046234]]\n",
      "==> Yazoo\n",
      "\t/Volumes/Piggy/Music/Matched/Y/Yazoo/Match/Singles & EPs\n",
      "\t\t[Situation]\n",
      "\t\t[Situation :: [DC-71388]]\n"
     ]
    }
   ],
   "source": [
    "mmn = mmm.mmn\n",
    "mmn.moveMyMatchedMusicAlbums(show=True)"
   ]
  },
  {
   "cell_type": "code",
   "execution_count": 74,
   "metadata": {},
   "outputs": [
    {
     "name": "stdout",
     "output_type": "stream",
     "text": [
      "Found 1 music <-> discogs albums maps\n",
      "==> Aetherian\n",
      "\tMoving /Volumes/Piggy/Music/Matched/A/Aetherian/Drops of Light  --->  /Volumes/Piggy/Music/Matched/A/Aetherian/Match/Singles & EPs/Drops Of Light :: [DC-9118496]\n",
      "Moving /Volumes/Piggy/Music/Matched/A/Aetherian/Drops of Light to /Volumes/Piggy/Music/Matched/A/Aetherian/Match/Singles & EPs/Drops Of Light :: [DC-9118496]\n",
      "\tMoving /Volumes/Piggy/Music/Matched/A/Aetherian/Scar of Despair  --->  /Volumes/Piggy/Music/Matched/A/Aetherian/Match/Singles & EPs/Scar Of Despair :: [DC-9118524]\n",
      "Moving /Volumes/Piggy/Music/Matched/A/Aetherian/Scar of Despair to /Volumes/Piggy/Music/Matched/A/Aetherian/Match/Singles & EPs/Scar Of Despair :: [DC-9118524]\n",
      "\tMoving /Volumes/Piggy/Music/Matched/A/Aetherian/Tales of Our Times  --->  /Volumes/Piggy/Music/Matched/A/Aetherian/Match/Singles & EPs/Tales Of Our Times :: [DC-1065955]\n",
      "Moving /Volumes/Piggy/Music/Matched/A/Aetherian/Tales of Our Times to /Volumes/Piggy/Music/Matched/A/Aetherian/Match/Singles & EPs/Tales Of Our Times :: [DC-1065955]\n",
      "==> Certainly, Sir\n",
      "\tMoving /Volumes/Piggy/Music/Matched/C/Certainly, Sir/My Thing For You  --->  /Volumes/Piggy/Music/Matched/C/Certainly, Sir/Match/Singles & EPs/My Thing For You :: [DC-3046234]\n",
      "Moving /Volumes/Piggy/Music/Matched/C/Certainly, Sir/My Thing For You to /Volumes/Piggy/Music/Matched/C/Certainly, Sir/Match/Singles & EPs/My Thing For You :: [DC-3046234]\n",
      "==> Yazoo\n",
      "\tMoving /Volumes/Piggy/Music/Matched/Y/Yazoo/Situation  --->  /Volumes/Piggy/Music/Matched/Y/Yazoo/Match/Singles & EPs/Situation :: [DC-71388]\n",
      "Moving /Volumes/Piggy/Music/Matched/Y/Yazoo/Situation to /Volumes/Piggy/Music/Matched/Y/Yazoo/Match/Singles & EPs/Situation :: [DC-71388]\n"
     ]
    }
   ],
   "source": [
    "mmn.moveMyMatchedMusicAlbums(show=False)"
   ]
  },
  {
   "cell_type": "code",
   "execution_count": null,
   "metadata": {},
   "outputs": [],
   "source": []
  },
  {
   "cell_type": "code",
   "execution_count": null,
   "metadata": {},
   "outputs": [],
   "source": []
  },
  {
   "cell_type": "code",
   "execution_count": null,
   "metadata": {},
   "outputs": [],
   "source": []
  },
  {
   "cell_type": "code",
   "execution_count": null,
   "metadata": {},
   "outputs": [],
   "source": [
    "class matchMusic:\n",
    "    def __init__(self, mdb, mmb, artistName, debug=[False]):\n",
    "        self.mdb   = mdb\n",
    "        self.mmb   = mmb\n",
    "        self.debug = debug\n",
    "        \n",
    "        self.artistName      = artistName\n",
    "        self.knownAlbums     = self.getUnmatchedAlbums(artistName)\n",
    "        \n",
    "        \n",
    "    def setKnownAlbums(self, albums):\n",
    "        self.knownAlbums = albums\n",
    "        \n",
    "        \n",
    "    def getUnmatchedAlbums(self, artistName):\n",
    "        artistData = \n",
    "        if artistData is not None:\n",
    "            return artistData.getUnmatched()\n",
    "        return []\n",
    "        \n",
    "    \n",
    "    def getDBMatches(self, db, cutoff=0.7, num=10, debug=False):\n",
    "        if albums is None:\n",
    "            knownArtistAlbums = self.getUnmatchedAlbums(artistName)\n",
    "        else:\n",
    "            knownArtistAlbums = albums\n",
    "        if debug:\n",
    "            print(\"Find DB Matches for artist {0} with {1} Albums\".format(artistName, len(knownArtistAlbums)))\n",
    "        artistDBIDs = self.mdb.getArtistDBIDs(artistName, db, cutoff=cutoff, num=num, debug=num)\n",
    "        if debug:\n",
    "            print(\"{0: <20}\".format(db), end=\"\\t\")\n",
    "            print(\"Found {0} possible artists in DB\".format(len(artistDBIDs)))\n",
    "\n",
    "\n",
    "        ######################################################################\n",
    "        #### Search For Matches in Possible IDs\n",
    "        ######################################################################\n",
    "        resultD = {\"ID\": None, \"Matches\": num, \"Score\": 0.0, \"Best\": None}\n",
    "        for dbArtistName, dbArtistIDs in artistDBIDs.items():\n",
    "            for dbArtistID in dbArtistIDs:\n",
    "                dbArtistIDAlbums = self.mdb.getArtistAlbumsFromID(db, dbArtistID, flatten=True)\n",
    "\n",
    "                ma = matchAlbums()\n",
    "                ma.match(knownArtistAlbums, dbArtistIDAlbums)\n",
    "                if debug:\n",
    "                    print(\"\\t\\t{0: <45}{1}\\t{2}\\t{3}\\t{4}\".format(dbArtistID, len(dbArtistIDAlbums), ma.near, ma.score, ma.maxval))\n",
    "                if ma.near < resultD[\"Matches\"]:\n",
    "                    continue\n",
    "                if ma.score < max([resultD[\"Score\"], cutoff]):\n",
    "                    continue\n",
    "                resultD = {\"ID\": dbArtistID, \"Matches\": ma.near, \"Score\": ma.score, \"Best\": ma}\n",
    "                if debug:\n",
    "                    print(\"\\t\\t{0: <45}{1}\\t{2}\\t{3}\\t{4} <-- Match\".format(dbArtistID, len(artistAlbums), ma.near, ma.score, ma.maxval))\n",
    "\n",
    "\n",
    "        if resultD[\"ID\"] is not None:\n",
    "            if debug:\n",
    "                print(\"\\t\\t{0: <45}{1}\\t{2} <====================================== Best Match\".format(resultD[\"ID\"], resultD[\"Matches\"], resultD[\"Score\"]))\n",
    "            retval[db] = {'ID': resultD[\"ID\"], 'Name': None}\n",
    "            if debug:\n",
    "                print(\"\\t\\t =====>\",retval[db])\n",
    "        else:\n",
    "            if debug:\n",
    "                print(\"\\t\\t =====> No Match\")\n",
    "            retval[db] = None"
   ]
  },
  {
   "cell_type": "code",
   "execution_count": null,
   "metadata": {},
   "outputs": [],
   "source": [
    "mm = matchMusic(mdb, mmb)\n",
    "mm.getDBMatches(\"AllMusic\", \"Sweet\")\n",
    "#mm.findArtistDBMatches(\"Sweet\")"
   ]
  },
  {
   "cell_type": "code",
   "execution_count": null,
   "metadata": {},
   "outputs": [],
   "source": [
    "from matchAlbums import matchAlbums\n",
    "\n",
    "def searchForArtistDBEntries(mdb, artistName):\n",
    "    mmb.getArtistAlbumsByArtist(\"Sweet\").getUnmatched()\n",
    "    albums = \n",
    "\n",
    "\n",
    "def searchForArtistAlbumsDBEntries(mdb, artistName, albums, dbsToMatch=None, cutoff=0.7, num=10, debug=False):\n",
    "    retval     = {}\n",
    "    \n",
    "\n",
    "    ######################################################################\n",
    "    #### Set Known Albums\n",
    "    ######################################################################\n",
    "    knownArtistAlbums = albums\n",
    "    \n",
    "    \n",
    "    ######################################################################\n",
    "    #### Loop Over Missing DBs\n",
    "    ######################################################################\n",
    "    if dbsToMatch is None:\n",
    "        dbsToMatch = mdb.getDBs()\n",
    "    for db in dbsToMatch:        \n",
    "        artistDBIDs = mdb.getArtistDBIDs(artistName, db, cutoff=cutoff, num=num, debug=num)\n",
    "        print(\"{0: <20}\".format(db), end=\"\\t\")\n",
    "        if \"Full\" in debug:\n",
    "            print(\"Found {0} possible artists in DB\".format(len(artistDBIDs)))\n",
    "        else:\n",
    "            print(\"\")\n",
    "        \n",
    "        \n",
    "        ######################################################################\n",
    "        #### Search For Matches in Possible IDs\n",
    "        ######################################################################\n",
    "        resultD = {\"ID\": None, \"Matches\": num, \"Score\": 0.0, \"Best\": None}\n",
    "        for dbArtistName, dbArtistIDs in artistDBIDs.items():\n",
    "            for dbArtistID in dbArtistIDs:\n",
    "                dbArtistIDAlbums = mdb.getArtistAlbumsFromID(db, dbArtistID, flatten=True)\n",
    "                                \n",
    "                ma = matchAlbums()\n",
    "                ma.match(knownArtistAlbums, dbArtistIDAlbums)\n",
    "                if \"ID\" in debug or \"Full\" in debug:\n",
    "                    print(\"\\t\\t{0: <45}{1}\\t{2}\\t{3}\\t{4}\".format(dbArtistID, len(dbArtistIDAlbums), ma.near, ma.score, ma.maxval))\n",
    "                if ma.near < resultD[\"Matches\"]:\n",
    "                    continue\n",
    "                if ma.score < max([resultD[\"Score\"], cutoff]):\n",
    "                    continue\n",
    "                resultD = {\"ID\": dbArtistID, \"Matches\": ma.near, \"Score\": ma.score, \"Best\": ma}\n",
    "                print(\"\\t\\t{0: <45}{1}\\t{2}\\t{3}\\t{4} <-- Match\".format(dbArtistID, len(artistAlbums), ma.near, ma.score, ma.maxval))\n",
    "\n",
    "                \n",
    "        if resultD[\"ID\"] is not None:\n",
    "            print(\"\\t\\t{0: <45}{1}\\t{2} <====================================== Best Match\".format(resultD[\"ID\"], resultD[\"Matches\"], resultD[\"Score\"]))\n",
    "            retval[db] = {'ID': resultD[\"ID\"], 'Name': None}\n",
    "            if \"Full\" in debug:\n",
    "                print(\"\\t\\t =====>\",retval[db])\n",
    "        else:\n",
    "            if \"Full\" in debug:\n",
    "                print(\"\\t\\t =====> No Match\")\n",
    "            retval[db] = None\n",
    "            \n",
    "    return retval\n",
    "\n",
    "\n",
    "\n",
    "def searchForMutualArtistDBEntries(mdb, artistName, num=2, cutoff=0.8, debug=[None]):\n",
    "    retval     = {}\n",
    "\n",
    "    \n",
    "    ######################################################################\n",
    "    #### Determine Albums To Match\n",
    "    ######################################################################\n",
    "    artistAlbums = []\n",
    "    dbsToMatch   = []\n",
    "    dbMatches    = mdb.getArtistDataIDs(artistName)\n",
    "    knownDBs     = []\n",
    "    for db,artistID in dbMatches.items():\n",
    "        if artistID is not None:\n",
    "            artistAlbums.append(mdb.getArtistAlbumsFromID(db, artistID, flatten=True))\n",
    "            knownDBs.append(db)\n",
    "        else:\n",
    "            dbsToMatch.append(db)\n",
    "    from listUtils import getFlatList\n",
    "    knownArtistAlbums   = list(set(getFlatList(artistAlbums)))\n",
    "    print(\"Searching for matches:  [{0}] using [{1}] albums collected from [{2}] dbs\".format(artistName, len(knownArtistAlbums), len(artistAlbums)))\n",
    "    print(\"  Will search for matches in these DBs: {0}\".format(dbsToMatch))\n",
    "    \n",
    "    \n",
    "    ######################################################################\n",
    "    #### Loop Over Missing DBs\n",
    "    ######################################################################\n",
    "    retval = searchForArtistAlbumsDBEntries(mdb, artistName, knownArtistAlbums, dbsToMatch, cutoff, num, debug)\n",
    "    return retval\n",
    "            \n",
    "            \n",
    "def searchForMutualDBEntries(mdb, num=2, cutoff=0.8, debug=[None], minI=-1, maxR=50):\n",
    "    retval = {}\n",
    "    nR = 0\n",
    "    \n",
    "    musicArtists = mdb.getArtists()\n",
    "    for i, artistName in enumerate(musicArtists):\n",
    "        if i <= minI:\n",
    "            continue\n",
    "        result = searchForMutualArtistDBEntries(mdb, artistName, num, cutoff, debug)\n",
    "        for db,dbval in result.items():\n",
    "            if dbval is not None:\n",
    "                if retval.get(artistName) is None:\n",
    "                    retval[artistName] = {}\n",
    "                retval[artistName][db] = dbval\n",
    "                nR += 1\n",
    "                \n",
    "        if nR > maxR:\n",
    "            break\n",
    "                \n",
    "    print(\"Found {0} new artist matches after looping over {1} artists\".format(len(retval), i))\n",
    "    return retval"
   ]
  },
  {
   "cell_type": "code",
   "execution_count": null,
   "metadata": {},
   "outputs": [],
   "source": [
    "for unknownArtist in unknownArtists.keys():\n",
    "    print(\"mdb.add(\\\"{0}\\\", \\\"{1}\\\", \\\"\\\")\".format(unknownArtist, db))"
   ]
  },
  {
   "cell_type": "code",
   "execution_count": null,
   "metadata": {
    "scrolled": false
   },
   "outputs": [],
   "source": [
    "db = \"AllMusic\"\n",
    "debug = True\n",
    "cutoff = 0.9\n",
    "for unknownArtist in unknownArtists.keys():\n",
    "    unMatchedAlbums = mmb.getArtistAlbumsByArtist(unknownArtist).getUnmatched()\n",
    "    artistNameDBIDs = mdb.getArtistDBIDs(unknownArtist, db)\n",
    "    print(\"\\n\\n\")\n",
    "    print(\"=\"*50)\n",
    "    print(\"=\"*50)\n",
    "    print(unknownArtist,'\\tMy Albums:',unMatchedAlbums)\n",
    "    print(\"\\n\")\n",
    "\n",
    "    \n",
    "    \n",
    "    resultD = {\"ID\": None, \"Matches\": 0, \"Score\": 0.0, \"Best\": None}\n",
    "\n",
    "    for artistName,artistDBIDs in artistNameDBIDs.items():\n",
    "        print(artistName,artistDBIDs)\n",
    "        for dbArtistID in artistDBIDs:\n",
    "            print('\\t',dbArtistID)\n",
    "            dbArtistIDAlbums = mdb.getArtistAlbumsFromID(db, dbArtistID, flatten=True)\n",
    "            print(\"\\t\\t\",dbArtistIDAlbums)\n",
    "\n",
    "\n",
    "            ### Match Albums (if possible)\n",
    "            ma = matchAlbums()\n",
    "            ma.match(unMatchedAlbums, dbArtistIDAlbums)\n",
    "            if debug:\n",
    "                print(\"\\t\\t{0: <45}{1}\\t{2}\\t{3}\\t{4}\".format(dbArtistID, len(dbArtistIDAlbums), ma.near, ma.score, ma.maxval))\n",
    "            continue\n",
    "            if ma.near < resultD[\"Matches\"]:\n",
    "                continue\n",
    "            if ma.score < max([resultD[\"Score\"], cutoff]):\n",
    "                continue\n",
    "            resultD = {\"ID\": dbArtistID, \"Matches\": ma.near, \"Score\": ma.score, \"Best\": ma}\n",
    "            if debug:\n",
    "                print(\"\\t\\t{0: <45}{1}\\t{2}\\t{3}\\t{4} <-- Match\".format(dbArtistID, len(artistAlbums), ma.near, ma.score, ma.maxval))\n",
    "\n",
    "\n"
   ]
  },
  {
   "cell_type": "code",
   "execution_count": null,
   "metadata": {},
   "outputs": [],
   "source": []
  },
  {
   "cell_type": "code",
   "execution_count": null,
   "metadata": {},
   "outputs": [],
   "source": [
    "mdb.add(\"Sweet\", \"Discogs\", '253929')\n",
    "mdb.add(\"Sweet\", \"AllMusic\", '0000536275')\n",
    "mdb.save()"
   ]
  },
  {
   "cell_type": "code",
   "execution_count": null,
   "metadata": {},
   "outputs": [],
   "source": [
    "mmb.getArtistAlbumsByArtist(\"Sweet\")"
   ]
  },
  {
   "cell_type": "markdown",
   "metadata": {},
   "source": [
    "***\n",
    "***"
   ]
  },
  {
   "cell_type": "markdown",
   "metadata": {},
   "source": [
    "# Match Albums From My Matched Artists"
   ]
  },
  {
   "cell_type": "code",
   "execution_count": null,
   "metadata": {},
   "outputs": [],
   "source": [
    "resultD = {\"ID\": None, \"Matches\": 0, \"Score\": 0.0, \"Best\": None}\n",
    "\n",
    "for artistName,artistDBIDs in artistNameDBIDs.items():\n",
    "    print(artistName,artistDBIDs)\n",
    "    for dbArtistID in artistDBIDs:\n",
    "        print('\\t',dbArtistID)\n",
    "        dbArtistIDAlbums = mdb.getArtistAlbumsFromID(db, dbArtistID, flatten=True)\n",
    "        print(\"\\t\\t\",dbArtistIDAlbums)\n",
    "\n",
    "        \n",
    "        ### Match Albums (if possible)\n",
    "        ma = matchAlbums()\n",
    "        ma.match(unMatchedAlbums, dbArtistIDAlbums)\n",
    "        if debug:\n",
    "            print(\"\\t\\t{0: <45}{1}\\t{2}\\t{3}\\t{4}\".format(dbArtistID, len(dbArtistIDAlbums), ma.near, ma.score, ma.maxval))\n",
    "        if ma.near < resultD[\"Matches\"]:\n",
    "            continue\n",
    "        if ma.score < max([resultD[\"Score\"], cutoff]):\n",
    "            continue\n",
    "        resultD = {\"ID\": dbArtistID, \"Matches\": ma.near, \"Score\": ma.score, \"Best\": ma}\n",
    "        if debug:\n",
    "            print(\"\\t\\t{0: <45}{1}\\t{2}\\t{3}\\t{4} <-- Match\".format(dbArtistID, len(artistAlbums), ma.near, ma.score, ma.maxval))\n",
    "\n",
    "\n"
   ]
  },
  {
   "cell_type": "code",
   "execution_count": null,
   "metadata": {
    "scrolled": true
   },
   "outputs": [],
   "source": [
    "dR = 0.1\n",
    "rC = 0.9\n",
    "\n",
    "mmm.matchMyMusicAlbums(db=\"AllMusic\", albumType=1, ratioCut=rC, maxCut=rC+dR)"
   ]
  },
  {
   "cell_type": "code",
   "execution_count": null,
   "metadata": {},
   "outputs": [],
   "source": [
    "mmm.moveMyMatchedMusicAlbums(show=False)"
   ]
  },
  {
   "cell_type": "code",
   "execution_count": null,
   "metadata": {},
   "outputs": [],
   "source": [
    "## Basic stuff\n",
    "%load_ext autoreload\n",
    "%autoreload\n",
    "\n",
    "from musicBase import myMusicBase\n",
    "mmb = myMusicBase()\n",
    "mmb.findArtistAlbums()"
   ]
  },
  {
   "cell_type": "markdown",
   "metadata": {},
   "source": [
    "***\n",
    "***"
   ]
  },
  {
   "cell_type": "markdown",
   "metadata": {},
   "source": [
    "# UnMatch Artist"
   ]
  },
  {
   "cell_type": "code",
   "execution_count": null,
   "metadata": {},
   "outputs": [],
   "source": [
    "\n",
    "def unMatchArtist(artistName):\n",
    "    from os.path import join\n",
    "    from fsUtils import removeDir, isFile, setFile, removeFile\n",
    "\n",
    "    for musicDir in getMatchedDirs():\n",
    "        dirval        = join(musicDir, getPrimeDirectory(artistName), artistName)\n",
    "        if not isDir(dirval):\n",
    "            continue\n",
    "            \n",
    "        matchedDir    = setDir(dirval, \"Match\")\n",
    "        mediaTypeDirs = findDirs(matchedDir)\n",
    "        for mediaTypeDir in mediaTypeDirs:\n",
    "            for matchDir in findDirs(mediaTypeDir):\n",
    "                albumName = getUnMatchedDirName(getDirBasics(matchDir)[-1], mediaTypeDir)\n",
    "\n",
    "                srcDir = matchDir\n",
    "                dstDir = setDir(dirval, albumName)\n",
    "                if isDir(dstDir):\n",
    "                    i = 0\n",
    "                    while not isDir(dstDir):\n",
    "                        dstDir = \"{0} [Fix-{1}]\".format(setDir(dirval, albumName), i)\n",
    "                        i += 1\n",
    "\n",
    "                moveDir(srcDir, dstDir, debug=True)\n",
    "\n",
    "            if isDir(mediaTypeDir):\n",
    "                DS_Store = setFile(mediaTypeDir, \".DS_Store\")\n",
    "                if isFile(DS_Store):\n",
    "                    removeFile(DS_Store, debug=True)\n",
    "                removeDir(mediaTypeDir, debug=True)\n",
    "\n",
    "        if isDir(matchedDir):\n",
    "            DS_Store = setFile(matchedDir, \".DS_Store\")\n",
    "            if isFile(DS_Store):\n",
    "                removeFile(DS_Store, debug=True)\n",
    "            removeDir(matchedDir, debug=True)\n",
    "            "
   ]
  },
  {
   "cell_type": "code",
   "execution_count": null,
   "metadata": {
    "scrolled": true
   },
   "outputs": [],
   "source": [
    "unMatchArtist(\"Sweet\")"
   ]
  },
  {
   "cell_type": "code",
   "execution_count": null,
   "metadata": {},
   "outputs": [],
   "source": [
    "######################################################################\n",
    "#### Loop Over Prime Directories\n",
    "######################################################################\n",
    "for primeDir in getPrimeDirectories():\n",
    "    artistPrimeDirMap = getArtistPrimeDirMap(primeDir)\n",
    "\n",
    "    ######################################################################\n",
    "    #### Loop Over Artist Name <-> Prime Map Items\n",
    "    ######################################################################\n",
    "    for artistName, artistPrimeDirs in artistPrimeDirMap.items():\n",
    "        unMatchArtist(artistName)\n"
   ]
  },
  {
   "cell_type": "markdown",
   "metadata": {},
   "source": [
    "***\n",
    "***"
   ]
  },
  {
   "cell_type": "markdown",
   "metadata": {},
   "source": [
    "# Merge DBs After Finding Matches"
   ]
  },
  {
   "cell_type": "code",
   "execution_count": null,
   "metadata": {},
   "outputs": [],
   "source": [
    "retval = searchForMutualDBEntries(mdb, minI=-1, cutoff=0.7, maxR=3000)"
   ]
  },
  {
   "cell_type": "code",
   "execution_count": null,
   "metadata": {},
   "outputs": [],
   "source": [
    "retval"
   ]
  },
  {
   "cell_type": "code",
   "execution_count": null,
   "metadata": {},
   "outputs": [],
   "source": [
    "if len(retval) > 0:\n",
    "    for artistName,artistResult in retval.items():\n",
    "        for db,dbResult in artistResult.items():\n",
    "            mdb.add(artistName, db, dbResult[\"ID\"])\n",
    "    mdb.save()"
   ]
  },
  {
   "cell_type": "code",
   "execution_count": null,
   "metadata": {},
   "outputs": [],
   "source": [
    "mdb.getArtistData(\"A-Mafia\")"
   ]
  },
  {
   "cell_type": "code",
   "execution_count": null,
   "metadata": {},
   "outputs": [],
   "source": []
  },
  {
   "cell_type": "code",
   "execution_count": null,
   "metadata": {},
   "outputs": [],
   "source": [
    "for unknownArtist in unknownArtists.keys():\n",
    "    print(unknownArtist)"
   ]
  },
  {
   "cell_type": "code",
   "execution_count": null,
   "metadata": {},
   "outputs": [],
   "source": [
    "db = \"AllMusic\"\n",
    "for unknownArtist in unknownArtists.keys():\n",
    "    artistNameDBIDs = mdb.getArtistDBIDs(unknownArtist, db, cutoff=0.99)\n",
    "    if len(artistNameDBIDs) == 1:\n",
    "        mdb.add(unknownArtist, db, artistNameDBIDs[unknownArtist][0])\n",
    "        #print(unknownArtist,'\\t',artistNameDBIDs)\n",
    "mdb.save()"
   ]
  },
  {
   "cell_type": "code",
   "execution_count": null,
   "metadata": {},
   "outputs": [],
   "source": [
    "artistName = \"Sweet\"\n",
    "db = \"AllMusic\""
   ]
  },
  {
   "cell_type": "code",
   "execution_count": null,
   "metadata": {},
   "outputs": [],
   "source": [
    "artistName = \"Sweet\"\n",
    "db = \"AllMusic\"\n",
    "unMatchedAlbums = mmb.getArtistAlbumsByArtist(artistName).getUnmatched()\n",
    "artistNameDBIDs = mdb.getArtistDBIDs(artistName, db)"
   ]
  },
  {
   "cell_type": "code",
   "execution_count": null,
   "metadata": {},
   "outputs": [],
   "source": []
  },
  {
   "cell_type": "code",
   "execution_count": null,
   "metadata": {},
   "outputs": [],
   "source": [
    "resultD = {\"ID\": None, \"Matches\": 0, \"Score\": 0.0, \"Best\": None}\n",
    "\n",
    "for artistName,artistDBIDs in artistNameDBIDs.items():\n",
    "    print(artistName,artistDBIDs)\n",
    "    for dbArtistID in artistDBIDs:\n",
    "        print('\\t',dbArtistID)\n",
    "        dbArtistIDAlbums = mdb.getArtistAlbumsFromID(db, dbArtistID, flatten=True)\n",
    "        print(\"\\t\\t\",dbArtistIDAlbums)\n",
    "\n",
    "        \n",
    "        ### Match Albums (if possible)\n",
    "        ma = matchAlbums()\n",
    "        ma.match(unMatchedAlbums, dbArtistIDAlbums)\n",
    "        if debug:\n",
    "            print(\"\\t\\t{0: <45}{1}\\t{2}\\t{3}\\t{4}\".format(dbArtistID, len(dbArtistIDAlbums), ma.near, ma.score, ma.maxval))\n",
    "        if ma.near < resultD[\"Matches\"]:\n",
    "            continue\n",
    "        if ma.score < max([resultD[\"Score\"], cutoff]):\n",
    "            continue\n",
    "        resultD = {\"ID\": dbArtistID, \"Matches\": ma.near, \"Score\": ma.score, \"Best\": ma}\n",
    "        if debug:\n",
    "            print(\"\\t\\t{0: <45}{1}\\t{2}\\t{3}\\t{4} <-- Match\".format(dbArtistID, len(artistAlbums), ma.near, ma.score, ma.maxval))\n",
    "\n",
    "\n",
    "\n"
   ]
  }
 ],
 "metadata": {
  "kernelspec": {
   "display_name": "Python 3",
   "language": "python",
   "name": "python3"
  },
  "language_info": {
   "codemirror_mode": {
    "name": "ipython",
    "version": 3
   },
   "file_extension": ".py",
   "mimetype": "text/x-python",
   "name": "python",
   "nbconvert_exporter": "python",
   "pygments_lexer": "ipython3",
   "version": "3.7.3"
  }
 },
 "nbformat": 4,
 "nbformat_minor": 2
}
