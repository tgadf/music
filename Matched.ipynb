{
 "cells": [
  {
   "cell_type": "code",
   "execution_count": 87,
   "metadata": {},
   "outputs": [
    {
     "name": "stdout",
     "output_type": "stream",
     "text": [
      "The autoreload extension is already loaded. To reload it, use:\n",
      "  %reload_ext autoreload\n"
     ]
    },
    {
     "data": {
      "text/html": [
       "<style>.container { width:100% !important; }</style>"
      ],
      "text/plain": [
       "<IPython.core.display.HTML object>"
      ]
     },
     "metadata": {},
     "output_type": "display_data"
    },
    {
     "data": {
      "text/html": [
       "<style>div.output_area{max-height:10000px;overflow:scroll;}</style>"
      ],
      "text/plain": [
       "<IPython.core.display.HTML object>"
      ]
     },
     "metadata": {},
     "output_type": "display_data"
    },
    {
     "name": "stdout",
     "output_type": "stream",
     "text": [
      "Python: 3.7.3 (default, Mar 27 2019, 16:54:48) \n",
      "[Clang 4.0.1 (tags/RELEASE_401/final)]\n",
      "Notebook Last Run Initiated: 2020-01-24 07:24:12.244173\n"
     ]
    }
   ],
   "source": [
    "## Basic stuff\n",
    "%load_ext autoreload\n",
    "%autoreload\n",
    "from IPython.core.display import display, HTML\n",
    "display(HTML(\"<style>.container { width:100% !important; }</style>\"))\n",
    "display(HTML(\"\"\"<style>div.output_area{max-height:10000px;overflow:scroll;}</style>\"\"\"))\n",
    "\n",
    "from mp3id import mp3ID\n",
    "from musicBase import musicBase\n",
    "from musicFinder import musicFinder\n",
    "from musicPath import pathBasics\n",
    "from timeUtils import clock, elapsed\n",
    "from discogsBase import discogs\n",
    "from multiArtist import multiArtist\n",
    "from time import sleep\n",
    "from pandas import DataFrame, Series\n",
    "from discogsBase import discogs\n",
    "from ioUtils import getFile\n",
    "from searchUtils import findDirs\n",
    "from fileUtils import getDirBasics\n",
    "from unicodedata import normalize\n",
    "from fsUtils import moveDir, setDir\n",
    "from masterdb import getArtistAlbumsDB, discConv\n",
    "## Python Version\n",
    "import sys\n",
    "print(\"Python: {0}\".format(sys.version))\n",
    "\n",
    "import datetime as dt\n",
    "start = dt.datetime.now()\n",
    "print(\"Notebook Last Run Initiated: \"+str(start))"
   ]
  },
  {
   "cell_type": "code",
   "execution_count": 88,
   "metadata": {},
   "outputs": [
    {
     "name": "stdout",
     "output_type": "stream",
     "text": [
      "Saved Discog Directory /Volumes/Music/Discog is Available\n",
      "Local Discog Directory /Users/tgadfort/Music/Discog is Available\n",
      "/Volumes/Music/Discog/collections exists\n",
      "/Volumes/Music/Discog/artists exists\n",
      "/Volumes/Music/Discog/albums exists\n",
      "/Volumes/Music/Discog/collections-db exists\n",
      "/Volumes/Music/Discog/artists-db exists\n",
      "/Volumes/Music/Discog/albums-db exists\n",
      "/Volumes/Music/Discog/artists-db/metadata exists\n",
      "/Volumes/Music/Discog/albums-db/metadata exists\n",
      "/Volumes/Music/Discog/diagnostic exists\n",
      "/Volumes/Music/Discog/db exists\n"
     ]
    }
   ],
   "source": [
    "disc = discogs()"
   ]
  },
  {
   "cell_type": "code",
   "execution_count": 89,
   "metadata": {},
   "outputs": [
    {
     "name": "stdout",
     "output_type": "stream",
     "text": [
      "Getting Master Artist DB File\n",
      "/Volumes/Music/Discog/db/MasterSlimArtistDB.p\n",
      "712336\n"
     ]
    },
    {
     "data": {
      "text/html": [
       "<div>\n",
       "<style scoped>\n",
       "    .dataframe tbody tr th:only-of-type {\n",
       "        vertical-align: middle;\n",
       "    }\n",
       "\n",
       "    .dataframe tbody tr th {\n",
       "        vertical-align: top;\n",
       "    }\n",
       "\n",
       "    .dataframe thead th {\n",
       "        text-align: right;\n",
       "    }\n",
       "</style>\n",
       "<table border=\"1\" class=\"dataframe\">\n",
       "  <thead>\n",
       "    <tr style=\"text-align: right;\">\n",
       "      <th></th>\n",
       "      <th>Name</th>\n",
       "      <th>Artist</th>\n",
       "      <th>Num</th>\n",
       "      <th>DiscArtist</th>\n",
       "    </tr>\n",
       "  </thead>\n",
       "  <tbody>\n",
       "    <tr>\n",
       "      <th>1000</th>\n",
       "      <td>Dave Clarke</td>\n",
       "      <td>Dave Clarke</td>\n",
       "      <td>NaN</td>\n",
       "      <td>Dave Clarke</td>\n",
       "    </tr>\n",
       "    <tr>\n",
       "      <th>1000500</th>\n",
       "      <td>Club Pulse</td>\n",
       "      <td>Club Pulse</td>\n",
       "      <td>NaN</td>\n",
       "      <td>Club Pulse</td>\n",
       "    </tr>\n",
       "    <tr>\n",
       "      <th>100200</th>\n",
       "      <td>Dike</td>\n",
       "      <td>Dike</td>\n",
       "      <td>NaN</td>\n",
       "      <td>Dike</td>\n",
       "    </tr>\n",
       "    <tr>\n",
       "      <th>1002000</th>\n",
       "      <td>Larry Stokes</td>\n",
       "      <td>Larry Stokes</td>\n",
       "      <td>NaN</td>\n",
       "      <td>Larry Stokes</td>\n",
       "    </tr>\n",
       "    <tr>\n",
       "      <th>1002600</th>\n",
       "      <td>Gidd Sanchez</td>\n",
       "      <td>Gidd Sanchez</td>\n",
       "      <td>NaN</td>\n",
       "      <td>Gidd Sanchez</td>\n",
       "    </tr>\n",
       "  </tbody>\n",
       "</table>\n",
       "</div>"
      ],
      "text/plain": [
       "                 Name        Artist  Num    DiscArtist\n",
       "1000      Dave Clarke   Dave Clarke  NaN   Dave Clarke\n",
       "1000500    Club Pulse    Club Pulse  NaN    Club Pulse\n",
       "100200           Dike          Dike  NaN          Dike\n",
       "1002000  Larry Stokes  Larry Stokes  NaN  Larry Stokes\n",
       "1002600  Gidd Sanchez  Gidd Sanchez  NaN  Gidd Sanchez"
      ]
     },
     "execution_count": 89,
     "metadata": {},
     "output_type": "execute_result"
    }
   ],
   "source": [
    "print(\"Getting Master Artist DB File\")\n",
    "saveFilename = disc.getMasterSlimArtistDiscogsDBFilename()\n",
    "print(saveFilename)\n",
    "discdf = getFile(ifile=saveFilename, debug=False)\n",
    "artists = list(discdf[\"Artist\"])\n",
    "print(len(artists))\n",
    "discdf.head()\n",
    "# 589630\n",
    "# 610522\n",
    "# 636524\n",
    "# 669087\n",
    "# 712336"
   ]
  },
  {
   "cell_type": "code",
   "execution_count": 90,
   "metadata": {},
   "outputs": [
    {
     "name": "stdout",
     "output_type": "stream",
     "text": [
      "Current Time is Fri Jan 24, 2020 07:24:24 for \n",
      "=================================== Creating Artist Albums DB ===================================\n",
      "Loading ArtistID Data\n",
      "Loading data from /Volumes/Music/Discog/db/ArtistIDToAlbumNames.p\n",
      "  --> This file is 188.6MB.\n",
      "Loading /Volumes/Music/Discog/db/ArtistIDToAlbumNames.p\n",
      "Creating Pandas DataFrame for 712336 Artists\n",
      "\tShape --> (712336, 1)\n",
      "DataFrame Shape is (712336, 1)\n",
      "Current Time is Fri Jan 24, 2020 07:27:25 for Done with \n",
      "=================================== Creating Artist Albums DB ===================================\n",
      "Process [{0}] took 3.0 minutes.\n"
     ]
    }
   ],
   "source": [
    "artistAlbumsDB = getArtistAlbumsDB(disc)"
   ]
  },
  {
   "cell_type": "code",
   "execution_count": 91,
   "metadata": {},
   "outputs": [],
   "source": [
    "def getMusicData(key, artist):\n",
    "    retval = discdf[discdf[key] == artist]\n",
    "    if retval.shape[0] > 0:\n",
    "        return retval\n",
    "    else:\n",
    "        return None\n",
    "    \n",
    "from difflib import SequenceMatcher\n",
    "\n",
    "def getRowByIndex(pdf, idx):\n",
    "    return pdf.loc[idx]"
   ]
  },
  {
   "cell_type": "code",
   "execution_count": 92,
   "metadata": {},
   "outputs": [
    {
     "name": "stdout",
     "output_type": "stream",
     "text": [
      "Found 712336 ID -> Name entries\n",
      "Found 654724 Name -> ID entries\n"
     ]
    }
   ],
   "source": [
    "artistIDToName = discdf[\"DiscArtist\"].to_dict()\n",
    "artistNameToID = {}\n",
    "print(\"Found {0} ID -> Name entries\".format(len(artistIDToName)))\n",
    "for artistID,artistName in artistIDToName.items():\n",
    "    if artistNameToID.get(artistName) is None:\n",
    "        artistNameToID[artistName] = []\n",
    "    artistNameToID[artistName].append(artistID)\n",
    "print(\"Found {0} Name -> ID entries\".format(len(artistNameToID)))"
   ]
  },
  {
   "cell_type": "code",
   "execution_count": 93,
   "metadata": {},
   "outputs": [],
   "source": [
    "#artistDB = disc.getArtistIDToNameData()\n",
    "#artistNameToID = {v: k for k,v in artistDB.items()}\n",
    "mulArts  = multiArtist(cutoff=0.9, discdata=artistNameToID, exact=False)"
   ]
  },
  {
   "cell_type": "code",
   "execution_count": 94,
   "metadata": {},
   "outputs": [
    {
     "name": "stdout",
     "output_type": "stream",
     "text": [
      "Found 4698 music <-> discogs maps\n"
     ]
    },
    {
     "data": {
      "text/plain": [
       "True"
      ]
     },
     "execution_count": 94,
     "metadata": {},
     "output_type": "execute_result"
    }
   ],
   "source": [
    "try:\n",
    "    myMusicNameIDMap = getFile(\"musicDiscogsMap.p\")\n",
    "    print(\"Found {0} music <-> discogs maps\".format(len(myMusicNameIDMap)))\n",
    "except:\n",
    "    myMusicNameIDMap = {}\n",
    "    print(\"Could not load music <-> discogs map\")\n",
    "       \n",
    "myMusicNameIDMap[\"Mayday!\"] == ['2156710', '¡Mayday!']"
   ]
  },
  {
   "cell_type": "markdown",
   "metadata": {},
   "source": [
    "# Fix Discogs Mapping"
   ]
  },
  {
   "cell_type": "code",
   "execution_count": 95,
   "metadata": {},
   "outputs": [],
   "source": [
    "def fixDiscogsMapping(myMusicNameIDMap):\n",
    "    musicNameIDMap = {}\n",
    "    for artistName,v in myMusicNameIDMap.items():\n",
    "        if isinstance(v, list):\n",
    "            musicNameIDMap[artistName] = v\n",
    "            #print(artistName,v)\n",
    "            continue\n",
    "\n",
    "        mdata = getMusicData(\"Name\", v)\n",
    "        if isinstance(mdata, DataFrame):\n",
    "            if mdata.shape[0] == 1:\n",
    "                #print(artistName,[mdata.index[0], mdata[\"Name\"].values[0]])\n",
    "                musicNameIDMap[artistName] = [mdata.index[0], mdata[\"Name\"].values[0]]\n",
    "            else:\n",
    "                raise ValueError(\"No idea about {0}\".format(mdata))\n",
    "        else:\n",
    "            print(artistName,'\\t',v)\n",
    "            \n",
    "    return musicNameIDMap\n",
    "        \n",
    "#myMusicNameIDMap = musicNameIDMap\n",
    "#from ioUtils import saveFile\n",
    "#saveFile(ifile=\"musicDiscogsMap.p\", idata=musicNameIDMap, debug=True)"
   ]
  },
  {
   "cell_type": "code",
   "execution_count": 96,
   "metadata": {},
   "outputs": [],
   "source": [
    "myMusicNameIDMap = fixDiscogsMapping(myMusicNameIDMap)"
   ]
  },
  {
   "cell_type": "code",
   "execution_count": null,
   "metadata": {},
   "outputs": [],
   "source": [
    "if myMusicNameIDMap[\"Mayday!\"] == ['2156710', '¡Mayday!']:\n",
    "    saveFile(ifile=\"musicDiscogsMap.p\", idata=myMusicNameIDMap, debug=True)\n",
    "    saveFile(ifile=\"musicDiscogsMap.yaml\", idata=myMusicNameIDMap, debug=True)"
   ]
  },
  {
   "cell_type": "code",
   "execution_count": null,
   "metadata": {},
   "outputs": [],
   "source": [
    "manualMatches = {}\n",
    "\n",
    "if len(manualMatches) > 0:\n",
    "    myMusicNameIDMap.update(manualMatches) \n",
    "\n",
    "print(\"Found {0} music <-> discogs maps\".format(len(myMusicNameIDMap)))"
   ]
  },
  {
   "cell_type": "markdown",
   "metadata": {},
   "source": [
    "# Find Music and Match Artists"
   ]
  },
  {
   "cell_type": "code",
   "execution_count": null,
   "metadata": {
    "scrolled": false
   },
   "outputs": [],
   "source": [
    "musicNameIDMap = {}\n",
    "multiMap       = {}\n",
    "\n",
    "discogMediaNames = ['Albums', 'Singles & EPs', 'Compilations', 'Videos', 'Miscellaneous', 'Visual', 'DJ Mixes']\n",
    "myMediaNames     = ['Random', 'Todo', 'Match', 'Title', 'Singles']\n",
    "\n",
    "for dirN in findDirs(\"/Users/tgadfort/matched\"):\n",
    "    print(dirN)\n",
    "    for dirval in findDirs(dirN):        \n",
    "        artistName = getDirBasics(dirval)[-1]\n",
    "        artistName = normalize('NFC', artistName)\n",
    "        \n",
    "        if myMusicNameIDMap.get(artistName) is not None:\n",
    "            continue\n",
    "\n",
    "        mdata = getMusicData(\"DiscArtist\", artistName)\n",
    "        print(artistName,type(mdata))\n",
    "        if not isinstance(mdata, DataFrame):\n",
    "            matches = mulArts.getArtistNames(artistName)\n",
    "            if not all(matches.values()):\n",
    "                print(\"{0: <10}{1: <50}{2}\".format(\"?\", artistName, matches))\n",
    "                continue\n",
    "            else:\n",
    "                print(\"{0: <10}{1: <50}{2}\".format(\"MIX\", artistName, matches))\n",
    "                srcDir = dirval\n",
    "                dstDir = setDir(\"/Volumes/Music/Multi\", artistName)\n",
    "                moveDir(srcDir, dstDir)                \n",
    "        else:\n",
    "            print('\\t',mdata.shape)\n",
    "            if mdata.shape[0] == 1:\n",
    "                musicNameIDMap[artistName] = [mdata.index, mdata[\"Name\"].values[0]]\n",
    "            else:\n",
    "                print(\"{0: <10}{1: <50}{2}\".format(\"\", artistName, \"\"))\n",
    "                albums = [x for x in findDirs(dirval) if getDirBasics(x)[-1] not in discogMediaNames+myMediaNames]\n",
    "                if len(albums) == 0:\n",
    "                    print(\"\\tNo Albums\\n\")\n",
    "                    srcDir = dirval\n",
    "                    dstDir = setDir(\"/Volumes/Music/Random\", artistName)\n",
    "                    moveDir(srcDir, dstDir)\n",
    "                else:\n",
    "                    multiMap[artistName] = {\"DB\": mdata, \"Albums\": albums}\n",
    "                    continue\n",
    "                    for album in albums:\n",
    "                        print(\"\\t\",album)\n",
    "                    print(\"\")\n",
    "                print(\"\\tDiscogs Data:\")\n",
    "                print(mdata)\n",
    "                print(\"\\n\\n\")"
   ]
  },
  {
   "cell_type": "markdown",
   "metadata": {},
   "source": [
    "# Manual Entries"
   ]
  },
  {
   "cell_type": "code",
   "execution_count": null,
   "metadata": {},
   "outputs": [],
   "source": [
    "newManual = {}"
   ]
  },
  {
   "cell_type": "code",
   "execution_count": null,
   "metadata": {},
   "outputs": [],
   "source": [
    "#mdata = getMusicData(\"Name\", \"Dababy\")\n",
    "#newManual[mdata[\"DiscArtist\"].values[0]] = [mdata.index, mdata[\"Name\"].values[0]]"
   ]
  },
  {
   "cell_type": "code",
   "execution_count": null,
   "metadata": {},
   "outputs": [],
   "source": [
    "newManual"
   ]
  },
  {
   "cell_type": "code",
   "execution_count": null,
   "metadata": {},
   "outputs": [],
   "source": [
    "if len(newManual) > 0:\n",
    "    try:\n",
    "        myMusicNameIDMap.update({k: [v[0][0], v[1].values[0]] for k,v in newManual.items()})\n",
    "    except:\n",
    "        try:\n",
    "            myMusicNameIDMap.update({k: [v[0][0], v[1]] for k,v in newManual.items()})\n",
    "        except:\n",
    "            raise ValueError(\"Not sure about {0}\".format(newManual))"
   ]
  },
  {
   "cell_type": "markdown",
   "metadata": {},
   "source": [
    "## Find MultiMap -> Match Entry"
   ]
  },
  {
   "cell_type": "code",
   "execution_count": null,
   "metadata": {
    "scrolled": true
   },
   "outputs": [],
   "source": [
    "ratVal = 0.6\n",
    "if len(myMusicNameIDMap) > 0:\n",
    "    ratVal = 0.3\n",
    "artistIDMap = {}\n",
    "for artistName,artistSlimData in multiMap.items():\n",
    "    print(\"\\n\",\"=\"*50)\n",
    "    print(\"ArtistName: {0}\".format(artistName))\n",
    "    print(\"   Albums: {0}\".format(len(artistSlimData[\"Albums\"])))\n",
    "\n",
    "    myAlbumNames = []\n",
    "    for album in artistSlimData[\"Albums\"]:\n",
    "        myAlbumName = album.split(\"/{0}/\".format(artistName))[-1]\n",
    "        #print(\"     {0: <15}{1: <10}{2}\".format(\"\", \"\", myAlbumName))\n",
    "        myAlbumNames.append(myAlbumName)\n",
    "        \n",
    "    for idx,row in artistSlimData[\"DB\"].iterrows():\n",
    "        artistAlbumsData = getRowByIndex(artistAlbumsDB, idx)\n",
    "        artistAlbums     = artistAlbumsData[\"Albums\"]\n",
    "        print(\"   Match: {0}  [{1}]\".format(row[\"DiscArtist\"], row[\"Name\"]))\n",
    "        if isinstance(artistAlbums, dict):\n",
    "            for albumType, albumTypeData in artistAlbums.items():\n",
    "                for albumID, dbAlbumName in albumTypeData.items():\n",
    "                    for myAlbumName in myAlbumNames:\n",
    "                        s = SequenceMatcher(None, myAlbumName, dbAlbumName)\n",
    "                        ratio = s.ratio()\n",
    "                        if ratio > 0.6:\n",
    "                            print(\"     {0: <15}{1: <10}{2: <8}{3}\".format(albumType, albumID, round(ratio,2), dbAlbumName))\n",
    "                            artistIDMap[artistName] = [idx, row[\"Name\"]]"
   ]
  },
  {
   "cell_type": "markdown",
   "metadata": {},
   "source": [
    "## Found Multi Artist"
   ]
  },
  {
   "cell_type": "code",
   "execution_count": null,
   "metadata": {},
   "outputs": [],
   "source": [
    "for artistName,artistData in artistIDMap.items():\n",
    "    print(artistName,' ==> ',artistData)"
   ]
  },
  {
   "cell_type": "code",
   "execution_count": null,
   "metadata": {},
   "outputs": [],
   "source": [
    "if len(artistIDMap) > 0:\n",
    "    myMusicNameIDMap.update(artistIDMap)"
   ]
  },
  {
   "cell_type": "markdown",
   "metadata": {},
   "source": [
    "## Set Single Artist"
   ]
  },
  {
   "cell_type": "code",
   "execution_count": null,
   "metadata": {},
   "outputs": [],
   "source": [
    "for artistName,artistData in musicNameIDMap.items():\n",
    "    print(artistName,' ==> ',artistData)"
   ]
  },
  {
   "cell_type": "code",
   "execution_count": null,
   "metadata": {},
   "outputs": [],
   "source": [
    "print(\"Found {0} entries\".format(len(musicNameIDMap)))\n",
    "if len(musicNameIDMap) > 0:\n",
    "    try:\n",
    "        myMusicNameIDMap.update({k: [v[0][0], v[1].values[0]] for k,v in musicNameIDMap.items()})\n",
    "    except:\n",
    "        try:\n",
    "            myMusicNameIDMap.update({k: [v[0][0], v[1]] for k,v in musicNameIDMap.items()})\n",
    "        except:\n",
    "            raise ValueError(\"Not sure about {0}\".format(musicNameIDMap))\n",
    "print(\"Found {0} entries\".format(len(musicNameIDMap)))"
   ]
  },
  {
   "cell_type": "markdown",
   "metadata": {},
   "source": [
    "# Save Everything"
   ]
  },
  {
   "cell_type": "code",
   "execution_count": null,
   "metadata": {},
   "outputs": [],
   "source": [
    "from ioUtils import saveFile\n",
    "print(\"Saving {0} entries\".format(len(myMusicNameIDMap)))\n",
    "saveFile(ifile=\"musicDiscogsMap.p\", idata=myMusicNameIDMap, debug=True)"
   ]
  },
  {
   "cell_type": "code",
   "execution_count": null,
   "metadata": {},
   "outputs": [],
   "source": [
    "from ioUtils import saveFile\n",
    "print(\"Saving {0} entries\".format(len(myMusicNameIDMap)))\n",
    "saveFile(ifile=\"musicDiscogsMap.yaml\", idata=myMusicNameIDMap, debug=True)"
   ]
  },
  {
   "cell_type": "code",
   "execution_count": 18,
   "metadata": {},
   "outputs": [
    {
     "name": "stdout",
     "output_type": "stream",
     "text": [
      "Found 4698 music <-> discogs maps\n"
     ]
    }
   ],
   "source": [
    "myMusicNameIDMap = getFile(\"musicDiscogsMap.p\")\n",
    "print(\"Found {0} music <-> discogs maps\".format(len(myMusicNameIDMap)))"
   ]
  },
  {
   "cell_type": "code",
   "execution_count": null,
   "metadata": {},
   "outputs": [],
   "source": [
    "from ioUtils import saveFile\n",
    "saveFile(ifile=\"musicDiscogsMap.p\", idata=myMusicNameIDMap, debug=True)\n",
    "from ioUtils import saveFile\n",
    "saveFile(ifile=\"musicDiscogsMap.yaml\", idata=myMusicNameIDMap, debug=True)"
   ]
  },
  {
   "cell_type": "markdown",
   "metadata": {},
   "source": [
    "# Find Music and Match Albums"
   ]
  },
  {
   "cell_type": "code",
   "execution_count": 19,
   "metadata": {},
   "outputs": [
    {
     "name": "stdout",
     "output_type": "stream",
     "text": [
      "Found 1848 music <-> discogs albums maps\n"
     ]
    }
   ],
   "source": [
    "myMusicAlbumIDMap = getFile(\"musicDiscogsAlbumMap.p\")\n",
    "#myMusicAlbumIDMap = {}\n",
    "print(\"Found {0} music <-> discogs albums maps\".format(len(myMusicAlbumIDMap)))"
   ]
  },
  {
   "cell_type": "code",
   "execution_count": 20,
   "metadata": {},
   "outputs": [
    {
     "name": "stdout",
     "output_type": "stream",
     "text": [
      "Found 169 music <-> discogs albums maps\n"
     ]
    }
   ],
   "source": [
    "skipMusicAlbumIDMap = getFile(ifile=\"skipMusicDiscogsAlbumMap.yaml\")\n",
    "#skipMusicAlbumIDMap = {}\n",
    "print(\"Found {0} music <-> discogs albums maps\".format(len(skipMusicAlbumIDMap)))"
   ]
  },
  {
   "cell_type": "markdown",
   "metadata": {},
   "source": [
    "## Johnny Cash"
   ]
  },
  {
   "cell_type": "code",
   "execution_count": 103,
   "metadata": {},
   "outputs": [],
   "source": [
    "discogsArtist            = myMusicNameIDMap[\"James Brown\"]\n",
    "idx                      = discogsArtist[0]\n",
    "discogsArtistName        = discogsArtist[1]\n",
    "discogsArtistAlbumsData  = getRowByIndex(artistAlbumsDB, idx)\n",
    "discogsArtistAlbums      = discogsArtistAlbumsData[\"Albums\"]"
   ]
  },
  {
   "cell_type": "code",
   "execution_count": 105,
   "metadata": {
    "scrolled": false
   },
   "outputs": [],
   "source": [
    "for k,v in discogsArtistAlbums.items():\n",
    "    for code,name in v.items():\n",
    "        #print(\"{0: <15}{1: <12}{2}\".format(k,code,name))\n",
    "        continue"
   ]
  },
  {
   "cell_type": "markdown",
   "metadata": {},
   "source": [
    "# Show and Find Music <-> Discog Matches"
   ]
  },
  {
   "cell_type": "code",
   "execution_count": 85,
   "metadata": {},
   "outputs": [],
   "source": [
    "ratioCut = 0.67\n",
    "keepSkips = False"
   ]
  },
  {
   "cell_type": "code",
   "execution_count": 97,
   "metadata": {},
   "outputs": [
    {
     "name": "stdout",
     "output_type": "stream",
     "text": [
      "/Users/tgadfort/matched/A\n",
      "\tAC-DC                          ---> ['84752', 'AC/DC']\n",
      "\t\tMy Album: '74 Jailbreak\n",
      "\t\t   Match: ['8460', \"'74 Jailbreak\"]\n",
      "\t\tMy Album: Back In Black\n",
      "\t\t   Match: ['324463', 'Back In Black']\n",
      "\t\tMy Album: Ballbreaker\n",
      "\t\t   Match: ['3654907', 'Ballbreaker']\n",
      "\t\tMy Album: Dirty Deeds Done Dirt Cheap\n",
      "\t\t   Match: ['469928', 'Dirty Deeds Done Dirt Cheap']\n",
      "\t\tMy Album: Dirty Deeds Done Dirt Cheap (Live)\n",
      "\t\t   Match: ['201450', 'Dirty Deeds Done Dirt Cheap (Live)']\n",
      "\t\tMy Album: Flick Of The Switch\n",
      "\t\t   Match: ['545065', 'Flick Of The Switch']\n",
      "\t\tMy Album: Fly On The Wall\n",
      "\t\t   Match: ['291661', 'Fly On The Wall']\n",
      "\t\tMy Album: For Those About To Rock (We Salute You)\n",
      "\t\t   Match: ['8663', 'For Those About To Rock (We Salute You)']\n",
      "\t\tMy Album: High Voltage\n",
      "\t\t   Match: ['8437', 'High Voltage']\n",
      "\t\tMy Album: Highway To Hell\n",
      "\t\t   Match: ['8659', 'Highway To Hell']\n",
      "\t\tMy Album: Let There Be Rock\n",
      "\t\t   Match: ['241625', 'Let There Be Rock']\n",
      "\t\tMy Album: Stiff Upper Lip\n",
      "\t\t   Match: ['167008', 'Stiff Upper Lip']\n",
      "\t\tMy Album: The Razors Edge\n",
      "\t\t   Match: ['2128541', 'The Razors Edge']\n",
      "\t\tMy Album: Who Made Who\n",
      "\t\t   Match: ['5650066', 'Who Made Who']\n",
      "/Users/tgadfort/matched/B\n",
      "/Users/tgadfort/matched/C\n",
      "\tCyndi Lauper                   ---> ['29718', 'Cyndi Lauper']\n",
      "\t\tMy Album: Time After Time: The Best Of\n",
      "\t\t   Match: ['469104', 'Time After Time - The Best Of Cyndi Lauper']\n",
      "/Users/tgadfort/matched/D\n",
      "/Users/tgadfort/matched/E\n",
      "/Users/tgadfort/matched/F\n",
      "/Users/tgadfort/matched/G\n",
      "/Users/tgadfort/matched/H\n",
      "/Users/tgadfort/matched/I\n",
      "\tIke & Tina Turner              ---> ['81138', 'Ike & Tina Turner']\n",
      "\t\tMy Album: The Hits Collection\n",
      "\t\t   Match: ['6104637', 'The Hits Collection']\n",
      "/Users/tgadfort/matched/J\n",
      "\tJames Brown                    ---> ['12596', 'James Brown']\n",
      "\t\tMy Album: James Brown Sings Raw Soul\n",
      "\t\t   Match: ['10859035', 'James Brown Songbook']\n",
      "\tJohn Fahey                     ---> ['65712', 'John Fahey']\n",
      "\t\tMy Album: The Legend Of Blind Joe Death\n",
      "\t\t   Match: ['233373', 'I Remember Blind Joe Death']\n",
      "/Users/tgadfort/matched/K\n",
      "/Users/tgadfort/matched/L\n",
      "/Users/tgadfort/matched/M\n",
      "/Users/tgadfort/matched/N\n",
      "\tNazareth                       ---> ['253882', 'Nazareth (2)']\n",
      "\t\tMy Album: Nazareth (2006)\n",
      "\t\t   Match: ['4859068', 'Nazareth']\n",
      "\t\tMy Album: The Very Best Of\n",
      "\t\t   Match: ['6339643', 'The Very Best Of']\n",
      "\tNegativland                    ---> ['24120', 'Negativland']\n",
      "\t\tMy Album: Presents Over The Edge Vol. 7: Time Zones Exchange Project\n",
      "\t\t   Match: ['747156', 'Presents Over The Edge Vol. 7: Time Zones Exchange Project']\n",
      "/Users/tgadfort/matched/Num\n",
      "/Users/tgadfort/matched/O\n",
      "/Users/tgadfort/matched/P\n",
      "/Users/tgadfort/matched/Q\n",
      "/Users/tgadfort/matched/R\n",
      "/Users/tgadfort/matched/S\n",
      "/Users/tgadfort/matched/T\n",
      "/Users/tgadfort/matched/The\n",
      "\tThe Rolling Stones             ---> ['20991', 'The Rolling Stones']\n",
      "\t\tMy Album: The Rolling Stones Rock and Roll Circus\n",
      "\t\t   Match: ['3957442', 'The Rolling Stones - Vol. 7']\n",
      "\tThe Ventures                   ---> ['65376', 'The Ventures']\n",
      "\t\tMy Album: Wild Again!\n",
      "\t\t   Match: ['7621431', 'Live Again!']\n",
      "/Users/tgadfort/matched/U\n",
      "/Users/tgadfort/matched/V\n",
      "/Users/tgadfort/matched/W\n",
      "/Users/tgadfort/matched/Xtra\n",
      "/Users/tgadfort/matched/Y\n",
      "/Users/tgadfort/matched/Z\n"
     ]
    }
   ],
   "source": [
    "def showArtist(artistName, discogsArtist):\n",
    "    print(\"\\t{0: <30} ---> {1}\".format(artistName, discogsArtist))\n",
    "    \n",
    "def showAlbum(myAlbumName):\n",
    "    print(\"\\t\\tMy Album: {0}\".format(myAlbumName))\n",
    "    \n",
    "def showMatch(myAlbumName, albumData):\n",
    "    print(\"\\t\\t   Match: {0}\".format(albumData))\n",
    "\n",
    "musicAlbumIDMap = {}\n",
    "discogMediaNames = ['Albums', 'Singles & EPs', 'Compilations', 'Videos', 'Miscellaneous', 'Visual', 'DJ Mixes']\n",
    "myMediaNames     = ['Random', 'Todo', 'Match', 'Title', 'Singles', 'Album', 'Unknown', 'Bootleg', 'Mix', 'Tribute']\n",
    "ignoreDirs       = list(set(discogMediaNames+myMediaNames))\n",
    "nSkips = len(skipMusicAlbumIDMap)\n",
    "\n",
    "\n",
    "\n",
    "for dirN in findDirs(\"/Users/tgadfort/matched\"):\n",
    "    print(dirN)\n",
    "    for dirval in findDirs(dirN):        \n",
    "        artistName = getDirBasics(dirval)[-1]\n",
    "        artistName = normalize('NFC', artistName)\n",
    "        \n",
    "        discogsArtist = myMusicNameIDMap[artistName]\n",
    "        \n",
    "        \n",
    "        idx                      = discogsArtist[0]\n",
    "        discogsArtistName        = discogsArtist[1]\n",
    "        discogsArtistAlbumsData  = getRowByIndex(artistAlbumsDB, idx)\n",
    "        discogsArtistAlbums      = discogsArtistAlbumsData[\"Albums\"]\n",
    "        \n",
    "        albums = [x for x in findDirs(dirval) if getDirBasics(x)[-1] not in ignoreDirs]        \n",
    "        myAlbumNames = [album.split(\"/{0}/\".format(artistName))[-1] for album in albums]\n",
    "        \n",
    "        for myAlbumName in myAlbumNames:\n",
    "            myAlbumName = normalize('NFC', myAlbumName)\n",
    "            if myMusicAlbumIDMap.get(artistName) is not None:\n",
    "                if myMusicAlbumIDMap[artistName].get(myAlbumName) is not None:\n",
    "                    #print(\"\\t\\tMy Album: {0} ---> {1}\".format(myAlbumName, myMusicAlbumIDMap[artistName][myAlbumName]))\n",
    "                    continue\n",
    "            if skipMusicAlbumIDMap.get(artistName) is not None:\n",
    "                if skipMusicAlbumIDMap[artistName].get(myAlbumName) is not None:\n",
    "                    #print(\"\\t\\tMy Album: {0} ---> {1}\".format(myAlbumName, myMusicAlbumIDMap[artistName][myAlbumName]))\n",
    "                    continue\n",
    "\n",
    "            maxRatio  = None\n",
    "            albumData = None\n",
    "            for albumType, albumTypeData in discogsArtistAlbums.items():\n",
    "                for albumID, dbAlbumName in albumTypeData.items():\n",
    "                    convDiscogsAlbumName = discConv(dbAlbumName)\n",
    "                    s = SequenceMatcher(None, myAlbumName, convDiscogsAlbumName)\n",
    "                    ratio = round(s.ratio(), 3)\n",
    "                    if ratio > ratioCut:\n",
    "                        if maxRatio is None:\n",
    "                            maxRatio = ratio\n",
    "                        else:\n",
    "                            if ratio < maxRatio:\n",
    "                                continue\n",
    "                            maxRatio  = ratio\n",
    "                            albumData = [albumID, dbAlbumName]\n",
    "                            \n",
    "            if albumData is not None:\n",
    "                if musicAlbumIDMap.get(artistName) is None:\n",
    "                    musicAlbumIDMap[artistName] = {}\n",
    "                    showArtist(artistName, discogsArtist)\n",
    "                showAlbum(myAlbumName)\n",
    "                musicAlbumIDMap[artistName][myAlbumName] = albumData\n",
    "                showMatch(myAlbumName, albumData)\n",
    "                        \n",
    "            if keepSkips:\n",
    "                if skipMusicAlbumIDMap.get(artistName) is None:\n",
    "                    skipMusicAlbumIDMap[artistName] = {}\n",
    "                #showAlbum(myAlbumName)\n",
    "                skipMusicAlbumIDMap[artistName][myAlbumName] = [albumID, dbAlbumName]\n",
    "\n"
   ]
  },
  {
   "cell_type": "markdown",
   "metadata": {},
   "source": [
    "## Check For Skips"
   ]
  },
  {
   "cell_type": "code",
   "execution_count": 56,
   "metadata": {},
   "outputs": [],
   "source": [
    "#skipMusicAlbumIDMap"
   ]
  },
  {
   "cell_type": "code",
   "execution_count": 55,
   "metadata": {},
   "outputs": [
    {
     "name": "stdout",
     "output_type": "stream",
     "text": [
      "Previous 0 music <-> discogs albums maps\n",
      "Found 1163 music <-> discogs albums maps\n",
      "Saving data to skipMusicDiscogsAlbumMap.yaml\n",
      "Saved data to skipMusicDiscogsAlbumMap.yaml\n",
      "  --> This file is 230.4kB.\n"
     ]
    }
   ],
   "source": [
    "print(\"Previous {0} music <-> discogs albums maps\".format(nSkips))\n",
    "print(\"Found {0} music <-> discogs albums maps\".format(len(skipMusicAlbumIDMap)))\n",
    "saveFile(ifile=\"skipMusicDiscogsAlbumMap.yaml\", idata=skipMusicAlbumIDMap, debug=True)\n"
   ]
  },
  {
   "cell_type": "code",
   "execution_count": 63,
   "metadata": {},
   "outputs": [
    {
     "name": "stdout",
     "output_type": "stream",
     "text": [
      "Found 0 music <-> discogs albums maps\n"
     ]
    }
   ],
   "source": [
    "skipMusicAlbumIDMap = getFile(ifile=\"skipMusicDiscogsAlbumMap.yaml\")\n",
    "skipMusicAlbumIDMap = {}\n",
    "print(\"Found {0} music <-> discogs albums maps\".format(len(skipMusicAlbumIDMap)))"
   ]
  },
  {
   "cell_type": "markdown",
   "metadata": {},
   "source": [
    "## Check For Match"
   ]
  },
  {
   "cell_type": "code",
   "execution_count": 98,
   "metadata": {},
   "outputs": [
    {
     "name": "stdout",
     "output_type": "stream",
     "text": [
      "Saving data to newMusicDiscogsAlbumMap.yaml\n",
      "Saved data to newMusicDiscogsAlbumMap.yaml\n",
      "  --> This file is 1.6kB.\n",
      "Found 9 music <-> discogs albums maps\n"
     ]
    }
   ],
   "source": [
    "from ioUtils import saveFile\n",
    "saveFile(ifile=\"newMusicDiscogsAlbumMap.yaml\", idata=musicAlbumIDMap, debug=True)\n",
    "print(\"Found {0} music <-> discogs albums maps\".format(len(musicAlbumIDMap)))"
   ]
  },
  {
   "cell_type": "code",
   "execution_count": 99,
   "metadata": {},
   "outputs": [
    {
     "name": "stdout",
     "output_type": "stream",
     "text": [
      "Loading data from newMusicDiscogsAlbumMap.yaml\n",
      "  --> This file is 1.3kB.\n",
      "Loading newMusicDiscogsAlbumMap.yaml\n",
      "Found 5 music <-> discogs albums maps\n"
     ]
    }
   ],
   "source": [
    "musicAlbumIDMap = getFile(ifile=\"newMusicDiscogsAlbumMap.yaml\", debug=True)\n",
    "print(\"Found {0} music <-> discogs albums maps\".format(len(musicAlbumIDMap)))"
   ]
  },
  {
   "cell_type": "markdown",
   "metadata": {},
   "source": [
    "## Move To Matched"
   ]
  },
  {
   "cell_type": "code",
   "execution_count": 100,
   "metadata": {},
   "outputs": [
    {
     "name": "stdout",
     "output_type": "stream",
     "text": [
      "/Users/tgadfort/matched/A\n",
      "Moving /Users/tgadfort/matched/A/AC-DC/'74 Jailbreak  --->  /Users/tgadfort/matched/A/AC-DC/Match/'74 Jailbreak\n",
      "Moving /Users/tgadfort/matched/A/AC-DC/Back In Black  --->  /Users/tgadfort/matched/A/AC-DC/Match/Back In Black\n",
      "Moving /Users/tgadfort/matched/A/AC-DC/Ballbreaker  --->  /Users/tgadfort/matched/A/AC-DC/Match/Ballbreaker\n",
      "Moving /Users/tgadfort/matched/A/AC-DC/Dirty Deeds Done Dirt Cheap  --->  /Users/tgadfort/matched/A/AC-DC/Match/Dirty Deeds Done Dirt Cheap\n",
      "Moving /Users/tgadfort/matched/A/AC-DC/Dirty Deeds Done Dirt Cheap (Live)  --->  /Users/tgadfort/matched/A/AC-DC/Match/Dirty Deeds Done Dirt Cheap (Live)\n",
      "Moving /Users/tgadfort/matched/A/AC-DC/Flick Of The Switch  --->  /Users/tgadfort/matched/A/AC-DC/Match/Flick Of The Switch\n",
      "Moving /Users/tgadfort/matched/A/AC-DC/Fly On The Wall  --->  /Users/tgadfort/matched/A/AC-DC/Match/Fly On The Wall\n",
      "Moving /Users/tgadfort/matched/A/AC-DC/For Those About To Rock (We Salute You)  --->  /Users/tgadfort/matched/A/AC-DC/Match/For Those About To Rock (We Salute You)\n",
      "Moving /Users/tgadfort/matched/A/AC-DC/High Voltage  --->  /Users/tgadfort/matched/A/AC-DC/Match/High Voltage\n",
      "Moving /Users/tgadfort/matched/A/AC-DC/Highway To Hell  --->  /Users/tgadfort/matched/A/AC-DC/Match/Highway To Hell\n",
      "Moving /Users/tgadfort/matched/A/AC-DC/Let There Be Rock  --->  /Users/tgadfort/matched/A/AC-DC/Match/Let There Be Rock\n",
      "Moving /Users/tgadfort/matched/A/AC-DC/Stiff Upper Lip  --->  /Users/tgadfort/matched/A/AC-DC/Match/Stiff Upper Lip\n",
      "Moving /Users/tgadfort/matched/A/AC-DC/The Razors Edge  --->  /Users/tgadfort/matched/A/AC-DC/Match/The Razors Edge\n",
      "Moving /Users/tgadfort/matched/A/AC-DC/Who Made Who  --->  /Users/tgadfort/matched/A/AC-DC/Match/Who Made Who\n",
      "/Users/tgadfort/matched/B\n",
      "/Users/tgadfort/matched/C\n",
      "Moving /Users/tgadfort/matched/C/Cyndi Lauper/Time After Time: The Best Of  --->  /Users/tgadfort/matched/C/Cyndi Lauper/Match/Time After Time: The Best Of\n",
      "/Users/tgadfort/matched/D\n",
      "/Users/tgadfort/matched/E\n",
      "/Users/tgadfort/matched/F\n",
      "/Users/tgadfort/matched/G\n",
      "/Users/tgadfort/matched/H\n",
      "/Users/tgadfort/matched/I\n",
      "Moving /Users/tgadfort/matched/I/Ike & Tina Turner/The Hits Collection  --->  /Users/tgadfort/matched/I/Ike & Tina Turner/Match/The Hits Collection\n",
      "/Users/tgadfort/matched/J\n",
      "/Users/tgadfort/matched/K\n",
      "/Users/tgadfort/matched/L\n",
      "/Users/tgadfort/matched/M\n",
      "/Users/tgadfort/matched/N\n",
      "Moving /Users/tgadfort/matched/N/Nazareth/Nazareth (2006)  --->  /Users/tgadfort/matched/N/Nazareth/Match/Nazareth (2006)\n",
      "Moving /Users/tgadfort/matched/N/Nazareth/The Very Best Of  --->  /Users/tgadfort/matched/N/Nazareth/Match/The Very Best Of\n",
      "Moving /Users/tgadfort/matched/N/Negativland/Presents Over The Edge Vol. 7: Time Zones Exchange Project  --->  /Users/tgadfort/matched/N/Negativland/Match/Presents Over The Edge Vol. 7: Time Zones Exchange Project\n",
      "/Users/tgadfort/matched/Num\n",
      "/Users/tgadfort/matched/O\n",
      "/Users/tgadfort/matched/P\n",
      "/Users/tgadfort/matched/Q\n",
      "/Users/tgadfort/matched/R\n",
      "/Users/tgadfort/matched/S\n",
      "/Users/tgadfort/matched/T\n",
      "/Users/tgadfort/matched/The\n",
      "/Users/tgadfort/matched/U\n",
      "/Users/tgadfort/matched/V\n",
      "/Users/tgadfort/matched/W\n",
      "/Users/tgadfort/matched/Xtra\n",
      "/Users/tgadfort/matched/Y\n",
      "/Users/tgadfort/matched/Z\n"
     ]
    }
   ],
   "source": [
    "from fsUtils import mkDir, isDir, moveDir\n",
    "for dirN in findDirs(\"/Users/tgadfort/matched\"):\n",
    "    print(dirN)\n",
    "    for dirval in findDirs(dirN):        \n",
    "        artistName = getDirBasics(dirval)[-1]\n",
    "        artistName = normalize('NFC', artistName)\n",
    "        musicMap   = musicAlbumIDMap.get(artistName)\n",
    "        if musicMap is None:\n",
    "            continue\n",
    "        for myAlbumName,albumVal in musicMap.items():\n",
    "            matchedDir = setDir(dirval, \"Match\")\n",
    "            mkDir(matchedDir)\n",
    "            srcDir = setDir(dirval, myAlbumName)\n",
    "            if not isDir(srcDir):\n",
    "                print(\"{0} does not exist\".format(srcDir))\n",
    "                continue\n",
    "            dstDir = setDir(matchedDir, discConv(myAlbumName))\n",
    "            if isDir(dstDir):\n",
    "                print(\"{0} already exists\".format(dstDir))\n",
    "                continue\n",
    "                \n",
    "            print(\"Moving {0}  --->  {1}\".format(srcDir, dstDir))\n",
    "            moveDir(srcDir, dstDir)"
   ]
  },
  {
   "cell_type": "markdown",
   "metadata": {},
   "source": [
    "# Move To Album Type"
   ]
  },
  {
   "cell_type": "code",
   "execution_count": 101,
   "metadata": {},
   "outputs": [
    {
     "name": "stdout",
     "output_type": "stream",
     "text": [
      "/Users/tgadfort/matched/A\n",
      "   AC-DC\n",
      "\t'74 Jailbreak                                      ['8460', 'Compilations', \"'74 Jailbreak\"]\n",
      "\tBack In Black                                      ['324463', 'Singles & EPs', 'Back In Black']\n",
      "\tBallbreaker                                        ['3654907', 'Singles & EPs', 'Ballbreaker']\n",
      "\tDirty Deeds Done Dirt Cheap                        ['469928', 'Singles & EPs', 'Dirty Deeds Done Dirt Cheap']\n",
      "\tDirty Deeds Done Dirt Cheap (Live)                 ['201450', 'Singles & EPs', 'Dirty Deeds Done Dirt Cheap (Live)']\n",
      "\tFlick Of The Switch                                ['545065', 'Singles & EPs', 'Flick Of The Switch']\n",
      "\tFly On The Wall                                    ['291661', 'Videos', 'Fly On The Wall']\n",
      "\tFor Those About To Rock (We Salute You)            ['8663', 'Singles & EPs', 'For Those About To Rock (We Salute You)']\n",
      "\tHigh Voltage                                       ['8437', 'Albums', 'High Voltage']\n",
      "\tHighway To Hell                                    ['8659', 'Singles & EPs', 'Highway To Hell']\n",
      "\tLet There Be Rock                                  ['241625', 'Videos', 'Let There Be Rock']\n",
      "\tStiff Upper Lip                                    ['167008', 'Singles & EPs', 'Stiff Upper Lip']\n",
      "\tThe Razors Edge                                    ['2128541', 'Singles & EPs', 'The Razors Edge']\n",
      "\tWho Made Who                                       ['5650066', 'Videos', 'Who Made Who']\n",
      "/Users/tgadfort/matched/B\n",
      "/Users/tgadfort/matched/C\n",
      "   Cyndi Lauper\n",
      "\tShine                                              ['953395', 'Singles & EPs', 'Shine']\n",
      "\tTime After Time: The Best Of                       ['469104', 'Compilations', 'Time After Time - The Best Of Cyndi Lauper']\n",
      "/Users/tgadfort/matched/D\n",
      "   Daft Punk\n",
      "\tHuman After All                                    ['27058', 'Singles & EPs', 'Human After All']\n",
      "/Users/tgadfort/matched/E\n",
      "   Evanescence\n",
      "\tThe Open Door                                      ['12293612', 'Miscellaneous', 'The Open Door']\n",
      "/Users/tgadfort/matched/F\n",
      "   Fatboy Slim\n",
      "\tSlash Dot Dash                                     ['10549858', 'Videos', 'Slash Dot Dash']\n",
      "/Users/tgadfort/matched/G\n",
      "/Users/tgadfort/matched/H\n",
      "/Users/tgadfort/matched/I\n",
      "   Ike & Tina Turner\n",
      "\tThe Hits Collection                                ['6104637', 'Compilations', 'The Hits Collection']\n",
      "/Users/tgadfort/matched/J\n",
      "/Users/tgadfort/matched/K\n",
      "/Users/tgadfort/matched/L\n",
      "   Lenny Kravitz\n",
      "\tGreatest Hits                                      ['9542088', 'Compilations', 'Greatest Hits']\n",
      "/Users/tgadfort/matched/M\n",
      "   Mando Diao\n",
      "\tGive Me Fire                                       ['9530389', 'Albums', 'Give Me Fire']\n",
      "/Users/tgadfort/matched/N\n",
      "   Nazareth\n",
      "\tGreatest Hits                                      ['3472837', 'Compilations', 'Greatest Hits']\n",
      "\tHair Of The Dog                                    ['4043812', 'Singles & EPs', 'Hair Of The Dog']\n",
      "\tNazareth (2006)                                    ['4859068', 'Compilations', 'Nazareth']\n",
      "\tThe Very Best Of                                   ['6339643', 'Compilations', 'The Very Best Of']\n",
      "   Negativland\n",
      "\tPresents Over The Edge Vol. 7: Time Zones Exchange Project ['747156', 'Albums', 'Presents Over The Edge Vol. 7: Time Zones Exchange Project']\n",
      "/Users/tgadfort/matched/Num\n",
      "/Users/tgadfort/matched/O\n",
      "   Oasis\n",
      "\tBe Here Now                                        ['8788688', 'Miscellaneous', 'Be Here Now']\n",
      "\tDefinitely Maybe                                   ['908033', 'Videos', 'Definitely Maybe']\n",
      "/Users/tgadfort/matched/P\n",
      "/Users/tgadfort/matched/Q\n",
      "/Users/tgadfort/matched/R\n",
      "/Users/tgadfort/matched/S\n",
      "   Shania Twain\n",
      "\tShania Twain                                       ['4842365', 'Compilations', 'Shania Twain']\n",
      "/Users/tgadfort/matched/T\n",
      "/Users/tgadfort/matched/The\n",
      "/Users/tgadfort/matched/U\n",
      "/Users/tgadfort/matched/V\n",
      "/Users/tgadfort/matched/W\n",
      "   Westlife\n",
      "\tWorld of Our Own                                   ['114360', 'Singles & EPs', 'World Of Our Own']\n",
      "/Users/tgadfort/matched/Xtra\n",
      "/Users/tgadfort/matched/Y\n",
      "/Users/tgadfort/matched/Z\n"
     ]
    }
   ],
   "source": [
    "moveData = {}\n",
    "for dirN in findDirs(\"/Users/tgadfort/matched\"):\n",
    "    print(dirN)\n",
    "    for dirval in findDirs(dirN):\n",
    "        matchedDir = setDir(dirval, \"Match\")\n",
    "        aTypes     = ['Albums', 'Singles & EPs', 'Compilations', 'Videos', 'Miscellaneous', 'Visual', 'DJ Mixes']\n",
    "        albums     = [getDirBasics(x)[-1] for x in findDirs(matchedDir)]\n",
    "        albums     = [x for x in albums if x not in aTypes]\n",
    "        if len(albums) == 0:\n",
    "            continue\n",
    "        \n",
    "        artistName = getDirBasics(dirval)[-1]\n",
    "        artistName = normalize('NFC', artistName)\n",
    "        \n",
    "        discogsArtist = myMusicNameIDMap[artistName]\n",
    "        \n",
    "        idx                      = discogsArtist[0]\n",
    "        discogsArtistName        = discogsArtist[1]\n",
    "        discogsArtistAlbumsData  = getRowByIndex(artistAlbumsDB, idx)\n",
    "        discogsArtistAlbums      = discogsArtistAlbumsData[\"Albums\"]\n",
    "        \n",
    "        \n",
    "        for myAlbumName in albums:\n",
    "            myAlbumName = normalize('NFC', myAlbumName)\n",
    "            maxRatio    = None\n",
    "            dbAlbumData = {}\n",
    "            for albumType, albumTypeData in discogsArtistAlbums.items():\n",
    "                for albumID, dbAlbumName in albumTypeData.items():\n",
    "                    convDiscogsAlbumName = discConv(dbAlbumName)\n",
    "                    s = SequenceMatcher(None, myAlbumName, convDiscogsAlbumName)\n",
    "                    ratio = round(s.ratio(), 2)\n",
    "                    if ratio > 0.0:\n",
    "                        if maxRatio is None:\n",
    "                            maxRatio = ratio\n",
    "                        else:\n",
    "                            if ratio < maxRatio:\n",
    "                                continue\n",
    "                            maxRatio = ratio\n",
    "\n",
    "                        if moveData.get(artistName) is None:\n",
    "                            print('  ',artistName)\n",
    "                            moveData[artistName] = {\"Dir\": matchedDir, \"Albums\": {}}\n",
    "                        moveData[artistName][\"Albums\"][myAlbumName] = [albumID, albumType, convDiscogsAlbumName]\n",
    "       \n",
    "            if maxRatio is not None:\n",
    "                print('\\t{0: <50}'.format(myAlbumName),moveData[artistName][\"Albums\"][myAlbumName])"
   ]
  },
  {
   "cell_type": "code",
   "execution_count": 72,
   "metadata": {},
   "outputs": [
    {
     "name": "stdout",
     "output_type": "stream",
     "text": [
      "Saving data to matchedMoveMusicDiscogsAlbumMap.yaml\n",
      "Saved data to matchedMoveMusicDiscogsAlbumMap.yaml\n",
      "  --> This file is 3.6kB.\n",
      "Found 18 music <-> discogs albums maps\n"
     ]
    }
   ],
   "source": [
    "saveFile(ifile=\"matchedMoveMusicDiscogsAlbumMap.yaml\", idata=moveData, debug=True)\n",
    "print(\"Found {0} music <-> discogs albums maps\".format(len(moveData)))"
   ]
  },
  {
   "cell_type": "code",
   "execution_count": 73,
   "metadata": {},
   "outputs": [
    {
     "name": "stdout",
     "output_type": "stream",
     "text": [
      "Loading data from matchedMoveMusicDiscogsAlbumMap.yaml\n",
      "  --> This file is 3.6kB.\n",
      "Loading matchedMoveMusicDiscogsAlbumMap.yaml\n",
      "Found 18 music <-> discogs albums maps\n"
     ]
    }
   ],
   "source": [
    "moveData = getFile(ifile=\"matchedMoveMusicDiscogsAlbumMap.yaml\", debug=True)\n",
    "print(\"Found {0} music <-> discogs albums maps\".format(len(moveData)))"
   ]
  },
  {
   "cell_type": "code",
   "execution_count": 102,
   "metadata": {},
   "outputs": [
    {
     "name": "stdout",
     "output_type": "stream",
     "text": [
      "Moving /Users/tgadfort/matched/A/AC-DC/Match/'74 Jailbreak\n",
      "Moving /Users/tgadfort/matched/A/AC-DC/Match/Back In Black\n",
      "Moving /Users/tgadfort/matched/A/AC-DC/Match/Ballbreaker\n",
      "Moving /Users/tgadfort/matched/A/AC-DC/Match/Dirty Deeds Done Dirt Cheap\n",
      "Moving /Users/tgadfort/matched/A/AC-DC/Match/Dirty Deeds Done Dirt Cheap (Live)\n",
      "Moving /Users/tgadfort/matched/A/AC-DC/Match/Flick Of The Switch\n",
      "Moving /Users/tgadfort/matched/A/AC-DC/Match/Fly On The Wall\n",
      "Moving /Users/tgadfort/matched/A/AC-DC/Match/For Those About To Rock (We Salute You)\n",
      "Moving /Users/tgadfort/matched/A/AC-DC/Match/High Voltage\n",
      "Moving /Users/tgadfort/matched/A/AC-DC/Match/Highway To Hell\n",
      "Moving /Users/tgadfort/matched/A/AC-DC/Match/Let There Be Rock\n",
      "Moving /Users/tgadfort/matched/A/AC-DC/Match/Stiff Upper Lip\n",
      "Moving /Users/tgadfort/matched/A/AC-DC/Match/The Razors Edge\n",
      "Moving /Users/tgadfort/matched/A/AC-DC/Match/Who Made Who\n",
      "Moving /Users/tgadfort/matched/C/Cyndi Lauper/Match/Shine\n",
      "Moving /Users/tgadfort/matched/C/Cyndi Lauper/Match/Time After Time: The Best Of\n",
      "Moving /Users/tgadfort/matched/D/Daft Punk/Match/Human After All\n",
      "Moving /Users/tgadfort/matched/E/Evanescence/Match/The Open Door\n",
      "Moving /Users/tgadfort/matched/F/Fatboy Slim/Match/Slash Dot Dash\n",
      "Moving /Users/tgadfort/matched/I/Ike & Tina Turner/Match/The Hits Collection\n",
      "Moving /Users/tgadfort/matched/L/Lenny Kravitz/Match/Greatest Hits\n",
      "Moving /Users/tgadfort/matched/M/Mando Diao/Match/Give Me Fire\n",
      "Moving /Users/tgadfort/matched/N/Nazareth/Match/Greatest Hits\n",
      "Moving /Users/tgadfort/matched/N/Nazareth/Match/Hair Of The Dog\n",
      "Moving /Users/tgadfort/matched/N/Nazareth/Match/Nazareth (2006)\n",
      "Moving /Users/tgadfort/matched/N/Nazareth/Match/The Very Best Of\n",
      "Moving /Users/tgadfort/matched/N/Negativland/Match/Presents Over The Edge Vol. 7: Time Zones Exchange Project\n",
      "Moving /Users/tgadfort/matched/O/Oasis/Match/Be Here Now\n",
      "Moving /Users/tgadfort/matched/O/Oasis/Match/Definitely Maybe\n",
      "Moving /Users/tgadfort/matched/S/Shania Twain/Match/Shania Twain\n",
      "Moving /Users/tgadfort/matched/W/Westlife/Match/World of Our Own\n"
     ]
    }
   ],
   "source": [
    "atypes = {}\n",
    "for artistName,artistMoveData in moveData.items():\n",
    "    dirval = artistMoveData[\"Dir\"]\n",
    "    albums = artistMoveData[\"Albums\"]\n",
    "    for myAlbumName, dbAlbumData in albums.items():\n",
    "        albumID, albumType, convDiscogsAlbumName = dbAlbumData[0], dbAlbumData[1], dbAlbumData[2]\n",
    "        atypes[albumType] = True\n",
    "        albumTypeDir = setDir(dirval, albumType)\n",
    "        mkDir(albumTypeDir)\n",
    "        srcDir  = setDir(dirval, myAlbumName)\n",
    "        dstName = \" :: \".join([myAlbumName, \"[{0}]\".format(albumID)])\n",
    "        dstDir  = setDir(albumTypeDir, dstName)\n",
    "        print(\"Moving {0}\".format(srcDir))\n",
    "        moveDir(srcDir, dstDir)"
   ]
  },
  {
   "cell_type": "code",
   "execution_count": null,
   "metadata": {},
   "outputs": [],
   "source": [
    "list(atypes.keys())"
   ]
  },
  {
   "cell_type": "code",
   "execution_count": null,
   "metadata": {},
   "outputs": [],
   "source": []
  },
  {
   "cell_type": "code",
   "execution_count": null,
   "metadata": {},
   "outputs": [],
   "source": []
  },
  {
   "cell_type": "code",
   "execution_count": null,
   "metadata": {},
   "outputs": [],
   "source": [
    "for artistName,v in musicAlbumIDMap.items():\n",
    "    print(artistName)\n",
    "    for myAlbumName,v2 in v.items():\n",
    "        print(\"\\t\",myAlbumName,'\\t',v2)"
   ]
  },
  {
   "cell_type": "code",
   "execution_count": null,
   "metadata": {},
   "outputs": [],
   "source": [
    "if True:\n",
    "    saveFile(ifile=\"skipMusicDiscogsAlbumMap.yaml\", idata=skipMusicAlbumIDMap, debug=True)\n",
    "    print(\"Found {0} music <-> discogs albums maps\".format(len(skipMusicAlbumIDMap)))\n",
    "skipMusicAlbumIDMap"
   ]
  },
  {
   "cell_type": "code",
   "execution_count": null,
   "metadata": {},
   "outputs": [],
   "source": [
    "saveFile(ifile=\"newMusicDiscogsAlbumMap.yaml\", idata=musicAlbumIDMap, debug=True)\n",
    "print(\"Found {0} music <-> discogs albums maps\".format(len(musicAlbumIDMap)))"
   ]
  },
  {
   "cell_type": "code",
   "execution_count": null,
   "metadata": {},
   "outputs": [],
   "source": [
    "musicAlbumIDMap = getFile(ifile=\"newMusicDiscogsAlbumMap.yaml\", debug=True)\n",
    "print(\"Found {0} music <-> discogs albums maps\".format(len(musicAlbumIDMap)))"
   ]
  },
  {
   "cell_type": "markdown",
   "metadata": {},
   "source": [
    "## Merge Maps (if needed)"
   ]
  },
  {
   "cell_type": "code",
   "execution_count": null,
   "metadata": {},
   "outputs": [],
   "source": [
    "for artistName,v in musicAlbumIDMap.items():\n",
    "    for myAlbumName,v2 in v.items():\n",
    "        if myMusicAlbumIDMap.get(artistName) is None:\n",
    "            print(\"Adding {0}\".format(artistName))\n",
    "            myMusicAlbumIDMap[artistName] = {}\n",
    "        if myMusicAlbumIDMap[artistName].get(myAlbumName) is None:\n",
    "            print(\"Adding {0}/{1} ---> {2}\".format(artistName, myAlbumName, v2))\n",
    "            myMusicAlbumIDMap[artistName][myAlbumName] = v2"
   ]
  },
  {
   "cell_type": "code",
   "execution_count": null,
   "metadata": {},
   "outputs": [],
   "source": [
    "from ioUtils import saveFile\n",
    "saveFile(ifile=\"musicDiscogsAlbumMap.p\", idata=myMusicAlbumIDMap, debug=True)\n",
    "print(\"Found {0} music <-> discogs albums maps\".format(len(myMusicAlbumIDMap)))"
   ]
  },
  {
   "cell_type": "code",
   "execution_count": null,
   "metadata": {},
   "outputs": [],
   "source": [
    "saveFile(ifile=\"musicDiscogsAlbumMap.yaml\", idata=myMusicAlbumIDMap, debug=True)"
   ]
  },
  {
   "cell_type": "markdown",
   "metadata": {},
   "source": [
    "# Rename Albums"
   ]
  },
  {
   "cell_type": "code",
   "execution_count": null,
   "metadata": {},
   "outputs": [],
   "source": [
    "musicAlbumIDMap = getFile(ifile=\"musicDiscogsAlbumMap.yaml\", debug=True)\n",
    "print(\"Found {0} music <-> discogs albums maps\".format(len(musicAlbumIDMap)))"
   ]
  },
  {
   "cell_type": "code",
   "execution_count": null,
   "metadata": {},
   "outputs": [],
   "source": [
    "renames = {}\n",
    "for dirN in findDirs(\"/Users/tgadfort/matched\"):\n",
    "    print(dirN)\n",
    "    for dirval in findDirs(dirN):        \n",
    "        artistName = getDirBasics(dirval)[-1]\n",
    "        artistName = normalize('NFC', artistName)\n",
    "        if musicAlbumIDMap.get(artistName) is None:\n",
    "            continue\n",
    "        print(\"    {0}\".format(artistName))\n",
    "        for album, albumdata in musicAlbumIDMap[artistName].items():\n",
    "            print(\"\\t[{0}]   ====>   [{1}]\".format(album,albumdata[1]))\n",
    "            srcAlbumName = album\n",
    "            dstAlbumName = discConv(albumdata[1])\n",
    "            if srcAlbumName != dstAlbumName:\n",
    "                if renames.get(dirval) is None:\n",
    "                    renames[dirval] = {}\n",
    "                renames[dirval][srcAlbumName] = dstAlbumName"
   ]
  },
  {
   "cell_type": "code",
   "execution_count": null,
   "metadata": {},
   "outputs": [],
   "source": [
    "saveFile(ifile=\"musicRenames.yaml\", idata=renames, debug=True)"
   ]
  },
  {
   "cell_type": "code",
   "execution_count": null,
   "metadata": {},
   "outputs": [],
   "source": [
    "renameData = getFile(ifile=\"musicRenames.yaml\", debug=True)"
   ]
  },
  {
   "cell_type": "code",
   "execution_count": null,
   "metadata": {},
   "outputs": [],
   "source": [
    "from fsUtils import isDir\n",
    "for dirval,artistdata in renameData.items():\n",
    "    for src,dst in artistdata.items():\n",
    "        srcDir = setDir(dirval, src)\n",
    "        dstDir = setDir(dirval, dst)\n",
    "        print(dstDir,isDir(dstDir))\n",
    "        if srcDir != dstDir and not isDir(dstDir):\n",
    "            print(\"Moving {0} -> {1}\".format(srcDir, dstDir))\n",
    "            moveDir(srcDir, dstDir, debug=True)"
   ]
  },
  {
   "cell_type": "code",
   "execution_count": null,
   "metadata": {},
   "outputs": [],
   "source": []
  }
 ],
 "metadata": {
  "kernelspec": {
   "display_name": "Python 3",
   "language": "python",
   "name": "python3"
  },
  "language_info": {
   "codemirror_mode": {
    "name": "ipython",
    "version": 3
   },
   "file_extension": ".py",
   "mimetype": "text/x-python",
   "name": "python",
   "nbconvert_exporter": "python",
   "pygments_lexer": "ipython3",
   "version": "3.7.3"
  }
 },
 "nbformat": 4,
 "nbformat_minor": 2
}
