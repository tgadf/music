{
 "cells": [
  {
   "cell_type": "code",
   "execution_count": 2,
   "metadata": {},
   "outputs": [
    {
     "name": "stdout",
     "output_type": "stream",
     "text": [
      "The autoreload extension is already loaded. To reload it, use:\n",
      "  %reload_ext autoreload\n"
     ]
    },
    {
     "data": {
      "text/html": [
       "<style>.container { width:100% !important; }</style>"
      ],
      "text/plain": [
       "<IPython.core.display.HTML object>"
      ]
     },
     "metadata": {},
     "output_type": "display_data"
    },
    {
     "data": {
      "text/html": [
       "<style>div.output_area{max-height:10000px;overflow:scroll;}</style>"
      ],
      "text/plain": [
       "<IPython.core.display.HTML object>"
      ]
     },
     "metadata": {},
     "output_type": "display_data"
    }
   ],
   "source": [
    "## Basic stuff\n",
    "%load_ext autoreload\n",
    "%autoreload\n",
    "from IPython.core.display import display, HTML\n",
    "display(HTML(\"<style>.container { width:100% !important; }</style>\"))\n",
    "display(HTML(\"\"\"<style>div.output_area{max-height:10000px;overflow:scroll;}</style>\"\"\"))\n",
    "\n",
    "\n",
    "from searchUtils import findDirs\n",
    "from fsUtils import setDir, isDir, moveDir\n",
    "from fileUtils import getDirBasics\n",
    "from os import getcwd\n",
    "from musicBase import myMusicBase"
   ]
  },
  {
   "cell_type": "code",
   "execution_count": 4,
   "metadata": {},
   "outputs": [
    {
     "name": "stdout",
     "output_type": "stream",
     "text": [
      "My Music Base: ['/Volumes/Piggy/Music/Matched']\n",
      "Music Dir: /Volumes/Piggy/Music/Matched\n"
     ]
    }
   ],
   "source": [
    "mmb      = myMusicBase()\n",
    "musicDir = mmb.musicDirs[0]\n",
    "print(\"Music Dir: {0}\".format(musicDir))"
   ]
  },
  {
   "cell_type": "code",
   "execution_count": 5,
   "metadata": {},
   "outputs": [
    {
     "data": {
      "text/plain": [
       "['Buck Owens',\n",
       " 'Charles Mingus',\n",
       " 'Cher',\n",
       " 'Eddie Rabbitt',\n",
       " 'Ella Fitzgerald',\n",
       " 'Extreme',\n",
       " 'Jodeci',\n",
       " 'Joe',\n",
       " 'Joe Jackson',\n",
       " 'Joe Public',\n",
       " 'John Coltrane',\n",
       " 'John Parr',\n",
       " 'Loretta Lynn',\n",
       " 'Machine Gun Kelly',\n",
       " 'Manfred Mann',\n",
       " 'MC Lyte',\n",
       " 'Michelle Branch',\n",
       " 'Patti LaBelle',\n",
       " 'Rahzel',\n",
       " 'Rancid',\n",
       " 'Ronan Keating',\n",
       " 'Sammy Kershaw',\n",
       " \"The Go-Go's\",\n",
       " 'The Isley Brothers',\n",
       " 'The Kinks',\n",
       " 'The Manhattan Transfer',\n",
       " 'The Marshall Tucker Band',\n",
       " 'The Pussycat Dolls',\n",
       " 'Thelonious Monk',\n",
       " 'Vanessa Carlton']"
      ]
     },
     "execution_count": 5,
     "metadata": {},
     "output_type": "execute_result"
    }
   ],
   "source": [
    "dirsToMove = [x[2:] for x in findDirs(\"./\")]\n",
    "dirsToMove = [x for x in dirsToMove if x not in [\"Done\"]]\n",
    "dirsToMove"
   ]
  },
  {
   "cell_type": "code",
   "execution_count": 6,
   "metadata": {},
   "outputs": [
    {
     "name": "stdout",
     "output_type": "stream",
     "text": [
      "Artist directory /Volumes/Piggy/Music/Matched/B/Buck Owens already exists\n",
      "Artist directory /Volumes/Piggy/Music/Matched/C/Charles Mingus already exists\n",
      "Artist directory /Volumes/Piggy/Music/Matched/C/Cher already exists\n",
      "Artist directory /Volumes/Piggy/Music/Matched/E/Eddie Rabbitt already exists\n",
      "Artist directory /Volumes/Piggy/Music/Matched/E/Ella Fitzgerald already exists\n",
      "Artist directory /Volumes/Piggy/Music/Matched/E/Extreme already exists\n",
      "Artist directory /Volumes/Piggy/Music/Matched/J/Jodeci already exists\n",
      "Artist directory /Volumes/Piggy/Music/Matched/J/Joe already exists\n",
      "Artist directory /Volumes/Piggy/Music/Matched/J/Joe Jackson already exists\n",
      "Artist directory /Volumes/Piggy/Music/Matched/J/Joe Public already exists\n",
      "Artist directory /Volumes/Piggy/Music/Matched/J/John Coltrane already exists\n",
      "Artist directory /Volumes/Piggy/Music/Matched/J/John Parr already exists\n",
      "Artist directory /Volumes/Piggy/Music/Matched/L/Loretta Lynn already exists\n",
      "Artist directory /Volumes/Piggy/Music/Matched/M/Machine Gun Kelly already exists\n",
      "Artist directory /Volumes/Piggy/Music/Matched/M/Manfred Mann already exists\n",
      "Artist directory /Volumes/Piggy/Music/Matched/M/MC Lyte already exists\n",
      "Artist directory /Volumes/Piggy/Music/Matched/M/Michelle Branch already exists\n",
      "Artist directory /Volumes/Piggy/Music/Matched/P/Patti LaBelle already exists\n",
      "Artist directory /Volumes/Piggy/Music/Matched/R/Rahzel already exists\n",
      "Artist directory /Volumes/Piggy/Music/Matched/R/Rancid already exists\n",
      "Artist directory /Volumes/Piggy/Music/Matched/R/Ronan Keating already exists\n",
      "Artist directory /Volumes/Piggy/Music/Matched/S/Sammy Kershaw already exists\n",
      "Artist directory /Volumes/Piggy/Music/Matched/The/The Go-Go's already exists\n",
      "Artist directory /Volumes/Piggy/Music/Matched/The/The Isley Brothers already exists\n",
      "Artist directory /Volumes/Piggy/Music/Matched/The/The Kinks already exists\n",
      "Artist directory /Volumes/Piggy/Music/Matched/The/The Manhattan Transfer already exists\n",
      "Artist directory /Volumes/Piggy/Music/Matched/The/The Marshall Tucker Band already exists\n",
      "Artist directory /Volumes/Piggy/Music/Matched/The/The Pussycat Dolls already exists\n",
      "Artist directory /Volumes/Piggy/Music/Matched/T/Thelonious Monk already exists\n",
      "Artist directory /Volumes/Piggy/Music/Matched/V/Vanessa Carlton already exists\n"
     ]
    }
   ],
   "source": [
    "for dirToMove in dirsToMove:\n",
    "    pd = mmb.getPrimeDirectory(dirToMove)\n",
    "    moveToDir = setDir(musicDir, pd)\n",
    "    if not isDir(moveToDir):\n",
    "        raise ValueError(\"Cannot move because {0} doesn't exist\".format(moveToDir))\n",
    "    artistDir = setDir(moveToDir, dirToMove)\n",
    "    if isDir(artistDir):\n",
    "        print(\"Artist directory {0} already exists\".format(artistDir))\n",
    "        continue\n",
    "    srcDir = setDir(getcwd(), dirToMove)\n",
    "    dstDir = artistDir\n",
    "    print(srcDir,'\\t->\\t',dstDir)\n",
    "    moveDir(srcDir, dstDir)"
   ]
  },
  {
   "cell_type": "code",
   "execution_count": null,
   "metadata": {},
   "outputs": [
    {
     "name": "stdout",
     "output_type": "stream",
     "text": [
      "Srcdir: /Volumes/Seagate/Torrents/Move/Buck Owens\n",
      "Dstdir: /Volumes/Piggy/Music/Matched/B/Buck Owens\n",
      "/Volumes/Seagate/Torrents/Move/Buck Owens/The Buck Owens Collection \t->\t /Volumes/Piggy/Music/Matched/B/Buck Owens/The Buck Owens Collection\n",
      "Srcdir: /Volumes/Seagate/Torrents/Move/Charles Mingus\n",
      "Dstdir: /Volumes/Piggy/Music/Matched/C/Charles Mingus\n",
      "/Volumes/Seagate/Torrents/Move/Charles Mingus/Ahus \t->\t /Volumes/Piggy/Music/Matched/C/Charles Mingus/Ahus\n",
      "/Volumes/Seagate/Torrents/Move/Charles Mingus/At Antibes \t->\t /Volumes/Piggy/Music/Matched/C/Charles Mingus/At Antibes\n",
      "/Volumes/Seagate/Torrents/Move/Charles Mingus/At the Bohemia \t->\t /Volumes/Piggy/Music/Matched/C/Charles Mingus/At the Bohemia\n",
      "/Volumes/Seagate/Torrents/Move/Charles Mingus/Backtracks \t->\t /Volumes/Piggy/Music/Matched/C/Charles Mingus/Backtracks\n",
      "/Volumes/Seagate/Torrents/Move/Charles Mingus/Blues & Roots \t->\t /Volumes/Piggy/Music/Matched/C/Charles Mingus/Blues & Roots\n",
      "/Volumes/Seagate/Torrents/Move/Charles Mingus/Changes One & Two (2CD) \t->\t /Volumes/Piggy/Music/Matched/C/Charles Mingus/Changes One & Two (2CD)\n",
      "/Volumes/Seagate/Torrents/Move/Charles Mingus/Complete 1945-1949 West Coast Recordings \t->\t /Volumes/Piggy/Music/Matched/C/Charles Mingus/Complete 1945-1949 West Coast Recordings\n",
      "/Volumes/Seagate/Torrents/Move/Charles Mingus/Cornell (2CD) \t->\t /Volumes/Piggy/Music/Matched/C/Charles Mingus/Cornell (2CD)\n",
      "/Volumes/Seagate/Torrents/Move/Charles Mingus/Cumbia & Jazz Fusion \t->\t /Volumes/Piggy/Music/Matched/C/Charles Mingus/Cumbia & Jazz Fusion\n",
      "/Volumes/Seagate/Torrents/Move/Charles Mingus/Debuts rarities (Vol. 4, 1952-1953) \t->\t /Volumes/Piggy/Music/Matched/C/Charles Mingus/Debuts rarities (Vol. 4, 1952-1953)\n",
      "/Volumes/Seagate/Torrents/Move/Charles Mingus/Debuts rarities {Vol. 1,1953-1957} \t->\t /Volumes/Piggy/Music/Matched/C/Charles Mingus/Debuts rarities {Vol. 1,1953-1957}\n",
      "/Volumes/Seagate/Torrents/Move/Charles Mingus/Eight Classic Albums (4CD) \t->\t /Volumes/Piggy/Music/Matched/C/Charles Mingus/Eight Classic Albums (4CD)\n",
      "/Volumes/Seagate/Torrents/Move/Charles Mingus/Epitaph (2CD) \t->\t /Volumes/Piggy/Music/Matched/C/Charles Mingus/Epitaph (2CD)\n",
      "/Volumes/Seagate/Torrents/Move/Charles Mingus/Good Bye Pork Pie Hat \t->\t /Volumes/Piggy/Music/Matched/C/Charles Mingus/Good Bye Pork Pie Hat\n",
      "/Volumes/Seagate/Torrents/Move/Charles Mingus/Immortal Concerts \t->\t /Volumes/Piggy/Music/Matched/C/Charles Mingus/Immortal Concerts\n",
      "/Volumes/Seagate/Torrents/Move/Charles Mingus/In Concert (2CD) \t->\t /Volumes/Piggy/Music/Matched/C/Charles Mingus/In Concert (2CD)\n",
      "/Volumes/Seagate/Torrents/Move/Charles Mingus/Intrusions \t->\t /Volumes/Piggy/Music/Matched/C/Charles Mingus/Intrusions\n",
      "/Volumes/Seagate/Torrents/Move/Charles Mingus/Jazz Composers Workshop \t->\t /Volumes/Piggy/Music/Matched/C/Charles Mingus/Jazz Composers Workshop\n",
      "/Volumes/Seagate/Torrents/Move/Charles Mingus/Ken Burns Jazz  \t->\t /Volumes/Piggy/Music/Matched/C/Charles Mingus/Ken Burns Jazz \n",
      "/Volumes/Seagate/Torrents/Move/Charles Mingus/King of Mingus (10CD) \t->\t /Volumes/Piggy/Music/Matched/C/Charles Mingus/King of Mingus (10CD)\n",
      "/Volumes/Seagate/Torrents/Move/Charles Mingus/Let My Children Hear Music \t->\t /Volumes/Piggy/Music/Matched/C/Charles Mingus/Let My Children Hear Music\n",
      "/Volumes/Seagate/Torrents/Move/Charles Mingus/Lock 'Em Up \t->\t /Volumes/Piggy/Music/Matched/C/Charles Mingus/Lock 'Em Up\n",
      "/Volumes/Seagate/Torrents/Move/Charles Mingus/Me, Myself An Eye \t->\t /Volumes/Piggy/Music/Matched/C/Charles Mingus/Me, Myself An Eye\n",
      "/Volumes/Seagate/Torrents/Move/Charles Mingus/Mingus  At Carnegie Hall \t->\t /Volumes/Piggy/Music/Matched/C/Charles Mingus/Mingus  At Carnegie Hall\n",
      "/Volumes/Seagate/Torrents/Move/Charles Mingus/Mingus Ah Um \t->\t /Volumes/Piggy/Music/Matched/C/Charles Mingus/Mingus Ah Um\n",
      "/Volumes/Seagate/Torrents/Move/Charles Mingus/Mingus At Monterey \t->\t /Volumes/Piggy/Music/Matched/C/Charles Mingus/Mingus At Monterey\n",
      "/Volumes/Seagate/Torrents/Move/Charles Mingus/Mingus in Europe \t->\t /Volumes/Piggy/Music/Matched/C/Charles Mingus/Mingus in Europe\n",
      "/Volumes/Seagate/Torrents/Move/Charles Mingus/Mingus in Europe Vol. 1 \t->\t /Volumes/Piggy/Music/Matched/C/Charles Mingus/Mingus in Europe Vol. 1\n",
      "/Volumes/Seagate/Torrents/Move/Charles Mingus/Mingus In Wonderland \t->\t /Volumes/Piggy/Music/Matched/C/Charles Mingus/Mingus In Wonderland\n",
      "/Volumes/Seagate/Torrents/Move/Charles Mingus/Mingus Mingus Mingus Mingus Mingus \t->\t /Volumes/Piggy/Music/Matched/C/Charles Mingus/Mingus Mingus Mingus Mingus Mingus\n",
      "/Volumes/Seagate/Torrents/Move/Charles Mingus/Mingus Moves \t->\t /Volumes/Piggy/Music/Matched/C/Charles Mingus/Mingus Moves\n",
      "/Volumes/Seagate/Torrents/Move/Charles Mingus/Mingus Plays Piano \t->\t /Volumes/Piggy/Music/Matched/C/Charles Mingus/Mingus Plays Piano\n",
      "/Volumes/Seagate/Torrents/Move/Charles Mingus/Mingus Revisited \t->\t /Volumes/Piggy/Music/Matched/C/Charles Mingus/Mingus Revisited\n",
      "/Volumes/Seagate/Torrents/Move/Charles Mingus/Minor Intrusion (Quadromania, 4CD) \t->\t /Volumes/Piggy/Music/Matched/C/Charles Mingus/Minor Intrusion (Quadromania, 4CD)\n",
      "/Volumes/Seagate/Torrents/Move/Charles Mingus/New Tijuana Moods \t->\t /Volumes/Piggy/Music/Matched/C/Charles Mingus/New Tijuana Moods\n",
      "/Volumes/Seagate/Torrents/Move/Charles Mingus/Oh Yeah \t->\t /Volumes/Piggy/Music/Matched/C/Charles Mingus/Oh Yeah\n",
      "/Volumes/Seagate/Torrents/Move/Charles Mingus/Original Faubus Fables \t->\t /Volumes/Piggy/Music/Matched/C/Charles Mingus/Original Faubus Fables\n",
      "/Volumes/Seagate/Torrents/Move/Charles Mingus/Passions of a Man \t->\t /Volumes/Piggy/Music/Matched/C/Charles Mingus/Passions of a Man\n",
      "/Volumes/Seagate/Torrents/Move/Charles Mingus/Pithecanthropus Erectus \t->\t /Volumes/Piggy/Music/Matched/C/Charles Mingus/Pithecanthropus Erectus\n",
      "/Volumes/Seagate/Torrents/Move/Charles Mingus/Pre-Bird \t->\t /Volumes/Piggy/Music/Matched/C/Charles Mingus/Pre-Bird\n",
      "/Volumes/Seagate/Torrents/Move/Charles Mingus/Presents Charles Mingus \t->\t /Volumes/Piggy/Music/Matched/C/Charles Mingus/Presents Charles Mingus\n",
      "/Volumes/Seagate/Torrents/Move/Charles Mingus/Priceless Jazz Collection \t->\t /Volumes/Piggy/Music/Matched/C/Charles Mingus/Priceless Jazz Collection\n",
      "/Volumes/Seagate/Torrents/Move/Charles Mingus/Reincarnation of a Love Bird \t->\t /Volumes/Piggy/Music/Matched/C/Charles Mingus/Reincarnation of a Love Bird\n",
      "/Volumes/Seagate/Torrents/Move/Charles Mingus/Right Now (Live At the Jazz Workshop) \t->\t /Volumes/Piggy/Music/Matched/C/Charles Mingus/Right Now (Live At the Jazz Workshop)\n",
      "/Volumes/Seagate/Torrents/Move/Charles Mingus/Shoes of the Fisherman's Wife \t->\t /Volumes/Piggy/Music/Matched/C/Charles Mingus/Shoes of the Fisherman's Wife\n",
      "/Volumes/Seagate/Torrents/Move/Charles Mingus/The Black Saint and the Sinner Lady \t->\t /Volumes/Piggy/Music/Matched/C/Charles Mingus/The Black Saint and the Sinner Lady\n",
      "/Volumes/Seagate/Torrents/Move/Charles Mingus/The Charles Mingus Quintet + Max Roach \t->\t /Volumes/Piggy/Music/Matched/C/Charles Mingus/The Charles Mingus Quintet + Max Roach\n",
      "/Volumes/Seagate/Torrents/Move/Charles Mingus/The Clown \t->\t /Volumes/Piggy/Music/Matched/C/Charles Mingus/The Clown\n",
      "/Volumes/Seagate/Torrents/Move/Charles Mingus/The Complete Bremen Concert (2CD) \t->\t /Volumes/Piggy/Music/Matched/C/Charles Mingus/The Complete Bremen Concert (2CD)\n",
      "/Volumes/Seagate/Torrents/Move/Charles Mingus/The Complete Candid Recordings of Charles Mingus \t->\t /Volumes/Piggy/Music/Matched/C/Charles Mingus/The Complete Candid Recordings of Charles Mingus\n",
      "/Volumes/Seagate/Torrents/Move/Charles Mingus/The Complete Columbia & RCA Albums Collection (10CD) \t->\t /Volumes/Piggy/Music/Matched/C/Charles Mingus/The Complete Columbia & RCA Albums Collection (10CD)\n",
      "/Volumes/Seagate/Torrents/Move/Charles Mingus/The Complete Columbia Recordings (3CD) \t->\t /Volumes/Piggy/Music/Matched/C/Charles Mingus/The Complete Columbia Recordings (3CD)\n",
      "/Volumes/Seagate/Torrents/Move/Charles Mingus/The Complete Town Hall Concert \t->\t /Volumes/Piggy/Music/Matched/C/Charles Mingus/The Complete Town Hall Concert\n",
      "/Volumes/Seagate/Torrents/Move/Charles Mingus/The Great Concert Of Charles Mingus (2CD) \t->\t /Volumes/Piggy/Music/Matched/C/Charles Mingus/The Great Concert Of Charles Mingus (2CD)\n",
      "/Volumes/Seagate/Torrents/Move/Charles Mingus/The Great Concert, Paris (2CD) \t->\t /Volumes/Piggy/Music/Matched/C/Charles Mingus/The Great Concert, Paris (2CD)\n"
     ]
    },
    {
     "name": "stdout",
     "output_type": "stream",
     "text": [
      "/Volumes/Seagate/Torrents/Move/Charles Mingus/The Jazz Workshop Concerts \t->\t /Volumes/Piggy/Music/Matched/C/Charles Mingus/The Jazz Workshop Concerts\n",
      "/Volumes/Seagate/Torrents/Move/Charles Mingus/The Very Best Of  \t->\t /Volumes/Piggy/Music/Matched/C/Charles Mingus/The Very Best Of \n",
      "/Volumes/Seagate/Torrents/Move/Charles Mingus/This is Jazz \t->\t /Volumes/Piggy/Music/Matched/C/Charles Mingus/This is Jazz\n",
      "/Volumes/Seagate/Torrents/Move/Charles Mingus/Three Or Four Shades of Blues \t->\t /Volumes/Piggy/Music/Matched/C/Charles Mingus/Three Or Four Shades of Blues\n",
      "/Volumes/Seagate/Torrents/Move/Charles Mingus/Tijuana Moods (2CD, The Complete Edition) \t->\t /Volumes/Piggy/Music/Matched/C/Charles Mingus/Tijuana Moods (2CD, The Complete Edition)\n",
      "/Volumes/Seagate/Torrents/Move/Charles Mingus/Tonight At Noon \t->\t /Volumes/Piggy/Music/Matched/C/Charles Mingus/Tonight At Noon\n",
      "/Volumes/Seagate/Torrents/Move/Charles Mingus/Town Hall Concert (European Tour) \t->\t /Volumes/Piggy/Music/Matched/C/Charles Mingus/Town Hall Concert (European Tour)\n",
      "/Volumes/Seagate/Torrents/Move/Charles Mingus/Trilogy The Complete Bethlehem Jazz Collection (3CD) \t->\t /Volumes/Piggy/Music/Matched/C/Charles Mingus/Trilogy The Complete Bethlehem Jazz Collection (3CD)\n",
      "Srcdir: /Volumes/Seagate/Torrents/Move/Cher\n",
      "Dstdir: /Volumes/Piggy/Music/Matched/C/Cher\n",
      "Srcdir: /Volumes/Seagate/Torrents/Move/Eddie Rabbitt\n",
      "Dstdir: /Volumes/Piggy/Music/Matched/E/Eddie Rabbitt\n",
      "Srcdir: /Volumes/Seagate/Torrents/Move/Ella Fitzgerald\n",
      "Dstdir: /Volumes/Piggy/Music/Matched/E/Ella Fitzgerald\n",
      "/Volumes/Seagate/Torrents/Move/Ella Fitzgerald/Gold \t->\t /Volumes/Piggy/Music/Matched/E/Ella Fitzgerald/Gold\n",
      "/Volumes/Seagate/Torrents/Move/Ella Fitzgerald/The Best Is Yet To Come \t->\t /Volumes/Piggy/Music/Matched/E/Ella Fitzgerald/The Best Is Yet To Come\n",
      "Srcdir: /Volumes/Seagate/Torrents/Move/Extreme\n",
      "Dstdir: /Volumes/Piggy/Music/Matched/E/Extreme\n",
      "Srcdir: /Volumes/Seagate/Torrents/Move/Jodeci\n",
      "Dstdir: /Volumes/Piggy/Music/Matched/J/Jodeci\n",
      "Srcdir: /Volumes/Seagate/Torrents/Move/Joe\n",
      "Dstdir: /Volumes/Piggy/Music/Matched/J/Joe\n",
      "/Volumes/Seagate/Torrents/Move/Joe/Joe - My Name Is Joe - 2000 [FLAC] [RLG] \t->\t /Volumes/Piggy/Music/Matched/J/Joe/Joe - My Name Is Joe - 2000 [FLAC] [RLG]\n",
      "Srcdir: /Volumes/Seagate/Torrents/Move/Joe Jackson\n",
      "Dstdir: /Volumes/Piggy/Music/Matched/J/Joe Jackson\n",
      "/Volumes/Seagate/Torrents/Move/Joe Jackson/Gold \t->\t /Volumes/Piggy/Music/Matched/J/Joe Jackson/Gold\n"
     ]
    }
   ],
   "source": [
    "for dirToMove in dirsToMove:\n",
    "    pd = mmb.getPrimeDirectory(dirToMove)\n",
    "    moveToDir = setDir(musicDir, pd)\n",
    "    if not isDir(moveToDir):\n",
    "        raise ValueError(\"Cannot move because {0} doesn't exist\".format(moveToDir))\n",
    "    artistDir = setDir(moveToDir, dirToMove)\n",
    "    srcDir = setDir(getcwd(), dirToMove)\n",
    "    dstDir = artistDir\n",
    "    if isDir(artistDir):\n",
    "        print(\"Srcdir: {0}\".format(srcDir))\n",
    "        print(\"Dstdir: {0}\".format(dstDir))\n",
    "        dirs = [x for x in findDirs(srcDir)]\n",
    "        for dirval in dirs:\n",
    "            albumName = getDirBasics(dirval)[-1]\n",
    "            dstDir = setDir(artistDir, albumName)\n",
    "            if isDir(dstDir):\n",
    "                print(\"Not moving...\")\n",
    "                continue\n",
    "            srcDir = dirval\n",
    "            print(srcDir,'\\t->\\t',dstDir)\n",
    "            moveDir(srcDir, dstDir)"
   ]
  },
  {
   "cell_type": "code",
   "execution_count": null,
   "metadata": {},
   "outputs": [],
   "source": []
  }
 ],
 "metadata": {
  "kernelspec": {
   "display_name": "Python 3",
   "language": "python",
   "name": "python3"
  },
  "language_info": {
   "codemirror_mode": {
    "name": "ipython",
    "version": 3
   },
   "file_extension": ".py",
   "mimetype": "text/x-python",
   "name": "python",
   "nbconvert_exporter": "python",
   "pygments_lexer": "ipython3",
   "version": "3.7.7"
  }
 },
 "nbformat": 4,
 "nbformat_minor": 4
}
