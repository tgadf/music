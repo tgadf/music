{
 "cells": [
  {
   "cell_type": "code",
   "execution_count": 1,
   "metadata": {},
   "outputs": [
    {
     "data": {
      "text/html": [
       "<style>.container { width:100% !important; }</style>"
      ],
      "text/plain": [
       "<IPython.core.display.HTML object>"
      ]
     },
     "metadata": {},
     "output_type": "display_data"
    },
    {
     "data": {
      "text/html": [
       "<style>div.output_area{max-height:10000px;overflow:scroll;}</style>"
      ],
      "text/plain": [
       "<IPython.core.display.HTML object>"
      ]
     },
     "metadata": {},
     "output_type": "display_data"
    },
    {
     "name": "stderr",
     "output_type": "stream",
     "text": [
      "/Users/tgadfort/opt/anaconda3/envs/py37/lib/python3.7/site-packages/sklearn/externals/joblib/__init__.py:15: FutureWarning: sklearn.externals.joblib is deprecated in 0.21 and will be removed in 0.23. Please import this functionality directly from joblib, which can be installed with: pip install joblib. If this warning is raised when loading pickled models, you may need to re-serialize those models with scikit-learn 0.21+.\n",
      "  warnings.warn(msg, category=FutureWarning)\n"
     ]
    }
   ],
   "source": [
    "###########################################################################\n",
    "## Basic stuff\n",
    "###########################################################################\n",
    "%load_ext autoreload\n",
    "%autoreload\n",
    "from IPython.core.display import display, HTML\n",
    "display(HTML(\"<style>.container { width:100% !important; }</style>\"))\n",
    "display(HTML(\"\"\"<style>div.output_area{max-height:10000px;overflow:scroll;}</style>\"\"\"))\n",
    "\n",
    "\n",
    "###########################################################################\n",
    "## Music\n",
    "###########################################################################\n",
    "from myMusicPathData import myMusicPathData\n",
    "\n",
    "###########################################################################\n",
    "## Utils\n",
    "###########################################################################\n",
    "from timeUtils import timestat\n",
    "from fileIO import fileIO\n",
    "from fsUtils import fsPath, fsInfo, dirUtil, fileUtil\n",
    "\n",
    "\n",
    "###########################################################################\n",
    "## DB\n",
    "###########################################################################\n",
    "from masterManualEntries import masterManualEntries\n",
    "from masterArtistNameDB import masterArtistNameDB\n",
    "from mainDB import mainDB"
   ]
  },
  {
   "cell_type": "markdown",
   "metadata": {},
   "source": [
    "# General"
   ]
  },
  {
   "cell_type": "code",
   "execution_count": null,
   "metadata": {},
   "outputs": [],
   "source": [
    "mme = masterManualEntries()\n",
    "\n",
    "manDB      = masterArtistNameDB(\"main\")\n",
    "multimanDB = masterArtistNameDB(\"multi\")\n",
    "\n",
    "maindb = mainDB()\n",
    "\n",
    "io = fileIO()\n",
    "#maindb.setMasterDBData()   ### Full DB Access"
   ]
  },
  {
   "cell_type": "markdown",
   "metadata": {},
   "source": [
    "# Find My Music"
   ]
  },
  {
   "cell_type": "code",
   "execution_count": 2,
   "metadata": {},
   "outputs": [
    {
     "name": "stdout",
     "output_type": "stream",
     "text": [
      "========================= myMusicPathData(/Volumes/Piggy/Music/Matched) =========================\n",
      "Current Time is Fri Oct 29, 2021 14:08 for Finding All Artist Albums From [O] Prime Directory\n",
      "  Found 73 Artists From [O] Prime Directory\n",
      "Process [Finding All Artist Albums From [O] Prime Directory] Took 0.8 Seconds\n"
     ]
    }
   ],
   "source": [
    "mmpd = myMusicPathData()\n",
    "mmpdData = mmpd.findMyMusic(primeDir=\"O\")"
   ]
  },
  {
   "cell_type": "code",
   "execution_count": null,
   "metadata": {},
   "outputs": [],
   "source": [
    "#mmpdData = mmpd.getData()\n",
    "mmpd.getSummary(mmpdData).head()"
   ]
  },
  {
   "cell_type": "markdown",
   "metadata": {},
   "source": [
    "# Music Details"
   ]
  },
  {
   "cell_type": "code",
   "execution_count": null,
   "metadata": {},
   "outputs": [],
   "source": [
    "import subprocess\n",
    "from fsUtils import fileUtil, dirUtil\n",
    "\n",
    "\n",
    "class myMusicPathDetails:\n",
    "    def __init__(self, debug=False):\n",
    "        self.debug = debug\n",
    "        self.units = {\"B\": pow(1024,0), \"K\": pow(1024,1), \"M\": pow(1024,2), \"G\": pow(1024,3)}\n",
    "        self.unit  = \"M\"\n",
    "        \n",
    "    def getPathSize(self, path):\n",
    "        try:\n",
    "            result = subprocess.check_output(['du','-sh', path]).split()[0].decode('utf-8')\n",
    "        except:\n",
    "            return None\n",
    "        size   = float(result[:-1])\n",
    "        unit   = result[-1]\n",
    "        size  *= (self.units[unit])/(self.units[self.unit])\n",
    "        return size"
   ]
  },
  {
   "cell_type": "code",
   "execution_count": null,
   "metadata": {},
   "outputs": [],
   "source": [
    "tmp = io.get(\"artistDirSize.p\")"
   ]
  },
  {
   "cell_type": "code",
   "execution_count": null,
   "metadata": {},
   "outputs": [],
   "source": [
    "mmpd = myMusicPathDetails()\n",
    "mmpdDF = DataFrame({artistName: Series({albumType: albumTypeData.albums for albumType,albumTypeData in artistData.albumData.items()}) for artistName,artistData in mmpdData.items()}).T"
   ]
  },
  {
   "cell_type": "code",
   "execution_count": 3,
   "metadata": {},
   "outputs": [],
   "source": [
    "from os import walk\n",
    "import subprocess\n",
    "\n",
    "def getPathSize(path,retUnit=\"M\"):\n",
    "    units = {\"B\": pow(1024,0), \"K\": pow(1024,1), \"M\": pow(1024,2), \"G\": pow(1024,3)}\n",
    "\n",
    "    try:\n",
    "        result = subprocess.check_output(['du','-sh', path]).split()[0].decode('utf-8')\n",
    "    except:\n",
    "        return None\n",
    "    size   = float(result[:-1])\n",
    "    unit   = result[-1]\n",
    "    size  *= (units[unit])/(units[retUnit])\n",
    "    return size\n",
    "\n",
    "\n",
    "def getPathFiles(path):\n",
    "    pathFiles = []\n",
    "    pathDirs  = {}\n",
    "    for i,(root, dirs, files) in enumerate(walk(path)):\n",
    "        pathFiles += [dirUtil(root).join(ifile) for ifile in files]\n",
    "        if len(dirs) > 0:\n",
    "            pathDirs.update({root: dirs})\n",
    "    return {\"Files\": pathFiles, \"Dirs\": pathDirs}\n",
    "\n",
    "\n",
    "def getPathTimestamp(path):\n",
    "    return fsPath(path).modified\n",
    "\n",
    "\n",
    "def getPathSummary(albumPathData):\n",
    "    nSubdirs = len(albumPathData['Dirs'])\n",
    "    nFiles   = len(albumPathData[\"Files\"])\n",
    "    ftypes   = Series([fsInfo(ifile).path.suffix for ifile in albumPathData[\"Files\"]]).value_counts().to_dict()\n",
    "    return {\"nSubdirs\": nSubdirs, \"nFiles\": nFiles, \"ftypes\": ftypes}"
   ]
  },
  {
   "cell_type": "code",
   "execution_count": 83,
   "metadata": {},
   "outputs": [],
   "source": [
    "def getArtistSummaryData(artistAlbums, albumsSummaryData):\n",
    "    artistSummaryData = {}\n",
    "    for artistName,artistData in artistAlbums.items():\n",
    "        artistSummaryData[artistName] = {}\n",
    "        for albumType,albumTypeData in artistData.items():\n",
    "            artistSummaryData[artistName][albumType] = {album: albumsSummaryData.loc[album] for album in albumTypeData}\n",
    "\n",
    "    retval = {}\n",
    "    for artistName,artistData in artistSummaryData.items():\n",
    "        for albumType,albumTypeData in artistData.items():\n",
    "            for album,albumData in albumTypeData.items():\n",
    "                albumName = dirUtil(album).name.split(\" :: \")[0]\n",
    "                key   = (artistName,albumType,albumName)\n",
    "                value = albumData\n",
    "                if retval.get(key) is not None:\n",
    "                    print(key)\n",
    "                retval[key] = value\n",
    "\n",
    "    df = DataFrame(retval).T\n",
    "    df = df.reset_index().rename({'level_0': \"ArtistName\", 'level_1': \"AlbumType\", 'level_2': \"AlbumName\"}, axis=1)\n",
    "    return df\n",
    "\n",
    "\n",
    "def getSummaryDataRollup(x):\n",
    "    colname = x.name\n",
    "    if colname in [\"Size\", \"nFiles\", \"nSubdirs\"]:\n",
    "        return {colname: x.astype(int).sum()}\n",
    "    elif colname in [\"Timestamp\"]:\n",
    "        return {colname: x.max()}\n",
    "    elif colname in [\"AlbumName\", \"AlbumType\", \"ArtistName\"]:\n",
    "        nunique = x.nunique()\n",
    "        if nunique == 1:\n",
    "            return {colname: x.unique()[0]}\n",
    "        else:\n",
    "            return {\"n{0}s\".format(colname[:-4]): nunique}\n",
    "    elif colname in [\"ftypes\"]:\n",
    "        return {colname: x.apply(Series).sum().to_dict()}\n",
    "    else:\n",
    "        raise ValueError(\"Not sure what to do with column [{0}]\".format(colname))\n",
    "    return 0\n",
    "\n",
    "\n",
    "def getSummaryRollupDataFrame(df, byArtist=True):\n",
    "    retval = []\n",
    "    keys   = [\"ArtistName\",\"AlbumType\",\"AlbumName\"]\n",
    "    gby    = keys[:1] if byArtist else keys[:2]\n",
    "    ignore = keys[-2:] if byArtist else keys[-1:]\n",
    "    for idx,idxDF in df.groupby(gby):\n",
    "        result = {}\n",
    "        for item in idxDF.apply(summary).values:\n",
    "            if sum([x in item.keys() for x in ignore]) == 0:\n",
    "                result.update(item)    \n",
    "        retval.append(result)\n",
    "        \n",
    "    summaryDF = DataFrame(retval).fillna(0)\n",
    "    summaryDF['nAlbums'] = summaryDF['nAlbums'].astype(int)\n",
    "    return summaryDF"
   ]
  },
  {
   "cell_type": "code",
   "execution_count": 84,
   "metadata": {},
   "outputs": [
    {
     "name": "stdout",
     "output_type": "stream",
     "text": [
      "Current Time is Fri Oct 29, 2021 15:05 for Flattening Albums\n",
      "Process [Flattening Albums] Took 0.0 Seconds\n",
      "Current Time is Fri Oct 29, 2021 15:05 for Getting Size For 670 Albums\n",
      "Process [Getting Size For 670 Albums] Took 6.2 Seconds\n",
      "Current Time is Fri Oct 29, 2021 15:05 for Getting Files/Subdirs For 670 Albums\n",
      "Process [Getting Files/Subdirs For 670 Albums] Took 4.0 Seconds\n",
      "Current Time is Fri Oct 29, 2021 15:05 for Getting Timestamps For 670 Albums\n",
      "Process [Getting Timestamps For 670 Albums] Took 0.0 Seconds\n",
      "Current Time is Fri Oct 29, 2021 15:05 for Getting Summary For 670 Albums\n",
      "Process [Getting Summary For 670 Albums] Took 7.6 Seconds\n",
      "Current Time is Fri Oct 29, 2021 15:05 for Joining Data For 670 Albums\n",
      "Process [Joining Data For 670 Albums] Took 0.1 Seconds\n",
      "Current Time is Fri Oct 29, 2021 15:05 for Creating Summary DataFrame\n",
      "Process [Creating Summary DataFrame] Took 0.2 Seconds\n"
     ]
    }
   ],
   "source": [
    "from pandas import DataFrame, Series\n",
    "from listUtils import getFlatList\n",
    "#{album: mmpdet.getPathSize(album) for album in mmpdData[\"Obie Trice\"].albumData[\"Mix\"].albums}\n",
    "ts = timestat(\"Flattening Albums\")\n",
    "artistAlbums = {artistName: {albumType: albumTypeData.albums for albumType,albumTypeData in artistData.albumData.items()} for artistName,artistData in mmpdData.items()}\n",
    "albumsList   = getFlatList([y for y in getFlatList([x.values() for x in artistAlbums.values()]) if len(y) > 0])\n",
    "ts.stop()\n",
    "\n",
    "ts = timestat(\"Getting Size For {0} Albums\".format(len(albumsList)))\n",
    "albumSizes = {album: getPathSize(album) for album in albumsList}\n",
    "ts.stop()\n",
    "\n",
    "ts = timestat(\"Getting Files/Subdirs For {0} Albums\".format(len(albumsList)))\n",
    "albumFiles = {album: getPathFiles(album) for album in albumsList}\n",
    "ts.stop()\n",
    "\n",
    "ts = timestat(\"Getting Timestamps For {0} Albums\".format(len(albumsList)))\n",
    "albumTimestamps = {album: getPathTimestamp(album) for album in albumsList}\n",
    "ts.stop()\n",
    "\n",
    "ts = timestat(\"Getting Summary For {0} Albums\".format(len(albumsList)))\n",
    "albumSummaries = {album: getPathSummary(albumData) for album,albumData in albumFiles.items()}\n",
    "ts.stop()\n",
    "\n",
    "ts = timestat(\"Joining Data For {0} Albums\".format(len(albumsList)))\n",
    "albumsSummaryData = DataFrame(albumSummaries).T\n",
    "albumsSummaryData = albumsSummaryData.join(Series(albumTimestamps, name=\"Timestamp\"))\n",
    "albumsSummaryData = albumsSummaryData.join(Series(albumSizes, name=\"Size\"))\n",
    "ts.stop()\n",
    "\n",
    "ts = timestat(\"Creating Summary DataFrame\")\n",
    "artistSummaryDF = getArtistSummaryData(artistAlbums, albumsSummaryData)\n",
    "ts.stop()"
   ]
  },
  {
   "cell_type": "code",
   "execution_count": null,
   "metadata": {},
   "outputs": [],
   "source": [
    "artistRollupDF = getSummaryRollupDataFrame(artistSummaryDF, byArtist=True)"
   ]
  }
 ],
 "metadata": {
  "kernelspec": {
   "display_name": "Python 3",
   "language": "python",
   "name": "python3"
  },
  "language_info": {
   "codemirror_mode": {
    "name": "ipython",
    "version": 3
   },
   "file_extension": ".py",
   "mimetype": "text/x-python",
   "name": "python",
   "nbconvert_exporter": "python",
   "pygments_lexer": "ipython3",
   "version": "3.7.7"
  },
  "toc": {
   "base_numbering": 1,
   "nav_menu": {},
   "number_sections": true,
   "sideBar": true,
   "skip_h1_title": false,
   "title_cell": "Table of Contents",
   "title_sidebar": "Contents",
   "toc_cell": false,
   "toc_position": {},
   "toc_section_display": true,
   "toc_window_display": false
  }
 },
 "nbformat": 4,
 "nbformat_minor": 4
}
